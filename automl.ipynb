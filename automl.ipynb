{
 "cells": [
  {
   "cell_type": "markdown",
   "metadata": {},
   "source": [
    "# Automated ML\n",
    "\n",
    "Import Dependencies. In the cell below, import all the dependencies that you will need to complete the project."
   ]
  },
  {
   "cell_type": "code",
   "execution_count": 1,
   "metadata": {
    "gather": {
     "logged": 1598423888013
    },
    "jupyter": {
     "outputs_hidden": false,
     "source_hidden": false
    },
    "nteract": {
     "transient": {
      "deleting": false
     }
    }
   },
   "outputs": [],
   "source": [
    "#import logging\n",
    "import os\n",
    "import json\n",
    "#import csv\n",
    "\n",
    "import azureml.core\n",
    "from azureml.core.experiment import Experiment\n",
    "from azureml.core.workspace import Workspace\n",
    "from azureml.core.dataset import Dataset\n",
    "from azureml.train.automl import AutoMLConfig\n",
    "\n",
    "from azureml.core.compute import AmlCompute\n",
    "from azureml.core.compute import ComputeTarget\n",
    "from azureml.core.compute_target import ComputeTargetException\n",
    "\n",
    "from azureml.widgets import RunDetails\n",
    "\n",
    "from azureml.core.model import Model\n",
    "from azureml.core.model import InferenceConfig\n",
    "from azureml.core.environment import Environment\n",
    "from azureml.core.webservice import AciWebservice, Webservice"
   ]
  },
  {
   "cell_type": "markdown",
   "metadata": {},
   "source": [
    "## Dataset\n",
    "\n",
    "### Overview\n",
    "TODO: In this markdown cell, give an overview of the dataset you are using. Also mention the task you will be performing.\n",
    "\n",
    "\n",
    "TODO: Get data. In the cell below, write code to access the data you will be using in this project. Remember that the dataset needs to be external."
   ]
  },
  {
   "cell_type": "code",
   "execution_count": 2,
   "metadata": {
    "gather": {
     "logged": 1598423890461
    },
    "jupyter": {
     "outputs_hidden": false,
     "source_hidden": false
    },
    "nteract": {
     "transient": {
      "deleting": false
     }
    }
   },
   "outputs": [
    {
     "name": "stdout",
     "output_type": "stream",
     "text": [
      "quick-starts-ws-146203\n",
      "aml-quickstarts-146203\n",
      "southcentralus\n",
      "6971f5ac-8af1-446e-8034-05acea24681f\n"
     ]
    }
   ],
   "source": [
    "ws = Workspace.from_config()\n",
    "print(ws.name, ws.resource_group, ws.location, ws.subscription_id, sep = '\\n')"
   ]
  },
  {
   "cell_type": "code",
   "execution_count": 3,
   "metadata": {},
   "outputs": [
    {
     "data": {
      "text/html": [
       "<table style=\"width:100%\"><tr><th>Name</th><th>Workspace</th><th>Report Page</th><th>Docs Page</th></tr><tr><td>automl-heart-failure-prediction</td><td>quick-starts-ws-146203</td><td><a href=\"https://ml.azure.com/experiments/id/b7111101-5228-41ba-a241-aa3213a46470?wsid=/subscriptions/6971f5ac-8af1-446e-8034-05acea24681f/resourcegroups/aml-quickstarts-146203/workspaces/quick-starts-ws-146203&amp;tid=660b3398-b80e-49d2-bc5b-ac1dc93b5254\" target=\"_blank\" rel=\"noopener\">Link to Azure Machine Learning studio</a></td><td><a href=\"https://docs.microsoft.com/en-us/python/api/azureml-core/azureml.core.experiment.Experiment?view=azure-ml-py\" target=\"_blank\" rel=\"noopener\">Link to Documentation</a></td></tr></table>"
      ],
      "text/plain": [
       "Experiment(Name: automl-heart-failure-prediction,\n",
       "Workspace: quick-starts-ws-146203)"
      ]
     },
     "execution_count": 3,
     "metadata": {},
     "output_type": "execute_result"
    }
   ],
   "source": [
    "# Choose a name for the run history container in the workspace.\n",
    "# NOTE: update these to match your existing experiment name\n",
    "experiment_name = 'automl-heart-failure-prediction'\n",
    "\n",
    "experiment = Experiment(ws, experiment_name)\n",
    "\n",
    "run = experiment.start_logging()\n",
    "\n",
    "experiment"
   ]
  },
  {
   "cell_type": "code",
   "execution_count": 4,
   "metadata": {},
   "outputs": [
    {
     "name": "stdout",
     "output_type": "stream",
     "text": [
      "Found existing cluster, use it.\n",
      "Succeeded.................................................................................................................\n",
      "AmlCompute wait for completion finished\n",
      "\n",
      "Wait timeout has been reached\n",
      "Current provisioning state of AmlCompute is \"Succeeded\" and current node count is \"0\"\n",
      "{'currentNodeCount': 0, 'targetNodeCount': 0, 'nodeStateCounts': {'preparingNodeCount': 0, 'runningNodeCount': 0, 'idleNodeCount': 0, 'unusableNodeCount': 0, 'leavingNodeCount': 0, 'preemptedNodeCount': 0}, 'allocationState': 'Steady', 'allocationStateTransitionTime': '2021-05-31T07:52:32.557000+00:00', 'errors': None, 'creationTime': '2021-05-31T07:09:50.344955+00:00', 'modifiedTime': '2021-05-31T07:10:35.835717+00:00', 'provisioningState': 'Succeeded', 'provisioningStateTransitionTime': None, 'scaleSettings': {'minNodeCount': 0, 'maxNodeCount': 4, 'nodeIdleTimeBeforeScaleDown': 'PT120S'}, 'vmPriority': 'Dedicated', 'vmSize': 'STANDARD_D2_V2'}\n"
     ]
    }
   ],
   "source": [
    "# Choose a name for your CPU cluster\n",
    "amlcompute_cluster_name = \"compute-cluster\"\n",
    "\n",
    "# Verify that cluster does not exist already\n",
    "try:\n",
    "    compute_target = ComputeTarget(workspace=ws, name=amlcompute_cluster_name)\n",
    "    print('Found existing cluster, use it.')\n",
    "except ComputeTargetException:\n",
    "    compute_config = AmlCompute.provisioning_configuration(vm_size='STANDARD_D2_V2',# for GPU, use \"STANDARD_NC6\"\n",
    "                                                           #vm_priority = 'lowpriority', # optional\n",
    "                                                           max_nodes=4)\n",
    "    compute_target = ComputeTarget.create(ws, amlcompute_cluster_name, compute_config)\n",
    "\n",
    "compute_target.wait_for_completion(show_output=True, min_node_count = 1, timeout_in_minutes = 10)\n",
    "\n",
    "print(compute_target.get_status().serialize())"
   ]
  },
  {
   "cell_type": "code",
   "execution_count": 5,
   "metadata": {},
   "outputs": [
    {
     "data": {
      "text/html": [
       "<div>\n",
       "<style scoped>\n",
       "    .dataframe tbody tr th:only-of-type {\n",
       "        vertical-align: middle;\n",
       "    }\n",
       "\n",
       "    .dataframe tbody tr th {\n",
       "        vertical-align: top;\n",
       "    }\n",
       "\n",
       "    .dataframe thead th {\n",
       "        text-align: right;\n",
       "    }\n",
       "</style>\n",
       "<table border=\"1\" class=\"dataframe\">\n",
       "  <thead>\n",
       "    <tr style=\"text-align: right;\">\n",
       "      <th></th>\n",
       "      <th>age</th>\n",
       "      <th>anaemia</th>\n",
       "      <th>creatinine_phosphokinase</th>\n",
       "      <th>diabetes</th>\n",
       "      <th>ejection_fraction</th>\n",
       "      <th>high_blood_pressure</th>\n",
       "      <th>platelets</th>\n",
       "      <th>serum_creatinine</th>\n",
       "      <th>serum_sodium</th>\n",
       "      <th>sex</th>\n",
       "      <th>smoking</th>\n",
       "      <th>time</th>\n",
       "      <th>DEATH_EVENT</th>\n",
       "    </tr>\n",
       "  </thead>\n",
       "  <tbody>\n",
       "    <tr>\n",
       "      <th>count</th>\n",
       "      <td>299.000000</td>\n",
       "      <td>299.000000</td>\n",
       "      <td>299.000000</td>\n",
       "      <td>299.000000</td>\n",
       "      <td>299.000000</td>\n",
       "      <td>299.000000</td>\n",
       "      <td>299.000000</td>\n",
       "      <td>299.00000</td>\n",
       "      <td>299.000000</td>\n",
       "      <td>299.000000</td>\n",
       "      <td>299.00000</td>\n",
       "      <td>299.000000</td>\n",
       "      <td>299.00000</td>\n",
       "    </tr>\n",
       "    <tr>\n",
       "      <th>mean</th>\n",
       "      <td>60.833893</td>\n",
       "      <td>0.431438</td>\n",
       "      <td>581.839465</td>\n",
       "      <td>0.418060</td>\n",
       "      <td>38.083612</td>\n",
       "      <td>0.351171</td>\n",
       "      <td>263358.029264</td>\n",
       "      <td>1.39388</td>\n",
       "      <td>136.625418</td>\n",
       "      <td>0.648829</td>\n",
       "      <td>0.32107</td>\n",
       "      <td>130.260870</td>\n",
       "      <td>0.32107</td>\n",
       "    </tr>\n",
       "    <tr>\n",
       "      <th>std</th>\n",
       "      <td>11.894809</td>\n",
       "      <td>0.496107</td>\n",
       "      <td>970.287881</td>\n",
       "      <td>0.494067</td>\n",
       "      <td>11.834841</td>\n",
       "      <td>0.478136</td>\n",
       "      <td>97804.236869</td>\n",
       "      <td>1.03451</td>\n",
       "      <td>4.412477</td>\n",
       "      <td>0.478136</td>\n",
       "      <td>0.46767</td>\n",
       "      <td>77.614208</td>\n",
       "      <td>0.46767</td>\n",
       "    </tr>\n",
       "    <tr>\n",
       "      <th>min</th>\n",
       "      <td>40.000000</td>\n",
       "      <td>0.000000</td>\n",
       "      <td>23.000000</td>\n",
       "      <td>0.000000</td>\n",
       "      <td>14.000000</td>\n",
       "      <td>0.000000</td>\n",
       "      <td>25100.000000</td>\n",
       "      <td>0.50000</td>\n",
       "      <td>113.000000</td>\n",
       "      <td>0.000000</td>\n",
       "      <td>0.00000</td>\n",
       "      <td>4.000000</td>\n",
       "      <td>0.00000</td>\n",
       "    </tr>\n",
       "    <tr>\n",
       "      <th>25%</th>\n",
       "      <td>51.000000</td>\n",
       "      <td>0.000000</td>\n",
       "      <td>116.500000</td>\n",
       "      <td>0.000000</td>\n",
       "      <td>30.000000</td>\n",
       "      <td>0.000000</td>\n",
       "      <td>212500.000000</td>\n",
       "      <td>0.90000</td>\n",
       "      <td>134.000000</td>\n",
       "      <td>0.000000</td>\n",
       "      <td>0.00000</td>\n",
       "      <td>73.000000</td>\n",
       "      <td>0.00000</td>\n",
       "    </tr>\n",
       "    <tr>\n",
       "      <th>50%</th>\n",
       "      <td>60.000000</td>\n",
       "      <td>0.000000</td>\n",
       "      <td>250.000000</td>\n",
       "      <td>0.000000</td>\n",
       "      <td>38.000000</td>\n",
       "      <td>0.000000</td>\n",
       "      <td>262000.000000</td>\n",
       "      <td>1.10000</td>\n",
       "      <td>137.000000</td>\n",
       "      <td>1.000000</td>\n",
       "      <td>0.00000</td>\n",
       "      <td>115.000000</td>\n",
       "      <td>0.00000</td>\n",
       "    </tr>\n",
       "    <tr>\n",
       "      <th>75%</th>\n",
       "      <td>70.000000</td>\n",
       "      <td>1.000000</td>\n",
       "      <td>582.000000</td>\n",
       "      <td>1.000000</td>\n",
       "      <td>45.000000</td>\n",
       "      <td>1.000000</td>\n",
       "      <td>303500.000000</td>\n",
       "      <td>1.40000</td>\n",
       "      <td>140.000000</td>\n",
       "      <td>1.000000</td>\n",
       "      <td>1.00000</td>\n",
       "      <td>203.000000</td>\n",
       "      <td>1.00000</td>\n",
       "    </tr>\n",
       "    <tr>\n",
       "      <th>max</th>\n",
       "      <td>95.000000</td>\n",
       "      <td>1.000000</td>\n",
       "      <td>7861.000000</td>\n",
       "      <td>1.000000</td>\n",
       "      <td>80.000000</td>\n",
       "      <td>1.000000</td>\n",
       "      <td>850000.000000</td>\n",
       "      <td>9.40000</td>\n",
       "      <td>148.000000</td>\n",
       "      <td>1.000000</td>\n",
       "      <td>1.00000</td>\n",
       "      <td>285.000000</td>\n",
       "      <td>1.00000</td>\n",
       "    </tr>\n",
       "  </tbody>\n",
       "</table>\n",
       "</div>"
      ],
      "text/plain": [
       "              age     anaemia  creatinine_phosphokinase    diabetes  \\\n",
       "count  299.000000  299.000000                299.000000  299.000000   \n",
       "mean    60.833893    0.431438                581.839465    0.418060   \n",
       "std     11.894809    0.496107                970.287881    0.494067   \n",
       "min     40.000000    0.000000                 23.000000    0.000000   \n",
       "25%     51.000000    0.000000                116.500000    0.000000   \n",
       "50%     60.000000    0.000000                250.000000    0.000000   \n",
       "75%     70.000000    1.000000                582.000000    1.000000   \n",
       "max     95.000000    1.000000               7861.000000    1.000000   \n",
       "\n",
       "       ejection_fraction  high_blood_pressure      platelets  \\\n",
       "count         299.000000           299.000000     299.000000   \n",
       "mean           38.083612             0.351171  263358.029264   \n",
       "std            11.834841             0.478136   97804.236869   \n",
       "min            14.000000             0.000000   25100.000000   \n",
       "25%            30.000000             0.000000  212500.000000   \n",
       "50%            38.000000             0.000000  262000.000000   \n",
       "75%            45.000000             1.000000  303500.000000   \n",
       "max            80.000000             1.000000  850000.000000   \n",
       "\n",
       "       serum_creatinine  serum_sodium         sex    smoking        time  \\\n",
       "count         299.00000    299.000000  299.000000  299.00000  299.000000   \n",
       "mean            1.39388    136.625418    0.648829    0.32107  130.260870   \n",
       "std             1.03451      4.412477    0.478136    0.46767   77.614208   \n",
       "min             0.50000    113.000000    0.000000    0.00000    4.000000   \n",
       "25%             0.90000    134.000000    0.000000    0.00000   73.000000   \n",
       "50%             1.10000    137.000000    1.000000    0.00000  115.000000   \n",
       "75%             1.40000    140.000000    1.000000    1.00000  203.000000   \n",
       "max             9.40000    148.000000    1.000000    1.00000  285.000000   \n",
       "\n",
       "       DEATH_EVENT  \n",
       "count    299.00000  \n",
       "mean       0.32107  \n",
       "std        0.46767  \n",
       "min        0.00000  \n",
       "25%        0.00000  \n",
       "50%        0.00000  \n",
       "75%        1.00000  \n",
       "max        1.00000  "
      ]
     },
     "execution_count": 5,
     "metadata": {},
     "output_type": "execute_result"
    }
   ],
   "source": [
    "# NOTE: update the key to match the dataset name\n",
    "found = False\n",
    "key = \"heart-failure\"\n",
    "description_text = \"Heart Failure Prediction DataSet from UCI\"\n",
    "\n",
    "if key in ws.datasets.keys(): \n",
    "        found = True\n",
    "        dataset = ws.datasets[key] \n",
    "\n",
    "if not found:\n",
    "        # Create AML Dataset and register it into Workspace\n",
    "        example_data = 'https://archive.ics.uci.edu/ml/machine-learning-databases/00519/heart_failure_clinical_records_dataset.csv'\n",
    "        dataset = Dataset.Tabular.from_delimited_files(example_data)        \n",
    "        #Register Dataset in Workspace\n",
    "        dataset = dataset.register(workspace=ws,\n",
    "                                   name=key,\n",
    "                                   description=description_text)\n",
    "\n",
    "\n",
    "df = dataset.to_pandas_dataframe()\n",
    "df.describe()"
   ]
  },
  {
   "cell_type": "markdown",
   "metadata": {},
   "source": [
    "## AutoML Configuration\n",
    "\n",
    "TODO: Explain why you chose the automl settings and cofiguration you used below."
   ]
  },
  {
   "cell_type": "code",
   "execution_count": 6,
   "metadata": {
    "gather": {
     "logged": 1598429217746
    },
    "jupyter": {
     "outputs_hidden": false,
     "source_hidden": false
    },
    "nteract": {
     "transient": {
      "deleting": false
     }
    }
   },
   "outputs": [],
   "source": [
    "# TODO: Put your automl settings here\n",
    "automl_settings = {\n",
    "    \"experiment_timeout_minutes\": 25,\n",
    "    \"max_concurrent_iterations\": 4,\n",
    "    \"primary_metric\" : 'accuracy'\n",
    "}\n",
    "\n",
    "# TODO: Put your automl config here\n",
    "automl_config = AutoMLConfig(compute_target=compute_target,\n",
    "                             task = \"classification\",\n",
    "                             training_data=dataset,\n",
    "                             label_column_name=\"DEATH_EVENT\",   \n",
    "                             enable_early_stopping= True,\n",
    "                             featurization= 'auto',\n",
    "                             debug_log = \"automl_errors.log\",\n",
    "                             **automl_settings\n",
    "                            )"
   ]
  },
  {
   "cell_type": "code",
   "execution_count": 7,
   "metadata": {
    "gather": {
     "logged": 1598431107951
    },
    "jupyter": {
     "outputs_hidden": false,
     "source_hidden": false
    },
    "nteract": {
     "transient": {
      "deleting": false
     }
    }
   },
   "outputs": [
    {
     "name": "stdout",
     "output_type": "stream",
     "text": [
      "Submitting remote run.\n",
      "No run_configuration provided, running on compute-cluster with default configuration\n",
      "Running on remote compute: compute-cluster\n"
     ]
    },
    {
     "data": {
      "text/html": [
       "<table style=\"width:100%\"><tr><th>Experiment</th><th>Id</th><th>Type</th><th>Status</th><th>Details Page</th><th>Docs Page</th></tr><tr><td>automl-heart-failure-prediction</td><td>AutoML_840efe9b-43cc-450c-a802-44143d3b2876</td><td>automl</td><td>NotStarted</td><td><a href=\"https://ml.azure.com/runs/AutoML_840efe9b-43cc-450c-a802-44143d3b2876?wsid=/subscriptions/6971f5ac-8af1-446e-8034-05acea24681f/resourcegroups/aml-quickstarts-146203/workspaces/quick-starts-ws-146203&amp;tid=660b3398-b80e-49d2-bc5b-ac1dc93b5254\" target=\"_blank\" rel=\"noopener\">Link to Azure Machine Learning studio</a></td><td><a href=\"https://docs.microsoft.com/en-us/python/api/overview/azure/ml/intro?view=azure-ml-py\" target=\"_blank\" rel=\"noopener\">Link to Documentation</a></td></tr></table>"
      ],
      "text/plain": [
       "<IPython.core.display.HTML object>"
      ]
     },
     "metadata": {},
     "output_type": "display_data"
    },
    {
     "name": "stdout",
     "output_type": "stream",
     "text": [
      "\n",
      "Current status: FeaturesGeneration. Generating features for the dataset.\n",
      "Current status: ModelSelection. Beginning model selection.\n",
      "\n",
      "****************************************************************************************************\n",
      "DATA GUARDRAILS: \n",
      "\n",
      "TYPE:         Cross validation\n",
      "STATUS:       DONE\n",
      "DESCRIPTION:  Each iteration of the trained model was validated through cross-validation.\n",
      "              \n",
      "DETAILS:      \n",
      "+---------------------------------+\n",
      "|Number of folds                  |\n",
      "+=================================+\n",
      "|10                               |\n",
      "+---------------------------------+\n",
      "\n",
      "****************************************************************************************************\n",
      "\n",
      "TYPE:         Class balancing detection\n",
      "STATUS:       PASSED\n",
      "DESCRIPTION:  Your inputs were analyzed, and all classes are balanced in your training data.\n",
      "              Learn more about imbalanced data: https://aka.ms/AutomatedMLImbalancedData\n",
      "\n",
      "****************************************************************************************************\n",
      "\n",
      "TYPE:         Missing feature values imputation\n",
      "STATUS:       PASSED\n",
      "DESCRIPTION:  No feature missing values were detected in the training data.\n",
      "              Learn more about missing value imputation: https://aka.ms/AutomatedMLFeaturization\n",
      "\n",
      "****************************************************************************************************\n",
      "\n",
      "TYPE:         High cardinality feature detection\n",
      "STATUS:       PASSED\n",
      "DESCRIPTION:  Your inputs were analyzed, and no high cardinality features were detected.\n",
      "              Learn more about high cardinality feature handling: https://aka.ms/AutomatedMLFeaturization\n",
      "\n",
      "****************************************************************************************************\n",
      "\n",
      "****************************************************************************************************\n",
      "ITERATION: The iteration being evaluated.\n",
      "PIPELINE: A summary description of the pipeline being evaluated.\n",
      "DURATION: Time taken for the current iteration.\n",
      "METRIC: The result of computing score on the fitted pipeline.\n",
      "BEST: The best observed score thus far.\n",
      "****************************************************************************************************\n",
      "\n",
      " ITERATION   PIPELINE                                       DURATION      METRIC      BEST\n",
      "         1   MaxAbsScaler XGBoostClassifier                 0:00:51       0.8359    0.8359\n",
      "         2   MinMaxScaler RandomForest                      0:01:02       0.8295    0.8359\n",
      "         5   SparseNormalizer XGBoostClassifier             0:00:51       0.8697    0.8697\n",
      "         6   MinMaxScaler SVM                               0:00:48       0.7195    0.8697\n",
      "         7   MaxAbsScaler GradientBoosting                  0:00:48       0.8493    0.8697\n",
      "         3   MinMaxScaler RandomForest                      0:03:19       0.8460    0.8697\n",
      "         8   RobustScaler RandomForest                      0:00:45       0.8394    0.8697\n",
      "         9   SparseNormalizer LightGBM                      0:00:50       0.7560    0.8697\n",
      "        10   RobustScaler LightGBM                          0:00:45       0.7794    0.8697\n",
      "         0   MaxAbsScaler LightGBM                          0:05:29       0.8360    0.8697\n",
      "        11   RobustScaler ExtremeRandomTrees                0:00:49       0.8529    0.8697\n",
      "         4   MinMaxScaler RandomForest                      0:05:24       0.8324    0.8697\n",
      "        12   StandardScalerWrapper RandomForest             0:00:48       0.8228    0.8697\n",
      "        13   RobustScaler ExtremeRandomTrees                0:00:46       0.8562    0.8697\n",
      "        14   SparseNormalizer XGBoostClassifier             0:00:49       0.8093    0.8697\n",
      "        15   MaxAbsScaler LightGBM                          0:00:48       0.8393    0.8697\n",
      "        16   StandardScalerWrapper XGBoostClassifier        0:00:46       0.8293    0.8697\n",
      "        17   RobustScaler LightGBM                          0:00:49       0.7994    0.8697\n",
      "        18   SparseNormalizer XGBoostClassifier             0:00:51       0.8394    0.8697\n",
      "        19   MaxAbsScaler LogisticRegression                0:00:48       0.8259    0.8697\n",
      "        20   RobustScaler KNN                               0:00:53       0.6121    0.8697\n",
      "        21   StandardScalerWrapper XGBoostClassifier        0:00:46       0.8195    0.8697\n",
      "        22   SparseNormalizer XGBoostClassifier             0:00:48       0.8329    0.8697\n",
      "        23   StandardScalerWrapper LightGBM                 0:00:51       0.8357    0.8697\n",
      "        25   StandardScalerWrapper XGBoostClassifier        0:00:50       0.6792    0.8697\n",
      "        26   MaxAbsScaler LightGBM                          0:00:47       0.8359    0.8697\n",
      "        27   StandardScalerWrapper RandomForest             0:00:48       0.8359    0.8697\n",
      "        24   MaxAbsScaler ExtremeRandomTrees                0:00:50       0.8262    0.8697\n",
      "        28   StandardScalerWrapper RandomForest             0:00:49       0.8357    0.8697\n",
      "        30   StandardScalerWrapper LightGBM                 0:00:45       0.8393    0.8697\n",
      "        29   StandardScalerWrapper XGBoostClassifier        0:00:51       0.8060    0.8697\n",
      "        31   StandardScalerWrapper ExtremeRandomTrees       0:00:49       0.8395    0.8697\n",
      "        33   StandardScalerWrapper GradientBoosting         0:00:46       0.8493    0.8697\n",
      "        32   StandardScalerWrapper LightGBM                 0:00:52       0.8426    0.8697\n",
      "        34   StandardScalerWrapper XGBoostClassifier        0:00:50       0.8190    0.8697\n",
      "        35   StandardScalerWrapper XGBoostClassifier        0:00:43       0.8193    0.8697\n",
      "        37    StackEnsemble                                 0:01:14       0.8730    0.8730\n",
      "        36    VotingEnsemble                                0:01:15       0.8831    0.8831\n"
     ]
    }
   ],
   "source": [
    "# TODO: Submit your experiment\n",
    "remote_run = experiment.submit(automl_config, show_output=True)"
   ]
  },
  {
   "cell_type": "markdown",
   "metadata": {},
   "source": [
    "## Run Details\n",
    "\n",
    "OPTIONAL: Write about the different models trained and their performance. Why do you think some models did better than others?\n",
    "\n",
    "TODO: In the cell below, use the `RunDetails` widget to show the different experiments."
   ]
  },
  {
   "cell_type": "code",
   "execution_count": 10,
   "metadata": {
    "gather": {
     "logged": 1598431121770
    },
    "jupyter": {
     "outputs_hidden": false,
     "source_hidden": false
    },
    "nteract": {
     "transient": {
      "deleting": false
     }
    }
   },
   "outputs": [
    {
     "data": {
      "application/vnd.jupyter.widget-view+json": {
       "model_id": "334a9bd734254001bfb6ceefe558990d",
       "version_major": 2,
       "version_minor": 0
      },
      "text/plain": [
       "_AutoMLWidget(widget_settings={'childWidgetDisplay': 'popup', 'send_telemetry': False, 'log_level': 'INFO', 's…"
      ]
     },
     "metadata": {},
     "output_type": "display_data"
    },
    {
     "data": {
      "application/aml.mini.widget.v1": "{\"status\": \"Completed\", \"workbench_run_details_uri\": \"https://ml.azure.com/runs/AutoML_840efe9b-43cc-450c-a802-44143d3b2876?wsid=/subscriptions/6971f5ac-8af1-446e-8034-05acea24681f/resourcegroups/aml-quickstarts-146203/workspaces/quick-starts-ws-146203&tid=660b3398-b80e-49d2-bc5b-ac1dc93b5254\", \"run_id\": \"AutoML_840efe9b-43cc-450c-a802-44143d3b2876\", \"run_properties\": {\"run_id\": \"AutoML_840efe9b-43cc-450c-a802-44143d3b2876\", \"created_utc\": \"2021-05-31T08:17:09.204095Z\", \"properties\": {\"num_iterations\": \"1000\", \"training_type\": \"TrainFull\", \"acquisition_function\": \"EI\", \"primary_metric\": \"accuracy\", \"train_split\": \"0\", \"acquisition_parameter\": \"0\", \"num_cross_validation\": null, \"target\": \"compute-cluster\", \"AMLSettingsJsonString\": \"{\\\"path\\\":null,\\\"name\\\":\\\"automl-heart-failure-prediction\\\",\\\"subscription_id\\\":\\\"6971f5ac-8af1-446e-8034-05acea24681f\\\",\\\"resource_group\\\":\\\"aml-quickstarts-146203\\\",\\\"workspace_name\\\":\\\"quick-starts-ws-146203\\\",\\\"region\\\":\\\"southcentralus\\\",\\\"compute_target\\\":\\\"compute-cluster\\\",\\\"spark_service\\\":null,\\\"azure_service\\\":\\\"remote\\\",\\\"many_models\\\":false,\\\"pipeline_fetch_max_batch_size\\\":1,\\\"enable_batch_run\\\":false,\\\"enable_run_restructure\\\":false,\\\"start_auxiliary_runs_before_parent_complete\\\":false,\\\"enable_code_generation\\\":false,\\\"iterations\\\":1000,\\\"primary_metric\\\":\\\"accuracy\\\",\\\"task_type\\\":\\\"classification\\\",\\\"data_script\\\":null,\\\"test_size\\\":0.0,\\\"validation_size\\\":0.0,\\\"n_cross_validations\\\":null,\\\"y_min\\\":null,\\\"y_max\\\":null,\\\"num_classes\\\":null,\\\"featurization\\\":\\\"auto\\\",\\\"_ignore_package_version_incompatibilities\\\":false,\\\"is_timeseries\\\":false,\\\"max_cores_per_iteration\\\":1,\\\"max_concurrent_iterations\\\":4,\\\"iteration_timeout_minutes\\\":null,\\\"mem_in_mb\\\":null,\\\"enforce_time_on_windows\\\":false,\\\"experiment_timeout_minutes\\\":25,\\\"experiment_exit_score\\\":null,\\\"whitelist_models\\\":null,\\\"blacklist_algos\\\":[\\\"TensorFlowLinearClassifier\\\",\\\"TensorFlowDNN\\\"],\\\"supported_models\\\":[\\\"DecisionTree\\\",\\\"XGBoostClassifier\\\",\\\"ExtremeRandomTrees\\\",\\\"TensorFlowDNN\\\",\\\"GradientBoosting\\\",\\\"TensorFlowLinearClassifier\\\",\\\"LinearSVM\\\",\\\"SGD\\\",\\\"SVM\\\",\\\"LogisticRegression\\\",\\\"KNN\\\",\\\"BernoulliNaiveBayes\\\",\\\"RandomForest\\\",\\\"LightGBM\\\",\\\"AveragedPerceptronClassifier\\\",\\\"MultinomialNaiveBayes\\\"],\\\"private_models\\\":[],\\\"auto_blacklist\\\":true,\\\"blacklist_samples_reached\\\":false,\\\"exclude_nan_labels\\\":true,\\\"verbosity\\\":20,\\\"_debug_log\\\":\\\"azureml_automl.log\\\",\\\"show_warnings\\\":false,\\\"model_explainability\\\":true,\\\"service_url\\\":null,\\\"sdk_url\\\":null,\\\"sdk_packages\\\":null,\\\"enable_onnx_compatible_models\\\":false,\\\"enable_split_onnx_featurizer_estimator_models\\\":false,\\\"vm_type\\\":\\\"STANDARD_D2_V2\\\",\\\"telemetry_verbosity\\\":20,\\\"send_telemetry\\\":true,\\\"enable_dnn\\\":false,\\\"scenario\\\":\\\"SDK-1.13.0\\\",\\\"environment_label\\\":null,\\\"save_mlflow\\\":false,\\\"force_text_dnn\\\":false,\\\"enable_feature_sweeping\\\":true,\\\"enable_early_stopping\\\":true,\\\"early_stopping_n_iters\\\":10,\\\"metrics\\\":null,\\\"enable_metric_confidence\\\":false,\\\"enable_ensembling\\\":true,\\\"enable_stack_ensembling\\\":true,\\\"ensemble_iterations\\\":15,\\\"enable_tf\\\":false,\\\"enable_subsampling\\\":null,\\\"subsample_seed\\\":null,\\\"enable_nimbusml\\\":false,\\\"enable_streaming\\\":false,\\\"force_streaming\\\":false,\\\"track_child_runs\\\":true,\\\"allowed_private_models\\\":[],\\\"label_column_name\\\":\\\"DEATH_EVENT\\\",\\\"weight_column_name\\\":null,\\\"cv_split_column_names\\\":null,\\\"enable_local_managed\\\":false,\\\"_local_managed_run_id\\\":null,\\\"cost_mode\\\":1,\\\"lag_length\\\":0,\\\"metric_operation\\\":\\\"maximize\\\",\\\"preprocess\\\":true}\", \"DataPrepJsonString\": \"{\\\\\\\"training_data\\\\\\\": {\\\\\\\"datasetId\\\\\\\": \\\\\\\"90fa3ca8-0584-4c29-aada-9f700d633c16\\\\\\\"}, \\\\\\\"datasets\\\\\\\": 0}\", \"EnableSubsampling\": null, \"runTemplate\": \"AutoML\", \"azureml.runsource\": \"automl\", \"display_task_type\": \"classification\", \"dependencies_versions\": \"{\\\"azureml-widgets\\\": \\\"1.28.0\\\", \\\"azureml-train\\\": \\\"1.28.0\\\", \\\"azureml-train-restclients-hyperdrive\\\": \\\"1.28.0\\\", \\\"azureml-train-core\\\": \\\"1.28.0\\\", \\\"azureml-train-automl\\\": \\\"1.28.0\\\", \\\"azureml-train-automl-runtime\\\": \\\"1.28.0\\\", \\\"azureml-train-automl-client\\\": \\\"1.28.0\\\", \\\"azureml-tensorboard\\\": \\\"1.28.0\\\", \\\"azureml-telemetry\\\": \\\"1.28.0\\\", \\\"azureml-sdk\\\": \\\"1.28.0\\\", \\\"azureml-samples\\\": \\\"0+unknown\\\", \\\"azureml-pipeline\\\": \\\"1.28.0\\\", \\\"azureml-pipeline-steps\\\": \\\"1.28.0\\\", \\\"azureml-pipeline-core\\\": \\\"1.28.0\\\", \\\"azureml-opendatasets\\\": \\\"1.28.0\\\", \\\"azureml-model-management-sdk\\\": \\\"1.0.1b6.post1\\\", \\\"azureml-mlflow\\\": \\\"1.28.0\\\", \\\"azureml-interpret\\\": \\\"1.28.0\\\", \\\"azureml-explain-model\\\": \\\"1.28.0\\\", \\\"azureml-defaults\\\": \\\"1.28.0\\\", \\\"azureml-dataset-runtime\\\": \\\"1.28.0\\\", \\\"azureml-dataprep\\\": \\\"2.15.0\\\", \\\"azureml-dataprep-rslex\\\": \\\"1.13.0\\\", \\\"azureml-dataprep-native\\\": \\\"33.0.0\\\", \\\"azureml-datadrift\\\": \\\"1.28.0\\\", \\\"azureml-core\\\": \\\"1.28.0\\\", \\\"azureml-contrib-services\\\": \\\"1.28.0\\\", \\\"azureml-contrib-server\\\": \\\"1.28.0\\\", \\\"azureml-contrib-reinforcementlearning\\\": \\\"1.28.0\\\", \\\"azureml-contrib-pipeline-steps\\\": \\\"1.28.0\\\", \\\"azureml-contrib-notebook\\\": \\\"1.28.0\\\", \\\"azureml-contrib-gbdt\\\": \\\"1.28.0\\\", \\\"azureml-contrib-fairness\\\": \\\"1.28.0\\\", \\\"azureml-contrib-dataset\\\": \\\"1.28.0\\\", \\\"azureml-cli-common\\\": \\\"1.28.0\\\", \\\"azureml-automl-runtime\\\": \\\"1.28.0.post2\\\", \\\"azureml-automl-dnn-nlp\\\": \\\"1.28.0\\\", \\\"azureml-automl-core\\\": \\\"1.28.0\\\", \\\"azureml-accel-models\\\": \\\"1.28.0\\\"}\", \"_aml_system_scenario_identification\": \"Remote.Parent\", \"ClientType\": \"SDK\", \"environment_cpu_name\": \"AzureML-AutoML\", \"environment_cpu_label\": \"prod\", \"environment_gpu_name\": \"AzureML-AutoML-GPU\", \"environment_gpu_label\": \"prod\", \"root_attribution\": \"automl\", \"attribution\": \"AutoML\", \"Orchestrator\": \"AutoML\", \"CancelUri\": \"https://southcentralus.api.azureml.ms/jasmine/v1.0/subscriptions/6971f5ac-8af1-446e-8034-05acea24681f/resourceGroups/aml-quickstarts-146203/providers/Microsoft.MachineLearningServices/workspaces/quick-starts-ws-146203/experimentids/b7111101-5228-41ba-a241-aa3213a46470/cancel/AutoML_840efe9b-43cc-450c-a802-44143d3b2876\", \"ClientSdkVersion\": \"1.28.0\", \"snapshotId\": \"00000000-0000-0000-0000-000000000000\", \"SetupRunId\": \"AutoML_840efe9b-43cc-450c-a802-44143d3b2876_setup\", \"SetupRunContainerId\": \"dcid.AutoML_840efe9b-43cc-450c-a802-44143d3b2876_setup\", \"FeaturizationRunJsonPath\": \"featurizer_container.json\", \"FeaturizationRunId\": \"AutoML_840efe9b-43cc-450c-a802-44143d3b2876_featurize\", \"ProblemInfoJsonString\": \"{\\\"dataset_num_categorical\\\": 0, \\\"is_sparse\\\": false, \\\"subsampling\\\": false, \\\"has_extra_col\\\": true, \\\"dataset_classes\\\": 2, \\\"dataset_features\\\": 12, \\\"dataset_samples\\\": 299, \\\"single_frequency_class_detected\\\": false}\", \"ModelExplainRunId\": \"AutoML_840efe9b-43cc-450c-a802-44143d3b2876_ModelExplain\"}, \"tags\": {\"model_explain_run\": \"best_run\", \"_aml_system_azureml.automlComponent\": \"AutoML\", \"pipeline_id\": \"\", \"score\": \"\", \"predicted_cost\": \"\", \"fit_time\": \"\", \"training_percent\": \"\", \"iteration\": \"\", \"run_preprocessor\": \"\", \"run_algorithm\": \"\", \"dynamic_whitelisting_iterations\": \"<25>;<29>;<35>;\", \"automl_best_child_run_id\": \"AutoML_840efe9b-43cc-450c-a802-44143d3b2876_36\", \"model_explain_best_run_child_id\": \"AutoML_840efe9b-43cc-450c-a802-44143d3b2876_36\"}, \"end_time_utc\": \"2021-05-31T08:43:31.182099Z\", \"status\": \"Completed\", \"log_files\": {}, \"log_groups\": [], \"run_duration\": \"0:26:21\", \"run_number\": \"1622449029\", \"run_queued_details\": {\"status\": \"Completed\", \"details\": null}}, \"child_runs\": [{\"run_id\": \"AutoML_840efe9b-43cc-450c-a802-44143d3b2876_1\", \"run_number\": 1622449677, \"metric\": null, \"status\": \"Completed\", \"run_type\": \"azureml.scriptrun\", \"training_percent\": \"100\", \"start_time\": \"2021-05-31T08:28:07.429107Z\", \"end_time\": \"2021-05-31T08:28:58.149343Z\", \"created_time\": \"2021-05-31T08:27:57.087111Z\", \"created_time_dt\": \"2021-05-31T08:27:57.087111Z\", \"duration\": \"0:01:01\", \"iteration\": \"1\", \"goal\": \"accuracy_max\", \"run_name\": \"MaxAbsScaler, XGBoostClassifier\", \"run_properties\": \"copy=True\", \"primary_metric\": 0.83586207, \"best_metric\": 0.83586207}, {\"run_id\": \"AutoML_840efe9b-43cc-450c-a802-44143d3b2876_3\", \"run_number\": 1622449678, \"metric\": null, \"status\": \"Completed\", \"run_type\": \"azureml.scriptrun\", \"training_percent\": \"100\", \"start_time\": \"2021-05-31T08:30:15.872381Z\", \"end_time\": \"2021-05-31T08:33:34.633795Z\", \"created_time\": \"2021-05-31T08:27:57.093859Z\", \"created_time_dt\": \"2021-05-31T08:27:57.093859Z\", \"duration\": \"0:05:37\", \"iteration\": \"3\", \"goal\": \"accuracy_max\", \"run_name\": \"MinMaxScaler, RandomForest\", \"run_properties\": \"copy=True, feature_range=(0, 1\", \"primary_metric\": 0.84597701, \"best_metric\": 0.84597701}, {\"run_id\": \"AutoML_840efe9b-43cc-450c-a802-44143d3b2876_4\", \"run_number\": 1622449739, \"metric\": null, \"status\": \"Completed\", \"run_type\": \"azureml.scriptrun\", \"training_percent\": \"100\", \"start_time\": \"2021-05-31T08:30:12.352013Z\", \"end_time\": \"2021-05-31T08:35:36.848615Z\", \"created_time\": \"2021-05-31T08:28:59.513515Z\", \"created_time_dt\": \"2021-05-31T08:28:59.513515Z\", \"duration\": \"0:06:37\", \"iteration\": \"4\", \"goal\": \"accuracy_max\", \"run_name\": \"MinMaxScaler, RandomForest\", \"run_properties\": \"copy=True, feature_range=(0, 1\", \"primary_metric\": 0.83241379, \"best_metric\": 0.84597701}, {\"run_id\": \"AutoML_840efe9b-43cc-450c-a802-44143d3b2876_5\", \"run_number\": 1622449819, \"metric\": null, \"status\": \"Completed\", \"run_type\": \"azureml.scriptrun\", \"training_percent\": \"100\", \"start_time\": \"2021-05-31T08:30:31.319369Z\", \"end_time\": \"2021-05-31T08:31:22.702753Z\", \"created_time\": \"2021-05-31T08:30:19.055596Z\", \"created_time_dt\": \"2021-05-31T08:30:19.055596Z\", \"duration\": \"0:01:03\", \"iteration\": \"5\", \"goal\": \"accuracy_max\", \"run_name\": \"SparseNormalizer, XGBoostClassifier\", \"run_properties\": \"copy=True, norm='max'\", \"primary_metric\": 0.86965517, \"best_metric\": 0.86965517}, {\"run_id\": \"AutoML_840efe9b-43cc-450c-a802-44143d3b2876_6\", \"run_number\": 1622449885, \"metric\": null, \"status\": \"Completed\", \"run_type\": \"azureml.scriptrun\", \"training_percent\": \"100\", \"start_time\": \"2021-05-31T08:31:39.520456Z\", \"end_time\": \"2021-05-31T08:32:27.911977Z\", \"created_time\": \"2021-05-31T08:31:25.392852Z\", \"created_time_dt\": \"2021-05-31T08:31:25.392852Z\", \"duration\": \"0:01:02\", \"iteration\": \"6\", \"goal\": \"accuracy_max\", \"run_name\": \"MinMaxScaler, SVM\", \"run_properties\": \"copy=True, feature_range=(0, 1\", \"primary_metric\": 0.71954023, \"best_metric\": 0.86965517}, {\"run_id\": \"AutoML_840efe9b-43cc-450c-a802-44143d3b2876_7\", \"run_number\": 1622449950, \"metric\": null, \"status\": \"Completed\", \"run_type\": \"azureml.scriptrun\", \"training_percent\": \"100\", \"start_time\": \"2021-05-31T08:32:41.62501Z\", \"end_time\": \"2021-05-31T08:33:29.493618Z\", \"created_time\": \"2021-05-31T08:32:30.400573Z\", \"created_time_dt\": \"2021-05-31T08:32:30.400573Z\", \"duration\": \"0:00:59\", \"iteration\": \"7\", \"goal\": \"accuracy_max\", \"run_name\": \"MaxAbsScaler, GradientBoosting\", \"run_properties\": \"copy=True\", \"primary_metric\": 0.84931034, \"best_metric\": 0.86965517}, {\"run_id\": \"AutoML_840efe9b-43cc-450c-a802-44143d3b2876_8\", \"run_number\": 1622450011, \"metric\": null, \"status\": \"Completed\", \"run_type\": \"azureml.scriptrun\", \"training_percent\": \"100\", \"start_time\": \"2021-05-31T08:33:41.782664Z\", \"end_time\": \"2021-05-31T08:34:26.469459Z\", \"created_time\": \"2021-05-31T08:33:31.909283Z\", \"created_time_dt\": \"2021-05-31T08:33:31.909283Z\", \"duration\": \"0:00:54\", \"iteration\": \"8\", \"goal\": \"accuracy_max\", \"run_name\": \"RobustScaler, RandomForest\", \"run_properties\": \"copy=True, quantile_range=[10, 90], with_centering=True,\\n             with_scaling=True\", \"primary_metric\": 0.83942529, \"best_metric\": 0.86965517}, {\"run_id\": \"AutoML_840efe9b-43cc-450c-a802-44143d3b2876_9\", \"run_number\": 1622450016, \"metric\": null, \"status\": \"Completed\", \"run_type\": \"azureml.scriptrun\", \"training_percent\": \"100\", \"start_time\": \"2021-05-31T08:33:44.103144Z\", \"end_time\": \"2021-05-31T08:34:33.807451Z\", \"created_time\": \"2021-05-31T08:33:36.63783Z\", \"created_time_dt\": \"2021-05-31T08:33:36.63783Z\", \"duration\": \"0:00:57\", \"iteration\": \"9\", \"goal\": \"accuracy_max\", \"run_name\": \"SparseNormalizer, LightGBM\", \"run_properties\": \"copy=True, norm='l2'\", \"primary_metric\": 0.75597701, \"best_metric\": 0.86965517}, {\"run_id\": \"AutoML_840efe9b-43cc-450c-a802-44143d3b2876_10\", \"run_number\": 1622450068, \"metric\": null, \"status\": \"Completed\", \"run_type\": \"azureml.scriptrun\", \"training_percent\": \"100\", \"start_time\": \"2021-05-31T08:34:40.36596Z\", \"end_time\": \"2021-05-31T08:35:25.730426Z\", \"created_time\": \"2021-05-31T08:34:28.632925Z\", \"created_time_dt\": \"2021-05-31T08:34:28.632925Z\", \"duration\": \"0:00:57\", \"iteration\": \"10\", \"goal\": \"accuracy_max\", \"run_name\": \"RobustScaler, LightGBM\", \"run_properties\": \"copy=True, quantile_range=[10, 90], with_centering=True,\\n             with_scaling=False\", \"primary_metric\": 0.77942529, \"best_metric\": 0.86965517}, {\"run_id\": \"AutoML_840efe9b-43cc-450c-a802-44143d3b2876_11\", \"run_number\": 1622450075, \"metric\": null, \"status\": \"Completed\", \"run_type\": \"azureml.scriptrun\", \"training_percent\": \"100\", \"start_time\": \"2021-05-31T08:34:49.113304Z\", \"end_time\": \"2021-05-31T08:35:38.00515Z\", \"created_time\": \"2021-05-31T08:34:35.912016Z\", \"created_time_dt\": \"2021-05-31T08:34:35.912016Z\", \"duration\": \"0:01:02\", \"iteration\": \"11\", \"goal\": \"accuracy_max\", \"run_name\": \"RobustScaler, ExtremeRandomTrees\", \"run_properties\": \"copy=True, quantile_range=[25, 75], with_centering=True,\\n             with_scaling=False\", \"primary_metric\": 0.85287356, \"best_metric\": 0.86965517}, {\"run_id\": \"AutoML_840efe9b-43cc-450c-a802-44143d3b2876_12\", \"run_number\": 1622450128, \"metric\": null, \"status\": \"Completed\", \"run_type\": \"azureml.scriptrun\", \"training_percent\": \"100\", \"start_time\": \"2021-05-31T08:35:40.467832Z\", \"end_time\": \"2021-05-31T08:36:28.848429Z\", \"created_time\": \"2021-05-31T08:35:28.549024Z\", \"created_time_dt\": \"2021-05-31T08:35:28.549024Z\", \"duration\": \"0:01:00\", \"iteration\": \"12\", \"goal\": \"accuracy_max\", \"run_name\": \"StandardScalerWrapper, RandomForest\", \"run_properties\": \"\\n    copy=True,\\n    with_mean=True,\\n    with_std=False\\n\", \"primary_metric\": 0.82275862, \"best_metric\": 0.86965517}, {\"run_id\": \"AutoML_840efe9b-43cc-450c-a802-44143d3b2876_13\", \"run_number\": 1622450138, \"metric\": null, \"status\": \"Completed\", \"run_type\": \"azureml.scriptrun\", \"training_percent\": \"100\", \"start_time\": \"2021-05-31T08:35:50.710282Z\", \"end_time\": \"2021-05-31T08:36:36.309795Z\", \"created_time\": \"2021-05-31T08:35:38.643558Z\", \"created_time_dt\": \"2021-05-31T08:35:38.643558Z\", \"duration\": \"0:00:57\", \"iteration\": \"13\", \"goal\": \"accuracy_max\", \"run_name\": \"RobustScaler, ExtremeRandomTrees\", \"run_properties\": \"copy=True, quantile_range=[25, 75], with_centering=True,\\n             with_scaling=False\", \"primary_metric\": 0.8562069, \"best_metric\": 0.86965517}, {\"run_id\": \"AutoML_840efe9b-43cc-450c-a802-44143d3b2876_15\", \"run_number\": 1622450142, \"metric\": null, \"status\": \"Completed\", \"run_type\": \"azureml.scriptrun\", \"training_percent\": \"100\", \"start_time\": \"2021-05-31T08:35:52.485593Z\", \"end_time\": \"2021-05-31T08:36:40.262328Z\", \"created_time\": \"2021-05-31T08:35:42.130533Z\", \"created_time_dt\": \"2021-05-31T08:35:42.130533Z\", \"duration\": \"0:00:58\", \"iteration\": \"15\", \"goal\": \"accuracy_max\", \"run_name\": \"MaxAbsScaler, LightGBM\", \"run_properties\": \"copy=True\", \"primary_metric\": 0.83931034, \"best_metric\": 0.86965517}, {\"run_id\": \"AutoML_840efe9b-43cc-450c-a802-44143d3b2876_16\", \"run_number\": 1622450190, \"metric\": null, \"status\": \"Completed\", \"run_type\": \"azureml.scriptrun\", \"training_percent\": \"100\", \"start_time\": \"2021-05-31T08:36:45.134476Z\", \"end_time\": \"2021-05-31T08:37:31.377836Z\", \"created_time\": \"2021-05-31T08:36:30.811489Z\", \"created_time_dt\": \"2021-05-31T08:36:30.811489Z\", \"duration\": \"0:01:00\", \"iteration\": \"16\", \"goal\": \"accuracy_max\", \"run_name\": \"StandardScalerWrapper, XGBoostClassifier\", \"run_properties\": \"\\n    copy=True,\\n    with_mean=False,\\n    with_std=False\\n\", \"primary_metric\": 0.82931034, \"best_metric\": 0.86965517}, {\"run_id\": \"AutoML_840efe9b-43cc-450c-a802-44143d3b2876_17\", \"run_number\": 1622450198, \"metric\": null, \"status\": \"Completed\", \"run_type\": \"azureml.scriptrun\", \"training_percent\": \"100\", \"start_time\": \"2021-05-31T08:36:52.835195Z\", \"end_time\": \"2021-05-31T08:37:42.284658Z\", \"created_time\": \"2021-05-31T08:36:38.182502Z\", \"created_time_dt\": \"2021-05-31T08:36:38.182502Z\", \"duration\": \"0:01:04\", \"iteration\": \"17\", \"goal\": \"accuracy_max\", \"run_name\": \"RobustScaler, LightGBM\", \"run_properties\": \"copy=True, quantile_range=[10, 90], with_centering=False,\\n             with_scaling=False\", \"primary_metric\": 0.79942529, \"best_metric\": 0.86965517}, {\"run_id\": \"AutoML_840efe9b-43cc-450c-a802-44143d3b2876_18\", \"run_number\": 1622450202, \"metric\": null, \"status\": \"Completed\", \"run_type\": \"azureml.scriptrun\", \"training_percent\": \"100\", \"start_time\": \"2021-05-31T08:36:52.054225Z\", \"end_time\": \"2021-05-31T08:37:42.649773Z\", \"created_time\": \"2021-05-31T08:36:42.17909Z\", \"created_time_dt\": \"2021-05-31T08:36:42.17909Z\", \"duration\": \"0:01:00\", \"iteration\": \"18\", \"goal\": \"accuracy_max\", \"run_name\": \"SparseNormalizer, XGBoostClassifier\", \"run_properties\": \"copy=True, norm='l1'\", \"primary_metric\": 0.83942529, \"best_metric\": 0.86965517}, {\"run_id\": \"AutoML_840efe9b-43cc-450c-a802-44143d3b2876_19\", \"run_number\": 1622450205, \"metric\": null, \"status\": \"Completed\", \"run_type\": \"azureml.scriptrun\", \"training_percent\": \"100\", \"start_time\": \"2021-05-31T08:36:57.556889Z\", \"end_time\": \"2021-05-31T08:37:45.955527Z\", \"created_time\": \"2021-05-31T08:36:45.671544Z\", \"created_time_dt\": \"2021-05-31T08:36:45.671544Z\", \"duration\": \"0:01:00\", \"iteration\": \"19\", \"goal\": \"accuracy_max\", \"run_name\": \"MaxAbsScaler, LogisticRegression\", \"run_properties\": \"copy=True\", \"primary_metric\": 0.82586207, \"best_metric\": 0.86965517}, {\"run_id\": \"AutoML_840efe9b-43cc-450c-a802-44143d3b2876_20\", \"run_number\": 1622450253, \"metric\": null, \"status\": \"Completed\", \"run_type\": \"azureml.scriptrun\", \"training_percent\": \"100\", \"start_time\": \"2021-05-31T08:37:49.729772Z\", \"end_time\": \"2021-05-31T08:38:42.710475Z\", \"created_time\": \"2021-05-31T08:37:33.333121Z\", \"created_time_dt\": \"2021-05-31T08:37:33.333121Z\", \"duration\": \"0:01:09\", \"iteration\": \"20\", \"goal\": \"accuracy_max\", \"run_name\": \"RobustScaler, KNN\", \"run_properties\": \"copy=True, quantile_range=[25, 75], with_centering=True,\\n             with_scaling=False\", \"primary_metric\": 0.61206897, \"best_metric\": 0.86965517}, {\"run_id\": \"AutoML_840efe9b-43cc-450c-a802-44143d3b2876_21\", \"run_number\": 1622450264, \"metric\": null, \"status\": \"Completed\", \"run_type\": \"azureml.scriptrun\", \"training_percent\": \"100\", \"start_time\": \"2021-05-31T08:37:58.124579Z\", \"end_time\": \"2021-05-31T08:38:44.298382Z\", \"created_time\": \"2021-05-31T08:37:44.101903Z\", \"created_time_dt\": \"2021-05-31T08:37:44.101903Z\", \"duration\": \"0:01:00\", \"iteration\": \"21\", \"goal\": \"accuracy_max\", \"run_name\": \"StandardScalerWrapper, XGBoostClassifier\", \"run_properties\": \"\\n    copy=True,\\n    with_mean=False,\\n    with_std=False\\n\", \"primary_metric\": 0.81954023, \"best_metric\": 0.86965517}, {\"run_id\": \"AutoML_840efe9b-43cc-450c-a802-44143d3b2876_22\", \"run_number\": 1622450267, \"metric\": null, \"status\": \"Completed\", \"run_type\": \"azureml.scriptrun\", \"training_percent\": \"100\", \"start_time\": \"2021-05-31T08:37:56.747369Z\", \"end_time\": \"2021-05-31T08:38:44.490208Z\", \"created_time\": \"2021-05-31T08:37:47.222693Z\", \"created_time_dt\": \"2021-05-31T08:37:47.222693Z\", \"duration\": \"0:00:57\", \"iteration\": \"22\", \"goal\": \"accuracy_max\", \"run_name\": \"SparseNormalizer, XGBoostClassifier\", \"run_properties\": \"copy=True, norm='l1'\", \"primary_metric\": 0.83287356, \"best_metric\": 0.86965517}, {\"run_id\": \"AutoML_840efe9b-43cc-450c-a802-44143d3b2876_23\", \"run_number\": 1622450270, \"metric\": null, \"status\": \"Completed\", \"run_type\": \"azureml.scriptrun\", \"training_percent\": \"100\", \"start_time\": \"2021-05-31T08:38:00.13594Z\", \"end_time\": \"2021-05-31T08:38:50.685008Z\", \"created_time\": \"2021-05-31T08:37:50.542139Z\", \"created_time_dt\": \"2021-05-31T08:37:50.542139Z\", \"duration\": \"0:01:00\", \"iteration\": \"23\", \"goal\": \"accuracy_max\", \"run_name\": \"StandardScalerWrapper, LightGBM\", \"run_properties\": \"\\n    copy=True,\\n    with_mean=False,\\n    with_std=True\\n\", \"primary_metric\": 0.83574713, \"best_metric\": 0.86965517}, {\"run_id\": \"AutoML_840efe9b-43cc-450c-a802-44143d3b2876_24\", \"run_number\": 1622450324, \"metric\": null, \"status\": \"Completed\", \"run_type\": \"azureml.scriptrun\", \"training_percent\": \"100\", \"start_time\": \"2021-05-31T08:39:08.476568Z\", \"end_time\": \"2021-05-31T08:39:58.5927Z\", \"created_time\": \"2021-05-31T08:38:44.8325Z\", \"created_time_dt\": \"2021-05-31T08:38:44.8325Z\", \"duration\": \"0:01:13\", \"iteration\": \"24\", \"goal\": \"accuracy_max\", \"run_name\": \"MaxAbsScaler, ExtremeRandomTrees\", \"run_properties\": \"copy=True\", \"primary_metric\": 0.8262069, \"best_metric\": 0.86965517}, {\"run_id\": \"AutoML_840efe9b-43cc-450c-a802-44143d3b2876_25\", \"run_number\": 1622450330, \"metric\": null, \"status\": \"Completed\", \"run_type\": \"azureml.scriptrun\", \"training_percent\": \"100\", \"start_time\": \"2021-05-31T08:38:58.107267Z\", \"end_time\": \"2021-05-31T08:39:48.023264Z\", \"created_time\": \"2021-05-31T08:38:50.187097Z\", \"created_time_dt\": \"2021-05-31T08:38:50.187097Z\", \"duration\": \"0:00:57\", \"iteration\": \"25\", \"goal\": \"accuracy_max\", \"run_name\": \"StandardScalerWrapper, XGBoostClassifier\", \"run_properties\": \"\\n    copy=True,\\n    with_mean=False,\\n    with_std=False\\n\", \"primary_metric\": 0.6791954, \"best_metric\": 0.86965517}, {\"run_id\": \"AutoML_840efe9b-43cc-450c-a802-44143d3b2876_27\", \"run_number\": 1622450333, \"metric\": null, \"status\": \"Completed\", \"run_type\": \"azureml.scriptrun\", \"training_percent\": \"100\", \"start_time\": \"2021-05-31T08:39:01.279651Z\", \"end_time\": \"2021-05-31T08:39:49.676056Z\", \"created_time\": \"2021-05-31T08:38:53.48957Z\", \"created_time_dt\": \"2021-05-31T08:38:53.48957Z\", \"duration\": \"0:00:56\", \"iteration\": \"27\", \"goal\": \"accuracy_max\", \"run_name\": \"StandardScalerWrapper, RandomForest\", \"run_properties\": \"\\n    copy=True,\\n    with_mean=False,\\n    with_std=True\\n\", \"primary_metric\": 0.83586207, \"best_metric\": 0.86965517}, {\"run_id\": \"AutoML_840efe9b-43cc-450c-a802-44143d3b2876_28\", \"run_number\": 1622450390, \"metric\": null, \"status\": \"Completed\", \"run_type\": \"azureml.scriptrun\", \"training_percent\": \"100\", \"start_time\": \"2021-05-31T08:40:03.864436Z\", \"end_time\": \"2021-05-31T08:40:52.934253Z\", \"created_time\": \"2021-05-31T08:39:49.929795Z\", \"created_time_dt\": \"2021-05-31T08:39:49.929795Z\", \"duration\": \"0:01:03\", \"iteration\": \"28\", \"goal\": \"accuracy_max\", \"run_name\": \"StandardScalerWrapper, RandomForest\", \"run_properties\": \"\\n    copy=True,\\n    with_mean=False,\\n    with_std=False\\n\", \"primary_metric\": 0.83574713, \"best_metric\": 0.86965517}, {\"run_id\": \"AutoML_840efe9b-43cc-450c-a802-44143d3b2876_30\", \"run_number\": 1622450394, \"metric\": null, \"status\": \"Completed\", \"run_type\": \"azureml.scriptrun\", \"training_percent\": \"100\", \"start_time\": \"2021-05-31T08:40:04.486249Z\", \"end_time\": \"2021-05-31T08:40:49.262439Z\", \"created_time\": \"2021-05-31T08:39:54.434293Z\", \"created_time_dt\": \"2021-05-31T08:39:54.434293Z\", \"duration\": \"0:00:54\", \"iteration\": \"30\", \"goal\": \"accuracy_max\", \"run_name\": \"StandardScalerWrapper, LightGBM\", \"run_properties\": \"\\n    copy=True,\\n    with_mean=False,\\n    with_std=True\\n\", \"primary_metric\": 0.83931034, \"best_metric\": 0.86965517}, {\"run_id\": \"AutoML_840efe9b-43cc-450c-a802-44143d3b2876_31\", \"run_number\": 1622450400, \"metric\": null, \"status\": \"Completed\", \"run_type\": \"azureml.scriptrun\", \"training_percent\": \"100\", \"start_time\": \"2021-05-31T08:40:15.117718Z\", \"end_time\": \"2021-05-31T08:41:04.339779Z\", \"created_time\": \"2021-05-31T08:40:00.420343Z\", \"created_time_dt\": \"2021-05-31T08:40:00.420343Z\", \"duration\": \"0:01:03\", \"iteration\": \"31\", \"goal\": \"accuracy_max\", \"run_name\": \"StandardScalerWrapper, ExtremeRandomTrees\", \"run_properties\": \"\\n    copy=True,\\n    with_mean=False,\\n    with_std=False\\n\", \"primary_metric\": 0.83954023, \"best_metric\": 0.86965517}, {\"run_id\": \"AutoML_840efe9b-43cc-450c-a802-44143d3b2876_32\", \"run_number\": 1622450451, \"metric\": null, \"status\": \"Completed\", \"run_type\": \"azureml.scriptrun\", \"training_percent\": \"100\", \"start_time\": \"2021-05-31T08:41:04.479278Z\", \"end_time\": \"2021-05-31T08:41:56.020232Z\", \"created_time\": \"2021-05-31T08:40:51.742796Z\", \"created_time_dt\": \"2021-05-31T08:40:51.742796Z\", \"duration\": \"0:01:04\", \"iteration\": \"32\", \"goal\": \"accuracy_max\", \"run_name\": \"StandardScalerWrapper, LightGBM\", \"run_properties\": \"\\n    copy=True,\\n    with_mean=False,\\n    with_std=True\\n\", \"primary_metric\": 0.84264368, \"best_metric\": 0.86965517}, {\"run_id\": \"AutoML_840efe9b-43cc-450c-a802-44143d3b2876_33\", \"run_number\": 1622450455, \"metric\": null, \"status\": \"Completed\", \"run_type\": \"azureml.scriptrun\", \"training_percent\": \"100\", \"start_time\": \"2021-05-31T08:41:09.486148Z\", \"end_time\": \"2021-05-31T08:41:55.736507Z\", \"created_time\": \"2021-05-31T08:40:55.334533Z\", \"created_time_dt\": \"2021-05-31T08:40:55.334533Z\", \"duration\": \"0:01:00\", \"iteration\": \"33\", \"goal\": \"accuracy_max\", \"run_name\": \"StandardScalerWrapper, GradientBoosting\", \"run_properties\": \"\\n    copy=True,\\n    with_mean=True,\\n    with_std=True\\n\", \"primary_metric\": 0.84931034, \"best_metric\": 0.86965517}, {\"run_id\": \"AutoML_840efe9b-43cc-450c-a802-44143d3b2876_34\", \"run_number\": 1622450458, \"metric\": null, \"status\": \"Canceled\", \"run_type\": \"azureml.scriptrun\", \"training_percent\": \"100\", \"start_time\": \"2021-05-31T08:41:12.357185Z\", \"end_time\": \"2021-05-31T08:42:02.066663Z\", \"created_time\": \"2021-05-31T08:40:58.352841Z\", \"created_time_dt\": \"2021-05-31T08:40:58.352841Z\", \"duration\": \"0:01:03\", \"iteration\": \"34\", \"goal\": \"accuracy_max\", \"run_name\": \"StandardScalerWrapper, XGBoostClassifier\", \"run_properties\": \"\\n    copy=True,\\n    with_mean=False,\\n    with_std=False\\n\", \"primary_metric\": 0.81896552, \"best_metric\": 0.86965517}, {\"run_id\": \"AutoML_840efe9b-43cc-450c-a802-44143d3b2876_35\", \"run_number\": 1622450467, \"metric\": null, \"status\": \"Canceled\", \"run_type\": \"azureml.scriptrun\", \"training_percent\": \"100\", \"start_time\": \"2021-05-31T08:41:19.180135Z\", \"end_time\": \"2021-05-31T08:42:02.083027Z\", \"created_time\": \"2021-05-31T08:41:07.179938Z\", \"created_time_dt\": \"2021-05-31T08:41:07.179938Z\", \"duration\": \"0:00:54\", \"iteration\": \"35\", \"goal\": \"accuracy_max\", \"run_name\": \"StandardScalerWrapper, XGBoostClassifier\", \"run_properties\": \"\\n    copy=True,\\n    with_mean=False,\\n    with_std=False\\n\", \"primary_metric\": 0.81931034, \"best_metric\": 0.86965517}, {\"run_id\": \"AutoML_840efe9b-43cc-450c-a802-44143d3b2876_36\", \"run_number\": 1622450522, \"metric\": null, \"status\": \"Completed\", \"run_type\": \"azureml.scriptrun\", \"training_percent\": \"100\", \"start_time\": \"2021-05-31T08:42:12.914004Z\", \"end_time\": \"2021-05-31T08:43:28.253467Z\", \"created_time\": \"2021-05-31T08:42:02.930834Z\", \"created_time_dt\": \"2021-05-31T08:42:02.930834Z\", \"duration\": \"0:01:25\", \"iteration\": \"36\", \"goal\": \"accuracy_max\", \"run_name\": \"VotingEnsemble\", \"run_properties\": \"\\n    estimators=[('5', Pipeline(memory=None,\\n             steps=[('sparsenormalizer', Normalizer(copy=True, norm='max'\", \"primary_metric\": 0.88310345, \"best_metric\": 0.88310345}, {\"run_id\": \"AutoML_840efe9b-43cc-450c-a802-44143d3b2876_37\", \"run_number\": 1622450523, \"metric\": null, \"status\": \"Completed\", \"run_type\": \"azureml.scriptrun\", \"training_percent\": \"100\", \"start_time\": \"2021-05-31T08:42:10.762071Z\", \"end_time\": \"2021-05-31T08:43:25.242295Z\", \"created_time\": \"2021-05-31T08:42:02.961729Z\", \"created_time_dt\": \"2021-05-31T08:42:02.961729Z\", \"duration\": \"0:01:22\", \"iteration\": \"37\", \"goal\": \"accuracy_max\", \"run_name\": \"StackEnsemble\", \"run_properties\": \"\\n    base_learners=[('5', Pipeline(memory=None,\\n             steps=[('sparsenormalizer', Normalizer(copy=True, norm='max'\", \"primary_metric\": 0.87298851, \"best_metric\": 0.88310345}], \"children_metrics\": {\"categories\": [0], \"series\": {\"recall_score_macro\": [{\"categories\": [\"1\", \"3\", \"4\", \"5\", \"6\", \"7\", \"8\", \"9\", \"10\", \"11\", \"12\", \"13\", \"15\", \"16\", \"17\", \"18\", \"19\", \"20\", \"21\", \"22\", \"23\", \"24\", \"25\", \"27\", \"28\", \"30\", \"31\", \"32\", \"33\", \"34\", \"35\", \"36\", \"37\"], \"mode\": \"markers\", \"name\": \"recall_score_macro\", \"stepped\": false, \"type\": \"scatter\", \"data\": [0.8130249020938379, 0.7987620318913224, 0.8111352917042277, 0.8467659782691246, 0.6138036453122265, 0.821730169049105, 0.8084770485997602, 0.6492251090506239, 0.673970152654363, 0.7997049792630456, 0.7983952086243276, 0.8003002173582837, 0.7992019669562576, 0.7823264580258287, 0.7010534859876965, 0.8074105442294801, 0.7933755931330302, 0.5330287535373348, 0.7603868201465456, 0.7759911719351078, 0.7909176102311114, 0.750052201485268, 0.5, 0.8286219534343104, 0.829246146492714, 0.7958448240991147, 0.7774015882096545, 0.818891158644305, 0.8183526437965798, 0.7981682149213614, 0.7825409963479186, 0.856134570203506, 0.8418488559177918]}, {\"categories\": [\"1\", \"3\", \"4\", \"5\", \"6\", \"7\", \"8\", \"9\", \"10\", \"11\", \"12\", \"13\", \"15\", \"16\", \"17\", \"18\", \"19\", \"20\", \"21\", \"22\", \"23\", \"24\", \"25\", \"27\", \"28\", \"30\", \"31\", \"32\", \"33\", \"34\", \"35\", \"36\", \"37\"], \"mode\": \"lines\", \"name\": \"recall_score_macro_max\", \"stepped\": true, \"type\": \"scatter\", \"data\": [0.8130249020938379, 0.8130249020938379, 0.8130249020938379, 0.8467659782691246, 0.8467659782691246, 0.8467659782691246, 0.8467659782691246, 0.8467659782691246, 0.8467659782691246, 0.8467659782691246, 0.8467659782691246, 0.8467659782691246, 0.8467659782691246, 0.8467659782691246, 0.8467659782691246, 0.8467659782691246, 0.8467659782691246, 0.8467659782691246, 0.8467659782691246, 0.8467659782691246, 0.8467659782691246, 0.8467659782691246, 0.8467659782691246, 0.8467659782691246, 0.8467659782691246, 0.8467659782691246, 0.8467659782691246, 0.8467659782691246, 0.8467659782691246, 0.8467659782691246, 0.8467659782691246, 0.856134570203506, 0.856134570203506]}], \"norm_macro_recall\": [{\"categories\": [\"1\", \"3\", \"4\", \"5\", \"6\", \"7\", \"8\", \"9\", \"10\", \"11\", \"12\", \"13\", \"15\", \"16\", \"17\", \"18\", \"19\", \"20\", \"21\", \"22\", \"23\", \"24\", \"25\", \"27\", \"28\", \"30\", \"31\", \"32\", \"33\", \"34\", \"35\", \"36\", \"37\"], \"mode\": \"markers\", \"name\": \"norm_macro_recall\", \"stepped\": false, \"type\": \"scatter\", \"data\": [0.626049804187676, 0.5975240637826449, 0.6222705834084554, 0.6935319565382494, 0.24267460317460315, 0.64346033809821, 0.6169540971995204, 0.29845021810124783, 0.3479403053087263, 0.5994099585260912, 0.5967904172486553, 0.6006004347165674, 0.598403933912515, 0.5646529160516576, 0.402106971975393, 0.6148210884589603, 0.5867511862660605, 0.10742038396386222, 0.5207736402930911, 0.5519823438702158, 0.5818352204622228, 0.5001044029705357, 0.0, 0.6572439068686208, 0.658492292985428, 0.5916896481982293, 0.5548031764193092, 0.6377823172886101, 0.6367052875931595, 0.5963364298427227, 0.5650819926958371, 0.7122691404070122, 0.6836977118355836]}, {\"categories\": [\"1\", \"3\", \"4\", \"5\", \"6\", \"7\", \"8\", \"9\", \"10\", \"11\", \"12\", \"13\", \"15\", \"16\", \"17\", \"18\", \"19\", \"20\", \"21\", \"22\", \"23\", \"24\", \"25\", \"27\", \"28\", \"30\", \"31\", \"32\", \"33\", \"34\", \"35\", \"36\", \"37\"], \"mode\": \"lines\", \"name\": \"norm_macro_recall_max\", \"stepped\": true, \"type\": \"scatter\", \"data\": [0.626049804187676, 0.626049804187676, 0.626049804187676, 0.6935319565382494, 0.6935319565382494, 0.6935319565382494, 0.6935319565382494, 0.6935319565382494, 0.6935319565382494, 0.6935319565382494, 0.6935319565382494, 0.6935319565382494, 0.6935319565382494, 0.6935319565382494, 0.6935319565382494, 0.6935319565382494, 0.6935319565382494, 0.6935319565382494, 0.6935319565382494, 0.6935319565382494, 0.6935319565382494, 0.6935319565382494, 0.6935319565382494, 0.6935319565382494, 0.6935319565382494, 0.6935319565382494, 0.6935319565382494, 0.6935319565382494, 0.6935319565382494, 0.6935319565382494, 0.6935319565382494, 0.7122691404070122, 0.7122691404070122]}], \"precision_score_weighted\": [{\"categories\": [\"1\", \"3\", \"4\", \"5\", \"6\", \"7\", \"8\", \"9\", \"10\", \"11\", \"12\", \"13\", \"15\", \"16\", \"17\", \"18\", \"19\", \"20\", \"21\", \"22\", \"23\", \"24\", \"25\", \"27\", \"28\", \"30\", \"31\", \"32\", \"33\", \"34\", \"35\", \"36\", \"37\"], \"mode\": \"markers\", \"name\": \"precision_score_weighted\", \"stepped\": false, \"type\": \"scatter\", \"data\": [0.8506678986628277, 0.8591579791734978, 0.8450973764086287, 0.8830781371669456, 0.7441194728643005, 0.8637699167371581, 0.8497146297177164, 0.7841864758910736, 0.8176354505897235, 0.8694431079332128, 0.8409989787162597, 0.8712942047133714, 0.8553606304186647, 0.8425135714369846, 0.8310542924295798, 0.8539018820315671, 0.8446006595557314, 0.6088697935830619, 0.840623900302411, 0.8494880026917757, 0.8505194767791234, 0.8495432433050875, 0.47055053507728895, 0.8529249391058669, 0.8555307339008097, 0.8512215457548056, 0.8568984086711223, 0.8575039605800254, 0.8619066233477778, 0.8355472215974246, 0.8265320620714174, 0.8969990067403859, 0.8901166070311497]}, {\"categories\": [\"1\", \"3\", \"4\", \"5\", \"6\", \"7\", \"8\", \"9\", \"10\", \"11\", \"12\", \"13\", \"15\", \"16\", \"17\", \"18\", \"19\", \"20\", \"21\", \"22\", \"23\", \"24\", \"25\", \"27\", \"28\", \"30\", \"31\", \"32\", \"33\", \"34\", \"35\", \"36\", \"37\"], \"mode\": \"lines\", \"name\": \"precision_score_weighted_max\", \"stepped\": true, \"type\": \"scatter\", \"data\": [0.8506678986628277, 0.8591579791734978, 0.8591579791734978, 0.8830781371669456, 0.8830781371669456, 0.8830781371669456, 0.8830781371669456, 0.8830781371669456, 0.8830781371669456, 0.8830781371669456, 0.8830781371669456, 0.8830781371669456, 0.8830781371669456, 0.8830781371669456, 0.8830781371669456, 0.8830781371669456, 0.8830781371669456, 0.8830781371669456, 0.8830781371669456, 0.8830781371669456, 0.8830781371669456, 0.8830781371669456, 0.8830781371669456, 0.8830781371669456, 0.8830781371669456, 0.8830781371669456, 0.8830781371669456, 0.8830781371669456, 0.8830781371669456, 0.8830781371669456, 0.8830781371669456, 0.8969990067403859, 0.8969990067403859]}], \"accuracy\": [{\"categories\": [\"1\", \"3\", \"4\", \"5\", \"6\", \"7\", \"8\", \"9\", \"10\", \"11\", \"12\", \"13\", \"15\", \"16\", \"17\", \"18\", \"19\", \"20\", \"21\", \"22\", \"23\", \"24\", \"25\", \"27\", \"28\", \"30\", \"31\", \"32\", \"33\", \"34\", \"35\", \"36\", \"37\"], \"mode\": \"markers\", \"name\": \"accuracy\", \"stepped\": false, \"type\": \"scatter\", \"data\": [0.8358620689655172, 0.8459770114942529, 0.8324137931034483, 0.8696551724137931, 0.7195402298850575, 0.8493103448275864, 0.8394252873563218, 0.7559770114942529, 0.7794252873563219, 0.852873563218391, 0.8227586206896552, 0.8562068965517243, 0.8393103448275863, 0.8293103448275861, 0.7994252873563219, 0.8394252873563219, 0.8258620689655173, 0.6120689655172413, 0.8195402298850574, 0.8328735632183909, 0.8357471264367817, 0.8262068965517241, 0.6791954022988507, 0.8358620689655172, 0.8357471264367817, 0.8393103448275863, 0.8395402298850575, 0.8426436781609195, 0.8493103448275863, 0.8189655172413792, 0.8193103448275861, 0.8831034482758622, 0.8729885057471265]}, {\"categories\": [\"1\", \"3\", \"4\", \"5\", \"6\", \"7\", \"8\", \"9\", \"10\", \"11\", \"12\", \"13\", \"15\", \"16\", \"17\", \"18\", \"19\", \"20\", \"21\", \"22\", \"23\", \"24\", \"25\", \"27\", \"28\", \"30\", \"31\", \"32\", \"33\", \"34\", \"35\", \"36\", \"37\"], \"mode\": \"lines\", \"name\": \"accuracy_max\", \"stepped\": true, \"type\": \"scatter\", \"data\": [0.8358620689655172, 0.8459770114942529, 0.8459770114942529, 0.8696551724137931, 0.8696551724137931, 0.8696551724137931, 0.8696551724137931, 0.8696551724137931, 0.8696551724137931, 0.8696551724137931, 0.8696551724137931, 0.8696551724137931, 0.8696551724137931, 0.8696551724137931, 0.8696551724137931, 0.8696551724137931, 0.8696551724137931, 0.8696551724137931, 0.8696551724137931, 0.8696551724137931, 0.8696551724137931, 0.8696551724137931, 0.8696551724137931, 0.8696551724137931, 0.8696551724137931, 0.8696551724137931, 0.8696551724137931, 0.8696551724137931, 0.8696551724137931, 0.8696551724137931, 0.8696551724137931, 0.8831034482758622, 0.8831034482758622]}], \"AUC_micro\": [{\"categories\": [\"1\", \"3\", \"4\", \"5\", \"6\", \"7\", \"8\", \"9\", \"10\", \"11\", \"12\", \"13\", \"15\", \"16\", \"17\", \"18\", \"19\", \"20\", \"21\", \"22\", \"23\", \"24\", \"25\", \"27\", \"28\", \"30\", \"31\", \"32\", \"33\", \"34\", \"35\", \"36\", \"37\"], \"mode\": \"markers\", \"name\": \"AUC_micro\", \"stepped\": false, \"type\": \"scatter\", \"data\": [0.9042166732725592, 0.9240354075835645, 0.913021799445105, 0.9092730875941338, 0.7707265160523187, 0.9190002642356981, 0.9115012551195667, 0.8477292905271503, 0.8740743823490554, 0.9109826925617652, 0.9093063812921127, 0.9112224864579204, 0.9062068965517242, 0.8919223147047166, 0.8729632712379443, 0.903590831021271, 0.8841095256969217, 0.6326613819527018, 0.9036357510899722, 0.8924563350508654, 0.9073511692429648, 0.8844135288677502, 0.6791954022988507, 0.9052849782005549, 0.899312326595323, 0.9027644338750165, 0.8964758884925355, 0.9165714096974502, 0.9123803672876205, 0.9048853217069628, 0.8887000924824944, 0.9232964724534286, 0.9184329501915709]}, {\"categories\": [\"1\", \"3\", \"4\", \"5\", \"6\", \"7\", \"8\", \"9\", \"10\", \"11\", \"12\", \"13\", \"15\", \"16\", \"17\", \"18\", \"19\", \"20\", \"21\", \"22\", \"23\", \"24\", \"25\", \"27\", \"28\", \"30\", \"31\", \"32\", \"33\", \"34\", \"35\", \"36\", \"37\"], \"mode\": \"lines\", \"name\": \"AUC_micro_max\", \"stepped\": true, \"type\": \"scatter\", \"data\": [0.9042166732725592, 0.9240354075835645, 0.9240354075835645, 0.9240354075835645, 0.9240354075835645, 0.9240354075835645, 0.9240354075835645, 0.9240354075835645, 0.9240354075835645, 0.9240354075835645, 0.9240354075835645, 0.9240354075835645, 0.9240354075835645, 0.9240354075835645, 0.9240354075835645, 0.9240354075835645, 0.9240354075835645, 0.9240354075835645, 0.9240354075835645, 0.9240354075835645, 0.9240354075835645, 0.9240354075835645, 0.9240354075835645, 0.9240354075835645, 0.9240354075835645, 0.9240354075835645, 0.9240354075835645, 0.9240354075835645, 0.9240354075835645, 0.9240354075835645, 0.9240354075835645, 0.9240354075835645, 0.9240354075835645]}], \"f1_score_weighted\": [{\"categories\": [\"1\", \"3\", \"4\", \"5\", \"6\", \"7\", \"8\", \"9\", \"10\", \"11\", \"12\", \"13\", \"15\", \"16\", \"17\", \"18\", \"19\", \"20\", \"21\", \"22\", \"23\", \"24\", \"25\", \"27\", \"28\", \"30\", \"31\", \"32\", \"33\", \"34\", \"35\", \"36\", \"37\"], \"mode\": \"markers\", \"name\": \"f1_score_weighted\", \"stepped\": false, \"type\": \"scatter\", \"data\": [0.8342588560383983, 0.839303874646984, 0.8338428877828663, 0.867224441642654, 0.677492221496148, 0.8468432112744431, 0.8365061113448228, 0.712005275382643, 0.7446772135867714, 0.8436702627988352, 0.8210390413297471, 0.8476748827993653, 0.8323341032522762, 0.8229754162080989, 0.7681953846521304, 0.835301817859506, 0.8229753586216013, 0.5900701186463972, 0.8080979228611413, 0.824798944044111, 0.8308768182403863, 0.8102093769871315, 0.5534120288954022, 0.8392636141746243, 0.83853283970052, 0.832414726095011, 0.8282458246206359, 0.8398888517146826, 0.8454639711569396, 0.8182708805719194, 0.815527815787255, 0.8797289003131847, 0.8675351028900927]}, {\"categories\": [\"1\", \"3\", \"4\", \"5\", \"6\", \"7\", \"8\", \"9\", \"10\", \"11\", \"12\", \"13\", \"15\", \"16\", \"17\", \"18\", \"19\", \"20\", \"21\", \"22\", \"23\", \"24\", \"25\", \"27\", \"28\", \"30\", \"31\", \"32\", \"33\", \"34\", \"35\", \"36\", \"37\"], \"mode\": \"lines\", \"name\": \"f1_score_weighted_max\", \"stepped\": true, \"type\": \"scatter\", \"data\": [0.8342588560383983, 0.839303874646984, 0.839303874646984, 0.867224441642654, 0.867224441642654, 0.867224441642654, 0.867224441642654, 0.867224441642654, 0.867224441642654, 0.867224441642654, 0.867224441642654, 0.867224441642654, 0.867224441642654, 0.867224441642654, 0.867224441642654, 0.867224441642654, 0.867224441642654, 0.867224441642654, 0.867224441642654, 0.867224441642654, 0.867224441642654, 0.867224441642654, 0.867224441642654, 0.867224441642654, 0.867224441642654, 0.867224441642654, 0.867224441642654, 0.867224441642654, 0.867224441642654, 0.867224441642654, 0.867224441642654, 0.8797289003131847, 0.8797289003131847]}], \"balanced_accuracy\": [{\"categories\": [\"1\", \"3\", \"4\", \"5\", \"6\", \"7\", \"8\", \"9\", \"10\", \"11\", \"12\", \"13\", \"15\", \"16\", \"17\", \"18\", \"19\", \"20\", \"21\", \"22\", \"23\", \"24\", \"25\", \"27\", \"28\", \"30\", \"31\", \"32\", \"33\", \"34\", \"35\", \"36\", \"37\"], \"mode\": \"markers\", \"name\": \"balanced_accuracy\", \"stepped\": false, \"type\": \"scatter\", \"data\": [0.8130249020938379, 0.7987620318913224, 0.8111352917042277, 0.8467659782691246, 0.6138036453122265, 0.821730169049105, 0.8084770485997602, 0.6492251090506239, 0.673970152654363, 0.7997049792630456, 0.7983952086243276, 0.8003002173582837, 0.7992019669562576, 0.7823264580258287, 0.7010534859876965, 0.8074105442294801, 0.7933755931330302, 0.5330287535373348, 0.7603868201465456, 0.7759911719351078, 0.7909176102311114, 0.750052201485268, 0.5, 0.8286219534343104, 0.829246146492714, 0.7958448240991147, 0.7774015882096545, 0.818891158644305, 0.8183526437965798, 0.7981682149213614, 0.7825409963479186, 0.856134570203506, 0.8418488559177918]}, {\"categories\": [\"1\", \"3\", \"4\", \"5\", \"6\", \"7\", \"8\", \"9\", \"10\", \"11\", \"12\", \"13\", \"15\", \"16\", \"17\", \"18\", \"19\", \"20\", \"21\", \"22\", \"23\", \"24\", \"25\", \"27\", \"28\", \"30\", \"31\", \"32\", \"33\", \"34\", \"35\", \"36\", \"37\"], \"mode\": \"lines\", \"name\": \"balanced_accuracy_max\", \"stepped\": true, \"type\": \"scatter\", \"data\": [0.8130249020938379, 0.8130249020938379, 0.8130249020938379, 0.8467659782691246, 0.8467659782691246, 0.8467659782691246, 0.8467659782691246, 0.8467659782691246, 0.8467659782691246, 0.8467659782691246, 0.8467659782691246, 0.8467659782691246, 0.8467659782691246, 0.8467659782691246, 0.8467659782691246, 0.8467659782691246, 0.8467659782691246, 0.8467659782691246, 0.8467659782691246, 0.8467659782691246, 0.8467659782691246, 0.8467659782691246, 0.8467659782691246, 0.8467659782691246, 0.8467659782691246, 0.8467659782691246, 0.8467659782691246, 0.8467659782691246, 0.8467659782691246, 0.8467659782691246, 0.8467659782691246, 0.856134570203506, 0.856134570203506]}], \"f1_score_macro\": [{\"categories\": [\"1\", \"3\", \"4\", \"5\", \"6\", \"7\", \"8\", \"9\", \"10\", \"11\", \"12\", \"13\", \"15\", \"16\", \"17\", \"18\", \"19\", \"20\", \"21\", \"22\", \"23\", \"24\", \"25\", \"27\", \"28\", \"30\", \"31\", \"32\", \"33\", \"34\", \"35\", \"36\", \"37\"], \"mode\": \"markers\", \"name\": \"f1_score_macro\", \"stepped\": false, \"type\": \"scatter\", \"data\": [0.8078501228997539, 0.8063887719025347, 0.8019820991597151, 0.8479866182254236, 0.5990977687431407, 0.8184804006074092, 0.8064949123997703, 0.632950422884477, 0.6818642366891708, 0.8155876561817805, 0.7911383114505388, 0.8182116482648505, 0.800592919675218, 0.7883393596762872, 0.7101744217921057, 0.8055881540297527, 0.7911433411552602, 0.5107685476938072, 0.7695296688112171, 0.7900868467916522, 0.7964277761016892, 0.76807793069756, 0.4024893878511494, 0.8115216688062368, 0.8106241453679045, 0.8012883076904815, 0.7951349965915047, 0.8126010023261806, 0.8169134648084567, 0.7861741404426157, 0.781986019719825, 0.8613521484905784, 0.8466627177110263]}, {\"categories\": [\"1\", \"3\", \"4\", \"5\", \"6\", \"7\", \"8\", \"9\", \"10\", \"11\", \"12\", \"13\", \"15\", \"16\", \"17\", \"18\", \"19\", \"20\", \"21\", \"22\", \"23\", \"24\", \"25\", \"27\", \"28\", \"30\", \"31\", \"32\", \"33\", \"34\", \"35\", \"36\", \"37\"], \"mode\": \"lines\", \"name\": \"f1_score_macro_max\", \"stepped\": true, \"type\": \"scatter\", \"data\": [0.8078501228997539, 0.8078501228997539, 0.8078501228997539, 0.8479866182254236, 0.8479866182254236, 0.8479866182254236, 0.8479866182254236, 0.8479866182254236, 0.8479866182254236, 0.8479866182254236, 0.8479866182254236, 0.8479866182254236, 0.8479866182254236, 0.8479866182254236, 0.8479866182254236, 0.8479866182254236, 0.8479866182254236, 0.8479866182254236, 0.8479866182254236, 0.8479866182254236, 0.8479866182254236, 0.8479866182254236, 0.8479866182254236, 0.8479866182254236, 0.8479866182254236, 0.8479866182254236, 0.8479866182254236, 0.8479866182254236, 0.8479866182254236, 0.8479866182254236, 0.8479866182254236, 0.8613521484905784, 0.8613521484905784]}], \"recall_score_weighted\": [{\"categories\": [\"1\", \"3\", \"4\", \"5\", \"6\", \"7\", \"8\", \"9\", \"10\", \"11\", \"12\", \"13\", \"15\", \"16\", \"17\", \"18\", \"19\", \"20\", \"21\", \"22\", \"23\", \"24\", \"25\", \"27\", \"28\", \"30\", \"31\", \"32\", \"33\", \"34\", \"35\", \"36\", \"37\"], \"mode\": \"markers\", \"name\": \"recall_score_weighted\", \"stepped\": false, \"type\": \"scatter\", \"data\": [0.8358620689655172, 0.8459770114942529, 0.8324137931034483, 0.8696551724137931, 0.7195402298850575, 0.8493103448275864, 0.8394252873563218, 0.7559770114942529, 0.7794252873563219, 0.852873563218391, 0.8227586206896552, 0.8562068965517243, 0.8393103448275863, 0.8293103448275861, 0.7994252873563219, 0.8394252873563219, 0.8258620689655173, 0.6120689655172413, 0.8195402298850574, 0.8328735632183909, 0.8357471264367817, 0.8262068965517241, 0.6791954022988507, 0.8358620689655172, 0.8357471264367817, 0.8393103448275863, 0.8395402298850575, 0.8426436781609195, 0.8493103448275863, 0.8189655172413792, 0.8193103448275861, 0.8831034482758622, 0.8729885057471265]}, {\"categories\": [\"1\", \"3\", \"4\", \"5\", \"6\", \"7\", \"8\", \"9\", \"10\", \"11\", \"12\", \"13\", \"15\", \"16\", \"17\", \"18\", \"19\", \"20\", \"21\", \"22\", \"23\", \"24\", \"25\", \"27\", \"28\", \"30\", \"31\", \"32\", \"33\", \"34\", \"35\", \"36\", \"37\"], \"mode\": \"lines\", \"name\": \"recall_score_weighted_max\", \"stepped\": true, \"type\": \"scatter\", \"data\": [0.8358620689655172, 0.8459770114942529, 0.8459770114942529, 0.8696551724137931, 0.8696551724137931, 0.8696551724137931, 0.8696551724137931, 0.8696551724137931, 0.8696551724137931, 0.8696551724137931, 0.8696551724137931, 0.8696551724137931, 0.8696551724137931, 0.8696551724137931, 0.8696551724137931, 0.8696551724137931, 0.8696551724137931, 0.8696551724137931, 0.8696551724137931, 0.8696551724137931, 0.8696551724137931, 0.8696551724137931, 0.8696551724137931, 0.8696551724137931, 0.8696551724137931, 0.8696551724137931, 0.8696551724137931, 0.8696551724137931, 0.8696551724137931, 0.8696551724137931, 0.8696551724137931, 0.8831034482758622, 0.8831034482758622]}], \"precision_score_macro\": [{\"categories\": [\"1\", \"3\", \"4\", \"5\", \"6\", \"7\", \"8\", \"9\", \"10\", \"11\", \"12\", \"13\", \"15\", \"16\", \"17\", \"18\", \"19\", \"20\", \"21\", \"22\", \"23\", \"24\", \"25\", \"27\", \"28\", \"30\", \"31\", \"32\", \"33\", \"34\", \"35\", \"36\", \"37\"], \"mode\": \"markers\", \"name\": \"precision_score_macro\", \"stepped\": false, \"type\": \"scatter\", \"data\": [0.8232986049897815, 0.845761791391082, 0.804159214323688, 0.870026279489195, 0.721116752978822, 0.8379680735930736, 0.822056132665737, 0.7534096704700154, 0.8372565606696043, 0.8768851329829591, 0.8076453675622475, 0.8787683613106954, 0.8366777806592385, 0.8262792782901478, 0.8457649757649758, 0.8294910282953761, 0.8163517898005883, 0.5330231724796942, 0.8349356593487027, 0.8438066482631701, 0.8330130061280956, 0.8589147820778257, 0.33959770114942534, 0.8070949417369697, 0.8088746100820405, 0.8347272430087076, 0.8655283750066358, 0.8288813000724765, 0.8381054802685236, 0.79421463340581, 0.798252399774139, 0.8914661727161727, 0.8856767411332628]}, {\"categories\": [\"1\", \"3\", \"4\", \"5\", \"6\", \"7\", \"8\", \"9\", \"10\", \"11\", \"12\", \"13\", \"15\", \"16\", \"17\", \"18\", \"19\", \"20\", \"21\", \"22\", \"23\", \"24\", \"25\", \"27\", \"28\", \"30\", \"31\", \"32\", \"33\", \"34\", \"35\", \"36\", \"37\"], \"mode\": \"lines\", \"name\": \"precision_score_macro_max\", \"stepped\": true, \"type\": \"scatter\", \"data\": [0.8232986049897815, 0.845761791391082, 0.845761791391082, 0.870026279489195, 0.870026279489195, 0.870026279489195, 0.870026279489195, 0.870026279489195, 0.870026279489195, 0.8768851329829591, 0.8768851329829591, 0.8787683613106954, 0.8787683613106954, 0.8787683613106954, 0.8787683613106954, 0.8787683613106954, 0.8787683613106954, 0.8787683613106954, 0.8787683613106954, 0.8787683613106954, 0.8787683613106954, 0.8787683613106954, 0.8787683613106954, 0.8787683613106954, 0.8787683613106954, 0.8787683613106954, 0.8787683613106954, 0.8787683613106954, 0.8787683613106954, 0.8787683613106954, 0.8787683613106954, 0.8914661727161727, 0.8914661727161727]}], \"precision_score_micro\": [{\"categories\": [\"1\", \"3\", \"4\", \"5\", \"6\", \"7\", \"8\", \"9\", \"10\", \"11\", \"12\", \"13\", \"15\", \"16\", \"17\", \"18\", \"19\", \"20\", \"21\", \"22\", \"23\", \"24\", \"25\", \"27\", \"28\", \"30\", \"31\", \"32\", \"33\", \"34\", \"35\", \"36\", \"37\"], \"mode\": \"markers\", \"name\": \"precision_score_micro\", \"stepped\": false, \"type\": \"scatter\", \"data\": [0.8358620689655172, 0.8459770114942529, 0.8324137931034483, 0.8696551724137931, 0.7195402298850575, 0.8493103448275864, 0.8394252873563218, 0.7559770114942529, 0.7794252873563219, 0.852873563218391, 0.8227586206896552, 0.8562068965517243, 0.8393103448275863, 0.8293103448275861, 0.7994252873563219, 0.8394252873563219, 0.8258620689655173, 0.6120689655172413, 0.8195402298850574, 0.8328735632183909, 0.8357471264367817, 0.8262068965517241, 0.6791954022988507, 0.8358620689655172, 0.8357471264367817, 0.8393103448275863, 0.8395402298850575, 0.8426436781609195, 0.8493103448275863, 0.8189655172413792, 0.8193103448275861, 0.8831034482758622, 0.8729885057471265]}, {\"categories\": [\"1\", \"3\", \"4\", \"5\", \"6\", \"7\", \"8\", \"9\", \"10\", \"11\", \"12\", \"13\", \"15\", \"16\", \"17\", \"18\", \"19\", \"20\", \"21\", \"22\", \"23\", \"24\", \"25\", \"27\", \"28\", \"30\", \"31\", \"32\", \"33\", \"34\", \"35\", \"36\", \"37\"], \"mode\": \"lines\", \"name\": \"precision_score_micro_max\", \"stepped\": true, \"type\": \"scatter\", \"data\": [0.8358620689655172, 0.8459770114942529, 0.8459770114942529, 0.8696551724137931, 0.8696551724137931, 0.8696551724137931, 0.8696551724137931, 0.8696551724137931, 0.8696551724137931, 0.8696551724137931, 0.8696551724137931, 0.8696551724137931, 0.8696551724137931, 0.8696551724137931, 0.8696551724137931, 0.8696551724137931, 0.8696551724137931, 0.8696551724137931, 0.8696551724137931, 0.8696551724137931, 0.8696551724137931, 0.8696551724137931, 0.8696551724137931, 0.8696551724137931, 0.8696551724137931, 0.8696551724137931, 0.8696551724137931, 0.8696551724137931, 0.8696551724137931, 0.8696551724137931, 0.8696551724137931, 0.8831034482758622, 0.8831034482758622]}], \"weighted_accuracy\": [{\"categories\": [\"1\", \"3\", \"4\", \"5\", \"6\", \"7\", \"8\", \"9\", \"10\", \"11\", \"12\", \"13\", \"15\", \"16\", \"17\", \"18\", \"19\", \"20\", \"21\", \"22\", \"23\", \"24\", \"25\", \"27\", \"28\", \"30\", \"31\", \"32\", \"33\", \"34\", \"35\", \"36\", \"37\"], \"mode\": \"markers\", \"name\": \"weighted_accuracy\", \"stepped\": false, \"type\": \"scatter\", \"data\": [0.8502962163535492, 0.8747869562987424, 0.8459135931725263, 0.8836771427932287, 0.7890139874876867, 0.866832698878023, 0.8595688536156383, 0.8219603315724845, 0.8471772199465175, 0.8875553679549372, 0.8378969294117393, 0.8920057429874232, 0.8669339017794584, 0.8585234753328456, 0.8615882766304159, 0.8610878791977102, 0.8468923257770659, 0.665058670125813, 0.8569762141082642, 0.868157687543961, 0.8628259889123594, 0.8754325413825953, 0.7931711479234276, 0.8394181364377807, 0.8380817532491124, 0.8685521836685911, 0.8800226784693305, 0.8573987552344299, 0.8702825526946224, 0.8323656321854316, 0.8431117529597753, 0.9001914543127907, 0.8926834432217878]}, {\"categories\": [\"1\", \"3\", \"4\", \"5\", \"6\", \"7\", \"8\", \"9\", \"10\", \"11\", \"12\", \"13\", \"15\", \"16\", \"17\", \"18\", \"19\", \"20\", \"21\", \"22\", \"23\", \"24\", \"25\", \"27\", \"28\", \"30\", \"31\", \"32\", \"33\", \"34\", \"35\", \"36\", \"37\"], \"mode\": \"lines\", \"name\": \"weighted_accuracy_max\", \"stepped\": true, \"type\": \"scatter\", \"data\": [0.8502962163535492, 0.8747869562987424, 0.8747869562987424, 0.8836771427932287, 0.8836771427932287, 0.8836771427932287, 0.8836771427932287, 0.8836771427932287, 0.8836771427932287, 0.8875553679549372, 0.8875553679549372, 0.8920057429874232, 0.8920057429874232, 0.8920057429874232, 0.8920057429874232, 0.8920057429874232, 0.8920057429874232, 0.8920057429874232, 0.8920057429874232, 0.8920057429874232, 0.8920057429874232, 0.8920057429874232, 0.8920057429874232, 0.8920057429874232, 0.8920057429874232, 0.8920057429874232, 0.8920057429874232, 0.8920057429874232, 0.8920057429874232, 0.8920057429874232, 0.8920057429874232, 0.9001914543127907, 0.9001914543127907]}], \"matthews_correlation\": [{\"categories\": [\"1\", \"3\", \"4\", \"5\", \"6\", \"7\", \"8\", \"9\", \"10\", \"11\", \"12\", \"13\", \"15\", \"16\", \"17\", \"18\", \"19\", \"20\", \"21\", \"22\", \"23\", \"24\", \"25\", \"27\", \"28\", \"30\", \"31\", \"32\", \"33\", \"34\", \"35\", \"36\", \"37\"], \"mode\": \"markers\", \"name\": \"matthews_correlation\", \"stepped\": false, \"type\": \"scatter\", \"data\": [0.6345538749068885, 0.6404211732016726, 0.6144900938579585, 0.7149458284575789, 0.30220088727978744, 0.6572795170394415, 0.6292609566457099, 0.3833422588348133, 0.4788202096540526, 0.6691824986387973, 0.6045737284525707, 0.6718239677155339, 0.6320897071733595, 0.6044128177950042, 0.5209801376438984, 0.6344802623735276, 0.6075578721861774, 0.06440608777581025, 0.5859889020033766, 0.6144071261826648, 0.6194165182893073, 0.5960280735237642, 0.0, 0.6347345709894077, 0.6371429424878005, 0.6282666583697689, 0.6339321304312818, 0.6460939126456116, 0.6544871643284979, 0.5908929295202798, 0.5794434270516516, 0.744732814920156, 0.7230615951932858]}, {\"categories\": [\"1\", \"3\", \"4\", \"5\", \"6\", \"7\", \"8\", \"9\", \"10\", \"11\", \"12\", \"13\", \"15\", \"16\", \"17\", \"18\", \"19\", \"20\", \"21\", \"22\", \"23\", \"24\", \"25\", \"27\", \"28\", \"30\", \"31\", \"32\", \"33\", \"34\", \"35\", \"36\", \"37\"], \"mode\": \"lines\", \"name\": \"matthews_correlation_max\", \"stepped\": true, \"type\": \"scatter\", \"data\": [0.6345538749068885, 0.6404211732016726, 0.6404211732016726, 0.7149458284575789, 0.7149458284575789, 0.7149458284575789, 0.7149458284575789, 0.7149458284575789, 0.7149458284575789, 0.7149458284575789, 0.7149458284575789, 0.7149458284575789, 0.7149458284575789, 0.7149458284575789, 0.7149458284575789, 0.7149458284575789, 0.7149458284575789, 0.7149458284575789, 0.7149458284575789, 0.7149458284575789, 0.7149458284575789, 0.7149458284575789, 0.7149458284575789, 0.7149458284575789, 0.7149458284575789, 0.7149458284575789, 0.7149458284575789, 0.7149458284575789, 0.7149458284575789, 0.7149458284575789, 0.7149458284575789, 0.744732814920156, 0.744732814920156]}], \"recall_score_micro\": [{\"categories\": [\"1\", \"3\", \"4\", \"5\", \"6\", \"7\", \"8\", \"9\", \"10\", \"11\", \"12\", \"13\", \"15\", \"16\", \"17\", \"18\", \"19\", \"20\", \"21\", \"22\", \"23\", \"24\", \"25\", \"27\", \"28\", \"30\", \"31\", \"32\", \"33\", \"34\", \"35\", \"36\", \"37\"], \"mode\": \"markers\", \"name\": \"recall_score_micro\", \"stepped\": false, \"type\": \"scatter\", \"data\": [0.8358620689655172, 0.8459770114942529, 0.8324137931034483, 0.8696551724137931, 0.7195402298850575, 0.8493103448275864, 0.8394252873563218, 0.7559770114942529, 0.7794252873563219, 0.852873563218391, 0.8227586206896552, 0.8562068965517243, 0.8393103448275863, 0.8293103448275861, 0.7994252873563219, 0.8394252873563219, 0.8258620689655173, 0.6120689655172413, 0.8195402298850574, 0.8328735632183909, 0.8357471264367817, 0.8262068965517241, 0.6791954022988507, 0.8358620689655172, 0.8357471264367817, 0.8393103448275863, 0.8395402298850575, 0.8426436781609195, 0.8493103448275863, 0.8189655172413792, 0.8193103448275861, 0.8831034482758622, 0.8729885057471265]}, {\"categories\": [\"1\", \"3\", \"4\", \"5\", \"6\", \"7\", \"8\", \"9\", \"10\", \"11\", \"12\", \"13\", \"15\", \"16\", \"17\", \"18\", \"19\", \"20\", \"21\", \"22\", \"23\", \"24\", \"25\", \"27\", \"28\", \"30\", \"31\", \"32\", \"33\", \"34\", \"35\", \"36\", \"37\"], \"mode\": \"lines\", \"name\": \"recall_score_micro_max\", \"stepped\": true, \"type\": \"scatter\", \"data\": [0.8358620689655172, 0.8459770114942529, 0.8459770114942529, 0.8696551724137931, 0.8696551724137931, 0.8696551724137931, 0.8696551724137931, 0.8696551724137931, 0.8696551724137931, 0.8696551724137931, 0.8696551724137931, 0.8696551724137931, 0.8696551724137931, 0.8696551724137931, 0.8696551724137931, 0.8696551724137931, 0.8696551724137931, 0.8696551724137931, 0.8696551724137931, 0.8696551724137931, 0.8696551724137931, 0.8696551724137931, 0.8696551724137931, 0.8696551724137931, 0.8696551724137931, 0.8696551724137931, 0.8696551724137931, 0.8696551724137931, 0.8696551724137931, 0.8696551724137931, 0.8696551724137931, 0.8831034482758622, 0.8831034482758622]}], \"log_loss\": [{\"categories\": [\"1\", \"3\", \"4\", \"5\", \"6\", \"7\", \"8\", \"9\", \"10\", \"11\", \"12\", \"13\", \"15\", \"16\", \"17\", \"18\", \"19\", \"20\", \"21\", \"22\", \"23\", \"24\", \"25\", \"27\", \"28\", \"30\", \"31\", \"32\", \"33\", \"34\", \"35\", \"36\", \"37\"], \"mode\": \"markers\", \"name\": \"log_loss\", \"stepped\": false, \"type\": \"scatter\", \"data\": [0.41764279466886123, 0.3768860958886284, 0.3749439741492943, 0.37735689687279667, 0.5988821854118554, 0.3571735099248924, 0.37220658035608556, 0.49702308732573447, 0.4807904268610071, 0.3993307384106235, 0.37688336479246354, 0.398044517749793, 0.41916278548122055, 0.4977097528167553, 0.4736909179352205, 0.4145492175862966, 0.4266658770081796, 1.3103778034868643, 0.4937811237209755, 0.4131232228230042, 0.38185933972098407, 0.45360412996675736, 0.6325804731535178, 0.4376095641679319, 0.4909979647301942, 0.41860634754545883, 0.42470271423072176, 0.3656631859337093, 0.36641072931625807, 0.40311068023038193, 0.47421580932858615, 0.3632027859095686, 0.36210545238454295]}, {\"categories\": [\"1\", \"3\", \"4\", \"5\", \"6\", \"7\", \"8\", \"9\", \"10\", \"11\", \"12\", \"13\", \"15\", \"16\", \"17\", \"18\", \"19\", \"20\", \"21\", \"22\", \"23\", \"24\", \"25\", \"27\", \"28\", \"30\", \"31\", \"32\", \"33\", \"34\", \"35\", \"36\", \"37\"], \"mode\": \"lines\", \"name\": \"log_loss_min\", \"stepped\": true, \"type\": \"scatter\", \"data\": [0.41764279466886123, 0.3768860958886284, 0.3749439741492943, 0.3749439741492943, 0.3749439741492943, 0.3571735099248924, 0.3571735099248924, 0.3571735099248924, 0.3571735099248924, 0.3571735099248924, 0.3571735099248924, 0.3571735099248924, 0.3571735099248924, 0.3571735099248924, 0.3571735099248924, 0.3571735099248924, 0.3571735099248924, 0.3571735099248924, 0.3571735099248924, 0.3571735099248924, 0.3571735099248924, 0.3571735099248924, 0.3571735099248924, 0.3571735099248924, 0.3571735099248924, 0.3571735099248924, 0.3571735099248924, 0.3571735099248924, 0.3571735099248924, 0.3571735099248924, 0.3571735099248924, 0.3571735099248924, 0.3571735099248924]}], \"average_precision_score_weighted\": [{\"categories\": [\"1\", \"3\", \"4\", \"5\", \"6\", \"7\", \"8\", \"9\", \"10\", \"11\", \"12\", \"13\", \"15\", \"16\", \"17\", \"18\", \"19\", \"20\", \"21\", \"22\", \"23\", \"24\", \"25\", \"27\", \"28\", \"30\", \"31\", \"32\", \"33\", \"34\", \"35\", \"36\", \"37\"], \"mode\": \"markers\", \"name\": \"average_precision_score_weighted\", \"stepped\": false, \"type\": \"scatter\", \"data\": [0.907154018724502, 0.9274557405820614, 0.9203986859662795, 0.9118883378585718, 0.7667479162726786, 0.9232417197252445, 0.9142631844944568, 0.8829812883464841, 0.9119588313615263, 0.918681479564485, 0.9124427795594503, 0.9212074525718734, 0.9185264340158863, 0.8998979281416123, 0.9077395435533042, 0.9147306297456479, 0.8908063477987834, 0.6269539485242033, 0.9080352585855126, 0.8970506179041774, 0.9139639355615152, 0.9085483159268255, 0.5827102655568768, 0.919569504910396, 0.9129309722312092, 0.9128433838735328, 0.907506385854313, 0.919370880458794, 0.9182257055234899, 0.9144591458698456, 0.8674006190491526, 0.9302726214520177, 0.9276543608585743]}, {\"categories\": [\"1\", \"3\", \"4\", \"5\", \"6\", \"7\", \"8\", \"9\", \"10\", \"11\", \"12\", \"13\", \"15\", \"16\", \"17\", \"18\", \"19\", \"20\", \"21\", \"22\", \"23\", \"24\", \"25\", \"27\", \"28\", \"30\", \"31\", \"32\", \"33\", \"34\", \"35\", \"36\", \"37\"], \"mode\": \"lines\", \"name\": \"average_precision_score_weighted_max\", \"stepped\": true, \"type\": \"scatter\", \"data\": [0.907154018724502, 0.9274557405820614, 0.9274557405820614, 0.9274557405820614, 0.9274557405820614, 0.9274557405820614, 0.9274557405820614, 0.9274557405820614, 0.9274557405820614, 0.9274557405820614, 0.9274557405820614, 0.9274557405820614, 0.9274557405820614, 0.9274557405820614, 0.9274557405820614, 0.9274557405820614, 0.9274557405820614, 0.9274557405820614, 0.9274557405820614, 0.9274557405820614, 0.9274557405820614, 0.9274557405820614, 0.9274557405820614, 0.9274557405820614, 0.9274557405820614, 0.9274557405820614, 0.9274557405820614, 0.9274557405820614, 0.9274557405820614, 0.9274557405820614, 0.9274557405820614, 0.9302726214520177, 0.9302726214520177]}], \"average_precision_score_micro\": [{\"categories\": [\"1\", \"3\", \"4\", \"5\", \"6\", \"7\", \"8\", \"9\", \"10\", \"11\", \"12\", \"13\", \"15\", \"16\", \"17\", \"18\", \"19\", \"20\", \"21\", \"22\", \"23\", \"24\", \"25\", \"27\", \"28\", \"30\", \"31\", \"32\", \"33\", \"34\", \"35\", \"36\", \"37\"], \"mode\": \"markers\", \"name\": \"average_precision_score_micro\", \"stepped\": false, \"type\": \"scatter\", \"data\": [0.9033793522124445, 0.9252245517335751, 0.9154133889980984, 0.9090689206302549, 0.756253846942389, 0.922722021560767, 0.9097847855974562, 0.857012473749144, 0.8834597513438405, 0.9123886439331242, 0.9102332392288126, 0.9134061706609623, 0.9100085270296232, 0.8924264204831287, 0.8798799003731752, 0.9046921726318329, 0.887990493998631, 0.6361869138339701, 0.9019715624413595, 0.8933724049045217, 0.9106485815344569, 0.8862600048812063, 0.6309528339278636, 0.9042629657642083, 0.9018398117573415, 0.907380079578538, 0.8986620242393816, 0.9201290876871292, 0.9143883937634992, 0.908566116320942, 0.8803083325478068, 0.9260725297971717, 0.92006161413653]}, {\"categories\": [\"1\", \"3\", \"4\", \"5\", \"6\", \"7\", \"8\", \"9\", \"10\", \"11\", \"12\", \"13\", \"15\", \"16\", \"17\", \"18\", \"19\", \"20\", \"21\", \"22\", \"23\", \"24\", \"25\", \"27\", \"28\", \"30\", \"31\", \"32\", \"33\", \"34\", \"35\", \"36\", \"37\"], \"mode\": \"lines\", \"name\": \"average_precision_score_micro_max\", \"stepped\": true, \"type\": \"scatter\", \"data\": [0.9033793522124445, 0.9252245517335751, 0.9252245517335751, 0.9252245517335751, 0.9252245517335751, 0.9252245517335751, 0.9252245517335751, 0.9252245517335751, 0.9252245517335751, 0.9252245517335751, 0.9252245517335751, 0.9252245517335751, 0.9252245517335751, 0.9252245517335751, 0.9252245517335751, 0.9252245517335751, 0.9252245517335751, 0.9252245517335751, 0.9252245517335751, 0.9252245517335751, 0.9252245517335751, 0.9252245517335751, 0.9252245517335751, 0.9252245517335751, 0.9252245517335751, 0.9252245517335751, 0.9252245517335751, 0.9252245517335751, 0.9252245517335751, 0.9252245517335751, 0.9252245517335751, 0.9260725297971717, 0.9260725297971717]}], \"AUC_weighted\": [{\"categories\": [\"1\", \"3\", \"4\", \"5\", \"6\", \"7\", \"8\", \"9\", \"10\", \"11\", \"12\", \"13\", \"15\", \"16\", \"17\", \"18\", \"19\", \"20\", \"21\", \"22\", \"23\", \"24\", \"25\", \"27\", \"28\", \"30\", \"31\", \"32\", \"33\", \"34\", \"35\", \"36\", \"37\"], \"mode\": \"markers\", \"name\": \"AUC_weighted\", \"stepped\": false, \"type\": \"scatter\", \"data\": [0.8847369443591411, 0.9128087662062491, 0.9011875311081832, 0.900362479761107, 0.7162697213224101, 0.9099729894565135, 0.9012421290380102, 0.863031275157591, 0.8894343285475437, 0.9000646168836672, 0.8976100032690422, 0.9031314799405188, 0.9022516357593588, 0.8775869904229172, 0.8853848877793957, 0.9001177858183007, 0.8650947013724475, 0.5099042256222461, 0.8956902993787719, 0.8800199762691754, 0.8895913332408757, 0.8854752565427623, 0.5, 0.9057876623101452, 0.894813216864075, 0.8951857931224636, 0.886316571704844, 0.9018857714114008, 0.89613998877849, 0.8947586472219197, 0.8739960701325119, 0.9179789370219575, 0.9139735696289473]}, {\"categories\": [\"1\", \"3\", \"4\", \"5\", \"6\", \"7\", \"8\", \"9\", \"10\", \"11\", \"12\", \"13\", \"15\", \"16\", \"17\", \"18\", \"19\", \"20\", \"21\", \"22\", \"23\", \"24\", \"25\", \"27\", \"28\", \"30\", \"31\", \"32\", \"33\", \"34\", \"35\", \"36\", \"37\"], \"mode\": \"lines\", \"name\": \"AUC_weighted_max\", \"stepped\": true, \"type\": \"scatter\", \"data\": [0.8847369443591411, 0.9128087662062491, 0.9128087662062491, 0.9128087662062491, 0.9128087662062491, 0.9128087662062491, 0.9128087662062491, 0.9128087662062491, 0.9128087662062491, 0.9128087662062491, 0.9128087662062491, 0.9128087662062491, 0.9128087662062491, 0.9128087662062491, 0.9128087662062491, 0.9128087662062491, 0.9128087662062491, 0.9128087662062491, 0.9128087662062491, 0.9128087662062491, 0.9128087662062491, 0.9128087662062491, 0.9128087662062491, 0.9128087662062491, 0.9128087662062491, 0.9128087662062491, 0.9128087662062491, 0.9128087662062491, 0.9128087662062491, 0.9128087662062491, 0.9128087662062491, 0.9179789370219575, 0.9179789370219575]}], \"average_precision_score_macro\": [{\"categories\": [\"1\", \"3\", \"4\", \"5\", \"6\", \"7\", \"8\", \"9\", \"10\", \"11\", \"12\", \"13\", \"15\", \"16\", \"17\", \"18\", \"19\", \"20\", \"21\", \"22\", \"23\", \"24\", \"25\", \"27\", \"28\", \"30\", \"31\", \"32\", \"33\", \"34\", \"35\", \"36\", \"37\"], \"mode\": \"markers\", \"name\": \"average_precision_score_macro\", \"stepped\": false, \"type\": \"scatter\", \"data\": [0.8807340475847678, 0.9039814783447102, 0.896692606866847, 0.88894224991291, 0.712569040468264, 0.896931987056736, 0.8897423296533551, 0.8534413132635805, 0.8841645683845177, 0.8964950698043481, 0.8872112340418996, 0.8997546495557159, 0.8918742359962035, 0.8735580611005606, 0.8826263312927226, 0.8899635026601092, 0.8565341149463557, 0.5701349130320521, 0.8846017871895763, 0.8720499311956373, 0.8887016963800723, 0.8861425500099814, 0.5, 0.8936376666271061, 0.8830584314895316, 0.8833412239264323, 0.881752329370326, 0.8919472036191243, 0.8938281456058516, 0.8856341212942362, 0.8238959899048929, 0.9077931242201183, 0.9036922313211248]}, {\"categories\": [\"1\", \"3\", \"4\", \"5\", \"6\", \"7\", \"8\", \"9\", \"10\", \"11\", \"12\", \"13\", \"15\", \"16\", \"17\", \"18\", \"19\", \"20\", \"21\", \"22\", \"23\", \"24\", \"25\", \"27\", \"28\", \"30\", \"31\", \"32\", \"33\", \"34\", \"35\", \"36\", \"37\"], \"mode\": \"lines\", \"name\": \"average_precision_score_macro_max\", \"stepped\": true, \"type\": \"scatter\", \"data\": [0.8807340475847678, 0.9039814783447102, 0.9039814783447102, 0.9039814783447102, 0.9039814783447102, 0.9039814783447102, 0.9039814783447102, 0.9039814783447102, 0.9039814783447102, 0.9039814783447102, 0.9039814783447102, 0.9039814783447102, 0.9039814783447102, 0.9039814783447102, 0.9039814783447102, 0.9039814783447102, 0.9039814783447102, 0.9039814783447102, 0.9039814783447102, 0.9039814783447102, 0.9039814783447102, 0.9039814783447102, 0.9039814783447102, 0.9039814783447102, 0.9039814783447102, 0.9039814783447102, 0.9039814783447102, 0.9039814783447102, 0.9039814783447102, 0.9039814783447102, 0.9039814783447102, 0.9077931242201183, 0.9077931242201183]}], \"f1_score_micro\": [{\"categories\": [\"1\", \"3\", \"4\", \"5\", \"6\", \"7\", \"8\", \"9\", \"10\", \"11\", \"12\", \"13\", \"15\", \"16\", \"17\", \"18\", \"19\", \"20\", \"21\", \"22\", \"23\", \"24\", \"25\", \"27\", \"28\", \"30\", \"31\", \"32\", \"33\", \"34\", \"35\", \"36\", \"37\"], \"mode\": \"markers\", \"name\": \"f1_score_micro\", \"stepped\": false, \"type\": \"scatter\", \"data\": [0.8358620689655172, 0.8459770114942529, 0.8324137931034483, 0.8696551724137931, 0.7195402298850575, 0.8493103448275864, 0.8394252873563219, 0.7559770114942529, 0.7794252873563219, 0.852873563218391, 0.8227586206896552, 0.8562068965517243, 0.8393103448275863, 0.8293103448275861, 0.7994252873563219, 0.8394252873563219, 0.8258620689655173, 0.6120689655172413, 0.8195402298850574, 0.8328735632183909, 0.8357471264367817, 0.8262068965517241, 0.6791954022988507, 0.8358620689655172, 0.8357471264367817, 0.8393103448275863, 0.8395402298850575, 0.8426436781609196, 0.8493103448275863, 0.8189655172413793, 0.8193103448275861, 0.8831034482758622, 0.8729885057471265]}, {\"categories\": [\"1\", \"3\", \"4\", \"5\", \"6\", \"7\", \"8\", \"9\", \"10\", \"11\", \"12\", \"13\", \"15\", \"16\", \"17\", \"18\", \"19\", \"20\", \"21\", \"22\", \"23\", \"24\", \"25\", \"27\", \"28\", \"30\", \"31\", \"32\", \"33\", \"34\", \"35\", \"36\", \"37\"], \"mode\": \"lines\", \"name\": \"f1_score_micro_max\", \"stepped\": true, \"type\": \"scatter\", \"data\": [0.8358620689655172, 0.8459770114942529, 0.8459770114942529, 0.8696551724137931, 0.8696551724137931, 0.8696551724137931, 0.8696551724137931, 0.8696551724137931, 0.8696551724137931, 0.8696551724137931, 0.8696551724137931, 0.8696551724137931, 0.8696551724137931, 0.8696551724137931, 0.8696551724137931, 0.8696551724137931, 0.8696551724137931, 0.8696551724137931, 0.8696551724137931, 0.8696551724137931, 0.8696551724137931, 0.8696551724137931, 0.8696551724137931, 0.8696551724137931, 0.8696551724137931, 0.8696551724137931, 0.8696551724137931, 0.8696551724137931, 0.8696551724137931, 0.8696551724137931, 0.8696551724137931, 0.8831034482758622, 0.8831034482758622]}], \"AUC_macro\": [{\"categories\": [\"1\", \"3\", \"4\", \"5\", \"6\", \"7\", \"8\", \"9\", \"10\", \"11\", \"12\", \"13\", \"15\", \"16\", \"17\", \"18\", \"19\", \"20\", \"21\", \"22\", \"23\", \"24\", \"25\", \"27\", \"28\", \"30\", \"31\", \"32\", \"33\", \"34\", \"35\", \"36\", \"37\"], \"mode\": \"markers\", \"name\": \"AUC_macro\", \"stepped\": false, \"type\": \"scatter\", \"data\": [0.8847369443591411, 0.9128087662062491, 0.9011875311081832, 0.9003624797611067, 0.7162697213224101, 0.9099729894565136, 0.9012421290380102, 0.8630312751575909, 0.8894343285475437, 0.9000646168836672, 0.8976100032690422, 0.9031314799405189, 0.9022516357593588, 0.8775869904229172, 0.8853848877793957, 0.9001177858183007, 0.8650947013724475, 0.5099042256222461, 0.8956902993787719, 0.8800199762691753, 0.8895913332408757, 0.8854752565427623, 0.5, 0.9057876623101452, 0.894813216864075, 0.8951857931224636, 0.886316571704844, 0.9018857714114006, 0.89613998877849, 0.8947586472219194, 0.8739960701325119, 0.9179789370219575, 0.9139735696289473]}, {\"categories\": [\"1\", \"3\", \"4\", \"5\", \"6\", \"7\", \"8\", \"9\", \"10\", \"11\", \"12\", \"13\", \"15\", \"16\", \"17\", \"18\", \"19\", \"20\", \"21\", \"22\", \"23\", \"24\", \"25\", \"27\", \"28\", \"30\", \"31\", \"32\", \"33\", \"34\", \"35\", \"36\", \"37\"], \"mode\": \"lines\", \"name\": \"AUC_macro_max\", \"stepped\": true, \"type\": \"scatter\", \"data\": [0.8847369443591411, 0.9128087662062491, 0.9128087662062491, 0.9128087662062491, 0.9128087662062491, 0.9128087662062491, 0.9128087662062491, 0.9128087662062491, 0.9128087662062491, 0.9128087662062491, 0.9128087662062491, 0.9128087662062491, 0.9128087662062491, 0.9128087662062491, 0.9128087662062491, 0.9128087662062491, 0.9128087662062491, 0.9128087662062491, 0.9128087662062491, 0.9128087662062491, 0.9128087662062491, 0.9128087662062491, 0.9128087662062491, 0.9128087662062491, 0.9128087662062491, 0.9128087662062491, 0.9128087662062491, 0.9128087662062491, 0.9128087662062491, 0.9128087662062491, 0.9128087662062491, 0.9179789370219575, 0.9179789370219575]}]}, \"metricName\": null, \"primaryMetricName\": \"accuracy\", \"showLegend\": false}, \"run_metrics\": [{\"name\": \"experiment_status\", \"run_id\": \"AutoML_840efe9b-43cc-450c-a802-44143d3b2876\", \"categories\": [0, 1, 2, 3, 4, 5, 6, 7, 8, 9, 10, 11, 12, 13], \"series\": [{\"data\": [\"DatasetEvaluation\", \"FeaturesGeneration\", \"DatasetFeaturization\", \"DatasetFeaturizationCompleted\", \"DatasetCrossValidationSplit\", \"ModelSelection\", \"BestRunExplainModel\", \"ModelExplanationDataSetSetup\", \"PickSurrogateModel\", \"EngineeredFeatureExplanations\", \"EngineeredFeatureExplanations\", \"RawFeaturesExplanations\", \"RawFeaturesExplanations\", \"BestRunExplainModel\"]}]}, {\"name\": \"experiment_status_description\", \"run_id\": \"AutoML_840efe9b-43cc-450c-a802-44143d3b2876\", \"categories\": [0, 1, 2, 3, 4, 5, 6, 7, 8, 9, 10, 11, 12, 13], \"series\": [{\"data\": [\"Gathering dataset statistics.\", \"Generating features for the dataset.\", \"Beginning to fit featurizers and featurize the dataset.\", \"Completed fit featurizers and featurizing the dataset.\", \"Generating individually featurized CV splits.\", \"Beginning model selection.\", \"Best run model explanations started\", \"Model explanations data setup completed\", \"Choosing LightGBM as the surrogate model for explanations\", \"Computation of engineered features started\", \"Computation of engineered features completed\", \"Computation of raw features started\", \"Computation of raw features completed\", \"Best run model explanations completed\"]}]}, {\"name\": \"AUC_macro\", \"run_id\": \"AutoML_840efe9b-43cc-450c-a802-44143d3b2876\", \"categories\": [0], \"series\": [{\"data\": [0.9179789370219575]}]}, {\"name\": \"recall_score_macro\", \"run_id\": \"AutoML_840efe9b-43cc-450c-a802-44143d3b2876\", \"categories\": [0], \"series\": [{\"data\": [0.856134570203506]}]}, {\"name\": \"average_precision_score_macro\", \"run_id\": \"AutoML_840efe9b-43cc-450c-a802-44143d3b2876\", \"categories\": [0], \"series\": [{\"data\": [0.9077931242201183]}]}, {\"name\": \"precision_score_macro\", \"run_id\": \"AutoML_840efe9b-43cc-450c-a802-44143d3b2876\", \"categories\": [0], \"series\": [{\"data\": [0.8914661727161727]}]}, {\"name\": \"f1_score_weighted\", \"run_id\": \"AutoML_840efe9b-43cc-450c-a802-44143d3b2876\", \"categories\": [0], \"series\": [{\"data\": [0.8797289003131847]}]}, {\"name\": \"balanced_accuracy\", \"run_id\": \"AutoML_840efe9b-43cc-450c-a802-44143d3b2876\", \"categories\": [0], \"series\": [{\"data\": [0.856134570203506]}]}, {\"name\": \"matthews_correlation\", \"run_id\": \"AutoML_840efe9b-43cc-450c-a802-44143d3b2876\", \"categories\": [0], \"series\": [{\"data\": [0.744732814920156]}]}, {\"name\": \"log_loss\", \"run_id\": \"AutoML_840efe9b-43cc-450c-a802-44143d3b2876\", \"categories\": [0], \"series\": [{\"data\": [0.3632027859095686]}]}, {\"name\": \"AUC_weighted\", \"run_id\": \"AutoML_840efe9b-43cc-450c-a802-44143d3b2876\", \"categories\": [0], \"series\": [{\"data\": [0.9179789370219575]}]}, {\"name\": \"average_precision_score_micro\", \"run_id\": \"AutoML_840efe9b-43cc-450c-a802-44143d3b2876\", \"categories\": [0], \"series\": [{\"data\": [0.9260725297971717]}]}, {\"name\": \"average_precision_score_weighted\", \"run_id\": \"AutoML_840efe9b-43cc-450c-a802-44143d3b2876\", \"categories\": [0], \"series\": [{\"data\": [0.9302726214520177]}]}, {\"name\": \"recall_score_micro\", \"run_id\": \"AutoML_840efe9b-43cc-450c-a802-44143d3b2876\", \"categories\": [0], \"series\": [{\"data\": [0.8831034482758622]}]}, {\"name\": \"precision_score_micro\", \"run_id\": \"AutoML_840efe9b-43cc-450c-a802-44143d3b2876\", \"categories\": [0], \"series\": [{\"data\": [0.8831034482758622]}]}, {\"name\": \"precision_score_weighted\", \"run_id\": \"AutoML_840efe9b-43cc-450c-a802-44143d3b2876\", \"categories\": [0], \"series\": [{\"data\": [0.8969990067403859]}]}, {\"name\": \"AUC_micro\", \"run_id\": \"AutoML_840efe9b-43cc-450c-a802-44143d3b2876\", \"categories\": [0], \"series\": [{\"data\": [0.9232964724534286]}]}, {\"name\": \"f1_score_macro\", \"run_id\": \"AutoML_840efe9b-43cc-450c-a802-44143d3b2876\", \"categories\": [0], \"series\": [{\"data\": [0.8613521484905784]}]}, {\"name\": \"accuracy\", \"run_id\": \"AutoML_840efe9b-43cc-450c-a802-44143d3b2876\", \"categories\": [0], \"series\": [{\"data\": [0.8831034482758622]}]}, {\"name\": \"weighted_accuracy\", \"run_id\": \"AutoML_840efe9b-43cc-450c-a802-44143d3b2876\", \"categories\": [0], \"series\": [{\"data\": [0.9001914543127907]}]}, {\"name\": \"norm_macro_recall\", \"run_id\": \"AutoML_840efe9b-43cc-450c-a802-44143d3b2876\", \"categories\": [0], \"series\": [{\"data\": [0.7122691404070122]}]}, {\"name\": \"f1_score_micro\", \"run_id\": \"AutoML_840efe9b-43cc-450c-a802-44143d3b2876\", \"categories\": [0], \"series\": [{\"data\": [0.8831034482758622]}]}, {\"name\": \"recall_score_weighted\", \"run_id\": \"AutoML_840efe9b-43cc-450c-a802-44143d3b2876\", \"categories\": [0], \"series\": [{\"data\": [0.8831034482758622]}]}], \"run_logs\": \"\\nRun is completed.\", \"graph\": {}, \"widget_settings\": {\"childWidgetDisplay\": \"popup\", \"send_telemetry\": false, \"log_level\": \"INFO\", \"sdk_version\": \"1.28.0\"}, \"loading\": false}"
     },
     "metadata": {},
     "output_type": "display_data"
    }
   ],
   "source": [
    "RunDetails(remote_run).show()"
   ]
  },
  {
   "cell_type": "code",
   "execution_count": 9,
   "metadata": {},
   "outputs": [
    {
     "data": {
      "text/html": [
       "<table style=\"width:100%\"><tr><th>Experiment</th><th>Id</th><th>Type</th><th>Status</th><th>Details Page</th><th>Docs Page</th></tr><tr><td>automl-heart-failure-prediction</td><td>AutoML_840efe9b-43cc-450c-a802-44143d3b2876</td><td>automl</td><td>Completed</td><td><a href=\"https://ml.azure.com/runs/AutoML_840efe9b-43cc-450c-a802-44143d3b2876?wsid=/subscriptions/6971f5ac-8af1-446e-8034-05acea24681f/resourcegroups/aml-quickstarts-146203/workspaces/quick-starts-ws-146203&amp;tid=660b3398-b80e-49d2-bc5b-ac1dc93b5254\" target=\"_blank\" rel=\"noopener\">Link to Azure Machine Learning studio</a></td><td><a href=\"https://docs.microsoft.com/en-us/python/api/overview/azure/ml/intro?view=azure-ml-py\" target=\"_blank\" rel=\"noopener\">Link to Documentation</a></td></tr></table>"
      ],
      "text/plain": [
       "<IPython.core.display.HTML object>"
      ]
     },
     "metadata": {},
     "output_type": "display_data"
    },
    {
     "name": "stdout",
     "output_type": "stream",
     "text": [
      "\n",
      "\n",
      "****************************************************************************************************\n",
      "DATA GUARDRAILS: \n",
      "\n",
      "TYPE:         Cross validation\n",
      "STATUS:       DONE\n",
      "DESCRIPTION:  Each iteration of the trained model was validated through cross-validation.\n",
      "              \n",
      "DETAILS:      \n",
      "+---------------------------------+\n",
      "|Number of folds                  |\n",
      "+=================================+\n",
      "|10                               |\n",
      "+---------------------------------+\n",
      "\n",
      "****************************************************************************************************\n",
      "\n",
      "TYPE:         Class balancing detection\n",
      "STATUS:       PASSED\n",
      "DESCRIPTION:  Your inputs were analyzed, and all classes are balanced in your training data.\n",
      "              Learn more about imbalanced data: https://aka.ms/AutomatedMLImbalancedData\n",
      "\n",
      "****************************************************************************************************\n",
      "\n",
      "TYPE:         Missing feature values imputation\n",
      "STATUS:       PASSED\n",
      "DESCRIPTION:  No feature missing values were detected in the training data.\n",
      "              Learn more about missing value imputation: https://aka.ms/AutomatedMLFeaturization\n",
      "\n",
      "****************************************************************************************************\n",
      "\n",
      "TYPE:         High cardinality feature detection\n",
      "STATUS:       PASSED\n",
      "DESCRIPTION:  Your inputs were analyzed, and no high cardinality features were detected.\n",
      "              Learn more about high cardinality feature handling: https://aka.ms/AutomatedMLFeaturization\n",
      "\n",
      "****************************************************************************************************\n",
      "\n",
      "****************************************************************************************************\n",
      "ITERATION: The iteration being evaluated.\n",
      "PIPELINE: A summary description of the pipeline being evaluated.\n",
      "DURATION: Time taken for the current iteration.\n",
      "METRIC: The result of computing score on the fitted pipeline.\n",
      "BEST: The best observed score thus far.\n",
      "****************************************************************************************************\n",
      "\n",
      " ITERATION   PIPELINE                                       DURATION      METRIC      BEST\n",
      "         0   MaxAbsScaler LightGBM                          0:05:29       0.8360    0.8360\n",
      "         1   MaxAbsScaler XGBoostClassifier                 0:00:51       0.8359    0.8360\n",
      "         2   MinMaxScaler RandomForest                      0:01:02       0.8295    0.8360\n",
      "         3   MinMaxScaler RandomForest                      0:03:19       0.8460    0.8460\n",
      "         4   MinMaxScaler RandomForest                      0:05:24       0.8324    0.8460\n",
      "         5   SparseNormalizer XGBoostClassifier             0:00:51       0.8697    0.8697\n",
      "         6   MinMaxScaler SVM                               0:00:48       0.7195    0.8697\n",
      "         7   MaxAbsScaler GradientBoosting                  0:00:48       0.8493    0.8697\n",
      "        10   RobustScaler LightGBM                          0:00:45       0.7794    0.8697\n",
      "        11   RobustScaler ExtremeRandomTrees                0:00:49       0.8529    0.8697\n",
      "         8   RobustScaler RandomForest                      0:00:45       0.8394    0.8697\n",
      "         9   SparseNormalizer LightGBM                      0:00:50       0.7560    0.8697\n",
      "        12   StandardScalerWrapper RandomForest             0:00:48       0.8228    0.8697\n",
      "        13   RobustScaler ExtremeRandomTrees                0:00:46       0.8562    0.8697\n",
      "        14   SparseNormalizer XGBoostClassifier             0:00:49       0.8093    0.8697\n",
      "        15   MaxAbsScaler LightGBM                          0:00:48       0.8393    0.8697\n",
      "        16   StandardScalerWrapper XGBoostClassifier        0:00:46       0.8293    0.8697\n",
      "        17   RobustScaler LightGBM                          0:00:49       0.7994    0.8697\n",
      "        18   SparseNormalizer XGBoostClassifier             0:00:51       0.8394    0.8697\n",
      "        19   MaxAbsScaler LogisticRegression                0:00:48       0.8259    0.8697\n",
      "        20   RobustScaler KNN                               0:00:53       0.6121    0.8697\n",
      "        21   StandardScalerWrapper XGBoostClassifier        0:00:46       0.8195    0.8697\n",
      "        22   SparseNormalizer XGBoostClassifier             0:00:48       0.8329    0.8697\n",
      "        23   StandardScalerWrapper LightGBM                 0:00:51       0.8357    0.8697\n",
      "        24   MaxAbsScaler ExtremeRandomTrees                0:00:50       0.8262    0.8697\n",
      "        25   StandardScalerWrapper XGBoostClassifier        0:00:50       0.6792    0.8697\n",
      "        26   MaxAbsScaler LightGBM                          0:00:47       0.8359    0.8697\n",
      "        27   StandardScalerWrapper RandomForest             0:00:48       0.8359    0.8697\n",
      "        28   StandardScalerWrapper RandomForest             0:00:49       0.8357    0.8697\n",
      "        29   StandardScalerWrapper XGBoostClassifier        0:00:51       0.8060    0.8697\n",
      "        30   StandardScalerWrapper LightGBM                 0:00:45       0.8393    0.8697\n",
      "        31   StandardScalerWrapper ExtremeRandomTrees       0:00:49       0.8395    0.8697\n",
      "        32   StandardScalerWrapper LightGBM                 0:00:52       0.8426    0.8697\n",
      "        33   StandardScalerWrapper GradientBoosting         0:00:46       0.8493    0.8697\n",
      "        34   StandardScalerWrapper XGBoostClassifier        0:00:50       0.8190    0.8697\n",
      "        35   StandardScalerWrapper XGBoostClassifier        0:00:43       0.8193    0.8697\n",
      "        36    VotingEnsemble                                0:01:15       0.8831    0.8831\n",
      "        37    StackEnsemble                                 0:01:14       0.8730    0.8831\n"
     ]
    },
    {
     "data": {
      "text/plain": [
       "{'runId': 'AutoML_840efe9b-43cc-450c-a802-44143d3b2876',\n",
       " 'target': 'compute-cluster',\n",
       " 'status': 'Completed',\n",
       " 'startTimeUtc': '2021-05-31T08:17:24.768675Z',\n",
       " 'endTimeUtc': '2021-05-31T08:43:31.182099Z',\n",
       " 'properties': {'num_iterations': '1000',\n",
       "  'training_type': 'TrainFull',\n",
       "  'acquisition_function': 'EI',\n",
       "  'primary_metric': 'accuracy',\n",
       "  'train_split': '0',\n",
       "  'acquisition_parameter': '0',\n",
       "  'num_cross_validation': None,\n",
       "  'target': 'compute-cluster',\n",
       "  'AMLSettingsJsonString': '{\"path\":null,\"name\":\"automl-heart-failure-prediction\",\"subscription_id\":\"6971f5ac-8af1-446e-8034-05acea24681f\",\"resource_group\":\"aml-quickstarts-146203\",\"workspace_name\":\"quick-starts-ws-146203\",\"region\":\"southcentralus\",\"compute_target\":\"compute-cluster\",\"spark_service\":null,\"azure_service\":\"remote\",\"many_models\":false,\"pipeline_fetch_max_batch_size\":1,\"enable_batch_run\":false,\"enable_run_restructure\":false,\"start_auxiliary_runs_before_parent_complete\":false,\"enable_code_generation\":false,\"iterations\":1000,\"primary_metric\":\"accuracy\",\"task_type\":\"classification\",\"data_script\":null,\"test_size\":0.0,\"validation_size\":0.0,\"n_cross_validations\":null,\"y_min\":null,\"y_max\":null,\"num_classes\":null,\"featurization\":\"auto\",\"_ignore_package_version_incompatibilities\":false,\"is_timeseries\":false,\"max_cores_per_iteration\":1,\"max_concurrent_iterations\":4,\"iteration_timeout_minutes\":null,\"mem_in_mb\":null,\"enforce_time_on_windows\":false,\"experiment_timeout_minutes\":25,\"experiment_exit_score\":null,\"whitelist_models\":null,\"blacklist_algos\":[\"TensorFlowLinearClassifier\",\"TensorFlowDNN\"],\"supported_models\":[\"DecisionTree\",\"XGBoostClassifier\",\"ExtremeRandomTrees\",\"TensorFlowDNN\",\"GradientBoosting\",\"TensorFlowLinearClassifier\",\"LinearSVM\",\"SGD\",\"SVM\",\"LogisticRegression\",\"KNN\",\"BernoulliNaiveBayes\",\"RandomForest\",\"LightGBM\",\"AveragedPerceptronClassifier\",\"MultinomialNaiveBayes\"],\"private_models\":[],\"auto_blacklist\":true,\"blacklist_samples_reached\":false,\"exclude_nan_labels\":true,\"verbosity\":20,\"_debug_log\":\"azureml_automl.log\",\"show_warnings\":false,\"model_explainability\":true,\"service_url\":null,\"sdk_url\":null,\"sdk_packages\":null,\"enable_onnx_compatible_models\":false,\"enable_split_onnx_featurizer_estimator_models\":false,\"vm_type\":\"STANDARD_D2_V2\",\"telemetry_verbosity\":20,\"send_telemetry\":true,\"enable_dnn\":false,\"scenario\":\"SDK-1.13.0\",\"environment_label\":null,\"save_mlflow\":false,\"force_text_dnn\":false,\"enable_feature_sweeping\":true,\"enable_early_stopping\":true,\"early_stopping_n_iters\":10,\"metrics\":null,\"enable_metric_confidence\":false,\"enable_ensembling\":true,\"enable_stack_ensembling\":true,\"ensemble_iterations\":15,\"enable_tf\":false,\"enable_subsampling\":null,\"subsample_seed\":null,\"enable_nimbusml\":false,\"enable_streaming\":false,\"force_streaming\":false,\"track_child_runs\":true,\"allowed_private_models\":[],\"label_column_name\":\"DEATH_EVENT\",\"weight_column_name\":null,\"cv_split_column_names\":null,\"enable_local_managed\":false,\"_local_managed_run_id\":null,\"cost_mode\":1,\"lag_length\":0,\"metric_operation\":\"maximize\",\"preprocess\":true}',\n",
       "  'DataPrepJsonString': '{\\\\\"training_data\\\\\": {\\\\\"datasetId\\\\\": \\\\\"90fa3ca8-0584-4c29-aada-9f700d633c16\\\\\"}, \\\\\"datasets\\\\\": 0}',\n",
       "  'EnableSubsampling': None,\n",
       "  'runTemplate': 'AutoML',\n",
       "  'azureml.runsource': 'automl',\n",
       "  'display_task_type': 'classification',\n",
       "  'dependencies_versions': '{\"azureml-widgets\": \"1.28.0\", \"azureml-train\": \"1.28.0\", \"azureml-train-restclients-hyperdrive\": \"1.28.0\", \"azureml-train-core\": \"1.28.0\", \"azureml-train-automl\": \"1.28.0\", \"azureml-train-automl-runtime\": \"1.28.0\", \"azureml-train-automl-client\": \"1.28.0\", \"azureml-tensorboard\": \"1.28.0\", \"azureml-telemetry\": \"1.28.0\", \"azureml-sdk\": \"1.28.0\", \"azureml-samples\": \"0+unknown\", \"azureml-pipeline\": \"1.28.0\", \"azureml-pipeline-steps\": \"1.28.0\", \"azureml-pipeline-core\": \"1.28.0\", \"azureml-opendatasets\": \"1.28.0\", \"azureml-model-management-sdk\": \"1.0.1b6.post1\", \"azureml-mlflow\": \"1.28.0\", \"azureml-interpret\": \"1.28.0\", \"azureml-explain-model\": \"1.28.0\", \"azureml-defaults\": \"1.28.0\", \"azureml-dataset-runtime\": \"1.28.0\", \"azureml-dataprep\": \"2.15.0\", \"azureml-dataprep-rslex\": \"1.13.0\", \"azureml-dataprep-native\": \"33.0.0\", \"azureml-datadrift\": \"1.28.0\", \"azureml-core\": \"1.28.0\", \"azureml-contrib-services\": \"1.28.0\", \"azureml-contrib-server\": \"1.28.0\", \"azureml-contrib-reinforcementlearning\": \"1.28.0\", \"azureml-contrib-pipeline-steps\": \"1.28.0\", \"azureml-contrib-notebook\": \"1.28.0\", \"azureml-contrib-gbdt\": \"1.28.0\", \"azureml-contrib-fairness\": \"1.28.0\", \"azureml-contrib-dataset\": \"1.28.0\", \"azureml-cli-common\": \"1.28.0\", \"azureml-automl-runtime\": \"1.28.0.post2\", \"azureml-automl-dnn-nlp\": \"1.28.0\", \"azureml-automl-core\": \"1.28.0\", \"azureml-accel-models\": \"1.28.0\"}',\n",
       "  '_aml_system_scenario_identification': 'Remote.Parent',\n",
       "  'ClientType': 'SDK',\n",
       "  'environment_cpu_name': 'AzureML-AutoML',\n",
       "  'environment_cpu_label': 'prod',\n",
       "  'environment_gpu_name': 'AzureML-AutoML-GPU',\n",
       "  'environment_gpu_label': 'prod',\n",
       "  'root_attribution': 'automl',\n",
       "  'attribution': 'AutoML',\n",
       "  'Orchestrator': 'AutoML',\n",
       "  'CancelUri': 'https://southcentralus.api.azureml.ms/jasmine/v1.0/subscriptions/6971f5ac-8af1-446e-8034-05acea24681f/resourceGroups/aml-quickstarts-146203/providers/Microsoft.MachineLearningServices/workspaces/quick-starts-ws-146203/experimentids/b7111101-5228-41ba-a241-aa3213a46470/cancel/AutoML_840efe9b-43cc-450c-a802-44143d3b2876',\n",
       "  'ClientSdkVersion': '1.28.0',\n",
       "  'snapshotId': '00000000-0000-0000-0000-000000000000',\n",
       "  'SetupRunId': 'AutoML_840efe9b-43cc-450c-a802-44143d3b2876_setup',\n",
       "  'SetupRunContainerId': 'dcid.AutoML_840efe9b-43cc-450c-a802-44143d3b2876_setup',\n",
       "  'FeaturizationRunJsonPath': 'featurizer_container.json',\n",
       "  'FeaturizationRunId': 'AutoML_840efe9b-43cc-450c-a802-44143d3b2876_featurize',\n",
       "  'ProblemInfoJsonString': '{\"dataset_num_categorical\": 0, \"is_sparse\": false, \"subsampling\": false, \"has_extra_col\": true, \"dataset_classes\": 2, \"dataset_features\": 12, \"dataset_samples\": 299, \"single_frequency_class_detected\": false}',\n",
       "  'ModelExplainRunId': 'AutoML_840efe9b-43cc-450c-a802-44143d3b2876_ModelExplain'},\n",
       " 'inputDatasets': [{'dataset': {'id': '90fa3ca8-0584-4c29-aada-9f700d633c16'}, 'consumptionDetails': {'type': 'RunInput', 'inputName': 'training_data', 'mechanism': 'Direct'}}],\n",
       " 'outputDatasets': [],\n",
       " 'logFiles': {},\n",
       " 'submittedBy': 'ODL_User 146203'}"
      ]
     },
     "execution_count": 9,
     "metadata": {},
     "output_type": "execute_result"
    }
   ],
   "source": [
    "remote_run.wait_for_completion(show_output=True)"
   ]
  },
  {
   "cell_type": "markdown",
   "metadata": {},
   "source": [
    "## Best Model\n",
    "\n",
    "TODO: In the cell below, get the best model from the automl experiments and display all the properties of the model.\n",
    "\n"
   ]
  },
  {
   "cell_type": "code",
   "execution_count": 11,
   "metadata": {
    "gather": {
     "logged": 1598431425670
    },
    "jupyter": {
     "outputs_hidden": false,
     "source_hidden": false
    },
    "nteract": {
     "transient": {
      "deleting": false
     }
    }
   },
   "outputs": [
    {
     "name": "stdout",
     "output_type": "stream",
     "text": [
      "Best run id : AutoML_840efe9b-43cc-450c-a802-44143d3b2876_36\n",
      "Accuracy : 0.8831034482758622\n",
      "Best metrics : {'AUC_micro': 0.9232964724534286, 'norm_macro_recall': 0.7122691404070122, 'weighted_accuracy': 0.9001914543127907, 'balanced_accuracy': 0.856134570203506, 'f1_score_micro': 0.8831034482758622, 'precision_score_macro': 0.8914661727161727, 'recall_score_micro': 0.8831034482758622, 'average_precision_score_macro': 0.9077931242201183, 'precision_score_micro': 0.8831034482758622, 'f1_score_macro': 0.8613521484905784, 'precision_score_weighted': 0.8969990067403859, 'AUC_weighted': 0.9179789370219575, 'recall_score_weighted': 0.8831034482758622, 'log_loss': 0.3632027859095686, 'accuracy': 0.8831034482758622, 'matthews_correlation': 0.744732814920156, 'average_precision_score_micro': 0.9260725297971717, 'recall_score_macro': 0.856134570203506, 'average_precision_score_weighted': 0.9302726214520177, 'AUC_macro': 0.9179789370219575, 'f1_score_weighted': 0.8797289003131847, 'confusion_matrix': 'aml://artifactId/ExperimentRun/dcid.AutoML_840efe9b-43cc-450c-a802-44143d3b2876_36/confusion_matrix', 'accuracy_table': 'aml://artifactId/ExperimentRun/dcid.AutoML_840efe9b-43cc-450c-a802-44143d3b2876_36/accuracy_table'}\n",
      "Best model : Pipeline(memory=None,\n",
      "         steps=[('datatransformer',\n",
      "                 DataTransformer(enable_dnn=False, enable_feature_sweeping=True, feature_sweeping_config={}, feature_sweeping_timeout=86400, featurization_config=None, force_text_dnn=False, is_cross_validation=True, is_onnx_compatible=False, observer=None, task='classification', working_dir='/mnt/batch/tasks/shared/LS_root/mount...\n",
      "    gpu_training_param_dict={'processing_unit_type': 'cpu'}\n",
      "), random_state=0, reg_alpha=0, reg_lambda=0.625, subsample=1, tree_method='auto'))], verbose=False))], flatten_transform=None, weights=[0.18181818181818182, 0.09090909090909091, 0.09090909090909091, 0.09090909090909091, 0.18181818181818182, 0.18181818181818182, 0.09090909090909091, 0.09090909090909091]))],\n",
      "         verbose=False)\n"
     ]
    }
   ],
   "source": [
    "best_run, fitted_model = remote_run.get_output()\n",
    "best_metrics = best_run.get_metrics()\n",
    "print(\"Best run id : {}\".format(best_run.id),\n",
    "      \"Accuracy : {}\".format(best_metrics['accuracy']),\n",
    "      \"Best metrics : {}\".format(best_metrics),\n",
    "      \"Best model : {}\".format(fitted_model), sep = '\\n'\n",
    "     )"
   ]
  },
  {
   "cell_type": "code",
   "execution_count": 12,
   "metadata": {
    "gather": {
     "logged": 1598431426111
    },
    "jupyter": {
     "outputs_hidden": false,
     "source_hidden": false
    },
    "nteract": {
     "transient": {
      "deleting": false
     }
    }
   },
   "outputs": [
    {
     "name": "stdout",
     "output_type": "stream",
     "text": [
      "PreFittedSoftVotingClassifier(\n",
      "    estimators=[('5', Pipeline(memory=None,\n",
      "             steps=[('sparsenormalizer', Normalizer(copy=True, norm='max')),\n",
      "                    ('xgboostclassifier',\n",
      "                     XGBoostClassifier(booster='gbtree', colsample_bytree=1, eta=0.3, gamma=0, max_depth=10, max_leaves=15, n_estimators=100, n_jobs=1, objective='reg:logistic', problem_info=ProblemInfo(\n",
      "        dataset_samples=299,\n",
      "        dataset_features=12,\n",
      "        dataset_classes=2,\n",
      "        dataset_num_cate...\n",
      "        iteration_timeout_mode=0,\n",
      "        iteration_timeout_param=None,\n",
      "        feature_column_names=None,\n",
      "        label_column_name=None,\n",
      "        weight_column_name=None,\n",
      "        cv_split_column_names=None,\n",
      "        enable_streaming=None,\n",
      "        timeseries_param_dict=None,\n",
      "        gpu_training_param_dict={'processing_unit_type': 'cpu'}\n",
      "    ), random_state=0, reg_alpha=1.4583333333333335, reg_lambda=1.25, subsample=0.5, tree_method='auto'))],\n",
      "             verbose=False)), ('13', Pipeline(memory=None,\n",
      "             steps=[('robustscaler',\n",
      "                     RobustScaler(copy=True, quantile_range=[25, 75],\n",
      "                                  with_centering=True, with_scaling=False)),\n",
      "                    ('extratreesclassifier',\n",
      "                     ExtraTreesClassifier(bootstrap=False, ccp_alpha=0.0,\n",
      "                                          class_weight=None, criterion='entropy',\n",
      "                                          max_depth=None, max_features=0.8,\n",
      "                                          max_leaf_nodes=None, max_samples=None,\n",
      "                                          min_impurity_decrease=0.0,\n",
      "                                          min_impurity_split=None,\n",
      "                                          min_samples_leaf=0.01,\n",
      "                                          min_samples_split=0.2442105263157895,\n",
      "                                          min_weight_fraction_leaf=0.0,\n",
      "                                          n_estimators=100, n_jobs=1,\n",
      "                                          oob_score=False, random_state=None,\n",
      "                                          verbose=0, warm_start=False))],\n",
      "             verbose=False)), ('11', Pipeline(memory=None,\n",
      "             steps=[('robustscaler',\n",
      "                     RobustScaler(copy=True, quantile_range=[25, 75],\n",
      "                                  with_centering=True, with_scaling=False)),\n",
      "                    ('extratreesclassifier',\n",
      "                     ExtraTreesClassifier(bootstrap=True, ccp_alpha=0.0,\n",
      "                                          class_weight=None, criterion='gini',\n",
      "                                          max_depth=None, max_features=None,\n",
      "                                          max_leaf_nodes=None, max_samples=None,\n",
      "                                          min_impurity_decrease=0.0,\n",
      "                                          min_impurity_split=None,\n",
      "                                          min_samples_leaf=0.035789473684210524,\n",
      "                                          min_samples_split=0.15052631578947367,\n",
      "                                          min_weight_fraction_leaf=0.0,\n",
      "                                          n_estimators=50, n_jobs=1,\n",
      "                                          oob_score=False, random_state=None,\n",
      "                                          verbose=0, warm_start=False))],\n",
      "             verbose=False)), ('7', Pipeline(memory=None,\n",
      "             steps=[('maxabsscaler', MaxAbsScaler(copy=True)),\n",
      "                    ('gradientboostingclassifier',\n",
      "                     GradientBoostingClassifier(ccp_alpha=0.0,\n",
      "                                                criterion='friedman_mse', init=None,\n",
      "                                                learning_rate=0.046415888336127774,\n",
      "                                                loss='deviance', max_depth=4,\n",
      "                                                max_features=0.4,\n",
      "                                                max_leaf_nodes=None,\n",
      "                                                min_impurity_decrease=0.0,\n",
      "                                                min_impurity_split=None,\n",
      "                                                min_samples_leaf=0.08736842105263157,\n",
      "                                                min_samples_split=0.5252631578947369,\n",
      "                                                min_weight_fraction_leaf=0.0,\n",
      "                                                n_estimators=100,\n",
      "                                                n_iter_no_change=None,\n",
      "                                                presort='deprecated',\n",
      "                                                random_state=None, subsample=1,\n",
      "                                                tol=0.0001, validation_fraction=0.1,\n",
      "                                                verbose=0, warm_start=False))],\n",
      "             verbose=False)), ('33', Pipeline(memory=None,\n",
      "             steps=[('standardscalerwrapper',\n",
      "                     StandardScalerWrapper(\n",
      "        copy=True,\n",
      "        with_mean=True,\n",
      "        with_std=True\n",
      "    )),\n",
      "                    ('gradientboostingclassifier',\n",
      "                     GradientBoostingClassifier(ccp_alpha=0.0,\n",
      "                                                criterion='friedman_mse', init=None,\n",
      "                                                learning_rate=0.1, loss='deviance',\n",
      "                                                max_depth=5, max_features=0.8,\n",
      "                                                max_leaf_nodes=None,\n",
      "                                                min_impurity_decrease=0.0,\n",
      "                                                min_impurity_split=None,\n",
      "                                                min_samples_leaf=0.08736842105263157,\n",
      "                                                min_samples_split=0.19736842105263158,\n",
      "                                                min_weight_fraction_leaf=0.0,\n",
      "                                                n_estimators=100,\n",
      "                                                n_iter_no_change=None,\n",
      "                                                presort='deprecated',\n",
      "                                                random_state=None,\n",
      "                                                subsample=0.38421052631578945,\n",
      "                                                tol=0.0001, validation_fraction=0.1,\n",
      "                                                verbose=0, warm_start=False))],\n",
      "             verbose=False)), ('18', Pipeline(memory=None,\n",
      "             steps=[('sparsenormalizer', Normalizer(copy=True, norm='l1')),\n",
      "                    ('xgboostclassifier',\n",
      "                     XGBoostClassifier(booster='gbtree', colsample_bytree=0.7, eta=0.01, gamma=0.1, max_depth=5, max_leaves=15, n_estimators=100, n_jobs=1, objective='reg:logistic', problem_info=ProblemInfo(\n",
      "        dataset_samples=299,\n",
      "        dataset_features=12,\n",
      "        dataset_classes=2,\n",
      "        dataset_num_c...\n",
      "        iteration_timeout_mode=0,\n",
      "        iteration_timeout_param=None,\n",
      "        feature_column_names=None,\n",
      "        label_column_name=None,\n",
      "        weight_column_name=None,\n",
      "        cv_split_column_names=None,\n",
      "        enable_streaming=None,\n",
      "        timeseries_param_dict=None,\n",
      "        gpu_training_param_dict={'processing_unit_type': 'cpu'}\n",
      "    ), random_state=0, reg_alpha=0, reg_lambda=1.5625, subsample=1, tree_method='auto'))],\n",
      "             verbose=False)), ('27', Pipeline(memory=None,\n",
      "             steps=[('standardscalerwrapper',\n",
      "                     StandardScalerWrapper(\n",
      "        copy=True,\n",
      "        with_mean=False,\n",
      "        with_std=True\n",
      "    )),\n",
      "                    ('randomforestclassifier',\n",
      "                     RandomForestClassifier(bootstrap=True, ccp_alpha=0.0,\n",
      "                                            class_weight='balanced',\n",
      "                                            criterion='entropy', max_depth=None,\n",
      "                                            max_features='log2',\n",
      "                                            max_leaf_nodes=None, max_samples=None,\n",
      "                                            min_impurity_decrease=0.0,\n",
      "                                            min_impurity_split=None,\n",
      "                                            min_samples_leaf=0.035789473684210524,\n",
      "                                            min_samples_split=0.19736842105263158,\n",
      "                                            min_weight_fraction_leaf=0.0,\n",
      "                                            n_estimators=50, n_jobs=1,\n",
      "                                            oob_score=True, random_state=None,\n",
      "                                            verbose=0, warm_start=False))],\n",
      "             verbose=False)), ('14', Pipeline(memory=None,\n",
      "             steps=[('sparsenormalizer', Normalizer(copy=True, norm='l1')),\n",
      "                    ('xgboostclassifier',\n",
      "                     XGBoostClassifier(booster='gbtree', colsample_bytree=0.7, eta=0.2, gamma=0, max_depth=7, max_leaves=31, n_estimators=10, n_jobs=1, objective='reg:logistic', problem_info=ProblemInfo(\n",
      "        dataset_samples=299,\n",
      "        dataset_features=12,\n",
      "        dataset_classes=2,\n",
      "        dataset_num_categ...\n",
      "        iteration_timeout_mode=0,\n",
      "        iteration_timeout_param=None,\n",
      "        feature_column_names=None,\n",
      "        label_column_name=None,\n",
      "        weight_column_name=None,\n",
      "        cv_split_column_names=None,\n",
      "        enable_streaming=None,\n",
      "        timeseries_param_dict=None,\n",
      "        gpu_training_param_dict={'processing_unit_type': 'cpu'}\n",
      "    ), random_state=0, reg_alpha=0, reg_lambda=0.625, subsample=1, tree_method='auto'))],\n",
      "             verbose=False))],\n",
      "    weights=[0.18181818181818182, 0.09090909090909091, 0.09090909090909091, 0.09090909090909091, 0.18181818181818182, 0.18181818181818182, 0.09090909090909091, 0.09090909090909091],\n",
      "    flatten_transform=None,\n",
      "    classification_labels=array([1, 0])\n",
      ")\n"
     ]
    }
   ],
   "source": [
    "print(fitted_model._final_estimator)"
   ]
  },
  {
   "cell_type": "code",
   "execution_count": 13,
   "metadata": {},
   "outputs": [
    {
     "name": "stdout",
     "output_type": "stream",
     "text": [
      "Model(workspace=Workspace.create(name='quick-starts-ws-146203', subscription_id='6971f5ac-8af1-446e-8034-05acea24681f', resource_group='aml-quickstarts-146203'), name=automl-heart-failure-best-model, id=automl-heart-failure-best-model:1, version=1, tags={}, properties={})\n"
     ]
    }
   ],
   "source": [
    "#TODO: Save the best model\n",
    "model = best_run.register_model(model_name = \"automl-heart-failure-best-model\", model_path = './outputs/model.pkl')\n",
    "print(model)"
   ]
  },
  {
   "cell_type": "code",
   "execution_count": 14,
   "metadata": {},
   "outputs": [
    {
     "name": "stdout",
     "output_type": "stream",
     "text": [
      "automl-heart-failure-best-model Version:  1\n",
      "hyperd-heart-failure-best-model Version:  2\n",
      "hyperd-heart-failure-best-model Version:  1\n"
     ]
    }
   ],
   "source": [
    "for model in Model.list(ws):\n",
    "    print(model.name, 'Version: ', model.version)"
   ]
  },
  {
   "cell_type": "markdown",
   "metadata": {},
   "source": [
    "## Model Deployment\n",
    "\n",
    "Remember you have to deploy only one of the two models you trained.. Perform the steps in the rest of this notebook only if you wish to deploy this model.\n",
    "\n",
    "TODO: In the cell below, register the model, create an inference config and deploy the model as a web service."
   ]
  },
  {
   "cell_type": "code",
   "execution_count": 15,
   "metadata": {
    "gather": {
     "logged": 1598431435189
    },
    "jupyter": {
     "outputs_hidden": false,
     "source_hidden": false
    },
    "nteract": {
     "transient": {
      "deleting": false
     }
    }
   },
   "outputs": [
    {
     "name": "stdout",
     "output_type": "stream",
     "text": [
      "Downloading from outputs/conda_env_v_1_0_0.yml to ./model/conda_env_v_1_0_0.yml ...\n",
      "Downloading from outputs/env_dependencies.json to ./model/env_dependencies.json ...\n",
      "Downloading from outputs/internal_cross_validated_models.pkl to ./model/internal_cross_validated_models.pkl ...\n",
      "Downloading from outputs/model.pkl to ./model/model.pkl ...\n",
      "Downloading from outputs/pipeline_graph.json to ./model/pipeline_graph.json ...\n",
      "Downloading from outputs/scoring_file_v_1_0_0.py to ./model/scoring_file_v_1_0_0.py ...\n",
      "Downloading from outputs/scoring_file_v_2_0_0.py to ./model/scoring_file_v_2_0_0.py ...\n"
     ]
    }
   ],
   "source": [
    "best_run.download_file('/outputs/model.pkl', os.path.join('./model','automl-heart-failure-best-model'))\n",
    "for f in best_run.get_file_names():\n",
    "    if f.startswith('outputs'):\n",
    "        output_file_path = os.path.join('./model', f.split('/')[-1])\n",
    "        print(f'Downloading from {f} to {output_file_path} ...')\n",
    "        best_run.download_file(name=f, output_file_path=output_file_path)"
   ]
  },
  {
   "cell_type": "code",
   "execution_count": 16,
   "metadata": {},
   "outputs": [],
   "source": [
    "model = best_run.register_model(model_name = 'automl-heart-failure-best-model', model_path = './outputs/model.pkl')"
   ]
  },
  {
   "cell_type": "code",
   "execution_count": 17,
   "metadata": {},
   "outputs": [],
   "source": [
    "best_run.download_file('outputs/conda_env_v_1_0_0.yml', 'conda_env.yml')\n",
    "environment = Environment.from_conda_specification(name = 'heart-failure-environment', file_path = 'conda_env.yml')"
   ]
  },
  {
   "cell_type": "code",
   "execution_count": 18,
   "metadata": {},
   "outputs": [],
   "source": [
    "best_run.download_file('outputs/scoring_file_v_1_0_0.py', 'score.py')"
   ]
  },
  {
   "cell_type": "code",
   "execution_count": 19,
   "metadata": {},
   "outputs": [],
   "source": [
    "inference_config = InferenceConfig(entry_script = 'score.py', environment = environment)"
   ]
  },
  {
   "cell_type": "code",
   "execution_count": 20,
   "metadata": {},
   "outputs": [],
   "source": [
    "aci_config = AciWebservice.deploy_configuration(cpu_cores = 1, memory_gb = 1, auth_enabled = True, enable_app_insights = True)"
   ]
  },
  {
   "cell_type": "code",
   "execution_count": 21,
   "metadata": {},
   "outputs": [],
   "source": [
    "webservice = Model.deploy(workspace = ws, name = 'heart-failure-service', models=[model], inference_config = inference_config, deployment_config = aci_config, overwrite = True)"
   ]
  },
  {
   "cell_type": "code",
   "execution_count": 22,
   "metadata": {},
   "outputs": [
    {
     "data": {
      "text/plain": [
       "AciWebservice(workspace=Workspace.create(name='quick-starts-ws-146203', subscription_id='6971f5ac-8af1-446e-8034-05acea24681f', resource_group='aml-quickstarts-146203'), name=heart-failure-service, image_id=None, compute_type=None, state=ACI, scoring_uri=Transitioning, tags=None, properties={}, created_by={})"
      ]
     },
     "execution_count": 22,
     "metadata": {},
     "output_type": "execute_result"
    }
   ],
   "source": [
    "webservice"
   ]
  },
  {
   "cell_type": "code",
   "execution_count": 23,
   "metadata": {},
   "outputs": [
    {
     "name": "stdout",
     "output_type": "stream",
     "text": [
      "Tips: You can try get_logs(): https://aka.ms/debugimage#dockerlog or local deployment: https://aka.ms/debugimage#debug-locally to debug if deployment takes longer than 10 minutes.\n",
      "Running\n",
      "2021-05-31 08:51:25+00:00 Creating Container Registry if not exists.\n",
      "2021-05-31 08:51:35+00:00 Registering the environment.\n",
      "2021-05-31 08:51:37+00:00 Building image..\n",
      "2021-05-31 09:05:43+00:00 Generating deployment configuration.\n",
      "2021-05-31 09:05:45+00:00 Submitting deployment to compute.\n",
      "2021-05-31 09:05:48+00:00 Checking the status of deployment heart-failure-service..\n",
      "2021-05-31 09:09:46+00:00 Checking the status of inference endpoint heart-failure-service.\n",
      "Succeeded\n",
      "ACI service creation operation finished, operation \"Succeeded\"\n"
     ]
    }
   ],
   "source": [
    "webservice.wait_for_deployment(show_output = True)"
   ]
  },
  {
   "cell_type": "markdown",
   "metadata": {
    "collapsed": true,
    "gather": {
     "logged": 1598431657736
    },
    "jupyter": {
     "outputs_hidden": false,
     "source_hidden": false
    },
    "nteract": {
     "transient": {
      "deleting": false
     }
    }
   },
   "source": [
    "TODO: In the cell below, send a request to the web service you deployed to test it."
   ]
  },
  {
   "cell_type": "code",
   "execution_count": 26,
   "metadata": {
    "gather": {
     "logged": 1598432707604
    },
    "jupyter": {
     "outputs_hidden": false,
     "source_hidden": false
    },
    "nteract": {
     "transient": {
      "deleting": false
     }
    }
   },
   "outputs": [
    {
     "data": {
      "text/plain": [
       "'{\"data\": [{\"age\": 72.0, \"anaemia\": 1, \"creatinine_phosphokinase\": 110, \"diabetes\": 0, \"ejection_fraction\": 25, \"high_blood_pressure\": 0, \"platelets\": 274000.0, \"serum_creatinine\": 1.0, \"serum_sodium\": 140, \"sex\": 1, \"smoking\": 1, \"time\": 65}, {\"age\": 56.0, \"anaemia\": 1, \"creatinine_phosphokinase\": 135, \"diabetes\": 1, \"ejection_fraction\": 38, \"high_blood_pressure\": 0, \"platelets\": 133000.0, \"serum_creatinine\": 1.7, \"serum_sodium\": 140, \"sex\": 1, \"smoking\": 0, \"time\": 244}, {\"age\": 45.0, \"anaemia\": 0, \"creatinine_phosphokinase\": 582, \"diabetes\": 0, \"ejection_fraction\": 14, \"high_blood_pressure\": 0, \"platelets\": 166000.0, \"serum_creatinine\": 0.8, \"serum_sodium\": 127, \"sex\": 1, \"smoking\": 0, \"time\": 14}, {\"age\": 64.0, \"anaemia\": 0, \"creatinine_phosphokinase\": 143, \"diabetes\": 0, \"ejection_fraction\": 25, \"high_blood_pressure\": 0, \"platelets\": 246000.0, \"serum_creatinine\": 2.4, \"serum_sodium\": 135, \"sex\": 1, \"smoking\": 0, \"time\": 214}, {\"age\": 70.0, \"anaemia\": 0, \"creatinine_phosphokinase\": 66, \"diabetes\": 1, \"ejection_fraction\": 45, \"high_blood_pressure\": 0, \"platelets\": 249000.0, \"serum_creatinine\": 0.8, \"serum_sodium\": 136, \"sex\": 1, \"smoking\": 1, \"time\": 80}]}'"
      ]
     },
     "execution_count": 26,
     "metadata": {},
     "output_type": "execute_result"
    }
   ],
   "source": [
    "test_data = df.sample(5)\n",
    "test_label = test_data.pop('DEATH_EVENT')\n",
    "data_json = test_data.to_dict(orient='records')\n",
    "data = json.dumps({'data' : data_json})\n",
    "data"
   ]
  },
  {
   "cell_type": "code",
   "execution_count": 32,
   "metadata": {},
   "outputs": [],
   "source": [
    "data = {\"data\": [{\"age\": 72.0, \n",
    "                   \"anaemia\": 1, \n",
    "                   \"creatinine_phosphokinase\": 110, \n",
    "                   \"diabetes\": 0, \"ejection_fraction\": 25, \n",
    "                   \"high_blood_pressure\": 0, \n",
    "                   \"platelets\": 274000.0, \n",
    "                   \"serum_creatinine\": 1.0, \n",
    "                   \"serum_sodium\": 140, \n",
    "                   \"sex\": 1, \n",
    "                   \"smoking\": 1, \n",
    "                   \"time\": 65}, \n",
    "                  {\"age\": 56.0, \n",
    "                   \"anaemia\": 1, \n",
    "                   \"creatinine_phosphokinase\": 135, \n",
    "                   \"diabetes\": 1, \n",
    "                   \"ejection_fraction\": 38, \n",
    "                   \"high_blood_pressure\": 0, \n",
    "                   \"platelets\": 133000.0, \n",
    "                   \"serum_creatinine\": 1.7, \n",
    "                   \"serum_sodium\": 140, \n",
    "                   \"sex\": 1, \n",
    "                   \"smoking\": 0, \n",
    "                   \"time\": 244}, \n",
    "                 ]}\n",
    "request = json.dumps(data)"
   ]
  },
  {
   "cell_type": "code",
   "execution_count": 35,
   "metadata": {},
   "outputs": [
    {
     "data": {
      "text/plain": [
       "'{\"result\": [1, 0]}'"
      ]
     },
     "execution_count": 35,
     "metadata": {},
     "output_type": "execute_result"
    }
   ],
   "source": [
    "output = webservice.run(request)\n",
    "output"
   ]
  },
  {
   "cell_type": "markdown",
   "metadata": {
    "collapsed": true,
    "gather": {
     "logged": 1598432765711
    },
    "jupyter": {
     "outputs_hidden": false,
     "source_hidden": false
    },
    "nteract": {
     "transient": {
      "deleting": false
     }
    }
   },
   "source": [
    "TODO: In the cell below, print the logs of the web service and delete the service"
   ]
  },
  {
   "cell_type": "code",
   "execution_count": 36,
   "metadata": {
    "jupyter": {
     "outputs_hidden": false,
     "source_hidden": false
    },
    "nteract": {
     "transient": {
      "deleting": false
     }
    }
   },
   "outputs": [
    {
     "data": {
      "text/plain": [
       "'2021-05-31T09:09:42,397552100+00:00 - iot-server/run \\n2021-05-31T09:09:42,401681200+00:00 - rsyslog/run \\n2021-05-31T09:09:42,441937200+00:00 - gunicorn/run \\n2021-05-31T09:09:42,536962600+00:00 - nginx/run \\nrsyslogd: /azureml-envs/azureml_146c4c7d40342c77f7b6edb9f83abd51/lib/libuuid.so.1: no version information available (required by rsyslogd)\\nEdgeHubConnectionString and IOTEDGE_IOTHUBHOSTNAME are not set. Exiting...\\n2021-05-31T09:09:42,981717900+00:00 - iot-server/finish 1 0\\n2021-05-31T09:09:42,987744600+00:00 - Exit code 1 is normal. Not restarting iot-server.\\nStarting gunicorn 20.1.0\\nListening at: http://127.0.0.1:31311 (69)\\nUsing worker: sync\\nworker timeout is set to 300\\nBooting worker with pid: 98\\nSPARK_HOME not set. Skipping PySpark Initialization.\\nGenerating new fontManager, this may take some time...\\nInitializing logger\\n2021-05-31 09:09:46,137 | root | INFO | Starting up app insights client\\n2021-05-31 09:09:46,143 | root | INFO | Starting up request id generator\\n2021-05-31 09:09:46,143 | root | INFO | Starting up app insight hooks\\n2021-05-31 09:09:46,143 | root | INFO | Invoking user\\'s init function\\n2021-05-31 09:09:51,554 | azureml.core | WARNING | Failure while loading azureml_run_type_providers. Failed to load entrypoint automl = azureml.train.automl.run:AutoMLRun._from_run_dto with exception cannot import name \\'RunType\\'.\\nFailure while loading azureml_run_type_providers. Failed to load entrypoint automl = azureml.train.automl.run:AutoMLRun._from_run_dto with exception cannot import name \\'RunType\\'.\\n2021-05-31 09:09:51,810 | root | INFO | Users\\'s init has completed successfully\\n2021-05-31 09:09:51,817 | root | INFO | Skipping middleware: dbg_model_info as it\\'s not enabled.\\n2021-05-31 09:09:51,817 | root | INFO | Skipping middleware: dbg_resource_usage as it\\'s not enabled.\\n2021-05-31 09:09:51,819 | root | INFO | Scoring timeout is found from os.environ: 60000 ms\\n2021-05-31 09:09:51,849 | root | INFO | 200\\n127.0.0.1 - - [31/May/2021:09:09:51 +0000] \"GET /swagger.json HTTP/1.0\" 200 3045 \"-\" \"Go-http-client/1.1\"\\n2021-05-31 09:09:55,314 | root | INFO | 200\\n127.0.0.1 - - [31/May/2021:09:09:55 +0000] \"GET /swagger.json HTTP/1.0\" 200 3045 \"-\" \"Go-http-client/1.1\"\\n2021-05-31 09:10:25,449 | root | INFO | Validation Request Content-Type\\n2021-05-31 09:10:25,452 | root | ERROR | Encountered Exception: Traceback (most recent call last):\\n  File \"/azureml-envs/azureml_146c4c7d40342c77f7b6edb9f83abd51/lib/python3.6/site-packages/flask/wrappers.py\", line 74, in get_json\\n    rv = json.loads(data)\\n  File \"/azureml-envs/azureml_146c4c7d40342c77f7b6edb9f83abd51/lib/python3.6/site-packages/flask/json/__init__.py\", line 236, in loads\\n    return _json.loads(s, **kwargs)\\n  File \"/azureml-envs/azureml_146c4c7d40342c77f7b6edb9f83abd51/lib/python3.6/json/__init__.py\", line 367, in loads\\n    return cls(**kw).decode(s)\\n  File \"/azureml-envs/azureml_146c4c7d40342c77f7b6edb9f83abd51/lib/python3.6/json/decoder.py\", line 339, in decode\\n    obj, end = self.raw_decode(s, idx=_w(s, 0).end())\\n  File \"/azureml-envs/azureml_146c4c7d40342c77f7b6edb9f83abd51/lib/python3.6/json/decoder.py\", line 357, in raw_decode\\n    raise JSONDecodeError(\"Expecting value\", s, err.value) from None\\njson.decoder.JSONDecodeError: Expecting value: line 1 column 1 (char 0)\\n\\nDuring handling of the above exception, another exception occurred:\\n\\nTraceback (most recent call last):\\n  File \"/azureml-envs/azureml_146c4c7d40342c77f7b6edb9f83abd51/lib/python3.6/site-packages/flask/app.py\", line 1832, in full_dispatch_request\\n    rv = self.dispatch_request()\\n  File \"/azureml-envs/azureml_146c4c7d40342c77f7b6edb9f83abd51/lib/python3.6/site-packages/flask/app.py\", line 1818, in dispatch_request\\n    return self.view_functions[rule.endpoint](**req.view_args)\\n  File \"/var/azureml-server/synchronous/routes.py\", line 37, in score_realtime\\n    service_input = request.get_json()\\n  File \"/azureml-envs/azureml_146c4c7d40342c77f7b6edb9f83abd51/lib/python3.6/site-packages/flask/wrappers.py\", line 82, in get_json\\n    rv = self.on_json_loading_failed(e)\\n  File \"/azureml-envs/azureml_146c4c7d40342c77f7b6edb9f83abd51/lib/python3.6/site-packages/flask/wrappers.py\", line 108, in on_json_loading_failed\\n    raise BadRequest()\\nwerkzeug.exceptions.BadRequest: 400 Bad Request: The browser (or proxy) sent a request that this server could not understand.\\n\\n2021-05-31 09:10:25,453 | root | INFO | 500\\n127.0.0.1 - - [31/May/2021:09:10:25 +0000] \"POST /score HTTP/1.0\" 500 2067 \"-\" \"python-requests/2.25.1\"\\n2021-05-31 09:10:25,474 | root | INFO | Validation Request Content-Type\\n2021-05-31 09:10:25,475 | root | ERROR | Encountered Exception: Traceback (most recent call last):\\n  File \"/azureml-envs/azureml_146c4c7d40342c77f7b6edb9f83abd51/lib/python3.6/site-packages/flask/wrappers.py\", line 74, in get_json\\n    rv = json.loads(data)\\n  File \"/azureml-envs/azureml_146c4c7d40342c77f7b6edb9f83abd51/lib/python3.6/site-packages/flask/json/__init__.py\", line 236, in loads\\n    return _json.loads(s, **kwargs)\\n  File \"/azureml-envs/azureml_146c4c7d40342c77f7b6edb9f83abd51/lib/python3.6/json/__init__.py\", line 367, in loads\\n    return cls(**kw).decode(s)\\n  File \"/azureml-envs/azureml_146c4c7d40342c77f7b6edb9f83abd51/lib/python3.6/json/decoder.py\", line 339, in decode\\n    obj, end = self.raw_decode(s, idx=_w(s, 0).end())\\n  File \"/azureml-envs/azureml_146c4c7d40342c77f7b6edb9f83abd51/lib/python3.6/json/decoder.py\", line 357, in raw_decode\\n    raise JSONDecodeError(\"Expecting value\", s, err.value) from None\\njson.decoder.JSONDecodeError: Expecting value: line 1 column 1 (char 0)\\n\\nDuring handling of the above exception, another exception occurred:\\n\\nTraceback (most recent call last):\\n  File \"/azureml-envs/azureml_146c4c7d40342c77f7b6edb9f83abd51/lib/python3.6/site-packages/flask/app.py\", line 1832, in full_dispatch_request\\n    rv = self.dispatch_request()\\n  File \"/azureml-envs/azureml_146c4c7d40342c77f7b6edb9f83abd51/lib/python3.6/site-packages/flask/app.py\", line 1818, in dispatch_request\\n    return self.view_functions[rule.endpoint](**req.view_args)\\n  File \"/var/azureml-server/synchronous/routes.py\", line 37, in score_realtime\\n    service_input = request.get_json()\\n  File \"/azureml-envs/azureml_146c4c7d40342c77f7b6edb9f83abd51/lib/python3.6/site-packages/flask/wrappers.py\", line 82, in get_json\\n    rv = self.on_json_loading_failed(e)\\n  File \"/azureml-envs/azureml_146c4c7d40342c77f7b6edb9f83abd51/lib/python3.6/site-packages/flask/wrappers.py\", line 108, in on_json_loading_failed\\n    raise BadRequest()\\nwerkzeug.exceptions.BadRequest: 400 Bad Request: The browser (or proxy) sent a request that this server could not understand.\\n\\n2021-05-31 09:10:25,475 | root | INFO | 500\\n127.0.0.1 - - [31/May/2021:09:10:25 +0000] \"POST /score HTTP/1.0\" 500 2067 \"-\" \"python-requests/2.25.1\"\\n2021-05-31 09:10:26,487 | root | INFO | Validation Request Content-Type\\n2021-05-31 09:10:26,487 | root | ERROR | Encountered Exception: Traceback (most recent call last):\\n  File \"/azureml-envs/azureml_146c4c7d40342c77f7b6edb9f83abd51/lib/python3.6/site-packages/flask/wrappers.py\", line 74, in get_json\\n    rv = json.loads(data)\\n  File \"/azureml-envs/azureml_146c4c7d40342c77f7b6edb9f83abd51/lib/python3.6/site-packages/flask/json/__init__.py\", line 236, in loads\\n    return _json.loads(s, **kwargs)\\n  File \"/azureml-envs/azureml_146c4c7d40342c77f7b6edb9f83abd51/lib/python3.6/json/__init__.py\", line 367, in loads\\n    return cls(**kw).decode(s)\\n  File \"/azureml-envs/azureml_146c4c7d40342c77f7b6edb9f83abd51/lib/python3.6/json/decoder.py\", line 339, in decode\\n    obj, end = self.raw_decode(s, idx=_w(s, 0).end())\\n  File \"/azureml-envs/azureml_146c4c7d40342c77f7b6edb9f83abd51/lib/python3.6/json/decoder.py\", line 357, in raw_decode\\n    raise JSONDecodeError(\"Expecting value\", s, err.value) from None\\njson.decoder.JSONDecodeError: Expecting value: line 1 column 1 (char 0)\\n\\nDuring handling of the above exception, another exception occurred:\\n\\nTraceback (most recent call last):\\n  File \"/azureml-envs/azureml_146c4c7d40342c77f7b6edb9f83abd51/lib/python3.6/site-packages/flask/app.py\", line 1832, in full_dispatch_request\\n    rv = self.dispatch_request()\\n  File \"/azureml-envs/azureml_146c4c7d40342c77f7b6edb9f83abd51/lib/python3.6/site-packages/flask/app.py\", line 1818, in dispatch_request\\n    return self.view_functions[rule.endpoint](**req.view_args)\\n  File \"/var/azureml-server/synchronous/routes.py\", line 37, in score_realtime\\n    service_input = request.get_json()\\n  File \"/azureml-envs/azureml_146c4c7d40342c77f7b6edb9f83abd51/lib/python3.6/site-packages/flask/wrappers.py\", line 82, in get_json\\n    rv = self.on_json_loading_failed(e)\\n  File \"/azureml-envs/azureml_146c4c7d40342c77f7b6edb9f83abd51/lib/python3.6/site-packages/flask/wrappers.py\", line 108, in on_json_loading_failed\\n    raise BadRequest()\\nwerkzeug.exceptions.BadRequest: 400 Bad Request: The browser (or proxy) sent a request that this server could not understand.\\n\\n2021-05-31 09:10:26,488 | root | INFO | 500\\n127.0.0.1 - - [31/May/2021:09:10:26 +0000] \"POST /score HTTP/1.0\" 500 2067 \"-\" \"python-requests/2.25.1\"\\n2021-05-31 09:10:28,498 | root | INFO | Validation Request Content-Type\\n2021-05-31 09:10:28,499 | root | ERROR | Encountered Exception: Traceback (most recent call last):\\n  File \"/azureml-envs/azureml_146c4c7d40342c77f7b6edb9f83abd51/lib/python3.6/site-packages/flask/wrappers.py\", line 74, in get_json\\n    rv = json.loads(data)\\n  File \"/azureml-envs/azureml_146c4c7d40342c77f7b6edb9f83abd51/lib/python3.6/site-packages/flask/json/__init__.py\", line 236, in loads\\n    return _json.loads(s, **kwargs)\\n  File \"/azureml-envs/azureml_146c4c7d40342c77f7b6edb9f83abd51/lib/python3.6/json/__init__.py\", line 367, in loads\\n    return cls(**kw).decode(s)\\n  File \"/azureml-envs/azureml_146c4c7d40342c77f7b6edb9f83abd51/lib/python3.6/json/decoder.py\", line 339, in decode\\n    obj, end = self.raw_decode(s, idx=_w(s, 0).end())\\n  File \"/azureml-envs/azureml_146c4c7d40342c77f7b6edb9f83abd51/lib/python3.6/json/decoder.py\", line 357, in raw_decode\\n    raise JSONDecodeError(\"Expecting value\", s, err.value) from None\\njson.decoder.JSONDecodeError: Expecting value: line 1 column 1 (char 0)\\n\\nDuring handling of the above exception, another exception occurred:\\n\\nTraceback (most recent call last):\\n  File \"/azureml-envs/azureml_146c4c7d40342c77f7b6edb9f83abd51/lib/python3.6/site-packages/flask/app.py\", line 1832, in full_dispatch_request\\n    rv = self.dispatch_request()\\n  File \"/azureml-envs/azureml_146c4c7d40342c77f7b6edb9f83abd51/lib/python3.6/site-packages/flask/app.py\", line 1818, in dispatch_request\\n    return self.view_functions[rule.endpoint](**req.view_args)\\n  File \"/var/azureml-server/synchronous/routes.py\", line 37, in score_realtime\\n    service_input = request.get_json()\\n  File \"/azureml-envs/azureml_146c4c7d40342c77f7b6edb9f83abd51/lib/python3.6/site-packages/flask/wrappers.py\", line 82, in get_json\\n    rv = self.on_json_loading_failed(e)\\n  File \"/azureml-envs/azureml_146c4c7d40342c77f7b6edb9f83abd51/lib/python3.6/site-packages/flask/wrappers.py\", line 108, in on_json_loading_failed\\n    raise BadRequest()\\nwerkzeug.exceptions.BadRequest: 400 Bad Request: The browser (or proxy) sent a request that this server could not understand.\\n\\n2021-05-31 09:10:28,499 | root | INFO | 500\\n127.0.0.1 - - [31/May/2021:09:10:28 +0000] \"POST /score HTTP/1.0\" 500 2067 \"-\" \"python-requests/2.25.1\"\\n2021-05-31 09:13:07,168 | root | INFO | Validation Request Content-Type\\n2021-05-31 09:13:07,168 | root | INFO | Scoring Timer is set to 60.0 seconds\\n2021-05-31 09:13:07,460 | root | INFO | 200\\n127.0.0.1 - - [31/May/2021:09:13:07 +0000] \"POST /score HTTP/1.0\" 200 31 \"-\" \"python-requests/2.25.1\"\\n2021-05-31 09:16:29,047 | root | INFO | Validation Request Content-Type\\n2021-05-31 09:16:29,047 | root | ERROR | Encountered Exception: Traceback (most recent call last):\\n  File \"/azureml-envs/azureml_146c4c7d40342c77f7b6edb9f83abd51/lib/python3.6/site-packages/flask/wrappers.py\", line 74, in get_json\\n    rv = json.loads(data)\\n  File \"/azureml-envs/azureml_146c4c7d40342c77f7b6edb9f83abd51/lib/python3.6/site-packages/flask/json/__init__.py\", line 236, in loads\\n    return _json.loads(s, **kwargs)\\n  File \"/azureml-envs/azureml_146c4c7d40342c77f7b6edb9f83abd51/lib/python3.6/json/__init__.py\", line 367, in loads\\n    return cls(**kw).decode(s)\\n  File \"/azureml-envs/azureml_146c4c7d40342c77f7b6edb9f83abd51/lib/python3.6/json/decoder.py\", line 339, in decode\\n    obj, end = self.raw_decode(s, idx=_w(s, 0).end())\\n  File \"/azureml-envs/azureml_146c4c7d40342c77f7b6edb9f83abd51/lib/python3.6/json/decoder.py\", line 357, in raw_decode\\n    raise JSONDecodeError(\"Expecting value\", s, err.value) from None\\njson.decoder.JSONDecodeError: Expecting value: line 1 column 1 (char 0)\\n\\nDuring handling of the above exception, another exception occurred:\\n\\nTraceback (most recent call last):\\n  File \"/azureml-envs/azureml_146c4c7d40342c77f7b6edb9f83abd51/lib/python3.6/site-packages/flask/app.py\", line 1832, in full_dispatch_request\\n    rv = self.dispatch_request()\\n  File \"/azureml-envs/azureml_146c4c7d40342c77f7b6edb9f83abd51/lib/python3.6/site-packages/flask/app.py\", line 1818, in dispatch_request\\n    return self.view_functions[rule.endpoint](**req.view_args)\\n  File \"/var/azureml-server/synchronous/routes.py\", line 37, in score_realtime\\n    service_input = request.get_json()\\n  File \"/azureml-envs/azureml_146c4c7d40342c77f7b6edb9f83abd51/lib/python3.6/site-packages/flask/wrappers.py\", line 82, in get_json\\n    rv = self.on_json_loading_failed(e)\\n  File \"/azureml-envs/azureml_146c4c7d40342c77f7b6edb9f83abd51/lib/python3.6/site-packages/flask/wrappers.py\", line 108, in on_json_loading_failed\\n    raise BadRequest()\\nwerkzeug.exceptions.BadRequest: 400 Bad Request: The browser (or proxy) sent a request that this server could not understand.\\n\\n2021-05-31 09:16:29,048 | root | INFO | 500\\n127.0.0.1 - - [31/May/2021:09:16:29 +0000] \"POST /score HTTP/1.0\" 500 2067 \"-\" \"python-requests/2.25.1\"\\n2021-05-31 09:16:29,065 | root | INFO | Validation Request Content-Type\\n2021-05-31 09:16:29,066 | root | ERROR | Encountered Exception: Traceback (most recent call last):\\n  File \"/azureml-envs/azureml_146c4c7d40342c77f7b6edb9f83abd51/lib/python3.6/site-packages/flask/wrappers.py\", line 74, in get_json\\n    rv = json.loads(data)\\n  File \"/azureml-envs/azureml_146c4c7d40342c77f7b6edb9f83abd51/lib/python3.6/site-packages/flask/json/__init__.py\", line 236, in loads\\n    return _json.loads(s, **kwargs)\\n  File \"/azureml-envs/azureml_146c4c7d40342c77f7b6edb9f83abd51/lib/python3.6/json/__init__.py\", line 367, in loads\\n    return cls(**kw).decode(s)\\n  File \"/azureml-envs/azureml_146c4c7d40342c77f7b6edb9f83abd51/lib/python3.6/json/decoder.py\", line 339, in decode\\n    obj, end = self.raw_decode(s, idx=_w(s, 0).end())\\n  File \"/azureml-envs/azureml_146c4c7d40342c77f7b6edb9f83abd51/lib/python3.6/json/decoder.py\", line 357, in raw_decode\\n    raise JSONDecodeError(\"Expecting value\", s, err.value) from None\\njson.decoder.JSONDecodeError: Expecting value: line 1 column 1 (char 0)\\n\\nDuring handling of the above exception, another exception occurred:\\n\\nTraceback (most recent call last):\\n  File \"/azureml-envs/azureml_146c4c7d40342c77f7b6edb9f83abd51/lib/python3.6/site-packages/flask/app.py\", line 1832, in full_dispatch_request\\n    rv = self.dispatch_request()\\n  File \"/azureml-envs/azureml_146c4c7d40342c77f7b6edb9f83abd51/lib/python3.6/site-packages/flask/app.py\", line 1818, in dispatch_request\\n    return self.view_functions[rule.endpoint](**req.view_args)\\n  File \"/var/azureml-server/synchronous/routes.py\", line 37, in score_realtime\\n    service_input = request.get_json()\\n  File \"/azureml-envs/azureml_146c4c7d40342c77f7b6edb9f83abd51/lib/python3.6/site-packages/flask/wrappers.py\", line 82, in get_json\\n    rv = self.on_json_loading_failed(e)\\n  File \"/azureml-envs/azureml_146c4c7d40342c77f7b6edb9f83abd51/lib/python3.6/site-packages/flask/wrappers.py\", line 108, in on_json_loading_failed\\n    raise BadRequest()\\nwerkzeug.exceptions.BadRequest: 400 Bad Request: The browser (or proxy) sent a request that this server could not understand.\\n\\n2021-05-31 09:16:29,067 | root | INFO | 500\\n127.0.0.1 - - [31/May/2021:09:16:29 +0000] \"POST /score HTTP/1.0\" 500 2067 \"-\" \"python-requests/2.25.1\"\\n2021-05-31 09:16:30,076 | root | INFO | Validation Request Content-Type\\n2021-05-31 09:16:30,077 | root | ERROR | Encountered Exception: Traceback (most recent call last):\\n  File \"/azureml-envs/azureml_146c4c7d40342c77f7b6edb9f83abd51/lib/python3.6/site-packages/flask/wrappers.py\", line 74, in get_json\\n    rv = json.loads(data)\\n  File \"/azureml-envs/azureml_146c4c7d40342c77f7b6edb9f83abd51/lib/python3.6/site-packages/flask/json/__init__.py\", line 236, in loads\\n    return _json.loads(s, **kwargs)\\n  File \"/azureml-envs/azureml_146c4c7d40342c77f7b6edb9f83abd51/lib/python3.6/json/__init__.py\", line 367, in loads\\n    return cls(**kw).decode(s)\\n  File \"/azureml-envs/azureml_146c4c7d40342c77f7b6edb9f83abd51/lib/python3.6/json/decoder.py\", line 339, in decode\\n    obj, end = self.raw_decode(s, idx=_w(s, 0).end())\\n  File \"/azureml-envs/azureml_146c4c7d40342c77f7b6edb9f83abd51/lib/python3.6/json/decoder.py\", line 357, in raw_decode\\n    raise JSONDecodeError(\"Expecting value\", s, err.value) from None\\njson.decoder.JSONDecodeError: Expecting value: line 1 column 1 (char 0)\\n\\nDuring handling of the above exception, another exception occurred:\\n\\nTraceback (most recent call last):\\n  File \"/azureml-envs/azureml_146c4c7d40342c77f7b6edb9f83abd51/lib/python3.6/site-packages/flask/app.py\", line 1832, in full_dispatch_request\\n    rv = self.dispatch_request()\\n  File \"/azureml-envs/azureml_146c4c7d40342c77f7b6edb9f83abd51/lib/python3.6/site-packages/flask/app.py\", line 1818, in dispatch_request\\n    return self.view_functions[rule.endpoint](**req.view_args)\\n  File \"/var/azureml-server/synchronous/routes.py\", line 37, in score_realtime\\n    service_input = request.get_json()\\n  File \"/azureml-envs/azureml_146c4c7d40342c77f7b6edb9f83abd51/lib/python3.6/site-packages/flask/wrappers.py\", line 82, in get_json\\n    rv = self.on_json_loading_failed(e)\\n  File \"/azureml-envs/azureml_146c4c7d40342c77f7b6edb9f83abd51/lib/python3.6/site-packages/flask/wrappers.py\", line 108, in on_json_loading_failed\\n    raise BadRequest()\\nwerkzeug.exceptions.BadRequest: 400 Bad Request: The browser (or proxy) sent a request that this server could not understand.\\n\\n2021-05-31 09:16:30,077 | root | INFO | 500\\n127.0.0.1 - - [31/May/2021:09:16:30 +0000] \"POST /score HTTP/1.0\" 500 2067 \"-\" \"python-requests/2.25.1\"\\n2021-05-31 09:16:32,093 | root | INFO | Validation Request Content-Type\\n2021-05-31 09:16:32,093 | root | ERROR | Encountered Exception: Traceback (most recent call last):\\n  File \"/azureml-envs/azureml_146c4c7d40342c77f7b6edb9f83abd51/lib/python3.6/site-packages/flask/wrappers.py\", line 74, in get_json\\n    rv = json.loads(data)\\n  File \"/azureml-envs/azureml_146c4c7d40342c77f7b6edb9f83abd51/lib/python3.6/site-packages/flask/json/__init__.py\", line 236, in loads\\n    return _json.loads(s, **kwargs)\\n  File \"/azureml-envs/azureml_146c4c7d40342c77f7b6edb9f83abd51/lib/python3.6/json/__init__.py\", line 367, in loads\\n    return cls(**kw).decode(s)\\n  File \"/azureml-envs/azureml_146c4c7d40342c77f7b6edb9f83abd51/lib/python3.6/json/decoder.py\", line 339, in decode\\n    obj, end = self.raw_decode(s, idx=_w(s, 0).end())\\n  File \"/azureml-envs/azureml_146c4c7d40342c77f7b6edb9f83abd51/lib/python3.6/json/decoder.py\", line 357, in raw_decode\\n    raise JSONDecodeError(\"Expecting value\", s, err.value) from None\\njson.decoder.JSONDecodeError: Expecting value: line 1 column 1 (char 0)\\n\\nDuring handling of the above exception, another exception occurred:\\n\\nTraceback (most recent call last):\\n  File \"/azureml-envs/azureml_146c4c7d40342c77f7b6edb9f83abd51/lib/python3.6/site-packages/flask/app.py\", line 1832, in full_dispatch_request\\n    rv = self.dispatch_request()\\n  File \"/azureml-envs/azureml_146c4c7d40342c77f7b6edb9f83abd51/lib/python3.6/site-packages/flask/app.py\", line 1818, in dispatch_request\\n    return self.view_functions[rule.endpoint](**req.view_args)\\n  File \"/var/azureml-server/synchronous/routes.py\", line 37, in score_realtime\\n    service_input = request.get_json()\\n  File \"/azureml-envs/azureml_146c4c7d40342c77f7b6edb9f83abd51/lib/python3.6/site-packages/flask/wrappers.py\", line 82, in get_json\\n    rv = self.on_json_loading_failed(e)\\n  File \"/azureml-envs/azureml_146c4c7d40342c77f7b6edb9f83abd51/lib/python3.6/site-packages/flask/wrappers.py\", line 108, in on_json_loading_failed\\n    raise BadRequest()\\nwerkzeug.exceptions.BadRequest: 400 Bad Request: The browser (or proxy) sent a request that this server could not understand.\\n\\n2021-05-31 09:16:32,093 | root | INFO | 500\\n127.0.0.1 - - [31/May/2021:09:16:32 +0000] \"POST /score HTTP/1.0\" 500 2067 \"-\" \"python-requests/2.25.1\"\\n2021-05-31 09:18:17,004 | root | INFO | Validation Request Content-Type\\n2021-05-31 09:18:17,017 | root | INFO | Scoring Timer is set to 60.0 seconds\\n2021-05-31 09:18:17,840 | root | INFO | 200\\n127.0.0.1 - - [31/May/2021:09:18:17 +0000] \"POST /score HTTP/1.0\" 200 22 \"-\" \"python-requests/2.25.1\"\\n2021-05-31 09:19:01,791 | root | INFO | Validation Request Content-Type\\n2021-05-31 09:19:01,793 | root | INFO | Scoring Timer is set to 60.0 seconds\\n2021-05-31 09:19:01,983 | root | INFO | 200\\n127.0.0.1 - - [31/May/2021:09:19:01 +0000] \"POST /score HTTP/1.0\" 200 22 \"-\" \"python-requests/2.25.1\"\\n2021-05-31 09:19:37,469 | root | INFO | Validation Request Content-Type\\n2021-05-31 09:19:37,470 | root | INFO | Scoring Timer is set to 60.0 seconds\\n2021-05-31 09:19:37,662 | root | INFO | 200\\n127.0.0.1 - - [31/May/2021:09:19:37 +0000] \"POST /score HTTP/1.0\" 200 22 \"-\" \"python-requests/2.25.1\"\\n'"
      ]
     },
     "execution_count": 36,
     "metadata": {},
     "output_type": "execute_result"
    }
   ],
   "source": [
    "webservice.get_logs()"
   ]
  },
  {
   "cell_type": "code",
   "execution_count": 37,
   "metadata": {},
   "outputs": [],
   "source": [
    "webservice.delete()"
   ]
  }
 ],
 "metadata": {
  "kernel_info": {
   "name": "python3"
  },
  "kernelspec": {
   "display_name": "Python 3",
   "language": "python",
   "name": "python3"
  },
  "language_info": {
   "codemirror_mode": {
    "name": "ipython",
    "version": 3
   },
   "file_extension": ".py",
   "mimetype": "text/x-python",
   "name": "python",
   "nbconvert_exporter": "python",
   "pygments_lexer": "ipython3",
   "version": "3.6.9"
  },
  "microsoft": {
   "host": {
    "AzureML": {
     "notebookHasBeenCompleted": true
    }
   }
  },
  "nteract": {
   "version": "nteract-front-end@1.0.0"
  }
 },
 "nbformat": 4,
 "nbformat_minor": 2
}
