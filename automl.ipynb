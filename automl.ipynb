{
 "cells": [
  {
   "cell_type": "markdown",
   "metadata": {},
   "source": [
    "# Automated ML\n",
    "\n",
    "TODO: Import Dependencies. In the cell below, import all the dependencies that you will need to complete the project."
   ]
  },
  {
   "cell_type": "code",
   "execution_count": 33,
   "metadata": {
    "gather": {
     "logged": 1598423888013
    },
    "jupyter": {
     "outputs_hidden": false,
     "source_hidden": false
    },
    "nteract": {
     "transient": {
      "deleting": false
     }
    }
   },
   "outputs": [],
   "source": [
    "#import logging\n",
    "import os\n",
    "#import csv\n",
    "\n",
    "import azureml.core\n",
    "from azureml.core.experiment import Experiment\n",
    "from azureml.core.workspace import Workspace\n",
    "from azureml.core.dataset import Dataset\n",
    "from azureml.train.automl import AutoMLConfig\n",
    "\n",
    "from azureml.core.compute import AmlCompute\n",
    "from azureml.core.compute import ComputeTarget\n",
    "from azureml.core.compute_target import ComputeTargetException\n",
    "\n",
    "from azureml.widgets import RunDetails\n",
    "\n",
    "from azureml.core.model import Model\n",
    "from azureml.core.model import InferenceConfig\n",
    "from azureml.core.environment import Environment\n",
    "from azureml.core.webservice import AciWebservice, Webservice"
   ]
  },
  {
   "cell_type": "markdown",
   "metadata": {},
   "source": [
    "## Dataset\n",
    "\n",
    "### Overview\n",
    "TODO: In this markdown cell, give an overview of the dataset you are using. Also mention the task you will be performing.\n",
    "\n",
    "\n",
    "TODO: Get data. In the cell below, write code to access the data you will be using in this project. Remember that the dataset needs to be external."
   ]
  },
  {
   "cell_type": "code",
   "execution_count": 2,
   "metadata": {
    "gather": {
     "logged": 1598423890461
    },
    "jupyter": {
     "outputs_hidden": false,
     "source_hidden": false
    },
    "nteract": {
     "transient": {
      "deleting": false
     }
    }
   },
   "outputs": [
    {
     "name": "stdout",
     "output_type": "stream",
     "text": [
      "quick-starts-ws-145826\n",
      "aml-quickstarts-145826\n",
      "southcentralus\n",
      "2c48c51c-bd47-40d4-abbe-fb8eabd19c8c\n"
     ]
    }
   ],
   "source": [
    "ws = Workspace.from_config()\n",
    "print(ws.name, ws.resource_group, ws.location, ws.subscription_id, sep = '\\n')"
   ]
  },
  {
   "cell_type": "code",
   "execution_count": 5,
   "metadata": {},
   "outputs": [
    {
     "data": {
      "text/html": [
       "<table style=\"width:100%\"><tr><th>Name</th><th>Workspace</th><th>Report Page</th><th>Docs Page</th></tr><tr><td>automl-heart-failure-prediction</td><td>quick-starts-ws-145826</td><td><a href=\"https://ml.azure.com/experiments/id/b17c975a-aad6-457c-b484-e931a8977d89?wsid=/subscriptions/2c48c51c-bd47-40d4-abbe-fb8eabd19c8c/resourcegroups/aml-quickstarts-145826/workspaces/quick-starts-ws-145826&amp;tid=660b3398-b80e-49d2-bc5b-ac1dc93b5254\" target=\"_blank\" rel=\"noopener\">Link to Azure Machine Learning studio</a></td><td><a href=\"https://docs.microsoft.com/en-us/python/api/azureml-core/azureml.core.experiment.Experiment?view=azure-ml-py\" target=\"_blank\" rel=\"noopener\">Link to Documentation</a></td></tr></table>"
      ],
      "text/plain": [
       "Experiment(Name: automl-heart-failure-prediction,\n",
       "Workspace: quick-starts-ws-145826)"
      ]
     },
     "execution_count": 5,
     "metadata": {},
     "output_type": "execute_result"
    }
   ],
   "source": [
    "# Choose a name for the run history container in the workspace.\n",
    "# NOTE: update these to match your existing experiment name\n",
    "experiment_name = 'automl-heart-failure-prediction'\n",
    "\n",
    "experiment = Experiment(ws, experiment_name)\n",
    "experiment.start_logging()\n",
    "experiment"
   ]
  },
  {
   "cell_type": "code",
   "execution_count": 6,
   "metadata": {},
   "outputs": [
    {
     "name": "stdout",
     "output_type": "stream",
     "text": [
      "Creating.........\n",
      "SucceededProvisioning operation finished, operation \"Succeeded\"\n",
      "Succeeded................................................................................................................\n",
      "AmlCompute wait for completion finished\n",
      "\n",
      "Wait timeout has been reached\n",
      "Current provisioning state of AmlCompute is \"Succeeded\" and current node count is \"0\"\n"
     ]
    }
   ],
   "source": [
    "# Choose a name for your CPU cluster\n",
    "amlcompute_cluster_name = \"compute-cluster\"\n",
    "\n",
    "# Verify that cluster does not exist already\n",
    "try:\n",
    "    compute_target = ComputeTarget(workspace=ws, name=amlcompute_cluster_name)\n",
    "    print('Found existing cluster, use it.')\n",
    "except ComputeTargetException:\n",
    "    compute_config = AmlCompute.provisioning_configuration(vm_size='STANDARD_D2_V2',# for GPU, use \"STANDARD_NC6\"\n",
    "                                                           #vm_priority = 'lowpriority', # optional\n",
    "                                                           max_nodes=4)\n",
    "    compute_target = ComputeTarget.create(ws, amlcompute_cluster_name, compute_config)\n",
    "\n",
    "compute_target.wait_for_completion(show_output=True, min_node_count = 1, timeout_in_minutes = 10)\n"
   ]
  },
  {
   "cell_type": "code",
   "execution_count": 7,
   "metadata": {},
   "outputs": [
    {
     "data": {
      "text/html": [
       "<div>\n",
       "<style scoped>\n",
       "    .dataframe tbody tr th:only-of-type {\n",
       "        vertical-align: middle;\n",
       "    }\n",
       "\n",
       "    .dataframe tbody tr th {\n",
       "        vertical-align: top;\n",
       "    }\n",
       "\n",
       "    .dataframe thead th {\n",
       "        text-align: right;\n",
       "    }\n",
       "</style>\n",
       "<table border=\"1\" class=\"dataframe\">\n",
       "  <thead>\n",
       "    <tr style=\"text-align: right;\">\n",
       "      <th></th>\n",
       "      <th>age</th>\n",
       "      <th>anaemia</th>\n",
       "      <th>creatinine_phosphokinase</th>\n",
       "      <th>diabetes</th>\n",
       "      <th>ejection_fraction</th>\n",
       "      <th>high_blood_pressure</th>\n",
       "      <th>platelets</th>\n",
       "      <th>serum_creatinine</th>\n",
       "      <th>serum_sodium</th>\n",
       "      <th>sex</th>\n",
       "      <th>smoking</th>\n",
       "      <th>time</th>\n",
       "      <th>DEATH_EVENT</th>\n",
       "    </tr>\n",
       "  </thead>\n",
       "  <tbody>\n",
       "    <tr>\n",
       "      <th>count</th>\n",
       "      <td>299.000000</td>\n",
       "      <td>299.000000</td>\n",
       "      <td>299.000000</td>\n",
       "      <td>299.000000</td>\n",
       "      <td>299.000000</td>\n",
       "      <td>299.000000</td>\n",
       "      <td>299.000000</td>\n",
       "      <td>299.00000</td>\n",
       "      <td>299.000000</td>\n",
       "      <td>299.000000</td>\n",
       "      <td>299.00000</td>\n",
       "      <td>299.000000</td>\n",
       "      <td>299.00000</td>\n",
       "    </tr>\n",
       "    <tr>\n",
       "      <th>mean</th>\n",
       "      <td>60.833893</td>\n",
       "      <td>0.431438</td>\n",
       "      <td>581.839465</td>\n",
       "      <td>0.418060</td>\n",
       "      <td>38.083612</td>\n",
       "      <td>0.351171</td>\n",
       "      <td>263358.029264</td>\n",
       "      <td>1.39388</td>\n",
       "      <td>136.625418</td>\n",
       "      <td>0.648829</td>\n",
       "      <td>0.32107</td>\n",
       "      <td>130.260870</td>\n",
       "      <td>0.32107</td>\n",
       "    </tr>\n",
       "    <tr>\n",
       "      <th>std</th>\n",
       "      <td>11.894809</td>\n",
       "      <td>0.496107</td>\n",
       "      <td>970.287881</td>\n",
       "      <td>0.494067</td>\n",
       "      <td>11.834841</td>\n",
       "      <td>0.478136</td>\n",
       "      <td>97804.236869</td>\n",
       "      <td>1.03451</td>\n",
       "      <td>4.412477</td>\n",
       "      <td>0.478136</td>\n",
       "      <td>0.46767</td>\n",
       "      <td>77.614208</td>\n",
       "      <td>0.46767</td>\n",
       "    </tr>\n",
       "    <tr>\n",
       "      <th>min</th>\n",
       "      <td>40.000000</td>\n",
       "      <td>0.000000</td>\n",
       "      <td>23.000000</td>\n",
       "      <td>0.000000</td>\n",
       "      <td>14.000000</td>\n",
       "      <td>0.000000</td>\n",
       "      <td>25100.000000</td>\n",
       "      <td>0.50000</td>\n",
       "      <td>113.000000</td>\n",
       "      <td>0.000000</td>\n",
       "      <td>0.00000</td>\n",
       "      <td>4.000000</td>\n",
       "      <td>0.00000</td>\n",
       "    </tr>\n",
       "    <tr>\n",
       "      <th>25%</th>\n",
       "      <td>51.000000</td>\n",
       "      <td>0.000000</td>\n",
       "      <td>116.500000</td>\n",
       "      <td>0.000000</td>\n",
       "      <td>30.000000</td>\n",
       "      <td>0.000000</td>\n",
       "      <td>212500.000000</td>\n",
       "      <td>0.90000</td>\n",
       "      <td>134.000000</td>\n",
       "      <td>0.000000</td>\n",
       "      <td>0.00000</td>\n",
       "      <td>73.000000</td>\n",
       "      <td>0.00000</td>\n",
       "    </tr>\n",
       "    <tr>\n",
       "      <th>50%</th>\n",
       "      <td>60.000000</td>\n",
       "      <td>0.000000</td>\n",
       "      <td>250.000000</td>\n",
       "      <td>0.000000</td>\n",
       "      <td>38.000000</td>\n",
       "      <td>0.000000</td>\n",
       "      <td>262000.000000</td>\n",
       "      <td>1.10000</td>\n",
       "      <td>137.000000</td>\n",
       "      <td>1.000000</td>\n",
       "      <td>0.00000</td>\n",
       "      <td>115.000000</td>\n",
       "      <td>0.00000</td>\n",
       "    </tr>\n",
       "    <tr>\n",
       "      <th>75%</th>\n",
       "      <td>70.000000</td>\n",
       "      <td>1.000000</td>\n",
       "      <td>582.000000</td>\n",
       "      <td>1.000000</td>\n",
       "      <td>45.000000</td>\n",
       "      <td>1.000000</td>\n",
       "      <td>303500.000000</td>\n",
       "      <td>1.40000</td>\n",
       "      <td>140.000000</td>\n",
       "      <td>1.000000</td>\n",
       "      <td>1.00000</td>\n",
       "      <td>203.000000</td>\n",
       "      <td>1.00000</td>\n",
       "    </tr>\n",
       "    <tr>\n",
       "      <th>max</th>\n",
       "      <td>95.000000</td>\n",
       "      <td>1.000000</td>\n",
       "      <td>7861.000000</td>\n",
       "      <td>1.000000</td>\n",
       "      <td>80.000000</td>\n",
       "      <td>1.000000</td>\n",
       "      <td>850000.000000</td>\n",
       "      <td>9.40000</td>\n",
       "      <td>148.000000</td>\n",
       "      <td>1.000000</td>\n",
       "      <td>1.00000</td>\n",
       "      <td>285.000000</td>\n",
       "      <td>1.00000</td>\n",
       "    </tr>\n",
       "  </tbody>\n",
       "</table>\n",
       "</div>"
      ],
      "text/plain": [
       "              age     anaemia  creatinine_phosphokinase    diabetes  \\\n",
       "count  299.000000  299.000000                299.000000  299.000000   \n",
       "mean    60.833893    0.431438                581.839465    0.418060   \n",
       "std     11.894809    0.496107                970.287881    0.494067   \n",
       "min     40.000000    0.000000                 23.000000    0.000000   \n",
       "25%     51.000000    0.000000                116.500000    0.000000   \n",
       "50%     60.000000    0.000000                250.000000    0.000000   \n",
       "75%     70.000000    1.000000                582.000000    1.000000   \n",
       "max     95.000000    1.000000               7861.000000    1.000000   \n",
       "\n",
       "       ejection_fraction  high_blood_pressure      platelets  \\\n",
       "count         299.000000           299.000000     299.000000   \n",
       "mean           38.083612             0.351171  263358.029264   \n",
       "std            11.834841             0.478136   97804.236869   \n",
       "min            14.000000             0.000000   25100.000000   \n",
       "25%            30.000000             0.000000  212500.000000   \n",
       "50%            38.000000             0.000000  262000.000000   \n",
       "75%            45.000000             1.000000  303500.000000   \n",
       "max            80.000000             1.000000  850000.000000   \n",
       "\n",
       "       serum_creatinine  serum_sodium         sex    smoking        time  \\\n",
       "count         299.00000    299.000000  299.000000  299.00000  299.000000   \n",
       "mean            1.39388    136.625418    0.648829    0.32107  130.260870   \n",
       "std             1.03451      4.412477    0.478136    0.46767   77.614208   \n",
       "min             0.50000    113.000000    0.000000    0.00000    4.000000   \n",
       "25%             0.90000    134.000000    0.000000    0.00000   73.000000   \n",
       "50%             1.10000    137.000000    1.000000    0.00000  115.000000   \n",
       "75%             1.40000    140.000000    1.000000    1.00000  203.000000   \n",
       "max             9.40000    148.000000    1.000000    1.00000  285.000000   \n",
       "\n",
       "       DEATH_EVENT  \n",
       "count    299.00000  \n",
       "mean       0.32107  \n",
       "std        0.46767  \n",
       "min        0.00000  \n",
       "25%        0.00000  \n",
       "50%        0.00000  \n",
       "75%        1.00000  \n",
       "max        1.00000  "
      ]
     },
     "execution_count": 7,
     "metadata": {},
     "output_type": "execute_result"
    }
   ],
   "source": [
    "# NOTE: update the key to match the dataset name\n",
    "found = False\n",
    "key = \"heart-failure\"\n",
    "description_text = \"Heart Failure Prediction DataSet from UCI\"\n",
    "\n",
    "if key in ws.datasets.keys(): \n",
    "        found = True\n",
    "        dataset = ws.datasets[key] \n",
    "\n",
    "if not found:\n",
    "        # Create AML Dataset and register it into Workspace\n",
    "        example_data = 'https://archive.ics.uci.edu/ml/machine-learning-databases/00519/heart_failure_clinical_records_dataset.csv'\n",
    "        dataset = Dataset.Tabular.from_delimited_files(example_data)        \n",
    "        #Register Dataset in Workspace\n",
    "        dataset = dataset.register(workspace=ws,\n",
    "                                   name=key,\n",
    "                                   description=description_text)\n",
    "\n",
    "\n",
    "df = dataset.to_pandas_dataframe()\n",
    "df.describe()"
   ]
  },
  {
   "cell_type": "markdown",
   "metadata": {},
   "source": [
    "## AutoML Configuration\n",
    "\n",
    "TODO: Explain why you chose the automl settings and cofiguration you used below."
   ]
  },
  {
   "cell_type": "code",
   "execution_count": 8,
   "metadata": {
    "gather": {
     "logged": 1598429217746
    },
    "jupyter": {
     "outputs_hidden": false,
     "source_hidden": false
    },
    "nteract": {
     "transient": {
      "deleting": false
     }
    }
   },
   "outputs": [],
   "source": [
    "# TODO: Put your automl settings here\n",
    "automl_settings = {\n",
    "    \"experiment_timeout_minutes\": 20,\n",
    "    \"max_concurrent_iterations\": 4,\n",
    "    \"primary_metric\" : 'accuracy'\n",
    "}\n",
    "\n",
    "# TODO: Put your automl config here\n",
    "automl_config = AutoMLConfig(compute_target=compute_target,\n",
    "                             task = \"classification\",\n",
    "                             training_data=dataset,\n",
    "                             label_column_name=\"DEATH_EVENT\",   \n",
    "                             enable_early_stopping= True,\n",
    "                             featurization= 'auto',\n",
    "                             debug_log = \"automl_errors.log\",\n",
    "                             **automl_settings\n",
    "                            )"
   ]
  },
  {
   "cell_type": "code",
   "execution_count": 12,
   "metadata": {
    "gather": {
     "logged": 1598431107951
    },
    "jupyter": {
     "outputs_hidden": false,
     "source_hidden": false
    },
    "nteract": {
     "transient": {
      "deleting": false
     }
    }
   },
   "outputs": [
    {
     "name": "stdout",
     "output_type": "stream",
     "text": [
      "Submitting remote run.\n",
      "Running on remote compute: compute-cluster\n"
     ]
    },
    {
     "data": {
      "text/html": [
       "<table style=\"width:100%\"><tr><th>Experiment</th><th>Id</th><th>Type</th><th>Status</th><th>Details Page</th><th>Docs Page</th></tr><tr><td>automl-heart-failure-prediction</td><td>AutoML_83343dfc-b0e0-46e6-a5d2-622e085ace09</td><td>automl</td><td>NotStarted</td><td><a href=\"https://ml.azure.com/runs/AutoML_83343dfc-b0e0-46e6-a5d2-622e085ace09?wsid=/subscriptions/2c48c51c-bd47-40d4-abbe-fb8eabd19c8c/resourcegroups/aml-quickstarts-145826/workspaces/quick-starts-ws-145826&amp;tid=660b3398-b80e-49d2-bc5b-ac1dc93b5254\" target=\"_blank\" rel=\"noopener\">Link to Azure Machine Learning studio</a></td><td><a href=\"https://docs.microsoft.com/en-us/python/api/overview/azure/ml/intro?view=azure-ml-py\" target=\"_blank\" rel=\"noopener\">Link to Documentation</a></td></tr></table>"
      ],
      "text/plain": [
       "<IPython.core.display.HTML object>"
      ]
     },
     "metadata": {},
     "output_type": "display_data"
    },
    {
     "name": "stdout",
     "output_type": "stream",
     "text": [
      "\n",
      "Current status: FeaturesGeneration. Generating features for the dataset.\n",
      "Current status: DatasetCrossValidationSplit. Generating individually featurized CV splits.\n",
      "Current status: ModelSelection. Beginning model selection.\n",
      "\n",
      "****************************************************************************************************\n",
      "DATA GUARDRAILS: \n",
      "\n",
      "TYPE:         Cross validation\n",
      "STATUS:       DONE\n",
      "DESCRIPTION:  Each iteration of the trained model was validated through cross-validation.\n",
      "              \n",
      "DETAILS:      \n",
      "+---------------------------------+\n",
      "|Number of folds                  |\n",
      "+=================================+\n",
      "|10                               |\n",
      "+---------------------------------+\n",
      "\n",
      "****************************************************************************************************\n",
      "\n",
      "TYPE:         Class balancing detection\n",
      "STATUS:       PASSED\n",
      "DESCRIPTION:  Your inputs were analyzed, and all classes are balanced in your training data.\n",
      "              Learn more about imbalanced data: https://aka.ms/AutomatedMLImbalancedData\n",
      "\n",
      "****************************************************************************************************\n",
      "\n",
      "TYPE:         Missing feature values imputation\n",
      "STATUS:       PASSED\n",
      "DESCRIPTION:  No feature missing values were detected in the training data.\n",
      "              Learn more about missing value imputation: https://aka.ms/AutomatedMLFeaturization\n",
      "\n",
      "****************************************************************************************************\n",
      "\n",
      "TYPE:         High cardinality feature detection\n",
      "STATUS:       PASSED\n",
      "DESCRIPTION:  Your inputs were analyzed, and no high cardinality features were detected.\n",
      "              Learn more about high cardinality feature handling: https://aka.ms/AutomatedMLFeaturization\n",
      "\n",
      "****************************************************************************************************\n",
      "\n",
      "****************************************************************************************************\n",
      "ITERATION: The iteration being evaluated.\n",
      "PIPELINE: A summary description of the pipeline being evaluated.\n",
      "DURATION: Time taken for the current iteration.\n",
      "METRIC: The result of computing score on the fitted pipeline.\n",
      "BEST: The best observed score thus far.\n",
      "****************************************************************************************************\n",
      "\n",
      " ITERATION   PIPELINE                                       DURATION      METRIC      BEST\n",
      "         0   MaxAbsScaler LightGBM                          0:00:47       0.8360    0.8360\n",
      "         1   MaxAbsScaler XGBoostClassifier                 0:00:44       0.8359    0.8360\n",
      "         2   MinMaxScaler RandomForest                      0:00:44       0.8326    0.8360\n",
      "         3   MinMaxScaler RandomForest                      0:00:50       0.8225    0.8360\n",
      "         6   MinMaxScaler LightGBM                          0:00:46       0.8259    0.8360\n",
      "         7   MinMaxScaler SVM                               0:00:55       0.7325    0.8360\n",
      "         4   MinMaxScaler RandomForest                      0:02:03       0.8359    0.8360\n",
      "         5   SparseNormalizer XGBoostClassifier             0:02:01       0.8060    0.8360\n",
      "         8   MinMaxScaler SVM                               0:00:49       0.7161    0.8360\n",
      "         9   MaxAbsScaler GradientBoosting                  0:00:49       0.8359    0.8360\n",
      "        10   StandardScalerWrapper LightGBM                 0:00:44       0.8325    0.8360\n",
      "        11   RobustScaler RandomForest                      0:00:45       0.8394    0.8394\n",
      "Received interrupt. Returning now."
     ]
    }
   ],
   "source": [
    "# TODO: Submit your experiment\n",
    "remote_run = experiment.submit(automl_config, show_output=True)"
   ]
  },
  {
   "cell_type": "markdown",
   "metadata": {},
   "source": [
    "## Run Details\n",
    "\n",
    "OPTIONAL: Write about the different models trained and their performance. Why do you think some models did better than others?\n",
    "\n",
    "TODO: In the cell below, use the `RunDetails` widget to show the different experiments."
   ]
  },
  {
   "cell_type": "code",
   "execution_count": 13,
   "metadata": {
    "gather": {
     "logged": 1598431121770
    },
    "jupyter": {
     "outputs_hidden": false,
     "source_hidden": false
    },
    "nteract": {
     "transient": {
      "deleting": false
     }
    }
   },
   "outputs": [
    {
     "data": {
      "application/vnd.jupyter.widget-view+json": {
       "model_id": "6908a437aa1f481c9f8c0546118bc1aa",
       "version_major": 2,
       "version_minor": 0
      },
      "text/plain": [
       "_AutoMLWidget(widget_settings={'childWidgetDisplay': 'popup', 'send_telemetry': False, 'log_level': 'INFO', 's…"
      ]
     },
     "metadata": {},
     "output_type": "display_data"
    },
    {
     "data": {
      "application/aml.mini.widget.v1": "{\"status\": \"Completed\", \"workbench_run_details_uri\": \"https://ml.azure.com/runs/AutoML_83343dfc-b0e0-46e6-a5d2-622e085ace09?wsid=/subscriptions/2c48c51c-bd47-40d4-abbe-fb8eabd19c8c/resourcegroups/aml-quickstarts-145826/workspaces/quick-starts-ws-145826&tid=660b3398-b80e-49d2-bc5b-ac1dc93b5254\", \"run_id\": \"AutoML_83343dfc-b0e0-46e6-a5d2-622e085ace09\", \"run_properties\": {\"run_id\": \"AutoML_83343dfc-b0e0-46e6-a5d2-622e085ace09\", \"created_utc\": \"2021-05-27T09:11:28.383792Z\", \"properties\": {\"num_iterations\": \"1000\", \"training_type\": \"TrainFull\", \"acquisition_function\": \"EI\", \"primary_metric\": \"accuracy\", \"train_split\": \"0\", \"acquisition_parameter\": \"0\", \"num_cross_validation\": null, \"target\": \"compute-cluster\", \"AMLSettingsJsonString\": \"{\\\"path\\\":null,\\\"name\\\":\\\"automl-heart-failure-prediction\\\",\\\"subscription_id\\\":\\\"2c48c51c-bd47-40d4-abbe-fb8eabd19c8c\\\",\\\"resource_group\\\":\\\"aml-quickstarts-145826\\\",\\\"workspace_name\\\":\\\"quick-starts-ws-145826\\\",\\\"region\\\":\\\"southcentralus\\\",\\\"compute_target\\\":\\\"compute-cluster\\\",\\\"spark_service\\\":null,\\\"azure_service\\\":\\\"remote\\\",\\\"many_models\\\":false,\\\"pipeline_fetch_max_batch_size\\\":1,\\\"enable_batch_run\\\":false,\\\"enable_run_restructure\\\":false,\\\"start_auxiliary_runs_before_parent_complete\\\":false,\\\"enable_code_generation\\\":false,\\\"iterations\\\":1000,\\\"primary_metric\\\":\\\"accuracy\\\",\\\"task_type\\\":\\\"classification\\\",\\\"data_script\\\":null,\\\"test_size\\\":0.0,\\\"validation_size\\\":0.0,\\\"n_cross_validations\\\":null,\\\"y_min\\\":null,\\\"y_max\\\":null,\\\"num_classes\\\":null,\\\"featurization\\\":\\\"auto\\\",\\\"_ignore_package_version_incompatibilities\\\":false,\\\"is_timeseries\\\":false,\\\"max_cores_per_iteration\\\":1,\\\"max_concurrent_iterations\\\":4,\\\"iteration_timeout_minutes\\\":null,\\\"mem_in_mb\\\":null,\\\"enforce_time_on_windows\\\":false,\\\"experiment_timeout_minutes\\\":15,\\\"experiment_exit_score\\\":null,\\\"whitelist_models\\\":null,\\\"blacklist_algos\\\":[\\\"TensorFlowLinearClassifier\\\",\\\"TensorFlowDNN\\\"],\\\"supported_models\\\":[\\\"TensorFlowLinearClassifier\\\",\\\"XGBoostClassifier\\\",\\\"TensorFlowDNN\\\",\\\"SGD\\\",\\\"LinearSVM\\\",\\\"DecisionTree\\\",\\\"LogisticRegression\\\",\\\"LightGBM\\\",\\\"RandomForest\\\",\\\"ExtremeRandomTrees\\\",\\\"AveragedPerceptronClassifier\\\",\\\"BernoulliNaiveBayes\\\",\\\"KNN\\\",\\\"GradientBoosting\\\",\\\"MultinomialNaiveBayes\\\",\\\"SVM\\\"],\\\"private_models\\\":[],\\\"auto_blacklist\\\":true,\\\"blacklist_samples_reached\\\":false,\\\"exclude_nan_labels\\\":true,\\\"verbosity\\\":20,\\\"_debug_log\\\":\\\"azureml_automl.log\\\",\\\"show_warnings\\\":false,\\\"model_explainability\\\":true,\\\"service_url\\\":null,\\\"sdk_url\\\":null,\\\"sdk_packages\\\":null,\\\"enable_onnx_compatible_models\\\":false,\\\"enable_split_onnx_featurizer_estimator_models\\\":false,\\\"vm_type\\\":\\\"STANDARD_D2_V2\\\",\\\"telemetry_verbosity\\\":20,\\\"send_telemetry\\\":true,\\\"enable_dnn\\\":false,\\\"scenario\\\":\\\"SDK-1.13.0\\\",\\\"environment_label\\\":null,\\\"save_mlflow\\\":false,\\\"force_text_dnn\\\":false,\\\"enable_feature_sweeping\\\":true,\\\"enable_early_stopping\\\":true,\\\"early_stopping_n_iters\\\":10,\\\"metrics\\\":null,\\\"enable_metric_confidence\\\":false,\\\"enable_ensembling\\\":true,\\\"enable_stack_ensembling\\\":true,\\\"ensemble_iterations\\\":15,\\\"enable_tf\\\":false,\\\"enable_subsampling\\\":null,\\\"subsample_seed\\\":null,\\\"enable_nimbusml\\\":false,\\\"enable_streaming\\\":false,\\\"force_streaming\\\":false,\\\"track_child_runs\\\":true,\\\"allowed_private_models\\\":[],\\\"label_column_name\\\":\\\"DEATH_EVENT\\\",\\\"weight_column_name\\\":null,\\\"cv_split_column_names\\\":null,\\\"enable_local_managed\\\":false,\\\"_local_managed_run_id\\\":null,\\\"cost_mode\\\":1,\\\"lag_length\\\":0,\\\"metric_operation\\\":\\\"maximize\\\",\\\"preprocess\\\":true}\", \"DataPrepJsonString\": \"{\\\\\\\"training_data\\\\\\\": {\\\\\\\"datasetId\\\\\\\": \\\\\\\"3166e399-ee89-4f1f-ab4c-8ca71b53881d\\\\\\\"}, \\\\\\\"datasets\\\\\\\": 0}\", \"EnableSubsampling\": null, \"runTemplate\": \"AutoML\", \"azureml.runsource\": \"automl\", \"display_task_type\": \"classification\", \"dependencies_versions\": \"{\\\"azureml-widgets\\\": \\\"1.28.0\\\", \\\"azureml-train\\\": \\\"1.28.0\\\", \\\"azureml-train-restclients-hyperdrive\\\": \\\"1.28.0\\\", \\\"azureml-train-core\\\": \\\"1.28.0\\\", \\\"azureml-train-automl\\\": \\\"1.28.0\\\", \\\"azureml-train-automl-runtime\\\": \\\"1.28.0\\\", \\\"azureml-train-automl-client\\\": \\\"1.28.0\\\", \\\"azureml-tensorboard\\\": \\\"1.28.0\\\", \\\"azureml-telemetry\\\": \\\"1.28.0\\\", \\\"azureml-sdk\\\": \\\"1.28.0\\\", \\\"azureml-samples\\\": \\\"0+unknown\\\", \\\"azureml-pipeline\\\": \\\"1.28.0\\\", \\\"azureml-pipeline-steps\\\": \\\"1.28.0\\\", \\\"azureml-pipeline-core\\\": \\\"1.28.0\\\", \\\"azureml-opendatasets\\\": \\\"1.28.0\\\", \\\"azureml-model-management-sdk\\\": \\\"1.0.1b6.post1\\\", \\\"azureml-mlflow\\\": \\\"1.28.0\\\", \\\"azureml-interpret\\\": \\\"1.28.0\\\", \\\"azureml-explain-model\\\": \\\"1.28.0\\\", \\\"azureml-defaults\\\": \\\"1.28.0\\\", \\\"azureml-dataset-runtime\\\": \\\"1.28.0\\\", \\\"azureml-dataprep\\\": \\\"2.15.0\\\", \\\"azureml-dataprep-rslex\\\": \\\"1.13.0\\\", \\\"azureml-dataprep-native\\\": \\\"33.0.0\\\", \\\"azureml-datadrift\\\": \\\"1.28.0\\\", \\\"azureml-core\\\": \\\"1.28.0\\\", \\\"azureml-contrib-services\\\": \\\"1.28.0\\\", \\\"azureml-contrib-server\\\": \\\"1.28.0\\\", \\\"azureml-contrib-reinforcementlearning\\\": \\\"1.28.0\\\", \\\"azureml-contrib-pipeline-steps\\\": \\\"1.28.0\\\", \\\"azureml-contrib-notebook\\\": \\\"1.28.0\\\", \\\"azureml-contrib-gbdt\\\": \\\"1.28.0\\\", \\\"azureml-contrib-fairness\\\": \\\"1.28.0\\\", \\\"azureml-contrib-dataset\\\": \\\"1.28.0\\\", \\\"azureml-cli-common\\\": \\\"1.28.0\\\", \\\"azureml-automl-runtime\\\": \\\"1.28.0.post2\\\", \\\"azureml-automl-dnn-nlp\\\": \\\"1.28.0\\\", \\\"azureml-automl-core\\\": \\\"1.28.0\\\", \\\"azureml-accel-models\\\": \\\"1.28.0\\\"}\", \"_aml_system_scenario_identification\": \"Remote.Parent\", \"ClientType\": \"SDK\", \"environment_cpu_name\": \"AzureML-AutoML\", \"environment_cpu_label\": \"prod\", \"environment_gpu_name\": \"AzureML-AutoML-GPU\", \"environment_gpu_label\": \"prod\", \"root_attribution\": \"automl\", \"attribution\": \"AutoML\", \"Orchestrator\": \"AutoML\", \"CancelUri\": \"https://southcentralus.api.azureml.ms/jasmine/v1.0/subscriptions/2c48c51c-bd47-40d4-abbe-fb8eabd19c8c/resourceGroups/aml-quickstarts-145826/providers/Microsoft.MachineLearningServices/workspaces/quick-starts-ws-145826/experimentids/b17c975a-aad6-457c-b484-e931a8977d89/cancel/AutoML_83343dfc-b0e0-46e6-a5d2-622e085ace09\", \"ClientSdkVersion\": \"1.28.0\", \"snapshotId\": \"00000000-0000-0000-0000-000000000000\", \"SetupRunId\": \"AutoML_83343dfc-b0e0-46e6-a5d2-622e085ace09_setup\", \"SetupRunContainerId\": \"dcid.AutoML_83343dfc-b0e0-46e6-a5d2-622e085ace09_setup\", \"FeaturizationRunJsonPath\": \"featurizer_container.json\", \"FeaturizationRunId\": \"AutoML_83343dfc-b0e0-46e6-a5d2-622e085ace09_featurize\", \"ProblemInfoJsonString\": \"{\\\"dataset_num_categorical\\\": 0, \\\"is_sparse\\\": false, \\\"subsampling\\\": false, \\\"has_extra_col\\\": true, \\\"dataset_classes\\\": 2, \\\"dataset_features\\\": 12, \\\"dataset_samples\\\": 299, \\\"single_frequency_class_detected\\\": false}\", \"ModelExplainRunId\": \"AutoML_83343dfc-b0e0-46e6-a5d2-622e085ace09_ModelExplain\"}, \"tags\": {\"model_explain_run\": \"best_run\", \"_aml_system_azureml.automlComponent\": \"AutoML\", \"pipeline_id\": \"\", \"score\": \"\", \"predicted_cost\": \"\", \"fit_time\": \"\", \"training_percent\": \"\", \"iteration\": \"\", \"run_preprocessor\": \"\", \"run_algorithm\": \"\", \"dynamic_whitelisting_iterations\": \"<25>;\", \"automl_best_child_run_id\": \"AutoML_83343dfc-b0e0-46e6-a5d2-622e085ace09_28\", \"model_explain_best_run_child_id\": \"AutoML_83343dfc-b0e0-46e6-a5d2-622e085ace09_28\"}, \"end_time_utc\": \"2021-05-27T09:33:08.514643Z\", \"status\": \"Completed\", \"log_files\": {}, \"log_groups\": [], \"run_duration\": \"0:21:40\", \"run_number\": \"1622106688\", \"run_queued_details\": {\"status\": \"Completed\", \"details\": null}}, \"child_runs\": [{\"run_id\": \"AutoML_83343dfc-b0e0-46e6-a5d2-622e085ace09_1\", \"run_number\": 1622106967, \"metric\": null, \"status\": \"Completed\", \"run_type\": \"azureml.scriptrun\", \"training_percent\": \"100\", \"start_time\": \"2021-05-27T09:16:20.005396Z\", \"end_time\": \"2021-05-27T09:17:04.407455Z\", \"created_time\": \"2021-05-27T09:16:07.469301Z\", \"created_time_dt\": \"2021-05-27T09:16:07.469301Z\", \"duration\": \"0:00:56\", \"iteration\": \"1\", \"goal\": \"accuracy_max\", \"run_name\": \"MaxAbsScaler, XGBoostClassifier\", \"run_properties\": \"copy=True\", \"primary_metric\": 0.83586207, \"best_metric\": 0.83586207}, {\"run_id\": \"AutoML_83343dfc-b0e0-46e6-a5d2-622e085ace09_4\", \"run_number\": 1622107025, \"metric\": null, \"status\": \"Completed\", \"run_type\": \"azureml.scriptrun\", \"training_percent\": \"100\", \"start_time\": \"2021-05-27T09:19:45.476433Z\", \"end_time\": \"2021-05-27T09:21:48.825636Z\", \"created_time\": \"2021-05-27T09:17:05.79624Z\", \"created_time_dt\": \"2021-05-27T09:17:05.79624Z\", \"duration\": \"0:04:43\", \"iteration\": \"4\", \"goal\": \"accuracy_max\", \"run_name\": \"MinMaxScaler, RandomForest\", \"run_properties\": \"copy=True, feature_range=(0, 1\", \"primary_metric\": 0.83586207, \"best_metric\": 0.83586207}, {\"run_id\": \"AutoML_83343dfc-b0e0-46e6-a5d2-622e085ace09_5\", \"run_number\": 1622107032, \"metric\": null, \"status\": \"Completed\", \"run_type\": \"azureml.scriptrun\", \"training_percent\": \"100\", \"start_time\": \"2021-05-27T09:19:47.47278Z\", \"end_time\": \"2021-05-27T09:21:48.80064Z\", \"created_time\": \"2021-05-27T09:17:12.95917Z\", \"created_time_dt\": \"2021-05-27T09:17:12.95917Z\", \"duration\": \"0:04:35\", \"iteration\": \"5\", \"goal\": \"accuracy_max\", \"run_name\": \"SparseNormalizer, XGBoostClassifier\", \"run_properties\": \"copy=True, norm='l1'\", \"primary_metric\": 0.80597701, \"best_metric\": 0.83586207}, {\"run_id\": \"AutoML_83343dfc-b0e0-46e6-a5d2-622e085ace09_6\", \"run_number\": 1622107086, \"metric\": null, \"status\": \"Completed\", \"run_type\": \"azureml.scriptrun\", \"training_percent\": \"100\", \"start_time\": \"2021-05-27T09:20:31.419919Z\", \"end_time\": \"2021-05-27T09:21:17.481229Z\", \"created_time\": \"2021-05-27T09:18:06.016922Z\", \"created_time_dt\": \"2021-05-27T09:18:06.016922Z\", \"duration\": \"0:03:11\", \"iteration\": \"6\", \"goal\": \"accuracy_max\", \"run_name\": \"MinMaxScaler, LightGBM\", \"run_properties\": \"copy=True, feature_range=(0, 1\", \"primary_metric\": 0.82586207, \"best_metric\": 0.83586207}, {\"run_id\": \"AutoML_83343dfc-b0e0-46e6-a5d2-622e085ace09_7\", \"run_number\": 1622107096, \"metric\": null, \"status\": \"Completed\", \"run_type\": \"azureml.scriptrun\", \"training_percent\": \"100\", \"start_time\": \"2021-05-27T09:20:34.207263Z\", \"end_time\": \"2021-05-27T09:21:28.805657Z\", \"created_time\": \"2021-05-27T09:18:16.030607Z\", \"created_time_dt\": \"2021-05-27T09:18:16.030607Z\", \"duration\": \"0:03:12\", \"iteration\": \"7\", \"goal\": \"accuracy_max\", \"run_name\": \"MinMaxScaler, SVM\", \"run_properties\": \"copy=True, feature_range=(0, 1\", \"primary_metric\": 0.73252874, \"best_metric\": 0.83586207}, {\"run_id\": \"AutoML_83343dfc-b0e0-46e6-a5d2-622e085ace09_8\", \"run_number\": 1622107279, \"metric\": null, \"status\": \"Completed\", \"run_type\": \"azureml.scriptrun\", \"training_percent\": \"100\", \"start_time\": \"2021-05-27T09:22:31.176286Z\", \"end_time\": \"2021-05-27T09:23:19.720084Z\", \"created_time\": \"2021-05-27T09:21:19.540584Z\", \"created_time_dt\": \"2021-05-27T09:21:19.540584Z\", \"duration\": \"0:02:00\", \"iteration\": \"8\", \"goal\": \"accuracy_max\", \"run_name\": \"MinMaxScaler, SVM\", \"run_properties\": \"copy=True, feature_range=(0, 1\", \"primary_metric\": 0.71609195, \"best_metric\": 0.83586207}, {\"run_id\": \"AutoML_83343dfc-b0e0-46e6-a5d2-622e085ace09_9\", \"run_number\": 1622107290, \"metric\": null, \"status\": \"Completed\", \"run_type\": \"azureml.scriptrun\", \"training_percent\": \"100\", \"start_time\": \"2021-05-27T09:22:43.359273Z\", \"end_time\": \"2021-05-27T09:23:32.167031Z\", \"created_time\": \"2021-05-27T09:21:30.893115Z\", \"created_time_dt\": \"2021-05-27T09:21:30.893115Z\", \"duration\": \"0:02:01\", \"iteration\": \"9\", \"goal\": \"accuracy_max\", \"run_name\": \"MaxAbsScaler, GradientBoosting\", \"run_properties\": \"copy=True\", \"primary_metric\": 0.83586207, \"best_metric\": 0.83586207}, {\"run_id\": \"AutoML_83343dfc-b0e0-46e6-a5d2-622e085ace09_10\", \"run_number\": 1622107310, \"metric\": null, \"status\": \"Completed\", \"run_type\": \"azureml.scriptrun\", \"training_percent\": \"100\", \"start_time\": \"2021-05-27T09:23:00.752274Z\", \"end_time\": \"2021-05-27T09:23:45.118279Z\", \"created_time\": \"2021-05-27T09:21:50.817801Z\", \"created_time_dt\": \"2021-05-27T09:21:50.817801Z\", \"duration\": \"0:01:54\", \"iteration\": \"10\", \"goal\": \"accuracy_max\", \"run_name\": \"StandardScalerWrapper, LightGBM\", \"run_properties\": \"\\n    copy=True,\\n    with_mean=True,\\n    with_std=False\\n\", \"primary_metric\": 0.83252874, \"best_metric\": 0.83586207}, {\"run_id\": \"AutoML_83343dfc-b0e0-46e6-a5d2-622e085ace09_11\", \"run_number\": 1622107311, \"metric\": null, \"status\": \"Completed\", \"run_type\": \"azureml.scriptrun\", \"training_percent\": \"100\", \"start_time\": \"2021-05-27T09:23:03.902857Z\", \"end_time\": \"2021-05-27T09:23:48.851144Z\", \"created_time\": \"2021-05-27T09:21:51.05109Z\", \"created_time_dt\": \"2021-05-27T09:21:51.05109Z\", \"duration\": \"0:01:57\", \"iteration\": \"11\", \"goal\": \"accuracy_max\", \"run_name\": \"RobustScaler, RandomForest\", \"run_properties\": \"copy=True, quantile_range=[10, 90], with_centering=True,\\n             with_scaling=True\", \"primary_metric\": 0.83942529, \"best_metric\": 0.83942529}, {\"run_id\": \"AutoML_83343dfc-b0e0-46e6-a5d2-622e085ace09_12\", \"run_number\": 1622107402, \"metric\": null, \"status\": \"Completed\", \"run_type\": \"azureml.scriptrun\", \"training_percent\": \"100\", \"start_time\": \"2021-05-27T09:24:37.818532Z\", \"end_time\": \"2021-05-27T09:25:23.441723Z\", \"created_time\": \"2021-05-27T09:23:22.204802Z\", \"created_time_dt\": \"2021-05-27T09:23:22.204802Z\", \"duration\": \"0:02:01\", \"iteration\": \"12\", \"goal\": \"accuracy_max\", \"run_name\": \"SparseNormalizer, XGBoostClassifier\", \"run_properties\": \"copy=True, norm='l1'\", \"primary_metric\": 0.80931034, \"best_metric\": 0.83942529}, {\"run_id\": \"AutoML_83343dfc-b0e0-46e6-a5d2-622e085ace09_13\", \"run_number\": 1622107414, \"metric\": null, \"status\": \"Completed\", \"run_type\": \"azureml.scriptrun\", \"training_percent\": \"100\", \"start_time\": \"2021-05-27T09:24:52.745552Z\", \"end_time\": \"2021-05-27T09:27:39.042286Z\", \"created_time\": \"2021-05-27T09:23:34.121556Z\", \"created_time_dt\": \"2021-05-27T09:23:34.121556Z\", \"duration\": \"0:04:04\", \"iteration\": \"13\", \"goal\": \"accuracy_max\", \"run_name\": \"StandardScalerWrapper, LightGBM\", \"run_properties\": \"\\n    copy=True,\\n    with_mean=False,\\n    with_std=True\\n\", \"primary_metric\": 0.82264368, \"best_metric\": 0.83942529}, {\"run_id\": \"AutoML_83343dfc-b0e0-46e6-a5d2-622e085ace09_14\", \"run_number\": 1622107427, \"metric\": null, \"status\": \"Completed\", \"run_type\": \"azureml.scriptrun\", \"training_percent\": \"100\", \"start_time\": \"2021-05-27T09:25:05.513949Z\", \"end_time\": \"2021-05-27T09:25:47.92544Z\", \"created_time\": \"2021-05-27T09:23:47.002502Z\", \"created_time_dt\": \"2021-05-27T09:23:47.002502Z\", \"duration\": \"0:02:00\", \"iteration\": \"14\", \"goal\": \"accuracy_max\", \"run_name\": \"MinMaxScaler, LightGBM\", \"run_properties\": \"copy=True, feature_range=(0, 1\", \"primary_metric\": 0.8491954, \"best_metric\": 0.8491954}, {\"run_id\": \"AutoML_83343dfc-b0e0-46e6-a5d2-622e085ace09_15\", \"run_number\": 1622107430, \"metric\": null, \"status\": \"Completed\", \"run_type\": \"azureml.scriptrun\", \"training_percent\": \"100\", \"start_time\": \"2021-05-27T09:25:03.430616Z\", \"end_time\": \"2021-05-27T09:25:52.246466Z\", \"created_time\": \"2021-05-27T09:23:50.883854Z\", \"created_time_dt\": \"2021-05-27T09:23:50.883854Z\", \"duration\": \"0:02:01\", \"iteration\": \"15\", \"goal\": \"accuracy_max\", \"run_name\": \"MaxAbsScaler, LightGBM\", \"run_properties\": \"copy=True\", \"primary_metric\": 0.83931034, \"best_metric\": 0.8491954}, {\"run_id\": \"AutoML_83343dfc-b0e0-46e6-a5d2-622e085ace09_16\", \"run_number\": 1622107525, \"metric\": null, \"status\": \"Completed\", \"run_type\": \"azureml.scriptrun\", \"training_percent\": \"100\", \"start_time\": \"2021-05-27T09:26:44.239562Z\", \"end_time\": \"2021-05-27T09:27:30.626422Z\", \"created_time\": \"2021-05-27T09:25:25.224769Z\", \"created_time_dt\": \"2021-05-27T09:25:25.224769Z\", \"duration\": \"0:02:05\", \"iteration\": \"16\", \"goal\": \"accuracy_max\", \"run_name\": \"SparseNormalizer, XGBoostClassifier\", \"run_properties\": \"copy=True, norm='l1'\", \"primary_metric\": 0.8362069, \"best_metric\": 0.8491954}, {\"run_id\": \"AutoML_83343dfc-b0e0-46e6-a5d2-622e085ace09_17\", \"run_number\": 1622107549, \"metric\": null, \"status\": \"Completed\", \"run_type\": \"azureml.scriptrun\", \"training_percent\": \"100\", \"start_time\": \"2021-05-27T09:26:59.067744Z\", \"end_time\": \"2021-05-27T09:27:43.367563Z\", \"created_time\": \"2021-05-27T09:25:49.847829Z\", \"created_time_dt\": \"2021-05-27T09:25:49.847829Z\", \"duration\": \"0:01:53\", \"iteration\": \"17\", \"goal\": \"accuracy_max\", \"run_name\": \"StandardScalerWrapper, RandomForest\", \"run_properties\": \"\\n    copy=True,\\n    with_mean=False,\\n    with_std=True\\n\", \"primary_metric\": 0.84275862, \"best_metric\": 0.8491954}, {\"run_id\": \"AutoML_83343dfc-b0e0-46e6-a5d2-622e085ace09_18\", \"run_number\": 1622107555, \"metric\": null, \"status\": \"Completed\", \"run_type\": \"azureml.scriptrun\", \"training_percent\": \"100\", \"start_time\": \"2021-05-27T09:27:08.284971Z\", \"end_time\": \"2021-05-27T09:27:53.190199Z\", \"created_time\": \"2021-05-27T09:25:55.842069Z\", \"created_time_dt\": \"2021-05-27T09:25:55.842069Z\", \"duration\": \"0:01:57\", \"iteration\": \"18\", \"goal\": \"accuracy_max\", \"run_name\": \"RobustScaler, LightGBM\", \"run_properties\": \"copy=True, quantile_range=[10, 90], with_centering=True,\\n             with_scaling=False\", \"primary_metric\": 0.77942529, \"best_metric\": 0.8491954}, {\"run_id\": \"AutoML_83343dfc-b0e0-46e6-a5d2-622e085ace09_19\", \"run_number\": 1622107652, \"metric\": null, \"status\": \"Completed\", \"run_type\": \"azureml.scriptrun\", \"training_percent\": \"100\", \"start_time\": \"2021-05-27T09:28:11.069116Z\", \"end_time\": \"2021-05-27T09:28:58.220119Z\", \"created_time\": \"2021-05-27T09:27:32.657643Z\", \"created_time_dt\": \"2021-05-27T09:27:32.657643Z\", \"duration\": \"0:01:25\", \"iteration\": \"19\", \"goal\": \"accuracy_max\", \"run_name\": \"TruncatedSVDWrapper, RandomForest\", \"run_properties\": \"n_components=0.9005263157894737, random_state=None\", \"primary_metric\": 0.80241379, \"best_metric\": 0.8491954}, {\"run_id\": \"AutoML_83343dfc-b0e0-46e6-a5d2-622e085ace09_20\", \"run_number\": 1622107661, \"metric\": null, \"status\": \"Completed\", \"run_type\": \"azureml.scriptrun\", \"training_percent\": \"100\", \"start_time\": \"2021-05-27T09:28:44.781867Z\", \"end_time\": \"2021-05-27T09:29:31.457246Z\", \"created_time\": \"2021-05-27T09:27:41.108513Z\", \"created_time_dt\": \"2021-05-27T09:27:41.108513Z\", \"duration\": \"0:01:50\", \"iteration\": \"20\", \"goal\": \"accuracy_max\", \"run_name\": \"StandardScalerWrapper, LightGBM\", \"run_properties\": \"\\n    copy=True,\\n    with_mean=False,\\n    with_std=False\\n\", \"primary_metric\": 0.8391954, \"best_metric\": 0.8491954}, {\"run_id\": \"AutoML_83343dfc-b0e0-46e6-a5d2-622e085ace09_21\", \"run_number\": 1622107665, \"metric\": null, \"status\": \"Completed\", \"run_type\": \"azureml.scriptrun\", \"training_percent\": \"100\", \"start_time\": \"2021-05-27T09:29:07.71083Z\", \"end_time\": \"2021-05-27T09:29:53.404825Z\", \"created_time\": \"2021-05-27T09:27:45.324Z\", \"created_time_dt\": \"2021-05-27T09:27:45.324Z\", \"duration\": \"0:02:08\", \"iteration\": \"21\", \"goal\": \"accuracy_max\", \"run_name\": \"StandardScalerWrapper, RandomForest\", \"run_properties\": \"\\n    copy=True,\\n    with_mean=False,\\n    with_std=True\\n\", \"primary_metric\": 0.84275862, \"best_metric\": 0.8491954}, {\"run_id\": \"AutoML_83343dfc-b0e0-46e6-a5d2-622e085ace09_22\", \"run_number\": 1622107675, \"metric\": null, \"status\": \"Completed\", \"run_type\": \"azureml.scriptrun\", \"training_percent\": \"100\", \"start_time\": \"2021-05-27T09:29:11.184825Z\", \"end_time\": \"2021-05-27T09:29:56.851563Z\", \"created_time\": \"2021-05-27T09:27:55.564221Z\", \"created_time_dt\": \"2021-05-27T09:27:55.564221Z\", \"duration\": \"0:02:01\", \"iteration\": \"22\", \"goal\": \"accuracy_max\", \"run_name\": \"MinMaxScaler, LogisticRegression\", \"run_properties\": \"copy=True, feature_range=(0, 1\", \"primary_metric\": 0.82252874, \"best_metric\": 0.8491954}, {\"run_id\": \"AutoML_83343dfc-b0e0-46e6-a5d2-622e085ace09_23\", \"run_number\": 1622107740, \"metric\": null, \"status\": \"Completed\", \"run_type\": \"azureml.scriptrun\", \"training_percent\": \"100\", \"start_time\": \"2021-05-27T09:30:13.154421Z\", \"end_time\": \"2021-05-27T09:30:58.268928Z\", \"created_time\": \"2021-05-27T09:29:00.385467Z\", \"created_time_dt\": \"2021-05-27T09:29:00.385467Z\", \"duration\": \"0:01:57\", \"iteration\": \"23\", \"goal\": \"accuracy_max\", \"run_name\": \"SparseNormalizer, LightGBM\", \"run_properties\": \"copy=True, norm='l1'\", \"primary_metric\": 0.80287356, \"best_metric\": 0.8491954}, {\"run_id\": \"AutoML_83343dfc-b0e0-46e6-a5d2-622e085ace09_24\", \"run_number\": 1622107773, \"metric\": null, \"status\": \"Completed\", \"run_type\": \"azureml.scriptrun\", \"training_percent\": \"100\", \"start_time\": \"2021-05-27T09:30:46.794788Z\", \"end_time\": \"2021-05-27T09:31:31.978675Z\", \"created_time\": \"2021-05-27T09:29:33.391589Z\", \"created_time_dt\": \"2021-05-27T09:29:33.391589Z\", \"duration\": \"0:01:58\", \"iteration\": \"24\", \"goal\": \"accuracy_max\", \"run_name\": \"MaxAbsScaler, RandomForest\", \"run_properties\": \"copy=True\", \"primary_metric\": 0.83252874, \"best_metric\": 0.8491954}, {\"run_id\": \"AutoML_83343dfc-b0e0-46e6-a5d2-622e085ace09_25\", \"run_number\": 1622107796, \"metric\": null, \"status\": \"Canceled\", \"run_type\": \"azureml.scriptrun\", \"training_percent\": \"100\", \"start_time\": \"2021-05-27T09:31:16.09488Z\", \"end_time\": \"2021-05-27T09:31:38.414134Z\", \"created_time\": \"2021-05-27T09:29:56.582848Z\", \"created_time_dt\": \"2021-05-27T09:29:56.582848Z\", \"duration\": \"0:01:41\", \"iteration\": \"25\", \"goal\": null, \"run_name\": \"StandardScalerWrapper, LightGBM\", \"run_properties\": null}, {\"run_id\": \"AutoML_83343dfc-b0e0-46e6-a5d2-622e085ace09_26\", \"run_number\": 1622107800, \"metric\": null, \"status\": \"Canceled\", \"run_type\": \"azureml.scriptrun\", \"training_percent\": \"100\", \"start_time\": \"2021-05-27T09:31:17.025519Z\", \"end_time\": \"2021-05-27T09:31:38.381325Z\", \"created_time\": \"2021-05-27T09:30:00.695765Z\", \"created_time_dt\": \"2021-05-27T09:30:00.695765Z\", \"duration\": \"0:01:37\", \"iteration\": \"26\", \"goal\": null, \"run_name\": \"MinMaxScaler, LightGBM\", \"run_properties\": null}, {\"run_id\": \"AutoML_83343dfc-b0e0-46e6-a5d2-622e085ace09_27\", \"run_number\": 1622107860, \"metric\": null, \"status\": \"Canceled\", \"run_type\": \"azureml.scriptrun\", \"training_percent\": \"100\", \"start_time\": \"2021-05-27T09:31:00.154134Z\", \"end_time\": \"2021-05-27T09:31:38.505499Z\", \"created_time\": \"2021-05-27T09:31:00.154134Z\", \"created_time_dt\": \"2021-05-27T09:31:00.154134Z\", \"duration\": \"0:00:38\", \"iteration\": \"27\", \"goal\": null, \"run_name\": \"Canceled\", \"run_properties\": null}, {\"run_id\": \"AutoML_83343dfc-b0e0-46e6-a5d2-622e085ace09_28\", \"run_number\": 1622107899, \"metric\": null, \"status\": \"Completed\", \"run_type\": \"azureml.scriptrun\", \"training_percent\": \"100\", \"start_time\": \"2021-05-27T09:32:01.21509Z\", \"end_time\": \"2021-05-27T09:33:05.505097Z\", \"created_time\": \"2021-05-27T09:31:39.389186Z\", \"created_time_dt\": \"2021-05-27T09:31:39.389186Z\", \"duration\": \"0:01:26\", \"iteration\": \"28\", \"goal\": \"accuracy_max\", \"run_name\": \"VotingEnsemble\", \"run_properties\": \"\\n    estimators=[('14', Pipeline(memory=None,\\n             steps=[('minmaxscaler', MinMaxScaler(copy=True, feature_range=(0, 1\", \"primary_metric\": 0.86954023, \"best_metric\": 0.86954023}], \"children_metrics\": {\"categories\": [0], \"series\": {\"f1_score_micro\": [{\"categories\": [\"1\", \"4\", \"5\", \"6\", \"7\", \"8\", \"9\", \"10\", \"11\", \"12\", \"13\", \"14\", \"15\", \"16\", \"17\", \"18\", \"19\", \"20\", \"21\", \"22\", \"23\", \"24\", \"28\"], \"mode\": \"markers\", \"name\": \"f1_score_micro\", \"stepped\": false, \"type\": \"scatter\", \"data\": [0.8358620689655172, 0.8358620689655174, 0.8059770114942528, 0.8258620689655173, 0.732528735632184, 0.7160919540229885, 0.8358620689655172, 0.8325287356321839, 0.8394252873563218, 0.8093103448275862, 0.8226436781609194, 0.8491954022988507, 0.8393103448275863, 0.8362068965517242, 0.8427586206896553, 0.7794252873563219, 0.8024137931034483, 0.8391954022988506, 0.8427586206896553, 0.822528735632184, 0.8028735632183908, 0.8325287356321839, 0.8695402298850576]}, {\"categories\": [\"1\", \"4\", \"5\", \"6\", \"7\", \"8\", \"9\", \"10\", \"11\", \"12\", \"13\", \"14\", \"15\", \"16\", \"17\", \"18\", \"19\", \"20\", \"21\", \"22\", \"23\", \"24\", \"28\"], \"mode\": \"lines\", \"name\": \"f1_score_micro_max\", \"stepped\": true, \"type\": \"scatter\", \"data\": [0.8358620689655172, 0.8358620689655174, 0.8358620689655174, 0.8358620689655174, 0.8358620689655174, 0.8358620689655174, 0.8358620689655174, 0.8358620689655174, 0.8394252873563218, 0.8394252873563218, 0.8394252873563218, 0.8491954022988507, 0.8491954022988507, 0.8491954022988507, 0.8491954022988507, 0.8491954022988507, 0.8491954022988507, 0.8491954022988507, 0.8491954022988507, 0.8491954022988507, 0.8491954022988507, 0.8491954022988507, 0.8695402298850576]}], \"recall_score_weighted\": [{\"categories\": [\"1\", \"4\", \"5\", \"6\", \"7\", \"8\", \"9\", \"10\", \"11\", \"12\", \"13\", \"14\", \"15\", \"16\", \"17\", \"18\", \"19\", \"20\", \"21\", \"22\", \"23\", \"24\", \"28\"], \"mode\": \"markers\", \"name\": \"recall_score_weighted\", \"stepped\": false, \"type\": \"scatter\", \"data\": [0.8358620689655172, 0.8358620689655174, 0.8059770114942528, 0.8258620689655173, 0.732528735632184, 0.7160919540229885, 0.8358620689655172, 0.8325287356321839, 0.8394252873563218, 0.8093103448275862, 0.8226436781609194, 0.8491954022988507, 0.8393103448275863, 0.8362068965517242, 0.8427586206896553, 0.7794252873563219, 0.8024137931034483, 0.8391954022988506, 0.8427586206896551, 0.822528735632184, 0.8028735632183908, 0.8325287356321839, 0.8695402298850576]}, {\"categories\": [\"1\", \"4\", \"5\", \"6\", \"7\", \"8\", \"9\", \"10\", \"11\", \"12\", \"13\", \"14\", \"15\", \"16\", \"17\", \"18\", \"19\", \"20\", \"21\", \"22\", \"23\", \"24\", \"28\"], \"mode\": \"lines\", \"name\": \"recall_score_weighted_max\", \"stepped\": true, \"type\": \"scatter\", \"data\": [0.8358620689655172, 0.8358620689655174, 0.8358620689655174, 0.8358620689655174, 0.8358620689655174, 0.8358620689655174, 0.8358620689655174, 0.8358620689655174, 0.8394252873563218, 0.8394252873563218, 0.8394252873563218, 0.8491954022988507, 0.8491954022988507, 0.8491954022988507, 0.8491954022988507, 0.8491954022988507, 0.8491954022988507, 0.8491954022988507, 0.8491954022988507, 0.8491954022988507, 0.8491954022988507, 0.8491954022988507, 0.8695402298850576]}], \"precision_score_macro\": [{\"categories\": [\"1\", \"4\", \"5\", \"6\", \"7\", \"8\", \"9\", \"10\", \"11\", \"12\", \"13\", \"14\", \"15\", \"16\", \"17\", \"18\", \"19\", \"20\", \"21\", \"22\", \"23\", \"24\", \"28\"], \"mode\": \"markers\", \"name\": \"precision_score_macro\", \"stepped\": false, \"type\": \"scatter\", \"data\": [0.8232986049897815, 0.8198929529026783, 0.8208643140273575, 0.8187467096226687, 0.7145292642140468, 0.6881153999257448, 0.8260461368341803, 0.8256218986962693, 0.8202714751148255, 0.7853385886633968, 0.8236542443064183, 0.8376881182542947, 0.8366777806592385, 0.8208112856094415, 0.8324789823702867, 0.8372565606696043, 0.7850700688200688, 0.818516948737537, 0.8262189003470468, 0.8133497194072137, 0.7951160361377754, 0.811948704180162, 0.8650381075304349]}, {\"categories\": [\"1\", \"4\", \"5\", \"6\", \"7\", \"8\", \"9\", \"10\", \"11\", \"12\", \"13\", \"14\", \"15\", \"16\", \"17\", \"18\", \"19\", \"20\", \"21\", \"22\", \"23\", \"24\", \"28\"], \"mode\": \"lines\", \"name\": \"precision_score_macro_max\", \"stepped\": true, \"type\": \"scatter\", \"data\": [0.8232986049897815, 0.8232986049897815, 0.8232986049897815, 0.8232986049897815, 0.8232986049897815, 0.8232986049897815, 0.8260461368341803, 0.8260461368341803, 0.8260461368341803, 0.8260461368341803, 0.8260461368341803, 0.8376881182542947, 0.8376881182542947, 0.8376881182542947, 0.8376881182542947, 0.8376881182542947, 0.8376881182542947, 0.8376881182542947, 0.8376881182542947, 0.8376881182542947, 0.8376881182542947, 0.8376881182542947, 0.8650381075304349]}], \"AUC_weighted\": [{\"categories\": [\"1\", \"4\", \"5\", \"6\", \"7\", \"8\", \"9\", \"10\", \"11\", \"12\", \"13\", \"14\", \"15\", \"16\", \"17\", \"18\", \"19\", \"20\", \"21\", \"22\", \"23\", \"24\", \"28\"], \"mode\": \"markers\", \"name\": \"AUC_weighted\", \"stepped\": false, \"type\": \"scatter\", \"data\": [0.8847369443591411, 0.9046582429393641, 0.8773855794790005, 0.9036960612169423, 0.747228730835653, 0.7160382398409285, 0.9095643561307749, 0.9025306153504093, 0.8998355393314202, 0.8608370342027666, 0.9041695342055182, 0.9029306912153021, 0.9022516357593588, 0.8879981568848561, 0.8989198287770369, 0.8894343285475437, 0.8697870388256546, 0.8994382679359797, 0.9036535700802292, 0.8638387105774978, 0.8741507579885154, 0.9031926720622373, 0.9052517891126588]}, {\"categories\": [\"1\", \"4\", \"5\", \"6\", \"7\", \"8\", \"9\", \"10\", \"11\", \"12\", \"13\", \"14\", \"15\", \"16\", \"17\", \"18\", \"19\", \"20\", \"21\", \"22\", \"23\", \"24\", \"28\"], \"mode\": \"lines\", \"name\": \"AUC_weighted_max\", \"stepped\": true, \"type\": \"scatter\", \"data\": [0.8847369443591411, 0.9046582429393641, 0.9046582429393641, 0.9046582429393641, 0.9046582429393641, 0.9046582429393641, 0.9095643561307749, 0.9095643561307749, 0.9095643561307749, 0.9095643561307749, 0.9095643561307749, 0.9095643561307749, 0.9095643561307749, 0.9095643561307749, 0.9095643561307749, 0.9095643561307749, 0.9095643561307749, 0.9095643561307749, 0.9095643561307749, 0.9095643561307749, 0.9095643561307749, 0.9095643561307749, 0.9095643561307749]}], \"precision_score_weighted\": [{\"categories\": [\"1\", \"4\", \"5\", \"6\", \"7\", \"8\", \"9\", \"10\", \"11\", \"12\", \"13\", \"14\", \"15\", \"16\", \"17\", \"18\", \"19\", \"20\", \"21\", \"22\", \"23\", \"24\", \"28\"], \"mode\": \"markers\", \"name\": \"precision_score_weighted\", \"stepped\": false, \"type\": \"scatter\", \"data\": [0.8506678986628277, 0.8549642688434016, 0.8273835646482823, 0.8401512994680675, 0.7473924514848802, 0.7311442118545567, 0.8548203219097521, 0.8494995299094643, 0.8502830095476052, 0.8214794960088856, 0.8349369327241142, 0.8646935369678778, 0.8553606304186647, 0.8464264202888815, 0.8485617497888862, 0.8176354505897235, 0.8101037155692328, 0.8543353020655253, 0.8537502884560606, 0.8413501419573877, 0.8151757427563275, 0.8462626030254349, 0.8785107105733925]}, {\"categories\": [\"1\", \"4\", \"5\", \"6\", \"7\", \"8\", \"9\", \"10\", \"11\", \"12\", \"13\", \"14\", \"15\", \"16\", \"17\", \"18\", \"19\", \"20\", \"21\", \"22\", \"23\", \"24\", \"28\"], \"mode\": \"lines\", \"name\": \"precision_score_weighted_max\", \"stepped\": true, \"type\": \"scatter\", \"data\": [0.8506678986628277, 0.8549642688434016, 0.8549642688434016, 0.8549642688434016, 0.8549642688434016, 0.8549642688434016, 0.8549642688434016, 0.8549642688434016, 0.8549642688434016, 0.8549642688434016, 0.8549642688434016, 0.8646935369678778, 0.8646935369678778, 0.8646935369678778, 0.8646935369678778, 0.8646935369678778, 0.8646935369678778, 0.8646935369678778, 0.8646935369678778, 0.8646935369678778, 0.8646935369678778, 0.8646935369678778, 0.8785107105733925]}], \"matthews_correlation\": [{\"categories\": [\"1\", \"4\", \"5\", \"6\", \"7\", \"8\", \"9\", \"10\", \"11\", \"12\", \"13\", \"14\", \"15\", \"16\", \"17\", \"18\", \"19\", \"20\", \"21\", \"22\", \"23\", \"24\", \"28\"], \"mode\": \"markers\", \"name\": \"matthews_correlation\", \"stepped\": false, \"type\": \"scatter\", \"data\": [0.6345538749068885, 0.6350649857355652, 0.5518885608648566, 0.5981748038155102, 0.35022116526645786, 0.29202411780178816, 0.6330052268635675, 0.610283417163898, 0.6293031156904811, 0.5420631828594559, 0.5839565871463948, 0.6606919072640083, 0.6320897071733595, 0.6291702367253744, 0.6290710113922132, 0.4788202096540526, 0.5404886000375994, 0.6359088947985101, 0.6400604897029837, 0.5986771914346563, 0.5363958873043302, 0.6168816423507333, 0.6948525834233357]}, {\"categories\": [\"1\", \"4\", \"5\", \"6\", \"7\", \"8\", \"9\", \"10\", \"11\", \"12\", \"13\", \"14\", \"15\", \"16\", \"17\", \"18\", \"19\", \"20\", \"21\", \"22\", \"23\", \"24\", \"28\"], \"mode\": \"lines\", \"name\": \"matthews_correlation_max\", \"stepped\": true, \"type\": \"scatter\", \"data\": [0.6345538749068885, 0.6350649857355652, 0.6350649857355652, 0.6350649857355652, 0.6350649857355652, 0.6350649857355652, 0.6350649857355652, 0.6350649857355652, 0.6350649857355652, 0.6350649857355652, 0.6350649857355652, 0.6606919072640083, 0.6606919072640083, 0.6606919072640083, 0.6606919072640083, 0.6606919072640083, 0.6606919072640083, 0.6606919072640083, 0.6606919072640083, 0.6606919072640083, 0.6606919072640083, 0.6606919072640083, 0.6948525834233357]}], \"AUC_macro\": [{\"categories\": [\"1\", \"4\", \"5\", \"6\", \"7\", \"8\", \"9\", \"10\", \"11\", \"12\", \"13\", \"14\", \"15\", \"16\", \"17\", \"18\", \"19\", \"20\", \"21\", \"22\", \"23\", \"24\", \"28\"], \"mode\": \"markers\", \"name\": \"AUC_macro\", \"stepped\": false, \"type\": \"scatter\", \"data\": [0.8847369443591411, 0.9046582429393641, 0.8773855794790005, 0.9036960612169423, 0.7472287308356531, 0.7160382398409286, 0.9095643561307749, 0.9025306153504093, 0.8998355393314202, 0.8608370342027666, 0.9041695342055182, 0.9029306912153021, 0.9022516357593588, 0.8879981568848561, 0.8989198287770369, 0.8894343285475437, 0.8697870388256546, 0.8994382679359797, 0.903653570080229, 0.8638387105774978, 0.8741507579885154, 0.9031926720622373, 0.9052517891126586]}, {\"categories\": [\"1\", \"4\", \"5\", \"6\", \"7\", \"8\", \"9\", \"10\", \"11\", \"12\", \"13\", \"14\", \"15\", \"16\", \"17\", \"18\", \"19\", \"20\", \"21\", \"22\", \"23\", \"24\", \"28\"], \"mode\": \"lines\", \"name\": \"AUC_macro_max\", \"stepped\": true, \"type\": \"scatter\", \"data\": [0.8847369443591411, 0.9046582429393641, 0.9046582429393641, 0.9046582429393641, 0.9046582429393641, 0.9046582429393641, 0.9095643561307749, 0.9095643561307749, 0.9095643561307749, 0.9095643561307749, 0.9095643561307749, 0.9095643561307749, 0.9095643561307749, 0.9095643561307749, 0.9095643561307749, 0.9095643561307749, 0.9095643561307749, 0.9095643561307749, 0.9095643561307749, 0.9095643561307749, 0.9095643561307749, 0.9095643561307749, 0.9095643561307749]}], \"f1_score_weighted\": [{\"categories\": [\"1\", \"4\", \"5\", \"6\", \"7\", \"8\", \"9\", \"10\", \"11\", \"12\", \"13\", \"14\", \"15\", \"16\", \"17\", \"18\", \"19\", \"20\", \"21\", \"22\", \"23\", \"24\", \"28\"], \"mode\": \"markers\", \"name\": \"f1_score_weighted\", \"stepped\": false, \"type\": \"scatter\", \"data\": [0.8342588560383983, 0.835798388360004, 0.791153527926835, 0.8209161591395684, 0.7053477333613252, 0.6800659138011478, 0.8329362123485435, 0.8263420407700537, 0.8369045848427492, 0.8048217845216165, 0.8099817042890736, 0.8478734235084765, 0.8323341032522762, 0.8330919162782356, 0.8372670769642351, 0.7446772135867714, 0.7954728740985424, 0.8379091861386904, 0.8401379387903889, 0.81906121720746, 0.7917162236873645, 0.8309864956154526, 0.8663079495790891]}, {\"categories\": [\"1\", \"4\", \"5\", \"6\", \"7\", \"8\", \"9\", \"10\", \"11\", \"12\", \"13\", \"14\", \"15\", \"16\", \"17\", \"18\", \"19\", \"20\", \"21\", \"22\", \"23\", \"24\", \"28\"], \"mode\": \"lines\", \"name\": \"f1_score_weighted_max\", \"stepped\": true, \"type\": \"scatter\", \"data\": [0.8342588560383983, 0.835798388360004, 0.835798388360004, 0.835798388360004, 0.835798388360004, 0.835798388360004, 0.835798388360004, 0.835798388360004, 0.8369045848427492, 0.8369045848427492, 0.8369045848427492, 0.8478734235084765, 0.8478734235084765, 0.8478734235084765, 0.8478734235084765, 0.8478734235084765, 0.8478734235084765, 0.8478734235084765, 0.8478734235084765, 0.8478734235084765, 0.8478734235084765, 0.8478734235084765, 0.8663079495790891]}], \"average_precision_score_weighted\": [{\"categories\": [\"1\", \"4\", \"5\", \"6\", \"7\", \"8\", \"9\", \"10\", \"11\", \"12\", \"13\", \"14\", \"15\", \"16\", \"17\", \"18\", \"19\", \"20\", \"21\", \"22\", \"23\", \"24\", \"28\"], \"mode\": \"markers\", \"name\": \"average_precision_score_weighted\", \"stepped\": false, \"type\": \"scatter\", \"data\": [0.907154018724502, 0.9194904393191414, 0.8920536334754182, 0.9225662136455149, 0.7902984708289256, 0.7663785079032702, 0.9251861966993496, 0.9196896625977816, 0.9136989533237354, 0.8764764478120824, 0.916358520578126, 0.9194733151765468, 0.9185264340158863, 0.9051350361494794, 0.9157537545928918, 0.9119588313615263, 0.8902085883705931, 0.9164897223809556, 0.917681585853456, 0.8879444208863108, 0.8924759153236401, 0.9161634138699639, 0.9213755908598529]}, {\"categories\": [\"1\", \"4\", \"5\", \"6\", \"7\", \"8\", \"9\", \"10\", \"11\", \"12\", \"13\", \"14\", \"15\", \"16\", \"17\", \"18\", \"19\", \"20\", \"21\", \"22\", \"23\", \"24\", \"28\"], \"mode\": \"lines\", \"name\": \"average_precision_score_weighted_max\", \"stepped\": true, \"type\": \"scatter\", \"data\": [0.907154018724502, 0.9194904393191414, 0.9194904393191414, 0.9225662136455149, 0.9225662136455149, 0.9225662136455149, 0.9251861966993496, 0.9251861966993496, 0.9251861966993496, 0.9251861966993496, 0.9251861966993496, 0.9251861966993496, 0.9251861966993496, 0.9251861966993496, 0.9251861966993496, 0.9251861966993496, 0.9251861966993496, 0.9251861966993496, 0.9251861966993496, 0.9251861966993496, 0.9251861966993496, 0.9251861966993496, 0.9251861966993496]}], \"recall_score_micro\": [{\"categories\": [\"1\", \"4\", \"5\", \"6\", \"7\", \"8\", \"9\", \"10\", \"11\", \"12\", \"13\", \"14\", \"15\", \"16\", \"17\", \"18\", \"19\", \"20\", \"21\", \"22\", \"23\", \"24\", \"28\"], \"mode\": \"markers\", \"name\": \"recall_score_micro\", \"stepped\": false, \"type\": \"scatter\", \"data\": [0.8358620689655172, 0.8358620689655174, 0.8059770114942528, 0.8258620689655173, 0.732528735632184, 0.7160919540229885, 0.8358620689655172, 0.8325287356321839, 0.8394252873563218, 0.8093103448275862, 0.8226436781609194, 0.8491954022988507, 0.8393103448275863, 0.8362068965517242, 0.8427586206896553, 0.7794252873563219, 0.8024137931034483, 0.8391954022988506, 0.8427586206896551, 0.822528735632184, 0.8028735632183908, 0.8325287356321839, 0.8695402298850576]}, {\"categories\": [\"1\", \"4\", \"5\", \"6\", \"7\", \"8\", \"9\", \"10\", \"11\", \"12\", \"13\", \"14\", \"15\", \"16\", \"17\", \"18\", \"19\", \"20\", \"21\", \"22\", \"23\", \"24\", \"28\"], \"mode\": \"lines\", \"name\": \"recall_score_micro_max\", \"stepped\": true, \"type\": \"scatter\", \"data\": [0.8358620689655172, 0.8358620689655174, 0.8358620689655174, 0.8358620689655174, 0.8358620689655174, 0.8358620689655174, 0.8358620689655174, 0.8358620689655174, 0.8394252873563218, 0.8394252873563218, 0.8394252873563218, 0.8491954022988507, 0.8491954022988507, 0.8491954022988507, 0.8491954022988507, 0.8491954022988507, 0.8491954022988507, 0.8491954022988507, 0.8491954022988507, 0.8491954022988507, 0.8491954022988507, 0.8491954022988507, 0.8695402298850576]}], \"f1_score_macro\": [{\"categories\": [\"1\", \"4\", \"5\", \"6\", \"7\", \"8\", \"9\", \"10\", \"11\", \"12\", \"13\", \"14\", \"15\", \"16\", \"17\", \"18\", \"19\", \"20\", \"21\", \"22\", \"23\", \"24\", \"28\"], \"mode\": \"markers\", \"name\": \"f1_score_macro\", \"stepped\": false, \"type\": \"scatter\", \"data\": [0.8078501228997539, 0.807631881899615, 0.7491206630332226, 0.7861414580012032, 0.6396335220276977, 0.6056097699463473, 0.8037306374276308, 0.7901699674133443, 0.8067158230875948, 0.7603669925285953, 0.7728404384842704, 0.8209085956854884, 0.800592919675218, 0.8062936525373925, 0.8056123335516441, 0.6818642366891708, 0.7586464314596663, 0.8088140443294402, 0.8118430809836239, 0.7859665734784926, 0.7508426135569722, 0.7998561045643868, 0.8392352427243731]}, {\"categories\": [\"1\", \"4\", \"5\", \"6\", \"7\", \"8\", \"9\", \"10\", \"11\", \"12\", \"13\", \"14\", \"15\", \"16\", \"17\", \"18\", \"19\", \"20\", \"21\", \"22\", \"23\", \"24\", \"28\"], \"mode\": \"lines\", \"name\": \"f1_score_macro_max\", \"stepped\": true, \"type\": \"scatter\", \"data\": [0.8078501228997539, 0.8078501228997539, 0.8078501228997539, 0.8078501228997539, 0.8078501228997539, 0.8078501228997539, 0.8078501228997539, 0.8078501228997539, 0.8078501228997539, 0.8078501228997539, 0.8078501228997539, 0.8209085956854884, 0.8209085956854884, 0.8209085956854884, 0.8209085956854884, 0.8209085956854884, 0.8209085956854884, 0.8209085956854884, 0.8209085956854884, 0.8209085956854884, 0.8209085956854884, 0.8209085956854884, 0.8392352427243731]}], \"AUC_micro\": [{\"categories\": [\"1\", \"4\", \"5\", \"6\", \"7\", \"8\", \"9\", \"10\", \"11\", \"12\", \"13\", \"14\", \"15\", \"16\", \"17\", \"18\", \"19\", \"20\", \"21\", \"22\", \"23\", \"24\", \"28\"], \"mode\": \"markers\", \"name\": \"AUC_micro\", \"stepped\": false, \"type\": \"scatter\", \"data\": [0.9042166732725592, 0.9134448407979917, 0.877871581450654, 0.9139612894702074, 0.7922070286695733, 0.7736115074646585, 0.9172146915048224, 0.9128853217069628, 0.9125811864182852, 0.8808599550799313, 0.8919398863786497, 0.9149612894702074, 0.9062068965517242, 0.8939495309816357, 0.9090548289073854, 0.8740743823490554, 0.8805949266745937, 0.9101367419738408, 0.9158501783590962, 0.8820451843043996, 0.8806161976483023, 0.9104876469811073, 0.9159515127493725]}, {\"categories\": [\"1\", \"4\", \"5\", \"6\", \"7\", \"8\", \"9\", \"10\", \"11\", \"12\", \"13\", \"14\", \"15\", \"16\", \"17\", \"18\", \"19\", \"20\", \"21\", \"22\", \"23\", \"24\", \"28\"], \"mode\": \"lines\", \"name\": \"AUC_micro_max\", \"stepped\": true, \"type\": \"scatter\", \"data\": [0.9042166732725592, 0.9134448407979917, 0.9134448407979917, 0.9139612894702074, 0.9139612894702074, 0.9139612894702074, 0.9172146915048224, 0.9172146915048224, 0.9172146915048224, 0.9172146915048224, 0.9172146915048224, 0.9172146915048224, 0.9172146915048224, 0.9172146915048224, 0.9172146915048224, 0.9172146915048224, 0.9172146915048224, 0.9172146915048224, 0.9172146915048224, 0.9172146915048224, 0.9172146915048224, 0.9172146915048224, 0.9172146915048224]}], \"average_precision_score_micro\": [{\"categories\": [\"1\", \"4\", \"5\", \"6\", \"7\", \"8\", \"9\", \"10\", \"11\", \"12\", \"13\", \"14\", \"15\", \"16\", \"17\", \"18\", \"19\", \"20\", \"21\", \"22\", \"23\", \"24\", \"28\"], \"mode\": \"markers\", \"name\": \"average_precision_score_micro\", \"stepped\": false, \"type\": \"scatter\", \"data\": [0.9033793522124445, 0.9133014461369291, 0.884948569308041, 0.9189075070287906, 0.7845419124336078, 0.7566384036330835, 0.9206075873713171, 0.9153552510550519, 0.913165631857142, 0.876380860099481, 0.8974845578120805, 0.9183269488245932, 0.9100085270296232, 0.8969673089031585, 0.9125577270530215, 0.8834597513438405, 0.8880512060795583, 0.9139469597594857, 0.9174007116618539, 0.8850299274029687, 0.8863289056374182, 0.9109237899315952, 0.9192011243894452]}, {\"categories\": [\"1\", \"4\", \"5\", \"6\", \"7\", \"8\", \"9\", \"10\", \"11\", \"12\", \"13\", \"14\", \"15\", \"16\", \"17\", \"18\", \"19\", \"20\", \"21\", \"22\", \"23\", \"24\", \"28\"], \"mode\": \"lines\", \"name\": \"average_precision_score_micro_max\", \"stepped\": true, \"type\": \"scatter\", \"data\": [0.9033793522124445, 0.9133014461369291, 0.9133014461369291, 0.9189075070287906, 0.9189075070287906, 0.9189075070287906, 0.9206075873713171, 0.9206075873713171, 0.9206075873713171, 0.9206075873713171, 0.9206075873713171, 0.9206075873713171, 0.9206075873713171, 0.9206075873713171, 0.9206075873713171, 0.9206075873713171, 0.9206075873713171, 0.9206075873713171, 0.9206075873713171, 0.9206075873713171, 0.9206075873713171, 0.9206075873713171, 0.9206075873713171]}], \"average_precision_score_macro\": [{\"categories\": [\"1\", \"4\", \"5\", \"6\", \"7\", \"8\", \"9\", \"10\", \"11\", \"12\", \"13\", \"14\", \"15\", \"16\", \"17\", \"18\", \"19\", \"20\", \"21\", \"22\", \"23\", \"24\", \"28\"], \"mode\": \"markers\", \"name\": \"average_precision_score_macro\", \"stepped\": false, \"type\": \"scatter\", \"data\": [0.8807340475847678, 0.895107503100054, 0.8589501303667657, 0.8971566605779111, 0.745469896825244, 0.7121601900594134, 0.9022679962342517, 0.8945349664625457, 0.889555188146403, 0.8401142754782065, 0.8893073017964932, 0.8921143590156687, 0.8918742359962035, 0.8819949781809319, 0.891008514391839, 0.8841645683845177, 0.85481438877177, 0.8930855284024295, 0.8921854591153904, 0.8531397251050148, 0.8636904123600055, 0.887432237244466, 0.8982475877906879]}, {\"categories\": [\"1\", \"4\", \"5\", \"6\", \"7\", \"8\", \"9\", \"10\", \"11\", \"12\", \"13\", \"14\", \"15\", \"16\", \"17\", \"18\", \"19\", \"20\", \"21\", \"22\", \"23\", \"24\", \"28\"], \"mode\": \"lines\", \"name\": \"average_precision_score_macro_max\", \"stepped\": true, \"type\": \"scatter\", \"data\": [0.8807340475847678, 0.895107503100054, 0.895107503100054, 0.8971566605779111, 0.8971566605779111, 0.8971566605779111, 0.9022679962342517, 0.9022679962342517, 0.9022679962342517, 0.9022679962342517, 0.9022679962342517, 0.9022679962342517, 0.9022679962342517, 0.9022679962342517, 0.9022679962342517, 0.9022679962342517, 0.9022679962342517, 0.9022679962342517, 0.9022679962342517, 0.9022679962342517, 0.9022679962342517, 0.9022679962342517, 0.9022679962342517]}], \"weighted_accuracy\": [{\"categories\": [\"1\", \"4\", \"5\", \"6\", \"7\", \"8\", \"9\", \"10\", \"11\", \"12\", \"13\", \"14\", \"15\", \"16\", \"17\", \"18\", \"19\", \"20\", \"21\", \"22\", \"23\", \"24\", \"28\"], \"mode\": \"markers\", \"name\": \"weighted_accuracy\", \"stepped\": false, \"type\": \"scatter\", \"data\": [0.8502962163535492, 0.8472674884225333, 0.8490948178266662, 0.8516633061929479, 0.7884755867032035, 0.7779107967349714, 0.8524874403694531, 0.8601908221055835, 0.8577948592487242, 0.8385082313085942, 0.8613850227996014, 0.8645103368637755, 0.8669339017794584, 0.8535480316158818, 0.8707857142836122, 0.8471772199465175, 0.8318821872719255, 0.852544711057788, 0.8607271780280732, 0.8451681878460313, 0.8418076361737908, 0.8496166130629896, 0.8931097843494873]}, {\"categories\": [\"1\", \"4\", \"5\", \"6\", \"7\", \"8\", \"9\", \"10\", \"11\", \"12\", \"13\", \"14\", \"15\", \"16\", \"17\", \"18\", \"19\", \"20\", \"21\", \"22\", \"23\", \"24\", \"28\"], \"mode\": \"lines\", \"name\": \"weighted_accuracy_max\", \"stepped\": true, \"type\": \"scatter\", \"data\": [0.8502962163535492, 0.8502962163535492, 0.8502962163535492, 0.8516633061929479, 0.8516633061929479, 0.8516633061929479, 0.8524874403694531, 0.8601908221055835, 0.8601908221055835, 0.8601908221055835, 0.8613850227996014, 0.8645103368637755, 0.8669339017794584, 0.8669339017794584, 0.8707857142836122, 0.8707857142836122, 0.8707857142836122, 0.8707857142836122, 0.8707857142836122, 0.8707857142836122, 0.8707857142836122, 0.8707857142836122, 0.8931097843494873]}], \"balanced_accuracy\": [{\"categories\": [\"1\", \"4\", \"5\", \"6\", \"7\", \"8\", \"9\", \"10\", \"11\", \"12\", \"13\", \"14\", \"15\", \"16\", \"17\", \"18\", \"19\", \"20\", \"21\", \"22\", \"23\", \"24\", \"28\"], \"mode\": \"markers\", \"name\": \"balanced_accuracy\", \"stepped\": false, \"type\": \"scatter\", \"data\": [0.8130249020938379, 0.8165256330879901, 0.7403381188478442, 0.7833253217034681, 0.6499517106336328, 0.6222383494969307, 0.809933632252568, 0.7885545690642944, 0.8101274815001933, 0.758680183247975, 0.7647936289174846, 0.8247623707655173, 0.7992019669562576, 0.8095071398852862, 0.7987176909665468, 0.673970152654363, 0.7581070677352142, 0.8189113606645071, 0.8150581860613325, 0.7878200375774747, 0.7448523684870939, 0.8063031355562821, 0.8317233461618472]}, {\"categories\": [\"1\", \"4\", \"5\", \"6\", \"7\", \"8\", \"9\", \"10\", \"11\", \"12\", \"13\", \"14\", \"15\", \"16\", \"17\", \"18\", \"19\", \"20\", \"21\", \"22\", \"23\", \"24\", \"28\"], \"mode\": \"lines\", \"name\": \"balanced_accuracy_max\", \"stepped\": true, \"type\": \"scatter\", \"data\": [0.8130249020938379, 0.8165256330879901, 0.8165256330879901, 0.8165256330879901, 0.8165256330879901, 0.8165256330879901, 0.8165256330879901, 0.8165256330879901, 0.8165256330879901, 0.8165256330879901, 0.8165256330879901, 0.8247623707655173, 0.8247623707655173, 0.8247623707655173, 0.8247623707655173, 0.8247623707655173, 0.8247623707655173, 0.8247623707655173, 0.8247623707655173, 0.8247623707655173, 0.8247623707655173, 0.8247623707655173, 0.8317233461618472]}], \"precision_score_micro\": [{\"categories\": [\"1\", \"4\", \"5\", \"6\", \"7\", \"8\", \"9\", \"10\", \"11\", \"12\", \"13\", \"14\", \"15\", \"16\", \"17\", \"18\", \"19\", \"20\", \"21\", \"22\", \"23\", \"24\", \"28\"], \"mode\": \"markers\", \"name\": \"precision_score_micro\", \"stepped\": false, \"type\": \"scatter\", \"data\": [0.8358620689655172, 0.8358620689655174, 0.8059770114942528, 0.8258620689655173, 0.732528735632184, 0.7160919540229885, 0.8358620689655172, 0.8325287356321839, 0.8394252873563218, 0.8093103448275862, 0.8226436781609194, 0.8491954022988507, 0.8393103448275863, 0.8362068965517242, 0.8427586206896553, 0.7794252873563219, 0.8024137931034483, 0.8391954022988506, 0.8427586206896551, 0.822528735632184, 0.8028735632183908, 0.8325287356321839, 0.8695402298850576]}, {\"categories\": [\"1\", \"4\", \"5\", \"6\", \"7\", \"8\", \"9\", \"10\", \"11\", \"12\", \"13\", \"14\", \"15\", \"16\", \"17\", \"18\", \"19\", \"20\", \"21\", \"22\", \"23\", \"24\", \"28\"], \"mode\": \"lines\", \"name\": \"precision_score_micro_max\", \"stepped\": true, \"type\": \"scatter\", \"data\": [0.8358620689655172, 0.8358620689655174, 0.8358620689655174, 0.8358620689655174, 0.8358620689655174, 0.8358620689655174, 0.8358620689655174, 0.8358620689655174, 0.8394252873563218, 0.8394252873563218, 0.8394252873563218, 0.8491954022988507, 0.8491954022988507, 0.8491954022988507, 0.8491954022988507, 0.8491954022988507, 0.8491954022988507, 0.8491954022988507, 0.8491954022988507, 0.8491954022988507, 0.8491954022988507, 0.8491954022988507, 0.8695402298850576]}], \"norm_macro_recall\": [{\"categories\": [\"1\", \"4\", \"5\", \"6\", \"7\", \"8\", \"9\", \"10\", \"11\", \"12\", \"13\", \"14\", \"15\", \"16\", \"17\", \"18\", \"19\", \"20\", \"21\", \"22\", \"23\", \"24\", \"28\"], \"mode\": \"markers\", \"name\": \"norm_macro_recall\", \"stepped\": false, \"type\": \"scatter\", \"data\": [0.626049804187676, 0.6330512661759802, 0.48067623769568846, 0.5666506434069364, 0.31712830165004074, 0.2595440115440115, 0.6198672645051364, 0.5771091381285889, 0.6202549630003864, 0.5173603664959501, 0.5295872578349694, 0.6495247415310343, 0.598403933912515, 0.6190142797705727, 0.5974353819330935, 0.3479403053087263, 0.5162141354704284, 0.6378227213290142, 0.630116372122665, 0.5756400751549493, 0.48970473697418787, 0.612606271112564, 0.6634466923236946]}, {\"categories\": [\"1\", \"4\", \"5\", \"6\", \"7\", \"8\", \"9\", \"10\", \"11\", \"12\", \"13\", \"14\", \"15\", \"16\", \"17\", \"18\", \"19\", \"20\", \"21\", \"22\", \"23\", \"24\", \"28\"], \"mode\": \"lines\", \"name\": \"norm_macro_recall_max\", \"stepped\": true, \"type\": \"scatter\", \"data\": [0.626049804187676, 0.6330512661759802, 0.6330512661759802, 0.6330512661759802, 0.6330512661759802, 0.6330512661759802, 0.6330512661759802, 0.6330512661759802, 0.6330512661759802, 0.6330512661759802, 0.6330512661759802, 0.6495247415310343, 0.6495247415310343, 0.6495247415310343, 0.6495247415310343, 0.6495247415310343, 0.6495247415310343, 0.6495247415310343, 0.6495247415310343, 0.6495247415310343, 0.6495247415310343, 0.6495247415310343, 0.6634466923236946]}], \"accuracy\": [{\"categories\": [\"1\", \"4\", \"5\", \"6\", \"7\", \"8\", \"9\", \"10\", \"11\", \"12\", \"13\", \"14\", \"15\", \"16\", \"17\", \"18\", \"19\", \"20\", \"21\", \"22\", \"23\", \"24\", \"28\"], \"mode\": \"markers\", \"name\": \"accuracy\", \"stepped\": false, \"type\": \"scatter\", \"data\": [0.8358620689655172, 0.8358620689655174, 0.8059770114942528, 0.8258620689655173, 0.732528735632184, 0.7160919540229885, 0.8358620689655172, 0.8325287356321839, 0.8394252873563218, 0.8093103448275862, 0.8226436781609194, 0.8491954022988507, 0.8393103448275863, 0.8362068965517242, 0.8427586206896553, 0.7794252873563219, 0.8024137931034483, 0.8391954022988506, 0.8427586206896551, 0.822528735632184, 0.8028735632183908, 0.8325287356321839, 0.8695402298850576]}, {\"categories\": [\"1\", \"4\", \"5\", \"6\", \"7\", \"8\", \"9\", \"10\", \"11\", \"12\", \"13\", \"14\", \"15\", \"16\", \"17\", \"18\", \"19\", \"20\", \"21\", \"22\", \"23\", \"24\", \"28\"], \"mode\": \"lines\", \"name\": \"accuracy_max\", \"stepped\": true, \"type\": \"scatter\", \"data\": [0.8358620689655172, 0.8358620689655174, 0.8358620689655174, 0.8358620689655174, 0.8358620689655174, 0.8358620689655174, 0.8358620689655174, 0.8358620689655174, 0.8394252873563218, 0.8394252873563218, 0.8394252873563218, 0.8491954022988507, 0.8491954022988507, 0.8491954022988507, 0.8491954022988507, 0.8491954022988507, 0.8491954022988507, 0.8491954022988507, 0.8491954022988507, 0.8491954022988507, 0.8491954022988507, 0.8491954022988507, 0.8695402298850576]}], \"recall_score_macro\": [{\"categories\": [\"1\", \"4\", \"5\", \"6\", \"7\", \"8\", \"9\", \"10\", \"11\", \"12\", \"13\", \"14\", \"15\", \"16\", \"17\", \"18\", \"19\", \"20\", \"21\", \"22\", \"23\", \"24\", \"28\"], \"mode\": \"markers\", \"name\": \"recall_score_macro\", \"stepped\": false, \"type\": \"scatter\", \"data\": [0.8130249020938379, 0.8165256330879901, 0.7403381188478442, 0.7833253217034681, 0.6499517106336328, 0.6222383494969307, 0.809933632252568, 0.7885545690642944, 0.8101274815001933, 0.758680183247975, 0.7647936289174846, 0.8247623707655173, 0.7992019669562576, 0.8095071398852862, 0.7987176909665468, 0.673970152654363, 0.7581070677352142, 0.8189113606645071, 0.8150581860613325, 0.7878200375774747, 0.7448523684870939, 0.8063031355562821, 0.8317233461618472]}, {\"categories\": [\"1\", \"4\", \"5\", \"6\", \"7\", \"8\", \"9\", \"10\", \"11\", \"12\", \"13\", \"14\", \"15\", \"16\", \"17\", \"18\", \"19\", \"20\", \"21\", \"22\", \"23\", \"24\", \"28\"], \"mode\": \"lines\", \"name\": \"recall_score_macro_max\", \"stepped\": true, \"type\": \"scatter\", \"data\": [0.8130249020938379, 0.8165256330879901, 0.8165256330879901, 0.8165256330879901, 0.8165256330879901, 0.8165256330879901, 0.8165256330879901, 0.8165256330879901, 0.8165256330879901, 0.8165256330879901, 0.8165256330879901, 0.8247623707655173, 0.8247623707655173, 0.8247623707655173, 0.8247623707655173, 0.8247623707655173, 0.8247623707655173, 0.8247623707655173, 0.8247623707655173, 0.8247623707655173, 0.8247623707655173, 0.8247623707655173, 0.8317233461618472]}], \"log_loss\": [{\"categories\": [\"1\", \"4\", \"5\", \"6\", \"7\", \"8\", \"9\", \"10\", \"11\", \"12\", \"13\", \"14\", \"15\", \"16\", \"17\", \"18\", \"19\", \"20\", \"21\", \"22\", \"23\", \"24\", \"28\"], \"mode\": \"markers\", \"name\": \"log_loss\", \"stepped\": false, \"type\": \"scatter\", \"data\": [0.41764279466886123, 0.37811916432334175, 0.4563410410059426, 0.36612563194260317, 0.5736954551949145, 0.5903325211744258, 0.3631336512434725, 0.38231145959136503, 0.3715853922827175, 0.488972342400222, 0.45853779779480364, 0.3608878597693498, 0.41916278548122055, 0.4182362547689416, 0.3980559430988069, 0.4807904268610071, 0.4262487214694663, 0.37804541520474666, 0.35919690312700175, 0.43184909227397383, 0.44263060774919555, 0.3736057800371061, 0.38752538084708543]}, {\"categories\": [\"1\", \"4\", \"5\", \"6\", \"7\", \"8\", \"9\", \"10\", \"11\", \"12\", \"13\", \"14\", \"15\", \"16\", \"17\", \"18\", \"19\", \"20\", \"21\", \"22\", \"23\", \"24\", \"28\"], \"mode\": \"lines\", \"name\": \"log_loss_min\", \"stepped\": true, \"type\": \"scatter\", \"data\": [0.41764279466886123, 0.37811916432334175, 0.37811916432334175, 0.36612563194260317, 0.36612563194260317, 0.36612563194260317, 0.3631336512434725, 0.3631336512434725, 0.3631336512434725, 0.3631336512434725, 0.3631336512434725, 0.3608878597693498, 0.3608878597693498, 0.3608878597693498, 0.3608878597693498, 0.3608878597693498, 0.3608878597693498, 0.3608878597693498, 0.35919690312700175, 0.35919690312700175, 0.35919690312700175, 0.35919690312700175, 0.35919690312700175]}]}, \"metricName\": null, \"primaryMetricName\": \"accuracy\", \"showLegend\": false}, \"run_metrics\": [{\"name\": \"experiment_status\", \"run_id\": \"AutoML_83343dfc-b0e0-46e6-a5d2-622e085ace09\", \"categories\": [0, 1, 2, 3, 4, 5, 6, 7, 8, 9, 10, 11, 12, 13], \"series\": [{\"data\": [\"DatasetEvaluation\", \"FeaturesGeneration\", \"DatasetFeaturization\", \"DatasetFeaturizationCompleted\", \"DatasetCrossValidationSplit\", \"ModelSelection\", \"BestRunExplainModel\", \"ModelExplanationDataSetSetup\", \"PickSurrogateModel\", \"EngineeredFeatureExplanations\", \"EngineeredFeatureExplanations\", \"RawFeaturesExplanations\", \"RawFeaturesExplanations\", \"BestRunExplainModel\"]}]}, {\"name\": \"experiment_status_description\", \"run_id\": \"AutoML_83343dfc-b0e0-46e6-a5d2-622e085ace09\", \"categories\": [0, 1, 2, 3, 4, 5, 6, 7, 8, 9, 10, 11, 12, 13], \"series\": [{\"data\": [\"Gathering dataset statistics.\", \"Generating features for the dataset.\", \"Beginning to fit featurizers and featurize the dataset.\", \"Completed fit featurizers and featurizing the dataset.\", \"Generating individually featurized CV splits.\", \"Beginning model selection.\", \"Best run model explanations started\", \"Model explanations data setup completed\", \"Choosing LightGBM as the surrogate model for explanations\", \"Computation of engineered features started\", \"Computation of engineered features completed\", \"Computation of raw features started\", \"Computation of raw features completed\", \"Best run model explanations completed\"]}]}, {\"name\": \"log_loss\", \"run_id\": \"AutoML_83343dfc-b0e0-46e6-a5d2-622e085ace09\", \"categories\": [0], \"series\": [{\"data\": [0.38752538084708543]}]}, {\"name\": \"precision_score_macro\", \"run_id\": \"AutoML_83343dfc-b0e0-46e6-a5d2-622e085ace09\", \"categories\": [0], \"series\": [{\"data\": [0.8650381075304349]}]}, {\"name\": \"AUC_weighted\", \"run_id\": \"AutoML_83343dfc-b0e0-46e6-a5d2-622e085ace09\", \"categories\": [0], \"series\": [{\"data\": [0.9052517891126588]}]}, {\"name\": \"recall_score_weighted\", \"run_id\": \"AutoML_83343dfc-b0e0-46e6-a5d2-622e085ace09\", \"categories\": [0], \"series\": [{\"data\": [0.8695402298850576]}]}, {\"name\": \"norm_macro_recall\", \"run_id\": \"AutoML_83343dfc-b0e0-46e6-a5d2-622e085ace09\", \"categories\": [0], \"series\": [{\"data\": [0.6634466923236946]}]}, {\"name\": \"precision_score_weighted\", \"run_id\": \"AutoML_83343dfc-b0e0-46e6-a5d2-622e085ace09\", \"categories\": [0], \"series\": [{\"data\": [0.8785107105733925]}]}, {\"name\": \"matthews_correlation\", \"run_id\": \"AutoML_83343dfc-b0e0-46e6-a5d2-622e085ace09\", \"categories\": [0], \"series\": [{\"data\": [0.6948525834233357]}]}, {\"name\": \"average_precision_score_macro\", \"run_id\": \"AutoML_83343dfc-b0e0-46e6-a5d2-622e085ace09\", \"categories\": [0], \"series\": [{\"data\": [0.8982475877906879]}]}, {\"name\": \"accuracy\", \"run_id\": \"AutoML_83343dfc-b0e0-46e6-a5d2-622e085ace09\", \"categories\": [0], \"series\": [{\"data\": [0.8695402298850576]}]}, {\"name\": \"average_precision_score_micro\", \"run_id\": \"AutoML_83343dfc-b0e0-46e6-a5d2-622e085ace09\", \"categories\": [0], \"series\": [{\"data\": [0.9192011243894452]}]}, {\"name\": \"f1_score_macro\", \"run_id\": \"AutoML_83343dfc-b0e0-46e6-a5d2-622e085ace09\", \"categories\": [0], \"series\": [{\"data\": [0.8392352427243731]}]}, {\"name\": \"f1_score_weighted\", \"run_id\": \"AutoML_83343dfc-b0e0-46e6-a5d2-622e085ace09\", \"categories\": [0], \"series\": [{\"data\": [0.8663079495790891]}]}, {\"name\": \"average_precision_score_weighted\", \"run_id\": \"AutoML_83343dfc-b0e0-46e6-a5d2-622e085ace09\", \"categories\": [0], \"series\": [{\"data\": [0.9213755908598529]}]}, {\"name\": \"AUC_micro\", \"run_id\": \"AutoML_83343dfc-b0e0-46e6-a5d2-622e085ace09\", \"categories\": [0], \"series\": [{\"data\": [0.9159515127493725]}]}, {\"name\": \"precision_score_micro\", \"run_id\": \"AutoML_83343dfc-b0e0-46e6-a5d2-622e085ace09\", \"categories\": [0], \"series\": [{\"data\": [0.8695402298850576]}]}, {\"name\": \"AUC_macro\", \"run_id\": \"AutoML_83343dfc-b0e0-46e6-a5d2-622e085ace09\", \"categories\": [0], \"series\": [{\"data\": [0.9052517891126586]}]}, {\"name\": \"weighted_accuracy\", \"run_id\": \"AutoML_83343dfc-b0e0-46e6-a5d2-622e085ace09\", \"categories\": [0], \"series\": [{\"data\": [0.8931097843494873]}]}, {\"name\": \"balanced_accuracy\", \"run_id\": \"AutoML_83343dfc-b0e0-46e6-a5d2-622e085ace09\", \"categories\": [0], \"series\": [{\"data\": [0.8317233461618472]}]}, {\"name\": \"recall_score_macro\", \"run_id\": \"AutoML_83343dfc-b0e0-46e6-a5d2-622e085ace09\", \"categories\": [0], \"series\": [{\"data\": [0.8317233461618472]}]}, {\"name\": \"f1_score_micro\", \"run_id\": \"AutoML_83343dfc-b0e0-46e6-a5d2-622e085ace09\", \"categories\": [0], \"series\": [{\"data\": [0.8695402298850576]}]}, {\"name\": \"recall_score_micro\", \"run_id\": \"AutoML_83343dfc-b0e0-46e6-a5d2-622e085ace09\", \"categories\": [0], \"series\": [{\"data\": [0.8695402298850576]}]}], \"run_logs\": \"\\nRun is completed.\", \"graph\": {}, \"widget_settings\": {\"childWidgetDisplay\": \"popup\", \"send_telemetry\": false, \"log_level\": \"INFO\", \"sdk_version\": \"1.28.0\"}, \"loading\": false}"
     },
     "metadata": {},
     "output_type": "display_data"
    }
   ],
   "source": [
    "RunDetails(remote_run).show()"
   ]
  },
  {
   "cell_type": "code",
   "execution_count": 14,
   "metadata": {},
   "outputs": [
    {
     "data": {
      "text/html": [
       "<table style=\"width:100%\"><tr><th>Experiment</th><th>Id</th><th>Type</th><th>Status</th><th>Details Page</th><th>Docs Page</th></tr><tr><td>automl-heart-failure-prediction</td><td>AutoML_83343dfc-b0e0-46e6-a5d2-622e085ace09</td><td>automl</td><td>Running</td><td><a href=\"https://ml.azure.com/runs/AutoML_83343dfc-b0e0-46e6-a5d2-622e085ace09?wsid=/subscriptions/2c48c51c-bd47-40d4-abbe-fb8eabd19c8c/resourcegroups/aml-quickstarts-145826/workspaces/quick-starts-ws-145826&amp;tid=660b3398-b80e-49d2-bc5b-ac1dc93b5254\" target=\"_blank\" rel=\"noopener\">Link to Azure Machine Learning studio</a></td><td><a href=\"https://docs.microsoft.com/en-us/python/api/overview/azure/ml/intro?view=azure-ml-py\" target=\"_blank\" rel=\"noopener\">Link to Documentation</a></td></tr></table>"
      ],
      "text/plain": [
       "<IPython.core.display.HTML object>"
      ]
     },
     "metadata": {},
     "output_type": "display_data"
    },
    {
     "name": "stdout",
     "output_type": "stream",
     "text": [
      "\n",
      "Current status: ModelSelection. Beginning model selection.\n",
      "\n",
      "****************************************************************************************************\n",
      "DATA GUARDRAILS: \n",
      "\n",
      "TYPE:         Cross validation\n",
      "STATUS:       DONE\n",
      "DESCRIPTION:  Each iteration of the trained model was validated through cross-validation.\n",
      "              \n",
      "DETAILS:      \n",
      "+---------------------------------+\n",
      "|Number of folds                  |\n",
      "+=================================+\n",
      "|10                               |\n",
      "+---------------------------------+\n",
      "\n",
      "****************************************************************************************************\n",
      "\n",
      "TYPE:         Class balancing detection\n",
      "STATUS:       PASSED\n",
      "DESCRIPTION:  Your inputs were analyzed, and all classes are balanced in your training data.\n",
      "              Learn more about imbalanced data: https://aka.ms/AutomatedMLImbalancedData\n",
      "\n",
      "****************************************************************************************************\n",
      "\n",
      "TYPE:         Missing feature values imputation\n",
      "STATUS:       PASSED\n",
      "DESCRIPTION:  No feature missing values were detected in the training data.\n",
      "              Learn more about missing value imputation: https://aka.ms/AutomatedMLFeaturization\n",
      "\n",
      "****************************************************************************************************\n",
      "\n",
      "TYPE:         High cardinality feature detection\n",
      "STATUS:       PASSED\n",
      "DESCRIPTION:  Your inputs were analyzed, and no high cardinality features were detected.\n",
      "              Learn more about high cardinality feature handling: https://aka.ms/AutomatedMLFeaturization\n",
      "\n",
      "****************************************************************************************************\n",
      "\n",
      "****************************************************************************************************\n",
      "ITERATION: The iteration being evaluated.\n",
      "PIPELINE: A summary description of the pipeline being evaluated.\n",
      "DURATION: Time taken for the current iteration.\n",
      "METRIC: The result of computing score on the fitted pipeline.\n",
      "BEST: The best observed score thus far.\n",
      "****************************************************************************************************\n",
      "\n",
      " ITERATION   PIPELINE                                       DURATION      METRIC      BEST\n",
      "         0   MaxAbsScaler LightGBM                          0:00:47       0.8360    0.8360\n",
      "         1   MaxAbsScaler XGBoostClassifier                 0:00:44       0.8359    0.8360\n",
      "         2   MinMaxScaler RandomForest                      0:00:44       0.8326    0.8360\n",
      "         3   MinMaxScaler RandomForest                      0:00:50       0.8225    0.8360\n",
      "         4   MinMaxScaler RandomForest                      0:02:03       0.8359    0.8360\n",
      "         5   SparseNormalizer XGBoostClassifier             0:02:01       0.8060    0.8360\n",
      "         6   MinMaxScaler LightGBM                          0:00:46       0.8259    0.8360\n",
      "         7   MinMaxScaler SVM                               0:00:55       0.7325    0.8360\n",
      "        10   StandardScalerWrapper LightGBM                 0:00:44       0.8325    0.8360\n",
      "        11   RobustScaler RandomForest                      0:00:45       0.8394    0.8394\n",
      "         8   MinMaxScaler SVM                               0:00:49       0.7161    0.8394\n",
      "         9   MaxAbsScaler GradientBoosting                  0:00:49       0.8359    0.8394\n",
      "        12   SparseNormalizer XGBoostClassifier             0:00:46       0.8093    0.8394\n",
      "        14   MinMaxScaler LightGBM                          0:00:42       0.8492    0.8492\n",
      "        15   MaxAbsScaler LightGBM                          0:00:49       0.8393    0.8492\n",
      "        16   SparseNormalizer XGBoostClassifier             0:00:46       0.8362    0.8492\n",
      "        13   StandardScalerWrapper LightGBM                 0:02:46       0.8226    0.8492\n",
      "        17   StandardScalerWrapper RandomForest             0:00:44       0.8428    0.8492\n",
      "        18   RobustScaler LightGBM                          0:00:45       0.7794    0.8492\n",
      "        19   TruncatedSVDWrapper RandomForest               0:00:47       0.8024    0.8492\n",
      "        20   StandardScalerWrapper LightGBM                 0:00:47       0.8392    0.8492\n",
      "        21   StandardScalerWrapper RandomForest             0:00:46       0.8428    0.8492\n",
      "        22   MinMaxScaler LogisticRegression                0:00:46       0.8225    0.8492\n",
      "        23   SparseNormalizer LightGBM                      0:00:45       0.8029    0.8492\n",
      "        24   MaxAbsScaler RandomForest                      0:00:45       0.8325    0.8492\n",
      "        25   StandardScalerWrapper LightGBM                 0:00:22          nan    0.8492\n",
      "ERROR: {\n",
      "    \"additional_properties\": {},\n",
      "    \"error\": {\n",
      "        \"additional_properties\": {\n",
      "            \"additionalInfo\": null,\n",
      "            \"debugInfo\": null\n",
      "        },\n",
      "        \"code\": \"UserError\",\n",
      "        \"severity\": null,\n",
      "        \"message\": \"Experiment timeout reached, please consider increasing your experiment timeout.\",\n",
      "        \"message_format\": \"Experiment timeout reached, please consider increasing your experiment timeout.\",\n",
      "        \"message_parameters\": {},\n",
      "        \"reference_code\": null,\n",
      "        \"details_uri\": null,\n",
      "        \"target\": null,\n",
      "        \"details\": [],\n",
      "        \"inner_error\": {\n",
      "            \"additional_properties\": {},\n",
      "            \"code\": \"ResourceExhausted\",\n",
      "            \"inner_error\": {\n",
      "                \"additional_properties\": {},\n",
      "                \"code\": \"Timeout\",\n",
      "                \"inner_error\": {\n",
      "                    \"additional_properties\": {},\n",
      "                    \"code\": \"ExperimentTimeoutForIterations\",\n",
      "                    \"inner_error\": null\n",
      "                }\n",
      "            }\n",
      "        }\n",
      "    },\n",
      "    \"correlation\": null,\n",
      "    \"environment\": null,\n",
      "    \"location\": null,\n",
      "    \"time\": {},\n",
      "    \"component_name\": null\n",
      "}\n",
      "        26   MinMaxScaler LightGBM                          0:00:21          nan    0.8492\n",
      "ERROR: {\n",
      "    \"additional_properties\": {},\n",
      "    \"error\": {\n",
      "        \"additional_properties\": {\n",
      "            \"additionalInfo\": null,\n",
      "            \"debugInfo\": null\n",
      "        },\n",
      "        \"code\": \"UserError\",\n",
      "        \"severity\": null,\n",
      "        \"message\": \"Experiment timeout reached, please consider increasing your experiment timeout.\",\n",
      "        \"message_format\": \"Experiment timeout reached, please consider increasing your experiment timeout.\",\n",
      "        \"message_parameters\": {},\n",
      "        \"reference_code\": null,\n",
      "        \"details_uri\": null,\n",
      "        \"target\": null,\n",
      "        \"details\": [],\n",
      "        \"inner_error\": {\n",
      "            \"additional_properties\": {},\n",
      "            \"code\": \"ResourceExhausted\",\n",
      "            \"inner_error\": {\n",
      "                \"additional_properties\": {},\n",
      "                \"code\": \"Timeout\",\n",
      "                \"inner_error\": {\n",
      "                    \"additional_properties\": {},\n",
      "                    \"code\": \"ExperimentTimeoutForIterations\",\n",
      "                    \"inner_error\": null\n",
      "                }\n",
      "            }\n",
      "        }\n",
      "    },\n",
      "    \"correlation\": null,\n",
      "    \"environment\": null,\n",
      "    \"location\": null,\n",
      "    \"time\": {},\n",
      "    \"component_name\": null\n",
      "}\n",
      "        27                                                  0:00:38          nan    0.8492\n",
      "ERROR: {\n",
      "    \"additional_properties\": {},\n",
      "    \"error\": {\n",
      "        \"additional_properties\": {\n",
      "            \"additionalInfo\": null,\n",
      "            \"debugInfo\": null\n",
      "        },\n",
      "        \"code\": \"UserError\",\n",
      "        \"severity\": null,\n",
      "        \"message\": \"Experiment timeout reached, please consider increasing your experiment timeout.\",\n",
      "        \"message_format\": \"Experiment timeout reached, please consider increasing your experiment timeout.\",\n",
      "        \"message_parameters\": {},\n",
      "        \"reference_code\": null,\n",
      "        \"details_uri\": null,\n",
      "        \"target\": null,\n",
      "        \"details\": [],\n",
      "        \"inner_error\": {\n",
      "            \"additional_properties\": {},\n",
      "            \"code\": \"ResourceExhausted\",\n",
      "            \"inner_error\": {\n",
      "                \"additional_properties\": {},\n",
      "                \"code\": \"Timeout\",\n",
      "                \"inner_error\": {\n",
      "                    \"additional_properties\": {},\n",
      "                    \"code\": \"ExperimentTimeoutForIterations\",\n",
      "                    \"inner_error\": null\n",
      "                }\n",
      "            }\n",
      "        }\n",
      "    },\n",
      "    \"correlation\": null,\n",
      "    \"environment\": null,\n",
      "    \"location\": null,\n",
      "    \"time\": {},\n",
      "    \"component_name\": null\n",
      "}\n",
      "        28    VotingEnsemble                                0:01:04       0.8695    0.8695\n",
      "        29    StackEnsemble                                 0:01:04       0.8460    0.8695\n"
     ]
    },
    {
     "data": {
      "text/plain": [
       "{'runId': 'AutoML_83343dfc-b0e0-46e6-a5d2-622e085ace09',\n",
       " 'target': 'compute-cluster',\n",
       " 'status': 'Completed',\n",
       " 'startTimeUtc': '2021-05-27T09:11:43.095009Z',\n",
       " 'endTimeUtc': '2021-05-27T09:33:08.514643Z',\n",
       " 'properties': {'num_iterations': '1000',\n",
       "  'training_type': 'TrainFull',\n",
       "  'acquisition_function': 'EI',\n",
       "  'primary_metric': 'accuracy',\n",
       "  'train_split': '0',\n",
       "  'acquisition_parameter': '0',\n",
       "  'num_cross_validation': None,\n",
       "  'target': 'compute-cluster',\n",
       "  'AMLSettingsJsonString': '{\"path\":null,\"name\":\"automl-heart-failure-prediction\",\"subscription_id\":\"2c48c51c-bd47-40d4-abbe-fb8eabd19c8c\",\"resource_group\":\"aml-quickstarts-145826\",\"workspace_name\":\"quick-starts-ws-145826\",\"region\":\"southcentralus\",\"compute_target\":\"compute-cluster\",\"spark_service\":null,\"azure_service\":\"remote\",\"many_models\":false,\"pipeline_fetch_max_batch_size\":1,\"enable_batch_run\":false,\"enable_run_restructure\":false,\"start_auxiliary_runs_before_parent_complete\":false,\"enable_code_generation\":false,\"iterations\":1000,\"primary_metric\":\"accuracy\",\"task_type\":\"classification\",\"data_script\":null,\"test_size\":0.0,\"validation_size\":0.0,\"n_cross_validations\":null,\"y_min\":null,\"y_max\":null,\"num_classes\":null,\"featurization\":\"auto\",\"_ignore_package_version_incompatibilities\":false,\"is_timeseries\":false,\"max_cores_per_iteration\":1,\"max_concurrent_iterations\":4,\"iteration_timeout_minutes\":null,\"mem_in_mb\":null,\"enforce_time_on_windows\":false,\"experiment_timeout_minutes\":15,\"experiment_exit_score\":null,\"whitelist_models\":null,\"blacklist_algos\":[\"TensorFlowLinearClassifier\",\"TensorFlowDNN\"],\"supported_models\":[\"TensorFlowLinearClassifier\",\"XGBoostClassifier\",\"TensorFlowDNN\",\"SGD\",\"LinearSVM\",\"DecisionTree\",\"LogisticRegression\",\"LightGBM\",\"RandomForest\",\"ExtremeRandomTrees\",\"AveragedPerceptronClassifier\",\"BernoulliNaiveBayes\",\"KNN\",\"GradientBoosting\",\"MultinomialNaiveBayes\",\"SVM\"],\"private_models\":[],\"auto_blacklist\":true,\"blacklist_samples_reached\":false,\"exclude_nan_labels\":true,\"verbosity\":20,\"_debug_log\":\"azureml_automl.log\",\"show_warnings\":false,\"model_explainability\":true,\"service_url\":null,\"sdk_url\":null,\"sdk_packages\":null,\"enable_onnx_compatible_models\":false,\"enable_split_onnx_featurizer_estimator_models\":false,\"vm_type\":\"STANDARD_D2_V2\",\"telemetry_verbosity\":20,\"send_telemetry\":true,\"enable_dnn\":false,\"scenario\":\"SDK-1.13.0\",\"environment_label\":null,\"save_mlflow\":false,\"force_text_dnn\":false,\"enable_feature_sweeping\":true,\"enable_early_stopping\":true,\"early_stopping_n_iters\":10,\"metrics\":null,\"enable_metric_confidence\":false,\"enable_ensembling\":true,\"enable_stack_ensembling\":true,\"ensemble_iterations\":15,\"enable_tf\":false,\"enable_subsampling\":null,\"subsample_seed\":null,\"enable_nimbusml\":false,\"enable_streaming\":false,\"force_streaming\":false,\"track_child_runs\":true,\"allowed_private_models\":[],\"label_column_name\":\"DEATH_EVENT\",\"weight_column_name\":null,\"cv_split_column_names\":null,\"enable_local_managed\":false,\"_local_managed_run_id\":null,\"cost_mode\":1,\"lag_length\":0,\"metric_operation\":\"maximize\",\"preprocess\":true}',\n",
       "  'DataPrepJsonString': '{\\\\\"training_data\\\\\": {\\\\\"datasetId\\\\\": \\\\\"3166e399-ee89-4f1f-ab4c-8ca71b53881d\\\\\"}, \\\\\"datasets\\\\\": 0}',\n",
       "  'EnableSubsampling': None,\n",
       "  'runTemplate': 'AutoML',\n",
       "  'azureml.runsource': 'automl',\n",
       "  'display_task_type': 'classification',\n",
       "  'dependencies_versions': '{\"azureml-widgets\": \"1.28.0\", \"azureml-train\": \"1.28.0\", \"azureml-train-restclients-hyperdrive\": \"1.28.0\", \"azureml-train-core\": \"1.28.0\", \"azureml-train-automl\": \"1.28.0\", \"azureml-train-automl-runtime\": \"1.28.0\", \"azureml-train-automl-client\": \"1.28.0\", \"azureml-tensorboard\": \"1.28.0\", \"azureml-telemetry\": \"1.28.0\", \"azureml-sdk\": \"1.28.0\", \"azureml-samples\": \"0+unknown\", \"azureml-pipeline\": \"1.28.0\", \"azureml-pipeline-steps\": \"1.28.0\", \"azureml-pipeline-core\": \"1.28.0\", \"azureml-opendatasets\": \"1.28.0\", \"azureml-model-management-sdk\": \"1.0.1b6.post1\", \"azureml-mlflow\": \"1.28.0\", \"azureml-interpret\": \"1.28.0\", \"azureml-explain-model\": \"1.28.0\", \"azureml-defaults\": \"1.28.0\", \"azureml-dataset-runtime\": \"1.28.0\", \"azureml-dataprep\": \"2.15.0\", \"azureml-dataprep-rslex\": \"1.13.0\", \"azureml-dataprep-native\": \"33.0.0\", \"azureml-datadrift\": \"1.28.0\", \"azureml-core\": \"1.28.0\", \"azureml-contrib-services\": \"1.28.0\", \"azureml-contrib-server\": \"1.28.0\", \"azureml-contrib-reinforcementlearning\": \"1.28.0\", \"azureml-contrib-pipeline-steps\": \"1.28.0\", \"azureml-contrib-notebook\": \"1.28.0\", \"azureml-contrib-gbdt\": \"1.28.0\", \"azureml-contrib-fairness\": \"1.28.0\", \"azureml-contrib-dataset\": \"1.28.0\", \"azureml-cli-common\": \"1.28.0\", \"azureml-automl-runtime\": \"1.28.0.post2\", \"azureml-automl-dnn-nlp\": \"1.28.0\", \"azureml-automl-core\": \"1.28.0\", \"azureml-accel-models\": \"1.28.0\"}',\n",
       "  '_aml_system_scenario_identification': 'Remote.Parent',\n",
       "  'ClientType': 'SDK',\n",
       "  'environment_cpu_name': 'AzureML-AutoML',\n",
       "  'environment_cpu_label': 'prod',\n",
       "  'environment_gpu_name': 'AzureML-AutoML-GPU',\n",
       "  'environment_gpu_label': 'prod',\n",
       "  'root_attribution': 'automl',\n",
       "  'attribution': 'AutoML',\n",
       "  'Orchestrator': 'AutoML',\n",
       "  'CancelUri': 'https://southcentralus.api.azureml.ms/jasmine/v1.0/subscriptions/2c48c51c-bd47-40d4-abbe-fb8eabd19c8c/resourceGroups/aml-quickstarts-145826/providers/Microsoft.MachineLearningServices/workspaces/quick-starts-ws-145826/experimentids/b17c975a-aad6-457c-b484-e931a8977d89/cancel/AutoML_83343dfc-b0e0-46e6-a5d2-622e085ace09',\n",
       "  'ClientSdkVersion': '1.28.0',\n",
       "  'snapshotId': '00000000-0000-0000-0000-000000000000',\n",
       "  'SetupRunId': 'AutoML_83343dfc-b0e0-46e6-a5d2-622e085ace09_setup',\n",
       "  'SetupRunContainerId': 'dcid.AutoML_83343dfc-b0e0-46e6-a5d2-622e085ace09_setup',\n",
       "  'FeaturizationRunJsonPath': 'featurizer_container.json',\n",
       "  'FeaturizationRunId': 'AutoML_83343dfc-b0e0-46e6-a5d2-622e085ace09_featurize',\n",
       "  'ProblemInfoJsonString': '{\"dataset_num_categorical\": 0, \"is_sparse\": false, \"subsampling\": false, \"has_extra_col\": true, \"dataset_classes\": 2, \"dataset_features\": 12, \"dataset_samples\": 299, \"single_frequency_class_detected\": false}',\n",
       "  'ModelExplainRunId': 'AutoML_83343dfc-b0e0-46e6-a5d2-622e085ace09_ModelExplain'},\n",
       " 'inputDatasets': [{'dataset': {'id': '3166e399-ee89-4f1f-ab4c-8ca71b53881d'}, 'consumptionDetails': {'type': 'RunInput', 'inputName': 'training_data', 'mechanism': 'Direct'}}],\n",
       " 'outputDatasets': [],\n",
       " 'logFiles': {},\n",
       " 'submittedBy': 'ODL_User 145826'}"
      ]
     },
     "execution_count": 14,
     "metadata": {},
     "output_type": "execute_result"
    }
   ],
   "source": [
    "remote_run.wait_for_completion(show_output=True)"
   ]
  },
  {
   "cell_type": "markdown",
   "metadata": {},
   "source": [
    "## Best Model\n",
    "\n",
    "TODO: In the cell below, get the best model from the automl experiments and display all the properties of the model.\n",
    "\n"
   ]
  },
  {
   "cell_type": "code",
   "execution_count": 15,
   "metadata": {
    "gather": {
     "logged": 1598431425670
    },
    "jupyter": {
     "outputs_hidden": false,
     "source_hidden": false
    },
    "nteract": {
     "transient": {
      "deleting": false
     }
    }
   },
   "outputs": [
    {
     "name": "stdout",
     "output_type": "stream",
     "text": [
      "Best Run Id : AutoML_83343dfc-b0e0-46e6-a5d2-622e085ace09_28\n",
      "Accuracy : 0.8695402298850576\n",
      "Best metrics : {'recall_score_micro': 0.8695402298850576, 'f1_score_micro': 0.8695402298850576, 'balanced_accuracy': 0.8317233461618472, 'accuracy': 0.8695402298850576, 'AUC_macro': 0.9052517891126586, 'recall_score_macro': 0.8317233461618472, 'precision_score_micro': 0.8695402298850576, 'f1_score_macro': 0.8392352427243731, 'AUC_micro': 0.9159515127493725, 'weighted_accuracy': 0.8931097843494873, 'average_precision_score_weighted': 0.9213755908598529, 'f1_score_weighted': 0.8663079495790891, 'average_precision_score_micro': 0.9192011243894452, 'precision_score_weighted': 0.8785107105733925, 'average_precision_score_macro': 0.8982475877906879, 'recall_score_weighted': 0.8695402298850576, 'matthews_correlation': 0.6948525834233357, 'norm_macro_recall': 0.6634466923236946, 'AUC_weighted': 0.9052517891126588, 'precision_score_macro': 0.8650381075304349, 'log_loss': 0.38752538084708543, 'accuracy_table': 'aml://artifactId/ExperimentRun/dcid.AutoML_83343dfc-b0e0-46e6-a5d2-622e085ace09_28/accuracy_table', 'confusion_matrix': 'aml://artifactId/ExperimentRun/dcid.AutoML_83343dfc-b0e0-46e6-a5d2-622e085ace09_28/confusion_matrix'}\n",
      "Best model : Pipeline(memory=None,\n",
      "         steps=[('datatransformer',\n",
      "                 DataTransformer(enable_dnn=False, enable_feature_sweeping=True, feature_sweeping_config={}, feature_sweeping_timeout=86400, featurization_config=None, force_text_dnn=False, is_cross_validation=True, is_onnx_compatible=False, observer=None, task='classification', working_dir='/mnt/batch/tasks/shared/LS_root/mount...\n",
      "    timeseries_param_dict=None,\n",
      "    gpu_training_param_dict={'processing_unit_type': 'cpu'}\n",
      "), random_state=None, reg_alpha=0.7894736842105263, reg_lambda=0.3684210526315789, subsample=1))], verbose=False))], flatten_transform=None, weights=[0.1111111111111111, 0.4444444444444444, 0.1111111111111111, 0.1111111111111111, 0.1111111111111111, 0.1111111111111111]))],\n",
      "         verbose=False)\n"
     ]
    }
   ],
   "source": [
    "best_run, fitted_model = remote_run.get_output()\n",
    "best_metrics = best_run.get_metrics()\n",
    "print(\"Best Run Id : {}\".format(best_run.id),\n",
    "      \"Accuracy : {}\".format(best_metrics['accuracy']),\n",
    "      \"Best metrics : {}\".format(best_metrics),\n",
    "      \"Best model : {}\".format(fitted_model), sep = '\\n'\n",
    "     )"
   ]
  },
  {
   "cell_type": "code",
   "execution_count": 16,
   "metadata": {
    "gather": {
     "logged": 1598431426111
    },
    "jupyter": {
     "outputs_hidden": false,
     "source_hidden": false
    },
    "nteract": {
     "transient": {
      "deleting": false
     }
    }
   },
   "outputs": [
    {
     "name": "stdout",
     "output_type": "stream",
     "text": [
      "PreFittedSoftVotingClassifier(\n",
      "    estimators=[('14', Pipeline(memory=None,\n",
      "             steps=[('minmaxscaler', MinMaxScaler(copy=True, feature_range=(0, 1))),\n",
      "                    ('lightgbmclassifier',\n",
      "                     LightGBMClassifier(boosting_type='gbdt', colsample_bytree=0.4955555555555555, learning_rate=0.06842421052631578, max_bin=20, max_depth=-1, min_child_weight=7, min_data_in_leaf=0.06896862068965517, min_split_gain=0.21052631578947367, n_estimators=4...\n",
      "        iteration_timeout_param=None,\n",
      "        feature_column_names=None,\n",
      "        label_column_name=None,\n",
      "        weight_column_name=None,\n",
      "        cv_split_column_names=None,\n",
      "        enable_streaming=None,\n",
      "        timeseries_param_dict=None,\n",
      "        gpu_training_param_dict={'processing_unit_type': 'cpu'}\n",
      "    ), random_state=None, reg_alpha=0.894736842105263, reg_lambda=0.21052631578947367, subsample=0.9405263157894738))],\n",
      "             verbose=False)), ('17', Pipeline(memory=None,\n",
      "             steps=[('standardscalerwrapper',\n",
      "                     StandardScalerWrapper(\n",
      "        copy=True,\n",
      "        with_mean=False,\n",
      "        with_std=True\n",
      "    )),\n",
      "                    ('randomforestclassifier',\n",
      "                     RandomForestClassifier(bootstrap=False, ccp_alpha=0.0,\n",
      "                                            class_weight=None, criterion='entropy',\n",
      "                                            max_depth=None, max_features=0.2,\n",
      "                                            max_leaf_nodes=None, max_samples=None,\n",
      "                                            min_impurity_decrease=0.0,\n",
      "                                            min_impurity_split=None,\n",
      "                                            min_samples_leaf=0.01,\n",
      "                                            min_samples_split=0.10368421052631578,\n",
      "                                            min_weight_fraction_leaf=0.0,\n",
      "                                            n_estimators=25, n_jobs=1,\n",
      "                                            oob_score=False, random_state=None,\n",
      "                                            verbose=0, warm_start=False))],\n",
      "             verbose=False)), ('21', Pipeline(memory=None,\n",
      "             steps=[('standardscalerwrapper',\n",
      "                     StandardScalerWrapper(\n",
      "        copy=True,\n",
      "        with_mean=False,\n",
      "        with_std=True\n",
      "    )),\n",
      "                    ('randomforestclassifier',\n",
      "                     RandomForestClassifier(bootstrap=True, ccp_alpha=0.0,\n",
      "                                            class_weight=None, criterion='entropy',\n",
      "                                            max_depth=None, max_features=0.6,\n",
      "                                            max_leaf_nodes=None, max_samples=None,\n",
      "                                            min_impurity_decrease=0.0,\n",
      "                                            min_impurity_split=None,\n",
      "                                            min_samples_leaf=0.035789473684210524,\n",
      "                                            min_samples_split=0.10368421052631578,\n",
      "                                            min_weight_fraction_leaf=0.0,\n",
      "                                            n_estimators=100, n_jobs=1,\n",
      "                                            oob_score=True, random_state=None,\n",
      "                                            verbose=0, warm_start=False))],\n",
      "             verbose=False)), ('11', Pipeline(memory=None,\n",
      "             steps=[('robustscaler',\n",
      "                     RobustScaler(copy=True, quantile_range=[10, 90],\n",
      "                                  with_centering=True, with_scaling=True)),\n",
      "                    ('randomforestclassifier',\n",
      "                     RandomForestClassifier(bootstrap=True, ccp_alpha=0.0,\n",
      "                                            class_weight=None, criterion='entropy',\n",
      "                                            max_depth=None, max_features=0.6,\n",
      "                                            max_leaf_nodes=None, max_samples=None,\n",
      "                                            min_impurity_decrease=0.0,\n",
      "                                            min_impurity_split=None,\n",
      "                                            min_samples_leaf=0.035789473684210524,\n",
      "                                            min_samples_split=0.10368421052631578,\n",
      "                                            min_weight_fraction_leaf=0.0,\n",
      "                                            n_estimators=25, n_jobs=1,\n",
      "                                            oob_score=False, random_state=None,\n",
      "                                            verbose=0, warm_start=False))],\n",
      "             verbose=False)), ('15', Pipeline(memory=None,\n",
      "             steps=[('maxabsscaler', MaxAbsScaler(copy=True)),\n",
      "                    ('lightgbmclassifier',\n",
      "                     LightGBMClassifier(boosting_type='goss', colsample_bytree=0.4955555555555555, learning_rate=0.06316157894736842, max_bin=110, max_depth=8, min_child_weight=4, min_data_in_leaf=0.03104137931034483, min_split_gain=0, n_estimators=25, n_jobs=1, num_leaves=5, problem_info=P...\n",
      "        cost_mode_param=None,\n",
      "        iteration_timeout_mode=0,\n",
      "        iteration_timeout_param=None,\n",
      "        feature_column_names=None,\n",
      "        label_column_name=None,\n",
      "        weight_column_name=None,\n",
      "        cv_split_column_names=None,\n",
      "        enable_streaming=None,\n",
      "        timeseries_param_dict=None,\n",
      "        gpu_training_param_dict={'processing_unit_type': 'cpu'}\n",
      "    ), random_state=None, reg_alpha=0.47368421052631576, reg_lambda=0, subsample=1))],\n",
      "             verbose=False)), ('18', Pipeline(memory=None,\n",
      "             steps=[('robustscaler',\n",
      "                     RobustScaler(copy=True, quantile_range=[10, 90],\n",
      "                                  with_centering=True, with_scaling=False)),\n",
      "                    ('lightgbmclassifier',\n",
      "                     LightGBMClassifier(boosting_type='goss', colsample_bytree=0.2977777777777778, learning_rate=0.03158578947368421, max_bin=60, max_depth=9, min_child_weight=2, min_data_in_leaf=0.05862482758620691, min_spli...\n",
      "        iteration_timeout_mode=0,\n",
      "        iteration_timeout_param=None,\n",
      "        feature_column_names=None,\n",
      "        label_column_name=None,\n",
      "        weight_column_name=None,\n",
      "        cv_split_column_names=None,\n",
      "        enable_streaming=None,\n",
      "        timeseries_param_dict=None,\n",
      "        gpu_training_param_dict={'processing_unit_type': 'cpu'}\n",
      "    ), random_state=None, reg_alpha=0.7894736842105263, reg_lambda=0.3684210526315789, subsample=1))],\n",
      "             verbose=False))],\n",
      "    weights=[0.1111111111111111, 0.4444444444444444, 0.1111111111111111, 0.1111111111111111, 0.1111111111111111, 0.1111111111111111],\n",
      "    flatten_transform=None,\n",
      "    classification_labels=array([1, 0])\n",
      ")\n"
     ]
    }
   ],
   "source": [
    "print(fitted_model._final_estimator)"
   ]
  },
  {
   "cell_type": "code",
   "execution_count": 17,
   "metadata": {},
   "outputs": [
    {
     "name": "stdout",
     "output_type": "stream",
     "text": [
      "Model(workspace=Workspace.create(name='quick-starts-ws-145826', subscription_id='2c48c51c-bd47-40d4-abbe-fb8eabd19c8c', resource_group='aml-quickstarts-145826'), name=automl-heart-failure-best-model, id=automl-heart-failure-best-model:1, version=1, tags={}, properties={})\n"
     ]
    }
   ],
   "source": [
    "#TODO: Save the best model\n",
    "model = best_run.register_model(model_name = \"automl-heart-failure-best-model\", model_path = './outputs/model.pkl')\n",
    "print(model)"
   ]
  },
  {
   "cell_type": "code",
   "execution_count": 20,
   "metadata": {},
   "outputs": [
    {
     "name": "stdout",
     "output_type": "stream",
     "text": [
      "automl-heart-failure-best-model Version:  1\n"
     ]
    }
   ],
   "source": [
    "for model in Model.list(ws):\n",
    "    print(model.name, 'Version: ', model.version)"
   ]
  },
  {
   "cell_type": "markdown",
   "metadata": {},
   "source": [
    "## Model Deployment\n",
    "\n",
    "Remember you have to deploy only one of the two models you trained.. Perform the steps in the rest of this notebook only if you wish to deploy this model.\n",
    "\n",
    "TODO: In the cell below, register the model, create an inference config and deploy the model as a web service."
   ]
  },
  {
   "cell_type": "code",
   "execution_count": 23,
   "metadata": {
    "gather": {
     "logged": 1598431435189
    },
    "jupyter": {
     "outputs_hidden": false,
     "source_hidden": false
    },
    "nteract": {
     "transient": {
      "deleting": false
     }
    }
   },
   "outputs": [
    {
     "name": "stdout",
     "output_type": "stream",
     "text": [
      "Downloading from outputs/conda_env_v_1_0_0.yml to ./model/conda_env_v_1_0_0.yml ...\n",
      "Downloading from outputs/env_dependencies.json to ./model/env_dependencies.json ...\n",
      "Downloading from outputs/internal_cross_validated_models.pkl to ./model/internal_cross_validated_models.pkl ...\n",
      "Downloading from outputs/model.pkl to ./model/model.pkl ...\n",
      "Downloading from outputs/pipeline_graph.json to ./model/pipeline_graph.json ...\n",
      "Downloading from outputs/scoring_file_v_1_0_0.py to ./model/scoring_file_v_1_0_0.py ...\n",
      "Downloading from outputs/scoring_file_v_2_0_0.py to ./model/scoring_file_v_2_0_0.py ...\n"
     ]
    }
   ],
   "source": [
    "best_run.download_file('/outputs/model.pkl', os.path.join('./model','automl-heart-failure-best-model'))\n",
    "for f in best_run.get_file_names():\n",
    "    if f.startswith('outputs'):\n",
    "        output_file_path = os.path.join('./model', f.split('/')[-1])\n",
    "        print(f'Downloading from {f} to {output_file_path} ...')\n",
    "        best_run.download_file(name=f, output_file_path=output_file_path)"
   ]
  },
  {
   "cell_type": "code",
   "execution_count": 24,
   "metadata": {},
   "outputs": [],
   "source": [
    "model = best_run.register_model(model_name = 'automl-heart-failure-best-model', model_path = './outputs/model.pkl')"
   ]
  },
  {
   "cell_type": "code",
   "execution_count": 28,
   "metadata": {},
   "outputs": [],
   "source": [
    "best_run.download_file('outputs/conda_env_v_1_0_0.yml', 'conda_env.yml')\n",
    "environment = Environment.from_conda_specification(name = 'heart-failure-environment', file_path = 'conda_env.yml')"
   ]
  },
  {
   "cell_type": "code",
   "execution_count": 29,
   "metadata": {},
   "outputs": [],
   "source": [
    "best_run.download_file('outputs/scoring_file_v_1_0_0.py', 'score.py')"
   ]
  },
  {
   "cell_type": "code",
   "execution_count": 32,
   "metadata": {},
   "outputs": [],
   "source": [
    "inference_config = InferenceConfig(entry_script = 'score.py', environment = environment)"
   ]
  },
  {
   "cell_type": "code",
   "execution_count": 34,
   "metadata": {},
   "outputs": [],
   "source": [
    "aci_config = AciWebservice.deploy_configuration(cpu_cores = 1, memory_gb = 1, auth_enabled = True, enable_app_insights = True)"
   ]
  },
  {
   "cell_type": "code",
   "execution_count": 35,
   "metadata": {},
   "outputs": [],
   "source": [
    "webservice = Model.deploy(workspace = ws, name = 'heart-failure-service', models=[model], inference_config = inference_config, deployment_config = aci_config, overwrite = True)"
   ]
  },
  {
   "cell_type": "code",
   "execution_count": 36,
   "metadata": {},
   "outputs": [
    {
     "data": {
      "text/plain": [
       "AciWebservice(workspace=Workspace.create(name='quick-starts-ws-145826', subscription_id='2c48c51c-bd47-40d4-abbe-fb8eabd19c8c', resource_group='aml-quickstarts-145826'), name=heart-failure-service, image_id=None, compute_type=None, state=ACI, scoring_uri=Transitioning, tags=None, properties={}, created_by={})"
      ]
     },
     "execution_count": 36,
     "metadata": {},
     "output_type": "execute_result"
    }
   ],
   "source": [
    "webservice"
   ]
  },
  {
   "cell_type": "code",
   "execution_count": null,
   "metadata": {},
   "outputs": [
    {
     "name": "stdout",
     "output_type": "stream",
     "text": [
      "Tips: You can try get_logs(): https://aka.ms/debugimage#dockerlog or local deployment: https://aka.ms/debugimage#debug-locally to debug if deployment takes longer than 10 minutes.\n",
      "Running\n",
      "2021-05-27 10:05:14+00:00 Creating Container Registry if not exists.\n",
      "2021-05-27 10:05:25+00:00 Registering the environment.\n",
      "2021-05-27 10:05:28+00:00 Building image."
     ]
    }
   ],
   "source": [
    "webservice.wait_for_deployment(show_output = True)"
   ]
  },
  {
   "cell_type": "markdown",
   "metadata": {
    "collapsed": true,
    "gather": {
     "logged": 1598431657736
    },
    "jupyter": {
     "outputs_hidden": false,
     "source_hidden": false
    },
    "nteract": {
     "transient": {
      "deleting": false
     }
    }
   },
   "source": [
    "TODO: In the cell below, send a request to the web service you deployed to test it."
   ]
  },
  {
   "cell_type": "code",
   "execution_count": null,
   "metadata": {
    "gather": {
     "logged": 1598432707604
    },
    "jupyter": {
     "outputs_hidden": false,
     "source_hidden": false
    },
    "nteract": {
     "transient": {
      "deleting": false
     }
    }
   },
   "outputs": [],
   "source": []
  },
  {
   "cell_type": "code",
   "execution_count": null,
   "metadata": {},
   "outputs": [],
   "source": []
  },
  {
   "cell_type": "markdown",
   "metadata": {
    "collapsed": true,
    "gather": {
     "logged": 1598432765711
    },
    "jupyter": {
     "outputs_hidden": false,
     "source_hidden": false
    },
    "nteract": {
     "transient": {
      "deleting": false
     }
    }
   },
   "source": [
    "TODO: In the cell below, print the logs of the web service and delete the service"
   ]
  },
  {
   "cell_type": "code",
   "execution_count": null,
   "metadata": {
    "jupyter": {
     "outputs_hidden": false,
     "source_hidden": false
    },
    "nteract": {
     "transient": {
      "deleting": false
     }
    }
   },
   "outputs": [],
   "source": []
  }
 ],
 "metadata": {
  "kernel_info": {
   "name": "python3"
  },
  "kernelspec": {
   "display_name": "Python 3",
   "language": "python",
   "name": "python3"
  },
  "language_info": {
   "codemirror_mode": {
    "name": "ipython",
    "version": 3
   },
   "file_extension": ".py",
   "mimetype": "text/x-python",
   "name": "python",
   "nbconvert_exporter": "python",
   "pygments_lexer": "ipython3",
   "version": "3.6.9"
  },
  "microsoft": {
   "host": {
    "AzureML": {
     "notebookHasBeenCompleted": true
    }
   }
  },
  "nteract": {
   "version": "nteract-front-end@1.0.0"
  }
 },
 "nbformat": 4,
 "nbformat_minor": 2
}
