{
 "cells": [
  {
   "cell_type": "markdown",
   "metadata": {},
   "source": [
    "# Automated ML\n",
    "\n",
    "Import Dependencies. In the cell below, import all the dependencies that you will need to complete the project."
   ]
  },
  {
   "cell_type": "code",
   "execution_count": 1,
   "metadata": {
    "gather": {
     "logged": 1598423888013
    },
    "jupyter": {
     "outputs_hidden": false,
     "source_hidden": false
    },
    "nteract": {
     "transient": {
      "deleting": false
     }
    }
   },
   "outputs": [],
   "source": [
    "import requests\n",
    "import os\n",
    "import json\n",
    "#import csv\n",
    "\n",
    "import azureml.core\n",
    "from azureml.core.experiment import Experiment\n",
    "from azureml.core.workspace import Workspace\n",
    "from azureml.core.dataset import Dataset\n",
    "from azureml.train.automl import AutoMLConfig\n",
    "\n",
    "from azureml.core.compute import AmlCompute\n",
    "from azureml.core.compute import ComputeTarget\n",
    "from azureml.core.compute_target import ComputeTargetException\n",
    "\n",
    "from azureml.widgets import RunDetails\n",
    "\n",
    "from azureml.core.model import Model\n",
    "from azureml.core.model import InferenceConfig\n",
    "from azureml.core.environment import Environment\n",
    "from azureml.core.webservice import AciWebservice, Webservice"
   ]
  },
  {
   "cell_type": "markdown",
   "metadata": {},
   "source": [
    "## Dataset\n",
    "\n",
    "### Overview\n"
   ]
  },
  {
   "cell_type": "code",
   "execution_count": 2,
   "metadata": {
    "gather": {
     "logged": 1598423890461
    },
    "jupyter": {
     "outputs_hidden": false,
     "source_hidden": false
    },
    "nteract": {
     "transient": {
      "deleting": false
     }
    }
   },
   "outputs": [
    {
     "name": "stdout",
     "output_type": "stream",
     "text": [
      "quick-starts-ws-146485\n",
      "aml-quickstarts-146485\n",
      "southcentralus\n",
      "1b944a9b-fdae-4f97-aeb1-b7eea0beac53\n"
     ]
    }
   ],
   "source": [
    "ws = Workspace.from_config()\n",
    "print(ws.name, ws.resource_group, ws.location, ws.subscription_id, sep = '\\n')"
   ]
  },
  {
   "cell_type": "code",
   "execution_count": 3,
   "metadata": {},
   "outputs": [
    {
     "data": {
      "text/html": [
       "<table style=\"width:100%\"><tr><th>Name</th><th>Workspace</th><th>Report Page</th><th>Docs Page</th></tr><tr><td>automl-heart-failure-prediction</td><td>quick-starts-ws-146485</td><td><a href=\"https://ml.azure.com/experiments/id/83c2ed2f-05d5-47a8-8257-86c076d29e18?wsid=/subscriptions/1b944a9b-fdae-4f97-aeb1-b7eea0beac53/resourcegroups/aml-quickstarts-146485/workspaces/quick-starts-ws-146485&amp;tid=660b3398-b80e-49d2-bc5b-ac1dc93b5254\" target=\"_blank\" rel=\"noopener\">Link to Azure Machine Learning studio</a></td><td><a href=\"https://docs.microsoft.com/en-us/python/api/azureml-core/azureml.core.experiment.Experiment?view=azure-ml-py\" target=\"_blank\" rel=\"noopener\">Link to Documentation</a></td></tr></table>"
      ],
      "text/plain": [
       "Experiment(Name: automl-heart-failure-prediction,\n",
       "Workspace: quick-starts-ws-146485)"
      ]
     },
     "execution_count": 3,
     "metadata": {},
     "output_type": "execute_result"
    }
   ],
   "source": [
    "# Choose a name for the run history container in the workspace.\n",
    "# NOTE: update these to match your existing experiment name\n",
    "experiment_name = 'automl-heart-failure-prediction'\n",
    "\n",
    "experiment = Experiment(ws, experiment_name)\n",
    "\n",
    "run = experiment.start_logging()\n",
    "\n",
    "experiment"
   ]
  },
  {
   "cell_type": "code",
   "execution_count": 4,
   "metadata": {},
   "outputs": [
    {
     "name": "stdout",
     "output_type": "stream",
     "text": [
      "Creating.........\n",
      "SucceededProvisioning operation finished, operation \"Succeeded\"\n",
      "Succeeded.................................................................................................................\n",
      "AmlCompute wait for completion finished\n",
      "\n",
      "Wait timeout has been reached\n",
      "Current provisioning state of AmlCompute is \"Succeeded\" and current node count is \"0\"\n",
      "{'currentNodeCount': 0, 'targetNodeCount': 0, 'nodeStateCounts': {'preparingNodeCount': 0, 'runningNodeCount': 0, 'idleNodeCount': 0, 'unusableNodeCount': 0, 'leavingNodeCount': 0, 'preemptedNodeCount': 0}, 'allocationState': 'Steady', 'allocationStateTransitionTime': '2021-06-03T22:23:10.616000+00:00', 'errors': None, 'creationTime': '2021-06-03T22:22:35.815105+00:00', 'modifiedTime': '2021-06-03T22:23:21.224756+00:00', 'provisioningState': 'Succeeded', 'provisioningStateTransitionTime': None, 'scaleSettings': {'minNodeCount': 0, 'maxNodeCount': 4, 'nodeIdleTimeBeforeScaleDown': 'PT120S'}, 'vmPriority': 'Dedicated', 'vmSize': 'STANDARD_D2_V2'}\n"
     ]
    }
   ],
   "source": [
    "# Choose a name for your CPU cluster\n",
    "amlcompute_cluster_name = \"compute-cluster\"\n",
    "\n",
    "# Verify that cluster does not exist already\n",
    "try:\n",
    "    compute_target = ComputeTarget(workspace=ws, name=amlcompute_cluster_name)\n",
    "    print('Found existing cluster, use it.')\n",
    "except ComputeTargetException:\n",
    "    compute_config = AmlCompute.provisioning_configuration(vm_size='STANDARD_D2_V2',# for GPU, use \"STANDARD_NC6\"\n",
    "                                                           #vm_priority = 'lowpriority', # optional\n",
    "                                                           max_nodes=4)\n",
    "    compute_target = ComputeTarget.create(ws, amlcompute_cluster_name, compute_config)\n",
    "\n",
    "compute_target.wait_for_completion(show_output=True, min_node_count = 1, timeout_in_minutes = 10)\n",
    "\n",
    "print(compute_target.get_status().serialize())"
   ]
  },
  {
   "cell_type": "code",
   "execution_count": 5,
   "metadata": {},
   "outputs": [
    {
     "data": {
      "text/html": [
       "<div>\n",
       "<style scoped>\n",
       "    .dataframe tbody tr th:only-of-type {\n",
       "        vertical-align: middle;\n",
       "    }\n",
       "\n",
       "    .dataframe tbody tr th {\n",
       "        vertical-align: top;\n",
       "    }\n",
       "\n",
       "    .dataframe thead th {\n",
       "        text-align: right;\n",
       "    }\n",
       "</style>\n",
       "<table border=\"1\" class=\"dataframe\">\n",
       "  <thead>\n",
       "    <tr style=\"text-align: right;\">\n",
       "      <th></th>\n",
       "      <th>age</th>\n",
       "      <th>anaemia</th>\n",
       "      <th>creatinine_phosphokinase</th>\n",
       "      <th>diabetes</th>\n",
       "      <th>ejection_fraction</th>\n",
       "      <th>high_blood_pressure</th>\n",
       "      <th>platelets</th>\n",
       "      <th>serum_creatinine</th>\n",
       "      <th>serum_sodium</th>\n",
       "      <th>sex</th>\n",
       "      <th>smoking</th>\n",
       "      <th>time</th>\n",
       "      <th>DEATH_EVENT</th>\n",
       "    </tr>\n",
       "  </thead>\n",
       "  <tbody>\n",
       "    <tr>\n",
       "      <th>count</th>\n",
       "      <td>299.000000</td>\n",
       "      <td>299.000000</td>\n",
       "      <td>299.000000</td>\n",
       "      <td>299.000000</td>\n",
       "      <td>299.000000</td>\n",
       "      <td>299.000000</td>\n",
       "      <td>299.000000</td>\n",
       "      <td>299.00000</td>\n",
       "      <td>299.000000</td>\n",
       "      <td>299.000000</td>\n",
       "      <td>299.00000</td>\n",
       "      <td>299.000000</td>\n",
       "      <td>299.00000</td>\n",
       "    </tr>\n",
       "    <tr>\n",
       "      <th>mean</th>\n",
       "      <td>60.833893</td>\n",
       "      <td>0.431438</td>\n",
       "      <td>581.839465</td>\n",
       "      <td>0.418060</td>\n",
       "      <td>38.083612</td>\n",
       "      <td>0.351171</td>\n",
       "      <td>263358.029264</td>\n",
       "      <td>1.39388</td>\n",
       "      <td>136.625418</td>\n",
       "      <td>0.648829</td>\n",
       "      <td>0.32107</td>\n",
       "      <td>130.260870</td>\n",
       "      <td>0.32107</td>\n",
       "    </tr>\n",
       "    <tr>\n",
       "      <th>std</th>\n",
       "      <td>11.894809</td>\n",
       "      <td>0.496107</td>\n",
       "      <td>970.287881</td>\n",
       "      <td>0.494067</td>\n",
       "      <td>11.834841</td>\n",
       "      <td>0.478136</td>\n",
       "      <td>97804.236869</td>\n",
       "      <td>1.03451</td>\n",
       "      <td>4.412477</td>\n",
       "      <td>0.478136</td>\n",
       "      <td>0.46767</td>\n",
       "      <td>77.614208</td>\n",
       "      <td>0.46767</td>\n",
       "    </tr>\n",
       "    <tr>\n",
       "      <th>min</th>\n",
       "      <td>40.000000</td>\n",
       "      <td>0.000000</td>\n",
       "      <td>23.000000</td>\n",
       "      <td>0.000000</td>\n",
       "      <td>14.000000</td>\n",
       "      <td>0.000000</td>\n",
       "      <td>25100.000000</td>\n",
       "      <td>0.50000</td>\n",
       "      <td>113.000000</td>\n",
       "      <td>0.000000</td>\n",
       "      <td>0.00000</td>\n",
       "      <td>4.000000</td>\n",
       "      <td>0.00000</td>\n",
       "    </tr>\n",
       "    <tr>\n",
       "      <th>25%</th>\n",
       "      <td>51.000000</td>\n",
       "      <td>0.000000</td>\n",
       "      <td>116.500000</td>\n",
       "      <td>0.000000</td>\n",
       "      <td>30.000000</td>\n",
       "      <td>0.000000</td>\n",
       "      <td>212500.000000</td>\n",
       "      <td>0.90000</td>\n",
       "      <td>134.000000</td>\n",
       "      <td>0.000000</td>\n",
       "      <td>0.00000</td>\n",
       "      <td>73.000000</td>\n",
       "      <td>0.00000</td>\n",
       "    </tr>\n",
       "    <tr>\n",
       "      <th>50%</th>\n",
       "      <td>60.000000</td>\n",
       "      <td>0.000000</td>\n",
       "      <td>250.000000</td>\n",
       "      <td>0.000000</td>\n",
       "      <td>38.000000</td>\n",
       "      <td>0.000000</td>\n",
       "      <td>262000.000000</td>\n",
       "      <td>1.10000</td>\n",
       "      <td>137.000000</td>\n",
       "      <td>1.000000</td>\n",
       "      <td>0.00000</td>\n",
       "      <td>115.000000</td>\n",
       "      <td>0.00000</td>\n",
       "    </tr>\n",
       "    <tr>\n",
       "      <th>75%</th>\n",
       "      <td>70.000000</td>\n",
       "      <td>1.000000</td>\n",
       "      <td>582.000000</td>\n",
       "      <td>1.000000</td>\n",
       "      <td>45.000000</td>\n",
       "      <td>1.000000</td>\n",
       "      <td>303500.000000</td>\n",
       "      <td>1.40000</td>\n",
       "      <td>140.000000</td>\n",
       "      <td>1.000000</td>\n",
       "      <td>1.00000</td>\n",
       "      <td>203.000000</td>\n",
       "      <td>1.00000</td>\n",
       "    </tr>\n",
       "    <tr>\n",
       "      <th>max</th>\n",
       "      <td>95.000000</td>\n",
       "      <td>1.000000</td>\n",
       "      <td>7861.000000</td>\n",
       "      <td>1.000000</td>\n",
       "      <td>80.000000</td>\n",
       "      <td>1.000000</td>\n",
       "      <td>850000.000000</td>\n",
       "      <td>9.40000</td>\n",
       "      <td>148.000000</td>\n",
       "      <td>1.000000</td>\n",
       "      <td>1.00000</td>\n",
       "      <td>285.000000</td>\n",
       "      <td>1.00000</td>\n",
       "    </tr>\n",
       "  </tbody>\n",
       "</table>\n",
       "</div>"
      ],
      "text/plain": [
       "              age     anaemia  creatinine_phosphokinase    diabetes  \\\n",
       "count  299.000000  299.000000                299.000000  299.000000   \n",
       "mean    60.833893    0.431438                581.839465    0.418060   \n",
       "std     11.894809    0.496107                970.287881    0.494067   \n",
       "min     40.000000    0.000000                 23.000000    0.000000   \n",
       "25%     51.000000    0.000000                116.500000    0.000000   \n",
       "50%     60.000000    0.000000                250.000000    0.000000   \n",
       "75%     70.000000    1.000000                582.000000    1.000000   \n",
       "max     95.000000    1.000000               7861.000000    1.000000   \n",
       "\n",
       "       ejection_fraction  high_blood_pressure      platelets  \\\n",
       "count         299.000000           299.000000     299.000000   \n",
       "mean           38.083612             0.351171  263358.029264   \n",
       "std            11.834841             0.478136   97804.236869   \n",
       "min            14.000000             0.000000   25100.000000   \n",
       "25%            30.000000             0.000000  212500.000000   \n",
       "50%            38.000000             0.000000  262000.000000   \n",
       "75%            45.000000             1.000000  303500.000000   \n",
       "max            80.000000             1.000000  850000.000000   \n",
       "\n",
       "       serum_creatinine  serum_sodium         sex    smoking        time  \\\n",
       "count         299.00000    299.000000  299.000000  299.00000  299.000000   \n",
       "mean            1.39388    136.625418    0.648829    0.32107  130.260870   \n",
       "std             1.03451      4.412477    0.478136    0.46767   77.614208   \n",
       "min             0.50000    113.000000    0.000000    0.00000    4.000000   \n",
       "25%             0.90000    134.000000    0.000000    0.00000   73.000000   \n",
       "50%             1.10000    137.000000    1.000000    0.00000  115.000000   \n",
       "75%             1.40000    140.000000    1.000000    1.00000  203.000000   \n",
       "max             9.40000    148.000000    1.000000    1.00000  285.000000   \n",
       "\n",
       "       DEATH_EVENT  \n",
       "count    299.00000  \n",
       "mean       0.32107  \n",
       "std        0.46767  \n",
       "min        0.00000  \n",
       "25%        0.00000  \n",
       "50%        0.00000  \n",
       "75%        1.00000  \n",
       "max        1.00000  "
      ]
     },
     "execution_count": 5,
     "metadata": {},
     "output_type": "execute_result"
    }
   ],
   "source": [
    "# NOTE: update the key to match the dataset name\n",
    "found = False\n",
    "key = \"heart-failure\"\n",
    "description_text = \"Heart Failure Prediction DataSet from UCI\"\n",
    "\n",
    "if key in ws.datasets.keys(): \n",
    "        found = True\n",
    "        dataset = ws.datasets[key] \n",
    "\n",
    "if not found:\n",
    "        # Create AML Dataset and register it into Workspace\n",
    "        example_data = 'https://archive.ics.uci.edu/ml/machine-learning-databases/00519/heart_failure_clinical_records_dataset.csv'\n",
    "        dataset = Dataset.Tabular.from_delimited_files(example_data)        \n",
    "        #Register Dataset in Workspace\n",
    "        dataset = dataset.register(workspace=ws,\n",
    "                                   name=key,\n",
    "                                   description=description_text)\n",
    "\n",
    "\n",
    "df = dataset.to_pandas_dataframe()\n",
    "df.describe()"
   ]
  },
  {
   "cell_type": "markdown",
   "metadata": {},
   "source": [
    "## AutoML Configuration\n",
    "\n"
   ]
  },
  {
   "cell_type": "code",
   "execution_count": 6,
   "metadata": {
    "gather": {
     "logged": 1598429217746
    },
    "jupyter": {
     "outputs_hidden": false,
     "source_hidden": false
    },
    "nteract": {
     "transient": {
      "deleting": false
     }
    }
   },
   "outputs": [],
   "source": [
    "# TODO: Put your automl settings here\n",
    "automl_settings = {\n",
    "    \"experiment_timeout_minutes\": 25,\n",
    "    \"max_concurrent_iterations\": 4,\n",
    "    \"primary_metric\" : 'accuracy'\n",
    "}\n",
    "\n",
    "# TODO: Put your automl config here\n",
    "automl_config = AutoMLConfig(compute_target=compute_target,\n",
    "                             task = \"classification\",\n",
    "                             training_data=dataset,\n",
    "                             label_column_name=\"DEATH_EVENT\",   \n",
    "                             enable_early_stopping= True,\n",
    "                             featurization= 'auto',\n",
    "                             debug_log = \"automl_errors.log\",\n",
    "                             **automl_settings\n",
    "                            )"
   ]
  },
  {
   "cell_type": "code",
   "execution_count": 7,
   "metadata": {
    "gather": {
     "logged": 1598431107951
    },
    "jupyter": {
     "outputs_hidden": false,
     "source_hidden": false
    },
    "nteract": {
     "transient": {
      "deleting": false
     }
    }
   },
   "outputs": [
    {
     "name": "stdout",
     "output_type": "stream",
     "text": [
      "Submitting remote run.\n"
     ]
    },
    {
     "data": {
      "text/html": [
       "<table style=\"width:100%\"><tr><th>Experiment</th><th>Id</th><th>Type</th><th>Status</th><th>Details Page</th><th>Docs Page</th></tr><tr><td>automl-heart-failure-prediction</td><td>AutoML_3d3db5e9-fc29-45d8-a90d-b898fb8179ae</td><td>automl</td><td>NotStarted</td><td><a href=\"https://ml.azure.com/runs/AutoML_3d3db5e9-fc29-45d8-a90d-b898fb8179ae?wsid=/subscriptions/1b944a9b-fdae-4f97-aeb1-b7eea0beac53/resourcegroups/aml-quickstarts-146485/workspaces/quick-starts-ws-146485&amp;tid=660b3398-b80e-49d2-bc5b-ac1dc93b5254\" target=\"_blank\" rel=\"noopener\">Link to Azure Machine Learning studio</a></td><td><a href=\"https://docs.microsoft.com/en-us/python/api/overview/azure/ml/intro?view=azure-ml-py\" target=\"_blank\" rel=\"noopener\">Link to Documentation</a></td></tr></table>"
      ],
      "text/plain": [
       "<IPython.core.display.HTML object>"
      ]
     },
     "metadata": {},
     "output_type": "display_data"
    }
   ],
   "source": [
    "# TODO: Submit your experiment\n",
    "remote_run = experiment.submit(automl_config)"
   ]
  },
  {
   "cell_type": "markdown",
   "metadata": {},
   "source": [
    "## Run Details\n",
    "\n"
   ]
  },
  {
   "cell_type": "code",
   "execution_count": 8,
   "metadata": {
    "gather": {
     "logged": 1598431121770
    },
    "jupyter": {
     "outputs_hidden": false,
     "source_hidden": false
    },
    "nteract": {
     "transient": {
      "deleting": false
     }
    }
   },
   "outputs": [
    {
     "data": {
      "application/vnd.jupyter.widget-view+json": {
       "model_id": "eabd6e7b305f49908ae076b0ee4f7199",
       "version_major": 2,
       "version_minor": 0
      },
      "text/plain": [
       "_AutoMLWidget(widget_settings={'childWidgetDisplay': 'popup', 'send_telemetry': False, 'log_level': 'INFO', 's…"
      ]
     },
     "metadata": {},
     "output_type": "display_data"
    },
    {
     "data": {
      "application/aml.mini.widget.v1": "{\"status\": \"Completed\", \"workbench_run_details_uri\": \"https://ml.azure.com/runs/AutoML_3d3db5e9-fc29-45d8-a90d-b898fb8179ae?wsid=/subscriptions/1b944a9b-fdae-4f97-aeb1-b7eea0beac53/resourcegroups/aml-quickstarts-146485/workspaces/quick-starts-ws-146485&tid=660b3398-b80e-49d2-bc5b-ac1dc93b5254\", \"run_id\": \"AutoML_3d3db5e9-fc29-45d8-a90d-b898fb8179ae\", \"run_properties\": {\"run_id\": \"AutoML_3d3db5e9-fc29-45d8-a90d-b898fb8179ae\", \"created_utc\": \"2021-06-03T22:34:13.050975Z\", \"properties\": {\"num_iterations\": \"1000\", \"training_type\": \"TrainFull\", \"acquisition_function\": \"EI\", \"primary_metric\": \"accuracy\", \"train_split\": \"0\", \"acquisition_parameter\": \"0\", \"num_cross_validation\": null, \"target\": \"compute-cluster\", \"AMLSettingsJsonString\": \"{\\\"path\\\":null,\\\"name\\\":\\\"automl-heart-failure-prediction\\\",\\\"subscription_id\\\":\\\"1b944a9b-fdae-4f97-aeb1-b7eea0beac53\\\",\\\"resource_group\\\":\\\"aml-quickstarts-146485\\\",\\\"workspace_name\\\":\\\"quick-starts-ws-146485\\\",\\\"region\\\":\\\"southcentralus\\\",\\\"compute_target\\\":\\\"compute-cluster\\\",\\\"spark_service\\\":null,\\\"azure_service\\\":\\\"remote\\\",\\\"many_models\\\":false,\\\"pipeline_fetch_max_batch_size\\\":1,\\\"enable_batch_run\\\":false,\\\"enable_run_restructure\\\":false,\\\"start_auxiliary_runs_before_parent_complete\\\":false,\\\"enable_code_generation\\\":false,\\\"iterations\\\":1000,\\\"primary_metric\\\":\\\"accuracy\\\",\\\"task_type\\\":\\\"classification\\\",\\\"data_script\\\":null,\\\"test_size\\\":0.0,\\\"validation_size\\\":0.0,\\\"n_cross_validations\\\":null,\\\"y_min\\\":null,\\\"y_max\\\":null,\\\"num_classes\\\":null,\\\"featurization\\\":\\\"auto\\\",\\\"_ignore_package_version_incompatibilities\\\":false,\\\"is_timeseries\\\":false,\\\"max_cores_per_iteration\\\":1,\\\"max_concurrent_iterations\\\":4,\\\"iteration_timeout_minutes\\\":null,\\\"mem_in_mb\\\":null,\\\"enforce_time_on_windows\\\":false,\\\"experiment_timeout_minutes\\\":25,\\\"experiment_exit_score\\\":null,\\\"whitelist_models\\\":null,\\\"blacklist_algos\\\":[\\\"TensorFlowLinearClassifier\\\",\\\"TensorFlowDNN\\\"],\\\"supported_models\\\":[\\\"ExtremeRandomTrees\\\",\\\"LogisticRegression\\\",\\\"KNN\\\",\\\"DecisionTree\\\",\\\"AveragedPerceptronClassifier\\\",\\\"TensorFlowDNN\\\",\\\"TensorFlowLinearClassifier\\\",\\\"SGD\\\",\\\"SVM\\\",\\\"MultinomialNaiveBayes\\\",\\\"RandomForest\\\",\\\"GradientBoosting\\\",\\\"LinearSVM\\\",\\\"XGBoostClassifier\\\",\\\"BernoulliNaiveBayes\\\",\\\"LightGBM\\\"],\\\"private_models\\\":[],\\\"auto_blacklist\\\":true,\\\"blacklist_samples_reached\\\":false,\\\"exclude_nan_labels\\\":true,\\\"verbosity\\\":20,\\\"_debug_log\\\":\\\"azureml_automl.log\\\",\\\"show_warnings\\\":false,\\\"model_explainability\\\":true,\\\"service_url\\\":null,\\\"sdk_url\\\":null,\\\"sdk_packages\\\":null,\\\"enable_onnx_compatible_models\\\":false,\\\"enable_split_onnx_featurizer_estimator_models\\\":false,\\\"vm_type\\\":\\\"STANDARD_D2_V2\\\",\\\"telemetry_verbosity\\\":20,\\\"send_telemetry\\\":true,\\\"enable_dnn\\\":false,\\\"scenario\\\":\\\"SDK-1.13.0\\\",\\\"environment_label\\\":null,\\\"save_mlflow\\\":false,\\\"force_text_dnn\\\":false,\\\"enable_feature_sweeping\\\":true,\\\"enable_early_stopping\\\":true,\\\"early_stopping_n_iters\\\":10,\\\"metrics\\\":null,\\\"enable_metric_confidence\\\":false,\\\"enable_ensembling\\\":true,\\\"enable_stack_ensembling\\\":true,\\\"ensemble_iterations\\\":15,\\\"enable_tf\\\":false,\\\"enable_subsampling\\\":null,\\\"subsample_seed\\\":null,\\\"enable_nimbusml\\\":false,\\\"enable_streaming\\\":false,\\\"force_streaming\\\":false,\\\"track_child_runs\\\":true,\\\"allowed_private_models\\\":[],\\\"label_column_name\\\":\\\"DEATH_EVENT\\\",\\\"weight_column_name\\\":null,\\\"cv_split_column_names\\\":null,\\\"enable_local_managed\\\":false,\\\"_local_managed_run_id\\\":null,\\\"cost_mode\\\":1,\\\"lag_length\\\":0,\\\"metric_operation\\\":\\\"maximize\\\",\\\"preprocess\\\":true}\", \"DataPrepJsonString\": \"{\\\\\\\"training_data\\\\\\\": {\\\\\\\"datasetId\\\\\\\": \\\\\\\"87166bc5-e383-4c29-ad5b-39024f2539b6\\\\\\\"}, \\\\\\\"datasets\\\\\\\": 0}\", \"EnableSubsampling\": null, \"runTemplate\": \"AutoML\", \"azureml.runsource\": \"automl\", \"display_task_type\": \"classification\", \"dependencies_versions\": \"{\\\"azureml-widgets\\\": \\\"1.28.0\\\", \\\"azureml-train\\\": \\\"1.28.0\\\", \\\"azureml-train-restclients-hyperdrive\\\": \\\"1.28.0\\\", \\\"azureml-train-core\\\": \\\"1.28.0\\\", \\\"azureml-train-automl\\\": \\\"1.28.0\\\", \\\"azureml-train-automl-runtime\\\": \\\"1.28.0\\\", \\\"azureml-train-automl-client\\\": \\\"1.28.0\\\", \\\"azureml-tensorboard\\\": \\\"1.28.0\\\", \\\"azureml-telemetry\\\": \\\"1.28.0\\\", \\\"azureml-sdk\\\": \\\"1.28.0\\\", \\\"azureml-samples\\\": \\\"0+unknown\\\", \\\"azureml-pipeline\\\": \\\"1.28.0\\\", \\\"azureml-pipeline-steps\\\": \\\"1.28.0\\\", \\\"azureml-pipeline-core\\\": \\\"1.28.0\\\", \\\"azureml-opendatasets\\\": \\\"1.28.0\\\", \\\"azureml-model-management-sdk\\\": \\\"1.0.1b6.post1\\\", \\\"azureml-mlflow\\\": \\\"1.28.0\\\", \\\"azureml-interpret\\\": \\\"1.28.0\\\", \\\"azureml-explain-model\\\": \\\"1.28.0\\\", \\\"azureml-defaults\\\": \\\"1.28.0\\\", \\\"azureml-dataset-runtime\\\": \\\"1.28.0\\\", \\\"azureml-dataprep\\\": \\\"2.15.0\\\", \\\"azureml-dataprep-rslex\\\": \\\"1.13.0\\\", \\\"azureml-dataprep-native\\\": \\\"33.0.0\\\", \\\"azureml-datadrift\\\": \\\"1.28.0\\\", \\\"azureml-core\\\": \\\"1.28.0\\\", \\\"azureml-contrib-services\\\": \\\"1.28.0\\\", \\\"azureml-contrib-server\\\": \\\"1.28.0\\\", \\\"azureml-contrib-reinforcementlearning\\\": \\\"1.28.0\\\", \\\"azureml-contrib-pipeline-steps\\\": \\\"1.28.0\\\", \\\"azureml-contrib-notebook\\\": \\\"1.28.0\\\", \\\"azureml-contrib-gbdt\\\": \\\"1.28.0\\\", \\\"azureml-contrib-fairness\\\": \\\"1.28.0\\\", \\\"azureml-contrib-dataset\\\": \\\"1.28.0\\\", \\\"azureml-cli-common\\\": \\\"1.28.0\\\", \\\"azureml-automl-runtime\\\": \\\"1.28.0.post2\\\", \\\"azureml-automl-dnn-nlp\\\": \\\"1.28.0\\\", \\\"azureml-automl-core\\\": \\\"1.28.0\\\", \\\"azureml-accel-models\\\": \\\"1.28.0\\\"}\", \"_aml_system_scenario_identification\": \"Remote.Parent\", \"ClientType\": \"SDK\", \"environment_cpu_name\": \"AzureML-AutoML\", \"environment_cpu_label\": \"prod\", \"environment_gpu_name\": \"AzureML-AutoML-GPU\", \"environment_gpu_label\": \"prod\", \"root_attribution\": \"automl\", \"attribution\": \"AutoML\", \"Orchestrator\": \"AutoML\", \"CancelUri\": \"https://southcentralus.api.azureml.ms/jasmine/v1.0/subscriptions/1b944a9b-fdae-4f97-aeb1-b7eea0beac53/resourceGroups/aml-quickstarts-146485/providers/Microsoft.MachineLearningServices/workspaces/quick-starts-ws-146485/experimentids/83c2ed2f-05d5-47a8-8257-86c076d29e18/cancel/AutoML_3d3db5e9-fc29-45d8-a90d-b898fb8179ae\", \"ClientSdkVersion\": \"1.29.0\", \"snapshotId\": \"00000000-0000-0000-0000-000000000000\", \"SetupRunId\": \"AutoML_3d3db5e9-fc29-45d8-a90d-b898fb8179ae_setup\", \"SetupRunContainerId\": \"dcid.AutoML_3d3db5e9-fc29-45d8-a90d-b898fb8179ae_setup\", \"FeaturizationRunJsonPath\": \"featurizer_container.json\", \"FeaturizationRunId\": \"AutoML_3d3db5e9-fc29-45d8-a90d-b898fb8179ae_featurize\", \"ProblemInfoJsonString\": \"{\\\"dataset_num_categorical\\\": 0, \\\"is_sparse\\\": false, \\\"subsampling\\\": false, \\\"has_extra_col\\\": true, \\\"dataset_classes\\\": 2, \\\"dataset_features\\\": 12, \\\"dataset_samples\\\": 299, \\\"single_frequency_class_detected\\\": false}\", \"ModelExplainRunId\": \"AutoML_3d3db5e9-fc29-45d8-a90d-b898fb8179ae_ModelExplain\"}, \"tags\": {\"model_explain_run\": \"best_run\", \"_aml_system_azureml.automlComponent\": \"AutoML\", \"pipeline_id\": \"\", \"score\": \"\", \"predicted_cost\": \"\", \"fit_time\": \"\", \"training_percent\": \"\", \"iteration\": \"\", \"run_preprocessor\": \"\", \"run_algorithm\": \"\", \"dynamic_whitelisting_iterations\": \"<24>;<30>;<34>;\", \"automl_best_child_run_id\": \"AutoML_3d3db5e9-fc29-45d8-a90d-b898fb8179ae_36\", \"model_explain_best_run_child_id\": \"AutoML_3d3db5e9-fc29-45d8-a90d-b898fb8179ae_36\"}, \"end_time_utc\": \"2021-06-03T23:00:11.947376Z\", \"status\": \"Completed\", \"log_files\": {}, \"log_groups\": [], \"run_duration\": \"0:25:58\", \"run_number\": \"1622759653\", \"run_queued_details\": {\"status\": \"Completed\", \"details\": null}}, \"child_runs\": [{\"run_id\": \"AutoML_3d3db5e9-fc29-45d8-a90d-b898fb8179ae_2\", \"run_number\": 1622760280, \"metric\": null, \"status\": \"Completed\", \"run_type\": \"azureml.scriptrun\", \"training_percent\": \"100\", \"start_time\": \"2021-06-03T22:44:54.636819Z\", \"end_time\": \"2021-06-03T22:45:49.968883Z\", \"created_time\": \"2021-06-03T22:44:40.322791Z\", \"created_time_dt\": \"2021-06-03T22:44:40.322791Z\", \"duration\": \"0:01:09\", \"iteration\": \"2\", \"goal\": \"accuracy_max\", \"run_name\": \"MinMaxScaler, RandomForest\", \"run_properties\": \"copy=True, feature_range=(0, 1\", \"primary_metric\": 0.83931034, \"best_metric\": 0.83931034}, {\"run_id\": \"AutoML_3d3db5e9-fc29-45d8-a90d-b898fb8179ae_3\", \"run_number\": 1622760281, \"metric\": null, \"status\": \"Completed\", \"run_type\": \"azureml.scriptrun\", \"training_percent\": \"100\", \"start_time\": \"2021-06-03T22:46:59.846864Z\", \"end_time\": \"2021-06-03T22:52:19.70017Z\", \"created_time\": \"2021-06-03T22:44:40.316533Z\", \"created_time_dt\": \"2021-06-03T22:44:40.316533Z\", \"duration\": \"0:07:39\", \"iteration\": \"3\", \"goal\": \"accuracy_max\", \"run_name\": \"MinMaxScaler, RandomForest\", \"run_properties\": \"copy=True, feature_range=(0, 1\", \"primary_metric\": 0.83275862, \"best_metric\": 0.83931034}, {\"run_id\": \"AutoML_3d3db5e9-fc29-45d8-a90d-b898fb8179ae_4\", \"run_number\": 1622760352, \"metric\": null, \"status\": \"Completed\", \"run_type\": \"azureml.scriptrun\", \"training_percent\": \"100\", \"start_time\": \"2021-06-03T22:47:02.146791Z\", \"end_time\": \"2021-06-03T22:52:15.311093Z\", \"created_time\": \"2021-06-03T22:45:52.859969Z\", \"created_time_dt\": \"2021-06-03T22:45:52.859969Z\", \"duration\": \"0:06:22\", \"iteration\": \"4\", \"goal\": \"accuracy_max\", \"run_name\": \"MinMaxScaler, RandomForest\", \"run_properties\": \"copy=True, feature_range=(0, 1\", \"primary_metric\": 0.84597701, \"best_metric\": 0.84597701}, {\"run_id\": \"AutoML_3d3db5e9-fc29-45d8-a90d-b898fb8179ae_5\", \"run_number\": 1622760417, \"metric\": null, \"status\": \"Completed\", \"run_type\": \"azureml.scriptrun\", \"training_percent\": \"100\", \"start_time\": \"2021-06-03T22:47:05.825229Z\", \"end_time\": \"2021-06-03T22:47:52.831915Z\", \"created_time\": \"2021-06-03T22:46:57.664484Z\", \"created_time_dt\": \"2021-06-03T22:46:57.664484Z\", \"duration\": \"0:00:55\", \"iteration\": \"5\", \"goal\": \"accuracy_max\", \"run_name\": \"SparseNormalizer, XGBoostClassifier\", \"run_properties\": \"copy=True, norm='l1'\", \"primary_metric\": 0.84954023, \"best_metric\": 0.84954023}, {\"run_id\": \"AutoML_3d3db5e9-fc29-45d8-a90d-b898fb8179ae_6\", \"run_number\": 1622760476, \"metric\": null, \"status\": \"Completed\", \"run_type\": \"azureml.scriptrun\", \"training_percent\": \"100\", \"start_time\": \"2021-06-03T22:48:08.731748Z\", \"end_time\": \"2021-06-03T22:48:57.231094Z\", \"created_time\": \"2021-06-03T22:47:56.161184Z\", \"created_time_dt\": \"2021-06-03T22:47:56.161184Z\", \"duration\": \"0:01:01\", \"iteration\": \"6\", \"goal\": \"accuracy_max\", \"run_name\": \"MinMaxScaler, SVM\", \"run_properties\": \"copy=True, feature_range=(0, 1\", \"primary_metric\": 0.7291954, \"best_metric\": 0.84954023}, {\"run_id\": \"AutoML_3d3db5e9-fc29-45d8-a90d-b898fb8179ae_7\", \"run_number\": 1622760540, \"metric\": null, \"status\": \"Completed\", \"run_type\": \"azureml.scriptrun\", \"training_percent\": \"100\", \"start_time\": \"2021-06-03T22:49:12.921671Z\", \"end_time\": \"2021-06-03T22:49:58.921656Z\", \"created_time\": \"2021-06-03T22:49:00.014173Z\", \"created_time_dt\": \"2021-06-03T22:49:00.014173Z\", \"duration\": \"0:00:58\", \"iteration\": \"7\", \"goal\": \"accuracy_max\", \"run_name\": \"MaxAbsScaler, GradientBoosting\", \"run_properties\": \"copy=True\", \"primary_metric\": 0.84252874, \"best_metric\": 0.84954023}, {\"run_id\": \"AutoML_3d3db5e9-fc29-45d8-a90d-b898fb8179ae_8\", \"run_number\": 1622760601, \"metric\": null, \"status\": \"Completed\", \"run_type\": \"azureml.scriptrun\", \"training_percent\": \"100\", \"start_time\": \"2021-06-03T22:50:14.427326Z\", \"end_time\": \"2021-06-03T22:51:02.812495Z\", \"created_time\": \"2021-06-03T22:50:01.640463Z\", \"created_time_dt\": \"2021-06-03T22:50:01.640463Z\", \"duration\": \"0:01:01\", \"iteration\": \"8\", \"goal\": \"accuracy_max\", \"run_name\": \"MaxAbsScaler, RandomForest\", \"run_properties\": \"copy=True\", \"primary_metric\": 0.78942529, \"best_metric\": 0.84954023}, {\"run_id\": \"AutoML_3d3db5e9-fc29-45d8-a90d-b898fb8179ae_9\", \"run_number\": 1622760665, \"metric\": null, \"status\": \"Completed\", \"run_type\": \"azureml.scriptrun\", \"training_percent\": \"100\", \"start_time\": \"2021-06-03T22:51:15.751703Z\", \"end_time\": \"2021-06-03T22:52:06.557346Z\", \"created_time\": \"2021-06-03T22:51:05.29332Z\", \"created_time_dt\": \"2021-06-03T22:51:05.29332Z\", \"duration\": \"0:01:01\", \"iteration\": \"9\", \"goal\": \"accuracy_max\", \"run_name\": \"SparseNormalizer, XGBoostClassifier\", \"run_properties\": \"copy=True, norm='l1'\", \"primary_metric\": 0.80931034, \"best_metric\": 0.84954023}, {\"run_id\": \"AutoML_3d3db5e9-fc29-45d8-a90d-b898fb8179ae_10\", \"run_number\": 1622760728, \"metric\": null, \"status\": \"Completed\", \"run_type\": \"azureml.scriptrun\", \"training_percent\": \"100\", \"start_time\": \"2021-06-03T22:52:22.866997Z\", \"end_time\": \"2021-06-03T22:53:12.102286Z\", \"created_time\": \"2021-06-03T22:52:08.843921Z\", \"created_time_dt\": \"2021-06-03T22:52:08.843921Z\", \"duration\": \"0:01:03\", \"iteration\": \"10\", \"goal\": \"accuracy_max\", \"run_name\": \"RobustScaler, LightGBM\", \"run_properties\": \"copy=True, quantile_range=[10, 90], with_centering=False,\\n             with_scaling=False\", \"primary_metric\": 0.83264368, \"best_metric\": 0.84954023}, {\"run_id\": \"AutoML_3d3db5e9-fc29-45d8-a90d-b898fb8179ae_11\", \"run_number\": 1622760737, \"metric\": null, \"status\": \"Completed\", \"run_type\": \"azureml.scriptrun\", \"training_percent\": \"100\", \"start_time\": \"2021-06-03T22:52:31.572469Z\", \"end_time\": \"2021-06-03T22:53:20.859182Z\", \"created_time\": \"2021-06-03T22:52:17.217934Z\", \"created_time_dt\": \"2021-06-03T22:52:17.217934Z\", \"duration\": \"0:01:03\", \"iteration\": \"11\", \"goal\": \"accuracy_max\", \"run_name\": \"MaxAbsScaler, LightGBM\", \"run_properties\": \"copy=True\", \"primary_metric\": 0.83931034, \"best_metric\": 0.84954023}, {\"run_id\": \"AutoML_3d3db5e9-fc29-45d8-a90d-b898fb8179ae_12\", \"run_number\": 1622760740, \"metric\": null, \"status\": \"Completed\", \"run_type\": \"azureml.scriptrun\", \"training_percent\": \"100\", \"start_time\": \"2021-06-03T22:52:30.589252Z\", \"end_time\": \"2021-06-03T22:53:18.304629Z\", \"created_time\": \"2021-06-03T22:52:20.771235Z\", \"created_time_dt\": \"2021-06-03T22:52:20.771235Z\", \"duration\": \"0:00:57\", \"iteration\": \"12\", \"goal\": \"accuracy_max\", \"run_name\": \"RobustScaler, RandomForest\", \"run_properties\": \"copy=True, quantile_range=[10, 90], with_centering=True,\\n             with_scaling=True\", \"primary_metric\": 0.83908046, \"best_metric\": 0.84954023}, {\"run_id\": \"AutoML_3d3db5e9-fc29-45d8-a90d-b898fb8179ae_13\", \"run_number\": 1622760743, \"metric\": null, \"status\": \"Completed\", \"run_type\": \"azureml.scriptrun\", \"training_percent\": \"100\", \"start_time\": \"2021-06-03T22:52:31.933414Z\", \"end_time\": \"2021-06-03T22:53:22.202867Z\", \"created_time\": \"2021-06-03T22:52:23.957399Z\", \"created_time_dt\": \"2021-06-03T22:52:23.957399Z\", \"duration\": \"0:00:58\", \"iteration\": \"13\", \"goal\": \"accuracy_max\", \"run_name\": \"MinMaxScaler, LightGBM\", \"run_properties\": \"copy=True, feature_range=(0, 1\", \"primary_metric\": 0.82609195, \"best_metric\": 0.84954023}, {\"run_id\": \"AutoML_3d3db5e9-fc29-45d8-a90d-b898fb8179ae_14\", \"run_number\": 1622760794, \"metric\": null, \"status\": \"Completed\", \"run_type\": \"azureml.scriptrun\", \"training_percent\": \"100\", \"start_time\": \"2021-06-03T22:53:27.050571Z\", \"end_time\": \"2021-06-03T22:54:19.284994Z\", \"created_time\": \"2021-06-03T22:53:14.78999Z\", \"created_time_dt\": \"2021-06-03T22:53:14.78999Z\", \"duration\": \"0:01:04\", \"iteration\": \"14\", \"goal\": \"accuracy_max\", \"run_name\": \"SparseNormalizer, XGBoostClassifier\", \"run_properties\": \"copy=True, norm='l1'\", \"primary_metric\": 0.8362069, \"best_metric\": 0.84954023}, {\"run_id\": \"AutoML_3d3db5e9-fc29-45d8-a90d-b898fb8179ae_15\", \"run_number\": 1622760800, \"metric\": null, \"status\": \"Completed\", \"run_type\": \"azureml.scriptrun\", \"training_percent\": \"100\", \"start_time\": \"2021-06-03T22:53:35.044648Z\", \"end_time\": \"2021-06-03T22:54:21.21064Z\", \"created_time\": \"2021-06-03T22:53:20.084084Z\", \"created_time_dt\": \"2021-06-03T22:53:20.084084Z\", \"duration\": \"0:01:01\", \"iteration\": \"15\", \"goal\": \"accuracy_max\", \"run_name\": \"RobustScaler, ExtremeRandomTrees\", \"run_properties\": \"copy=True, quantile_range=[25, 75], with_centering=True,\\n             with_scaling=False\", \"primary_metric\": 0.84609195, \"best_metric\": 0.84954023}, {\"run_id\": \"AutoML_3d3db5e9-fc29-45d8-a90d-b898fb8179ae_17\", \"run_number\": 1622760804, \"metric\": null, \"status\": \"Completed\", \"run_type\": \"azureml.scriptrun\", \"training_percent\": \"100\", \"start_time\": \"2021-06-03T22:53:36.330235Z\", \"end_time\": \"2021-06-03T22:54:21.84689Z\", \"created_time\": \"2021-06-03T22:53:24.340613Z\", \"created_time_dt\": \"2021-06-03T22:53:24.340613Z\", \"duration\": \"0:00:57\", \"iteration\": \"17\", \"goal\": \"accuracy_max\", \"run_name\": \"SparseNormalizer, XGBoostClassifier\", \"run_properties\": \"copy=True, norm='l1'\", \"primary_metric\": 0.83287356, \"best_metric\": 0.84954023}, {\"run_id\": \"AutoML_3d3db5e9-fc29-45d8-a90d-b898fb8179ae_18\", \"run_number\": 1622760861, \"metric\": null, \"status\": \"Completed\", \"run_type\": \"azureml.scriptrun\", \"training_percent\": \"100\", \"start_time\": \"2021-06-03T22:54:33.944323Z\", \"end_time\": \"2021-06-03T22:55:22.36874Z\", \"created_time\": \"2021-06-03T22:54:21.222058Z\", \"created_time_dt\": \"2021-06-03T22:54:21.222058Z\", \"duration\": \"0:01:01\", \"iteration\": \"18\", \"goal\": \"accuracy_max\", \"run_name\": \"SparseNormalizer, GradientBoosting\", \"run_properties\": \"copy=True, norm='max'\", \"primary_metric\": 0.79954023, \"best_metric\": 0.84954023}, {\"run_id\": \"AutoML_3d3db5e9-fc29-45d8-a90d-b898fb8179ae_19\", \"run_number\": 1622760865, \"metric\": null, \"status\": \"Completed\", \"run_type\": \"azureml.scriptrun\", \"training_percent\": \"100\", \"start_time\": \"2021-06-03T22:54:37.31453Z\", \"end_time\": \"2021-06-03T22:55:22.818513Z\", \"created_time\": \"2021-06-03T22:54:25.328208Z\", \"created_time_dt\": \"2021-06-03T22:54:25.328208Z\", \"duration\": \"0:00:57\", \"iteration\": \"19\", \"goal\": \"accuracy_max\", \"run_name\": \"StandardScalerWrapper, RandomForest\", \"run_properties\": \"\\n    copy=True,\\n    with_mean=False,\\n    with_std=True\\n\", \"primary_metric\": 0.8391954, \"best_metric\": 0.84954023}, {\"run_id\": \"AutoML_3d3db5e9-fc29-45d8-a90d-b898fb8179ae_21\", \"run_number\": 1622760869, \"metric\": null, \"status\": \"Completed\", \"run_type\": \"azureml.scriptrun\", \"training_percent\": \"100\", \"start_time\": \"2021-06-03T22:54:41.454085Z\", \"end_time\": \"2021-06-03T22:55:26.943593Z\", \"created_time\": \"2021-06-03T22:54:29.513123Z\", \"created_time_dt\": \"2021-06-03T22:54:29.513123Z\", \"duration\": \"0:00:57\", \"iteration\": \"21\", \"goal\": \"accuracy_max\", \"run_name\": \"StandardScalerWrapper, LightGBM\", \"run_properties\": \"\\n    copy=True,\\n    with_mean=True,\\n    with_std=True\\n\", \"primary_metric\": 0.83586207, \"best_metric\": 0.84954023}, {\"run_id\": \"AutoML_3d3db5e9-fc29-45d8-a90d-b898fb8179ae_22\", \"run_number\": 1622760924, \"metric\": null, \"status\": \"Completed\", \"run_type\": \"azureml.scriptrun\", \"training_percent\": \"100\", \"start_time\": \"2021-06-03T22:55:36.573437Z\", \"end_time\": \"2021-06-03T22:56:25.049Z\", \"created_time\": \"2021-06-03T22:55:24.383586Z\", \"created_time_dt\": \"2021-06-03T22:55:24.383586Z\", \"duration\": \"0:01:00\", \"iteration\": \"22\", \"goal\": \"accuracy_max\", \"run_name\": \"SparseNormalizer, LightGBM\", \"run_properties\": \"copy=True, norm='l2'\", \"primary_metric\": 0.76275862, \"best_metric\": 0.84954023}, {\"run_id\": \"AutoML_3d3db5e9-fc29-45d8-a90d-b898fb8179ae_25\", \"run_number\": 1622760929, \"metric\": null, \"status\": \"Completed\", \"run_type\": \"azureml.scriptrun\", \"training_percent\": \"100\", \"start_time\": \"2021-06-03T22:55:40.413093Z\", \"end_time\": \"2021-06-03T22:56:28.218919Z\", \"created_time\": \"2021-06-03T22:55:29.962098Z\", \"created_time_dt\": \"2021-06-03T22:55:29.962098Z\", \"duration\": \"0:00:58\", \"iteration\": \"25\", \"goal\": \"accuracy_max\", \"run_name\": \"StandardScalerWrapper, LightGBM\", \"run_properties\": \"\\n    copy=True,\\n    with_mean=False,\\n    with_std=True\\n\", \"primary_metric\": 0.84252874, \"best_metric\": 0.84954023}, {\"run_id\": \"AutoML_3d3db5e9-fc29-45d8-a90d-b898fb8179ae_26\", \"run_number\": 1622760987, \"metric\": null, \"status\": \"Completed\", \"run_type\": \"azureml.scriptrun\", \"training_percent\": \"100\", \"start_time\": \"2021-06-03T22:56:38.931255Z\", \"end_time\": \"2021-06-03T22:57:24.367619Z\", \"created_time\": \"2021-06-03T22:56:27.215754Z\", \"created_time_dt\": \"2021-06-03T22:56:27.215754Z\", \"duration\": \"0:00:57\", \"iteration\": \"26\", \"goal\": \"accuracy_max\", \"run_name\": \"MaxAbsScaler, LightGBM\", \"run_properties\": \"copy=True\", \"primary_metric\": 0.83586207, \"best_metric\": 0.84954023}, {\"run_id\": \"AutoML_3d3db5e9-fc29-45d8-a90d-b898fb8179ae_28\", \"run_number\": 1622760990, \"metric\": null, \"status\": \"Completed\", \"run_type\": \"azureml.scriptrun\", \"training_percent\": \"100\", \"start_time\": \"2021-06-03T22:56:38.464567Z\", \"end_time\": \"2021-06-03T22:57:28.163635Z\", \"created_time\": \"2021-06-03T22:56:30.594565Z\", \"created_time_dt\": \"2021-06-03T22:56:30.594565Z\", \"duration\": \"0:00:57\", \"iteration\": \"28\", \"goal\": \"accuracy_max\", \"run_name\": \"SparseNormalizer, ExtremeRandomTrees\", \"run_properties\": \"copy=True, norm='l1'\", \"primary_metric\": 0.78574713, \"best_metric\": 0.84954023}, {\"run_id\": \"AutoML_3d3db5e9-fc29-45d8-a90d-b898fb8179ae_30\", \"run_number\": 1622761047, \"metric\": null, \"status\": \"Completed\", \"run_type\": \"azureml.scriptrun\", \"training_percent\": \"100\", \"start_time\": \"2021-06-03T22:57:37.58942Z\", \"end_time\": \"2021-06-03T22:58:25.312615Z\", \"created_time\": \"2021-06-03T22:57:27.434129Z\", \"created_time_dt\": \"2021-06-03T22:57:27.434129Z\", \"duration\": \"0:00:57\", \"iteration\": \"30\", \"goal\": \"accuracy_max\", \"run_name\": \"StandardScalerWrapper, XGBoostClassifier\", \"run_properties\": \"\\n    copy=True,\\n    with_mean=False,\\n    with_std=False\\n\", \"primary_metric\": 0.82586207, \"best_metric\": 0.84954023}, {\"run_id\": \"AutoML_3d3db5e9-fc29-45d8-a90d-b898fb8179ae_31\", \"run_number\": 1622761051, \"metric\": null, \"status\": \"Completed\", \"run_type\": \"azureml.scriptrun\", \"training_percent\": \"100\", \"start_time\": \"2021-06-03T22:57:41.246094Z\", \"end_time\": \"2021-06-03T22:58:26.072087Z\", \"created_time\": \"2021-06-03T22:57:31.206336Z\", \"created_time_dt\": \"2021-06-03T22:57:31.206336Z\", \"duration\": \"0:00:54\", \"iteration\": \"31\", \"goal\": \"accuracy_max\", \"run_name\": \"StandardScalerWrapper, LightGBM\", \"run_properties\": \"\\n    copy=True,\\n    with_mean=False,\\n    with_std=True\\n\", \"primary_metric\": 0.83931034, \"best_metric\": 0.84954023}, {\"run_id\": \"AutoML_3d3db5e9-fc29-45d8-a90d-b898fb8179ae_33\", \"run_number\": 1622761059, \"metric\": null, \"status\": \"Completed\", \"run_type\": \"azureml.scriptrun\", \"training_percent\": \"100\", \"start_time\": \"2021-06-03T22:57:49.109409Z\", \"end_time\": \"2021-06-03T22:58:36.716158Z\", \"created_time\": \"2021-06-03T22:57:39.576689Z\", \"created_time_dt\": \"2021-06-03T22:57:39.576689Z\", \"duration\": \"0:00:57\", \"iteration\": \"33\", \"goal\": \"accuracy_max\", \"run_name\": \"StandardScalerWrapper, XGBoostClassifier\", \"run_properties\": \"\\n    copy=True,\\n    with_mean=False,\\n    with_std=False\\n\", \"primary_metric\": 0.82229885, \"best_metric\": 0.84954023}, {\"run_id\": \"AutoML_3d3db5e9-fc29-45d8-a90d-b898fb8179ae_34\", \"run_number\": 1622761109, \"metric\": null, \"status\": \"Canceled\", \"run_type\": \"azureml.scriptrun\", \"training_percent\": \"100\", \"start_time\": \"2021-06-03T22:58:29.237926Z\", \"end_time\": \"2021-06-03T22:58:43.005078Z\", \"created_time\": \"2021-06-03T22:58:29.237926Z\", \"created_time_dt\": \"2021-06-03T22:58:29.237926Z\", \"duration\": \"0:00:13\", \"iteration\": \"34\", \"goal\": null, \"run_name\": \"Canceled\", \"run_properties\": null}, {\"run_id\": \"AutoML_3d3db5e9-fc29-45d8-a90d-b898fb8179ae_36\", \"run_number\": 1622761124, \"metric\": null, \"status\": \"Completed\", \"run_type\": \"azureml.scriptrun\", \"training_percent\": \"100\", \"start_time\": \"2021-06-03T22:58:51.560122Z\", \"end_time\": \"2021-06-03T23:00:09.116483Z\", \"created_time\": \"2021-06-03T22:58:43.976819Z\", \"created_time_dt\": \"2021-06-03T22:58:43.976819Z\", \"duration\": \"0:01:25\", \"iteration\": \"36\", \"goal\": \"accuracy_max\", \"run_name\": \"VotingEnsemble\", \"run_properties\": \"\\n    estimators=[('5', Pipeline(memory=None,\\n             steps=[('sparsenormalizer', Normalizer(copy=True, norm='l1'\", \"primary_metric\": 0.87287356, \"best_metric\": 0.87287356}], \"children_metrics\": {\"categories\": [0], \"series\": {\"AUC_macro\": [{\"categories\": [\"2\", \"3\", \"4\", \"5\", \"6\", \"7\", \"8\", \"9\", \"10\", \"11\", \"12\", \"13\", \"14\", \"15\", \"17\", \"18\", \"19\", \"21\", \"22\", \"25\", \"26\", \"28\", \"30\", \"31\", \"33\", \"36\"], \"mode\": \"markers\", \"name\": \"AUC_macro\", \"stepped\": false, \"type\": \"scatter\", \"data\": [0.8966628254733232, 0.8962235645657843, 0.9038587753144391, 0.9051725831652033, 0.7472287308356531, 0.9071605201519389, 0.9038969561860293, 0.8608370342027666, 0.8977848739107319, 0.9022516357593588, 0.8960357127447516, 0.8947674802399058, 0.8879981568848561, 0.8998206643915454, 0.8800199762691753, 0.8610405400716328, 0.8962120119413596, 0.8893476218818896, 0.8582517292352533, 0.8985968029703155, 0.9036144070100592, 0.8415104000394045, 0.8933885311654188, 0.8951857931224636, 0.9025329172459035, 0.9140860789985503]}, {\"categories\": [\"2\", \"3\", \"4\", \"5\", \"6\", \"7\", \"8\", \"9\", \"10\", \"11\", \"12\", \"13\", \"14\", \"15\", \"17\", \"18\", \"19\", \"21\", \"22\", \"25\", \"26\", \"28\", \"30\", \"31\", \"33\", \"36\"], \"mode\": \"lines\", \"name\": \"AUC_macro_max\", \"stepped\": true, \"type\": \"scatter\", \"data\": [0.8966628254733232, 0.8966628254733232, 0.9038587753144391, 0.9051725831652033, 0.9051725831652033, 0.9071605201519389, 0.9071605201519389, 0.9071605201519389, 0.9071605201519389, 0.9071605201519389, 0.9071605201519389, 0.9071605201519389, 0.9071605201519389, 0.9071605201519389, 0.9071605201519389, 0.9071605201519389, 0.9071605201519389, 0.9071605201519389, 0.9071605201519389, 0.9071605201519389, 0.9071605201519389, 0.9071605201519389, 0.9071605201519389, 0.9071605201519389, 0.9071605201519389, 0.9140860789985503]}], \"precision_score_macro\": [{\"categories\": [\"2\", \"3\", \"4\", \"5\", \"6\", \"7\", \"8\", \"9\", \"10\", \"11\", \"12\", \"13\", \"14\", \"15\", \"17\", \"18\", \"19\", \"21\", \"22\", \"25\", \"26\", \"28\", \"30\", \"31\", \"33\", \"36\"], \"mode\": \"markers\", \"name\": \"precision_score_macro\", \"stepped\": false, \"type\": \"scatter\", \"data\": [0.8110333124477862, 0.8212840137980804, 0.8269727365932104, 0.8473634610791361, 0.7106875101826375, 0.8317541486291485, 0.8668077630903717, 0.7853385886633968, 0.819553926465691, 0.8366777806592385, 0.820204843465713, 0.8466691396365309, 0.8208112856094415, 0.8548508267095224, 0.8438066482631701, 0.7951673881673882, 0.8143310433527825, 0.8355435398993751, 0.7808787300072908, 0.8348069985569986, 0.8153809942189099, 0.7605684191539455, 0.8130716341248376, 0.8347272430087076, 0.8064215087196647, 0.8797016329081547]}, {\"categories\": [\"2\", \"3\", \"4\", \"5\", \"6\", \"7\", \"8\", \"9\", \"10\", \"11\", \"12\", \"13\", \"14\", \"15\", \"17\", \"18\", \"19\", \"21\", \"22\", \"25\", \"26\", \"28\", \"30\", \"31\", \"33\", \"36\"], \"mode\": \"lines\", \"name\": \"precision_score_macro_max\", \"stepped\": true, \"type\": \"scatter\", \"data\": [0.8110333124477862, 0.8212840137980804, 0.8269727365932104, 0.8473634610791361, 0.8473634610791361, 0.8473634610791361, 0.8668077630903717, 0.8668077630903717, 0.8668077630903717, 0.8668077630903717, 0.8668077630903717, 0.8668077630903717, 0.8668077630903717, 0.8668077630903717, 0.8668077630903717, 0.8668077630903717, 0.8668077630903717, 0.8668077630903717, 0.8668077630903717, 0.8668077630903717, 0.8668077630903717, 0.8668077630903717, 0.8668077630903717, 0.8668077630903717, 0.8668077630903717, 0.8797016329081547]}], \"recall_score_weighted\": [{\"categories\": [\"2\", \"3\", \"4\", \"5\", \"6\", \"7\", \"8\", \"9\", \"10\", \"11\", \"12\", \"13\", \"14\", \"15\", \"17\", \"18\", \"19\", \"21\", \"22\", \"25\", \"26\", \"28\", \"30\", \"31\", \"33\", \"36\"], \"mode\": \"markers\", \"name\": \"recall_score_weighted\", \"stepped\": false, \"type\": \"scatter\", \"data\": [0.8393103448275863, 0.8327586206896551, 0.8459770114942529, 0.8495402298850575, 0.7291954022988507, 0.8425287356321839, 0.7894252873563218, 0.8093103448275862, 0.8326436781609197, 0.8393103448275863, 0.8390804597701148, 0.8260919540229885, 0.8362068965517242, 0.8460919540229886, 0.8328735632183909, 0.7995402298850574, 0.8391954022988506, 0.8358620689655174, 0.7627586206896552, 0.8425287356321839, 0.8358620689655172, 0.7857471264367817, 0.8258620689655173, 0.8393103448275863, 0.8222988505747126, 0.8728735632183909]}, {\"categories\": [\"2\", \"3\", \"4\", \"5\", \"6\", \"7\", \"8\", \"9\", \"10\", \"11\", \"12\", \"13\", \"14\", \"15\", \"17\", \"18\", \"19\", \"21\", \"22\", \"25\", \"26\", \"28\", \"30\", \"31\", \"33\", \"36\"], \"mode\": \"lines\", \"name\": \"recall_score_weighted_max\", \"stepped\": true, \"type\": \"scatter\", \"data\": [0.8393103448275863, 0.8393103448275863, 0.8459770114942529, 0.8495402298850575, 0.8495402298850575, 0.8495402298850575, 0.8495402298850575, 0.8495402298850575, 0.8495402298850575, 0.8495402298850575, 0.8495402298850575, 0.8495402298850575, 0.8495402298850575, 0.8495402298850575, 0.8495402298850575, 0.8495402298850575, 0.8495402298850575, 0.8495402298850575, 0.8495402298850575, 0.8495402298850575, 0.8495402298850575, 0.8495402298850575, 0.8495402298850575, 0.8495402298850575, 0.8495402298850575, 0.8728735632183909]}], \"log_loss\": [{\"categories\": [\"2\", \"3\", \"4\", \"5\", \"6\", \"7\", \"8\", \"9\", \"10\", \"11\", \"12\", \"13\", \"14\", \"15\", \"17\", \"18\", \"19\", \"21\", \"22\", \"25\", \"26\", \"28\", \"30\", \"31\", \"33\", \"36\"], \"mode\": \"markers\", \"name\": \"log_loss\", \"stepped\": false, \"type\": \"scatter\", \"data\": [0.38512255040137006, 0.39347871938309636, 0.36664829143307953, 0.3893973845598276, 0.579767993644718, 0.3574272085355242, 0.48075440578334944, 0.488972342400222, 0.375009972392354, 0.41916278548122055, 0.36896744075530685, 0.4227894568759668, 0.4182362547689416, 0.3999645828683823, 0.4131232228230042, 0.44685864592524877, 0.38143952826343935, 0.39355878400113725, 0.5057101995981514, 0.36711678101912315, 0.3696132647988505, 0.61339474877209, 0.39687995238259166, 0.41860634754545883, 0.3773787936016698, 0.37627236413003307]}, {\"categories\": [\"2\", \"3\", \"4\", \"5\", \"6\", \"7\", \"8\", \"9\", \"10\", \"11\", \"12\", \"13\", \"14\", \"15\", \"17\", \"18\", \"19\", \"21\", \"22\", \"25\", \"26\", \"28\", \"30\", \"31\", \"33\", \"36\"], \"mode\": \"lines\", \"name\": \"log_loss_min\", \"stepped\": true, \"type\": \"scatter\", \"data\": [0.38512255040137006, 0.38512255040137006, 0.36664829143307953, 0.36664829143307953, 0.36664829143307953, 0.3574272085355242, 0.3574272085355242, 0.3574272085355242, 0.3574272085355242, 0.3574272085355242, 0.3574272085355242, 0.3574272085355242, 0.3574272085355242, 0.3574272085355242, 0.3574272085355242, 0.3574272085355242, 0.3574272085355242, 0.3574272085355242, 0.3574272085355242, 0.3574272085355242, 0.3574272085355242, 0.3574272085355242, 0.3574272085355242, 0.3574272085355242, 0.3574272085355242, 0.3574272085355242]}], \"matthews_correlation\": [{\"categories\": [\"2\", \"3\", \"4\", \"5\", \"6\", \"7\", \"8\", \"9\", \"10\", \"11\", \"12\", \"13\", \"14\", \"15\", \"17\", \"18\", \"19\", \"21\", \"22\", \"25\", \"26\", \"28\", \"30\", \"31\", \"33\", \"36\"], \"mode\": \"markers\", \"name\": \"matthews_correlation\", \"stepped\": false, \"type\": \"scatter\", \"data\": [0.6231017976459976, 0.6142492985016078, 0.6515272039225286, 0.6600134354519808, 0.34726407145129956, 0.6450269097927707, 0.5213805004699654, 0.5420631828594559, 0.6094516219801407, 0.6320897071733595, 0.6335959335942302, 0.5985307000342799, 0.6291702367253744, 0.6502744867081566, 0.6144071261826648, 0.517952985298253, 0.624206863496094, 0.6258143539273139, 0.4037338520251076, 0.6441816088928001, 0.6288391971759815, 0.5444153667195637, 0.5960279714496484, 0.6282666583697689, 0.6055424071090028, 0.7183251679637097]}, {\"categories\": [\"2\", \"3\", \"4\", \"5\", \"6\", \"7\", \"8\", \"9\", \"10\", \"11\", \"12\", \"13\", \"14\", \"15\", \"17\", \"18\", \"19\", \"21\", \"22\", \"25\", \"26\", \"28\", \"30\", \"31\", \"33\", \"36\"], \"mode\": \"lines\", \"name\": \"matthews_correlation_max\", \"stepped\": true, \"type\": \"scatter\", \"data\": [0.6231017976459976, 0.6231017976459976, 0.6515272039225286, 0.6600134354519808, 0.6600134354519808, 0.6600134354519808, 0.6600134354519808, 0.6600134354519808, 0.6600134354519808, 0.6600134354519808, 0.6600134354519808, 0.6600134354519808, 0.6600134354519808, 0.6600134354519808, 0.6600134354519808, 0.6600134354519808, 0.6600134354519808, 0.6600134354519808, 0.6600134354519808, 0.6600134354519808, 0.6600134354519808, 0.6600134354519808, 0.6600134354519808, 0.6600134354519808, 0.6600134354519808, 0.7183251679637097]}], \"average_precision_score_weighted\": [{\"categories\": [\"2\", \"3\", \"4\", \"5\", \"6\", \"7\", \"8\", \"9\", \"10\", \"11\", \"12\", \"13\", \"14\", \"15\", \"17\", \"18\", \"19\", \"21\", \"22\", \"25\", \"26\", \"28\", \"30\", \"31\", \"33\", \"36\"], \"mode\": \"markers\", \"name\": \"average_precision_score_weighted\", \"stepped\": false, \"type\": \"scatter\", \"data\": [0.9116336965426765, 0.9118975686412158, 0.9155785849539122, 0.9197855751452199, 0.7902984708289256, 0.9250334221408343, 0.9225306630187067, 0.8764764478120824, 0.9184840024736696, 0.9185264340158863, 0.9125144853710889, 0.9177586180946771, 0.9051350361494794, 0.9207956424872297, 0.8970506179041774, 0.8840518794931376, 0.9175496645658348, 0.9105790712632071, 0.8821699637406677, 0.9139002185041992, 0.9160419972151503, 0.8690433559603271, 0.9130703357890295, 0.9128433838735328, 0.9212460655223929, 0.9251892934172083]}, {\"categories\": [\"2\", \"3\", \"4\", \"5\", \"6\", \"7\", \"8\", \"9\", \"10\", \"11\", \"12\", \"13\", \"14\", \"15\", \"17\", \"18\", \"19\", \"21\", \"22\", \"25\", \"26\", \"28\", \"30\", \"31\", \"33\", \"36\"], \"mode\": \"lines\", \"name\": \"average_precision_score_weighted_max\", \"stepped\": true, \"type\": \"scatter\", \"data\": [0.9116336965426765, 0.9118975686412158, 0.9155785849539122, 0.9197855751452199, 0.9197855751452199, 0.9250334221408343, 0.9250334221408343, 0.9250334221408343, 0.9250334221408343, 0.9250334221408343, 0.9250334221408343, 0.9250334221408343, 0.9250334221408343, 0.9250334221408343, 0.9250334221408343, 0.9250334221408343, 0.9250334221408343, 0.9250334221408343, 0.9250334221408343, 0.9250334221408343, 0.9250334221408343, 0.9250334221408343, 0.9250334221408343, 0.9250334221408343, 0.9250334221408343, 0.9251892934172083]}], \"f1_score_macro\": [{\"categories\": [\"2\", \"3\", \"4\", \"5\", \"6\", \"7\", \"8\", \"9\", \"10\", \"11\", \"12\", \"13\", \"14\", \"15\", \"17\", \"18\", \"19\", \"21\", \"22\", \"25\", \"26\", \"28\", \"30\", \"31\", \"33\", \"36\"], \"mode\": \"markers\", \"name\": \"f1_score_macro\", \"stepped\": false, \"type\": \"scatter\", \"data\": [0.8054567955243235, 0.7956096171621541, 0.8171890111294159, 0.8187440315208574, 0.6373817627329346, 0.8112230024296236, 0.6981772480018629, 0.7603669925285953, 0.7924948610112188, 0.800592919675218, 0.8082891767352575, 0.7754192497122441, 0.8062936525373925, 0.811065850155571, 0.7900868467916522, 0.7399148041654853, 0.805897324363583, 0.7980332129988881, 0.6482102012906361, 0.8112085339848484, 0.8043202694352758, 0.7616898337422889, 0.7863393841733325, 0.8012883076904815, 0.792757951388962, 0.84618819916759]}, {\"categories\": [\"2\", \"3\", \"4\", \"5\", \"6\", \"7\", \"8\", \"9\", \"10\", \"11\", \"12\", \"13\", \"14\", \"15\", \"17\", \"18\", \"19\", \"21\", \"22\", \"25\", \"26\", \"28\", \"30\", \"31\", \"33\", \"36\"], \"mode\": \"lines\", \"name\": \"f1_score_macro_max\", \"stepped\": true, \"type\": \"scatter\", \"data\": [0.8054567955243235, 0.8054567955243235, 0.8171890111294159, 0.8187440315208574, 0.8187440315208574, 0.8187440315208574, 0.8187440315208574, 0.8187440315208574, 0.8187440315208574, 0.8187440315208574, 0.8187440315208574, 0.8187440315208574, 0.8187440315208574, 0.8187440315208574, 0.8187440315208574, 0.8187440315208574, 0.8187440315208574, 0.8187440315208574, 0.8187440315208574, 0.8187440315208574, 0.8187440315208574, 0.8187440315208574, 0.8187440315208574, 0.8187440315208574, 0.8187440315208574, 0.84618819916759]}], \"average_precision_score_micro\": [{\"categories\": [\"2\", \"3\", \"4\", \"5\", \"6\", \"7\", \"8\", \"9\", \"10\", \"11\", \"12\", \"13\", \"14\", \"15\", \"17\", \"18\", \"19\", \"21\", \"22\", \"25\", \"26\", \"28\", \"30\", \"31\", \"33\", \"36\"], \"mode\": \"markers\", \"name\": \"average_precision_score_micro\", \"stepped\": false, \"type\": \"scatter\", \"data\": [0.9097108305905339, 0.9128400928175593, 0.9155070341057595, 0.9111121845605409, 0.7836524820827264, 0.9229151949175904, 0.883094247135434, 0.876380860099481, 0.9181892021893937, 0.9100085270296232, 0.9111322553704767, 0.9045880262347422, 0.8969673089031585, 0.9123086299977029, 0.8933724049045217, 0.8809890843761758, 0.9100852978590023, 0.9071089680992521, 0.8609316889044043, 0.9136348515728081, 0.9138480568763893, 0.8519862176093891, 0.9070379219292132, 0.907380079578538, 0.9125023189537812, 0.9239315729818529]}, {\"categories\": [\"2\", \"3\", \"4\", \"5\", \"6\", \"7\", \"8\", \"9\", \"10\", \"11\", \"12\", \"13\", \"14\", \"15\", \"17\", \"18\", \"19\", \"21\", \"22\", \"25\", \"26\", \"28\", \"30\", \"31\", \"33\", \"36\"], \"mode\": \"lines\", \"name\": \"average_precision_score_micro_max\", \"stepped\": true, \"type\": \"scatter\", \"data\": [0.9097108305905339, 0.9128400928175593, 0.9155070341057595, 0.9155070341057595, 0.9155070341057595, 0.9229151949175904, 0.9229151949175904, 0.9229151949175904, 0.9229151949175904, 0.9229151949175904, 0.9229151949175904, 0.9229151949175904, 0.9229151949175904, 0.9229151949175904, 0.9229151949175904, 0.9229151949175904, 0.9229151949175904, 0.9229151949175904, 0.9229151949175904, 0.9229151949175904, 0.9229151949175904, 0.9229151949175904, 0.9229151949175904, 0.9229151949175904, 0.9229151949175904, 0.9239315729818529]}], \"accuracy\": [{\"categories\": [\"2\", \"3\", \"4\", \"5\", \"6\", \"7\", \"8\", \"9\", \"10\", \"11\", \"12\", \"13\", \"14\", \"15\", \"17\", \"18\", \"19\", \"21\", \"22\", \"25\", \"26\", \"28\", \"30\", \"31\", \"33\", \"36\"], \"mode\": \"markers\", \"name\": \"accuracy\", \"stepped\": false, \"type\": \"scatter\", \"data\": [0.8393103448275863, 0.8327586206896551, 0.8459770114942529, 0.8495402298850575, 0.7291954022988507, 0.8425287356321839, 0.7894252873563218, 0.8093103448275862, 0.8326436781609197, 0.8393103448275863, 0.8390804597701148, 0.8260919540229885, 0.8362068965517242, 0.8460919540229886, 0.8328735632183909, 0.7995402298850574, 0.8391954022988506, 0.8358620689655174, 0.7627586206896552, 0.8425287356321839, 0.8358620689655172, 0.7857471264367817, 0.8258620689655173, 0.8393103448275863, 0.8222988505747126, 0.8728735632183909]}, {\"categories\": [\"2\", \"3\", \"4\", \"5\", \"6\", \"7\", \"8\", \"9\", \"10\", \"11\", \"12\", \"13\", \"14\", \"15\", \"17\", \"18\", \"19\", \"21\", \"22\", \"25\", \"26\", \"28\", \"30\", \"31\", \"33\", \"36\"], \"mode\": \"lines\", \"name\": \"accuracy_max\", \"stepped\": true, \"type\": \"scatter\", \"data\": [0.8393103448275863, 0.8393103448275863, 0.8459770114942529, 0.8495402298850575, 0.8495402298850575, 0.8495402298850575, 0.8495402298850575, 0.8495402298850575, 0.8495402298850575, 0.8495402298850575, 0.8495402298850575, 0.8495402298850575, 0.8495402298850575, 0.8495402298850575, 0.8495402298850575, 0.8495402298850575, 0.8495402298850575, 0.8495402298850575, 0.8495402298850575, 0.8495402298850575, 0.8495402298850575, 0.8495402298850575, 0.8495402298850575, 0.8495402298850575, 0.8495402298850575, 0.8728735632183909]}], \"f1_score_weighted\": [{\"categories\": [\"2\", \"3\", \"4\", \"5\", \"6\", \"7\", \"8\", \"9\", \"10\", \"11\", \"12\", \"13\", \"14\", \"15\", \"17\", \"18\", \"19\", \"21\", \"22\", \"25\", \"26\", \"28\", \"30\", \"31\", \"33\", \"36\"], \"mode\": \"markers\", \"name\": \"f1_score_weighted\", \"stepped\": false, \"type\": \"scatter\", \"data\": [0.8382002612641404, 0.82837330180358, 0.8449626476585191, 0.8455651962307812, 0.6980690748093032, 0.8400140809925226, 0.7543411115067996, 0.8048217845216165, 0.8273543853548185, 0.8323341032522762, 0.8385175639361796, 0.8132634517824846, 0.8330919162782356, 0.8388503867468241, 0.824798944044111, 0.7881339079621533, 0.8377342214648218, 0.8307688676797806, 0.7255623622054699, 0.8395925776340063, 0.8342261633979355, 0.7910028950075524, 0.820175962296744, 0.832414726095011, 0.8218476044732856, 0.8673430085761922]}, {\"categories\": [\"2\", \"3\", \"4\", \"5\", \"6\", \"7\", \"8\", \"9\", \"10\", \"11\", \"12\", \"13\", \"14\", \"15\", \"17\", \"18\", \"19\", \"21\", \"22\", \"25\", \"26\", \"28\", \"30\", \"31\", \"33\", \"36\"], \"mode\": \"lines\", \"name\": \"f1_score_weighted_max\", \"stepped\": true, \"type\": \"scatter\", \"data\": [0.8382002612641404, 0.8382002612641404, 0.8449626476585191, 0.8455651962307812, 0.8455651962307812, 0.8455651962307812, 0.8455651962307812, 0.8455651962307812, 0.8455651962307812, 0.8455651962307812, 0.8455651962307812, 0.8455651962307812, 0.8455651962307812, 0.8455651962307812, 0.8455651962307812, 0.8455651962307812, 0.8455651962307812, 0.8455651962307812, 0.8455651962307812, 0.8455651962307812, 0.8455651962307812, 0.8455651962307812, 0.8455651962307812, 0.8455651962307812, 0.8455651962307812, 0.8673430085761922]}], \"AUC_micro\": [{\"categories\": [\"2\", \"3\", \"4\", \"5\", \"6\", \"7\", \"8\", \"9\", \"10\", \"11\", \"12\", \"13\", \"14\", \"15\", \"17\", \"18\", \"19\", \"21\", \"22\", \"25\", \"26\", \"28\", \"30\", \"31\", \"33\", \"36\"], \"mode\": \"markers\", \"name\": \"AUC_micro\", \"stepped\": false, \"type\": \"scatter\", \"data\": [0.9089750297265162, 0.9065655965120888, 0.9148423834059981, 0.9061697714361209, 0.7908025498744881, 0.9194525036332408, 0.8729456995640111, 0.8808599550799313, 0.913918351169243, 0.9062068965517242, 0.9088775267538644, 0.8975012551195668, 0.8939495309816357, 0.9104057339146518, 0.8924563350508654, 0.8764231734707358, 0.9069320914255515, 0.9006299379046109, 0.8511639582507596, 0.9113745541022592, 0.9097370854802485, 0.8463551327784383, 0.9025695600475625, 0.9027644338750165, 0.9106767076232, 0.9216493592284317]}, {\"categories\": [\"2\", \"3\", \"4\", \"5\", \"6\", \"7\", \"8\", \"9\", \"10\", \"11\", \"12\", \"13\", \"14\", \"15\", \"17\", \"18\", \"19\", \"21\", \"22\", \"25\", \"26\", \"28\", \"30\", \"31\", \"33\", \"36\"], \"mode\": \"lines\", \"name\": \"AUC_micro_max\", \"stepped\": true, \"type\": \"scatter\", \"data\": [0.9089750297265162, 0.9089750297265162, 0.9148423834059981, 0.9148423834059981, 0.9148423834059981, 0.9194525036332408, 0.9194525036332408, 0.9194525036332408, 0.9194525036332408, 0.9194525036332408, 0.9194525036332408, 0.9194525036332408, 0.9194525036332408, 0.9194525036332408, 0.9194525036332408, 0.9194525036332408, 0.9194525036332408, 0.9194525036332408, 0.9194525036332408, 0.9194525036332408, 0.9194525036332408, 0.9194525036332408, 0.9194525036332408, 0.9194525036332408, 0.9194525036332408, 0.9216493592284317]}], \"norm_macro_recall\": [{\"categories\": [\"2\", \"3\", \"4\", \"5\", \"6\", \"7\", \"8\", \"9\", \"10\", \"11\", \"12\", \"13\", \"14\", \"15\", \"17\", \"18\", \"19\", \"21\", \"22\", \"25\", \"26\", \"28\", \"30\", \"31\", \"33\", \"36\"], \"mode\": \"markers\", \"name\": \"norm_macro_recall\", \"stepped\": false, \"type\": \"scatter\", \"data\": [0.6264011750390468, 0.5920756700710934, 0.6515487409234548, 0.6317893424272143, 0.32270189472363386, 0.6317720264098983, 0.38038161114248065, 0.5173603664959501, 0.5854290155560179, 0.598403933912515, 0.6293488852235992, 0.5201972239558051, 0.6190142797705727, 0.5980571446732774, 0.5519823438702158, 0.45715802929590116, 0.6216039794809818, 0.5903128539398562, 0.29952437912964225, 0.6239475409538338, 0.6302469637532567, 0.5705155989446608, 0.5702257859734976, 0.5916896481982293, 0.6015810185873115, 0.6835000833770858]}, {\"categories\": [\"2\", \"3\", \"4\", \"5\", \"6\", \"7\", \"8\", \"9\", \"10\", \"11\", \"12\", \"13\", \"14\", \"15\", \"17\", \"18\", \"19\", \"21\", \"22\", \"25\", \"26\", \"28\", \"30\", \"31\", \"33\", \"36\"], \"mode\": \"lines\", \"name\": \"norm_macro_recall_max\", \"stepped\": true, \"type\": \"scatter\", \"data\": [0.6264011750390468, 0.6264011750390468, 0.6515487409234548, 0.6515487409234548, 0.6515487409234548, 0.6515487409234548, 0.6515487409234548, 0.6515487409234548, 0.6515487409234548, 0.6515487409234548, 0.6515487409234548, 0.6515487409234548, 0.6515487409234548, 0.6515487409234548, 0.6515487409234548, 0.6515487409234548, 0.6515487409234548, 0.6515487409234548, 0.6515487409234548, 0.6515487409234548, 0.6515487409234548, 0.6515487409234548, 0.6515487409234548, 0.6515487409234548, 0.6515487409234548, 0.6835000833770858]}], \"AUC_weighted\": [{\"categories\": [\"2\", \"3\", \"4\", \"5\", \"6\", \"7\", \"8\", \"9\", \"10\", \"11\", \"12\", \"13\", \"14\", \"15\", \"17\", \"18\", \"19\", \"21\", \"22\", \"25\", \"26\", \"28\", \"30\", \"31\", \"33\", \"36\"], \"mode\": \"markers\", \"name\": \"AUC_weighted\", \"stepped\": false, \"type\": \"scatter\", \"data\": [0.8966628254733233, 0.8962235645657843, 0.9038587753144391, 0.9051725831652033, 0.747228730835653, 0.9071605201519389, 0.9038969561860293, 0.8608370342027666, 0.8977848739107321, 0.9022516357593588, 0.8960357127447516, 0.8947674802399058, 0.8879981568848561, 0.8998206643915454, 0.8800199762691754, 0.8610405400716328, 0.8962120119413596, 0.8893476218818896, 0.8582517292352533, 0.8985968029703155, 0.9036144070100592, 0.8415104000394045, 0.893388531165419, 0.8951857931224636, 0.9025329172459035, 0.9140860789985504]}, {\"categories\": [\"2\", \"3\", \"4\", \"5\", \"6\", \"7\", \"8\", \"9\", \"10\", \"11\", \"12\", \"13\", \"14\", \"15\", \"17\", \"18\", \"19\", \"21\", \"22\", \"25\", \"26\", \"28\", \"30\", \"31\", \"33\", \"36\"], \"mode\": \"lines\", \"name\": \"AUC_weighted_max\", \"stepped\": true, \"type\": \"scatter\", \"data\": [0.8966628254733233, 0.8966628254733233, 0.9038587753144391, 0.9051725831652033, 0.9051725831652033, 0.9071605201519389, 0.9071605201519389, 0.9071605201519389, 0.9071605201519389, 0.9071605201519389, 0.9071605201519389, 0.9071605201519389, 0.9071605201519389, 0.9071605201519389, 0.9071605201519389, 0.9071605201519389, 0.9071605201519389, 0.9071605201519389, 0.9071605201519389, 0.9071605201519389, 0.9071605201519389, 0.9071605201519389, 0.9071605201519389, 0.9071605201519389, 0.9071605201519389, 0.9140860789985504]}], \"recall_score_macro\": [{\"categories\": [\"2\", \"3\", \"4\", \"5\", \"6\", \"7\", \"8\", \"9\", \"10\", \"11\", \"12\", \"13\", \"14\", \"15\", \"17\", \"18\", \"19\", \"21\", \"22\", \"25\", \"26\", \"28\", \"30\", \"31\", \"33\", \"36\"], \"mode\": \"markers\", \"name\": \"recall_score_macro\", \"stepped\": false, \"type\": \"scatter\", \"data\": [0.8132005875195235, 0.7960378350355468, 0.8257743704617274, 0.8158946712136071, 0.6527385071704294, 0.815886013204949, 0.6901908055712405, 0.758680183247975, 0.7927145077780089, 0.7992019669562576, 0.8146744426117996, 0.7600986119779026, 0.8095071398852862, 0.7990285723366387, 0.7759911719351078, 0.7285790146479505, 0.8108019897404908, 0.795156426969928, 0.6477621895648211, 0.8119737704769168, 0.8151234818766284, 0.7852577994723304, 0.7851128929867488, 0.7958448240991147, 0.8007905092936557, 0.8417500416885428]}, {\"categories\": [\"2\", \"3\", \"4\", \"5\", \"6\", \"7\", \"8\", \"9\", \"10\", \"11\", \"12\", \"13\", \"14\", \"15\", \"17\", \"18\", \"19\", \"21\", \"22\", \"25\", \"26\", \"28\", \"30\", \"31\", \"33\", \"36\"], \"mode\": \"lines\", \"name\": \"recall_score_macro_max\", \"stepped\": true, \"type\": \"scatter\", \"data\": [0.8132005875195235, 0.8132005875195235, 0.8257743704617274, 0.8257743704617274, 0.8257743704617274, 0.8257743704617274, 0.8257743704617274, 0.8257743704617274, 0.8257743704617274, 0.8257743704617274, 0.8257743704617274, 0.8257743704617274, 0.8257743704617274, 0.8257743704617274, 0.8257743704617274, 0.8257743704617274, 0.8257743704617274, 0.8257743704617274, 0.8257743704617274, 0.8257743704617274, 0.8257743704617274, 0.8257743704617274, 0.8257743704617274, 0.8257743704617274, 0.8257743704617274, 0.8417500416885428]}], \"balanced_accuracy\": [{\"categories\": [\"2\", \"3\", \"4\", \"5\", \"6\", \"7\", \"8\", \"9\", \"10\", \"11\", \"12\", \"13\", \"14\", \"15\", \"17\", \"18\", \"19\", \"21\", \"22\", \"25\", \"26\", \"28\", \"30\", \"31\", \"33\", \"36\"], \"mode\": \"markers\", \"name\": \"balanced_accuracy\", \"stepped\": false, \"type\": \"scatter\", \"data\": [0.8132005875195235, 0.7960378350355468, 0.8257743704617274, 0.8158946712136071, 0.6527385071704294, 0.815886013204949, 0.6901908055712405, 0.758680183247975, 0.7927145077780089, 0.7992019669562576, 0.8146744426117996, 0.7600986119779026, 0.8095071398852862, 0.7990285723366387, 0.7759911719351078, 0.7285790146479505, 0.8108019897404908, 0.795156426969928, 0.6477621895648211, 0.8119737704769168, 0.8151234818766284, 0.7852577994723304, 0.7851128929867488, 0.7958448240991147, 0.8007905092936557, 0.8417500416885428]}, {\"categories\": [\"2\", \"3\", \"4\", \"5\", \"6\", \"7\", \"8\", \"9\", \"10\", \"11\", \"12\", \"13\", \"14\", \"15\", \"17\", \"18\", \"19\", \"21\", \"22\", \"25\", \"26\", \"28\", \"30\", \"31\", \"33\", \"36\"], \"mode\": \"lines\", \"name\": \"balanced_accuracy_max\", \"stepped\": true, \"type\": \"scatter\", \"data\": [0.8132005875195235, 0.8132005875195235, 0.8257743704617274, 0.8257743704617274, 0.8257743704617274, 0.8257743704617274, 0.8257743704617274, 0.8257743704617274, 0.8257743704617274, 0.8257743704617274, 0.8257743704617274, 0.8257743704617274, 0.8257743704617274, 0.8257743704617274, 0.8257743704617274, 0.8257743704617274, 0.8257743704617274, 0.8257743704617274, 0.8257743704617274, 0.8257743704617274, 0.8257743704617274, 0.8257743704617274, 0.8257743704617274, 0.8257743704617274, 0.8257743704617274, 0.8417500416885428]}], \"average_precision_score_macro\": [{\"categories\": [\"2\", \"3\", \"4\", \"5\", \"6\", \"7\", \"8\", \"9\", \"10\", \"11\", \"12\", \"13\", \"14\", \"15\", \"17\", \"18\", \"19\", \"21\", \"22\", \"25\", \"26\", \"28\", \"30\", \"31\", \"33\", \"36\"], \"mode\": \"markers\", \"name\": \"average_precision_score_macro\", \"stepped\": false, \"type\": \"scatter\", \"data\": [0.8833121915451821, 0.8816287295750698, 0.8880038354121232, 0.8947331241090755, 0.745469896825244, 0.9024684427068064, 0.8991976773967272, 0.8401142754782065, 0.8897658659939982, 0.8918742359962035, 0.8867836707387807, 0.8914413855454489, 0.8819949781809319, 0.8991087749903436, 0.8720499311956373, 0.848580309140565, 0.8914545318675984, 0.881126876947534, 0.8435665258679593, 0.8869847145598306, 0.8869287413361138, 0.8351725857191925, 0.8875905488699007, 0.8833412239264323, 0.8991954777472804, 0.9015439261859731]}, {\"categories\": [\"2\", \"3\", \"4\", \"5\", \"6\", \"7\", \"8\", \"9\", \"10\", \"11\", \"12\", \"13\", \"14\", \"15\", \"17\", \"18\", \"19\", \"21\", \"22\", \"25\", \"26\", \"28\", \"30\", \"31\", \"33\", \"36\"], \"mode\": \"lines\", \"name\": \"average_precision_score_macro_max\", \"stepped\": true, \"type\": \"scatter\", \"data\": [0.8833121915451821, 0.8833121915451821, 0.8880038354121232, 0.8947331241090755, 0.8947331241090755, 0.9024684427068064, 0.9024684427068064, 0.9024684427068064, 0.9024684427068064, 0.9024684427068064, 0.9024684427068064, 0.9024684427068064, 0.9024684427068064, 0.9024684427068064, 0.9024684427068064, 0.9024684427068064, 0.9024684427068064, 0.9024684427068064, 0.9024684427068064, 0.9024684427068064, 0.9024684427068064, 0.9024684427068064, 0.9024684427068064, 0.9024684427068064, 0.9024684427068064, 0.9024684427068064]}], \"precision_score_micro\": [{\"categories\": [\"2\", \"3\", \"4\", \"5\", \"6\", \"7\", \"8\", \"9\", \"10\", \"11\", \"12\", \"13\", \"14\", \"15\", \"17\", \"18\", \"19\", \"21\", \"22\", \"25\", \"26\", \"28\", \"30\", \"31\", \"33\", \"36\"], \"mode\": \"markers\", \"name\": \"precision_score_micro\", \"stepped\": false, \"type\": \"scatter\", \"data\": [0.8393103448275863, 0.8327586206896551, 0.8459770114942529, 0.8495402298850575, 0.7291954022988507, 0.8425287356321839, 0.7894252873563218, 0.8093103448275862, 0.8326436781609197, 0.8393103448275863, 0.8390804597701148, 0.8260919540229885, 0.8362068965517242, 0.8460919540229886, 0.8328735632183909, 0.7995402298850574, 0.8391954022988506, 0.8358620689655174, 0.7627586206896552, 0.8425287356321839, 0.8358620689655172, 0.7857471264367817, 0.8258620689655173, 0.8393103448275863, 0.8222988505747126, 0.8728735632183909]}, {\"categories\": [\"2\", \"3\", \"4\", \"5\", \"6\", \"7\", \"8\", \"9\", \"10\", \"11\", \"12\", \"13\", \"14\", \"15\", \"17\", \"18\", \"19\", \"21\", \"22\", \"25\", \"26\", \"28\", \"30\", \"31\", \"33\", \"36\"], \"mode\": \"lines\", \"name\": \"precision_score_micro_max\", \"stepped\": true, \"type\": \"scatter\", \"data\": [0.8393103448275863, 0.8393103448275863, 0.8459770114942529, 0.8495402298850575, 0.8495402298850575, 0.8495402298850575, 0.8495402298850575, 0.8495402298850575, 0.8495402298850575, 0.8495402298850575, 0.8495402298850575, 0.8495402298850575, 0.8495402298850575, 0.8495402298850575, 0.8495402298850575, 0.8495402298850575, 0.8495402298850575, 0.8495402298850575, 0.8495402298850575, 0.8495402298850575, 0.8495402298850575, 0.8495402298850575, 0.8495402298850575, 0.8495402298850575, 0.8495402298850575, 0.8728735632183909]}], \"f1_score_micro\": [{\"categories\": [\"2\", \"3\", \"4\", \"5\", \"6\", \"7\", \"8\", \"9\", \"10\", \"11\", \"12\", \"13\", \"14\", \"15\", \"17\", \"18\", \"19\", \"21\", \"22\", \"25\", \"26\", \"28\", \"30\", \"31\", \"33\", \"36\"], \"mode\": \"markers\", \"name\": \"f1_score_micro\", \"stepped\": false, \"type\": \"scatter\", \"data\": [0.8393103448275863, 0.8327586206896551, 0.8459770114942529, 0.8495402298850575, 0.7291954022988507, 0.842528735632184, 0.7894252873563218, 0.8093103448275862, 0.8326436781609197, 0.8393103448275863, 0.8390804597701148, 0.8260919540229885, 0.8362068965517242, 0.8460919540229886, 0.8328735632183909, 0.7995402298850574, 0.8391954022988506, 0.8358620689655174, 0.7627586206896552, 0.842528735632184, 0.8358620689655172, 0.7857471264367817, 0.8258620689655173, 0.8393103448275863, 0.8222988505747126, 0.8728735632183909]}, {\"categories\": [\"2\", \"3\", \"4\", \"5\", \"6\", \"7\", \"8\", \"9\", \"10\", \"11\", \"12\", \"13\", \"14\", \"15\", \"17\", \"18\", \"19\", \"21\", \"22\", \"25\", \"26\", \"28\", \"30\", \"31\", \"33\", \"36\"], \"mode\": \"lines\", \"name\": \"f1_score_micro_max\", \"stepped\": true, \"type\": \"scatter\", \"data\": [0.8393103448275863, 0.8393103448275863, 0.8459770114942529, 0.8495402298850575, 0.8495402298850575, 0.8495402298850575, 0.8495402298850575, 0.8495402298850575, 0.8495402298850575, 0.8495402298850575, 0.8495402298850575, 0.8495402298850575, 0.8495402298850575, 0.8495402298850575, 0.8495402298850575, 0.8495402298850575, 0.8495402298850575, 0.8495402298850575, 0.8495402298850575, 0.8495402298850575, 0.8495402298850575, 0.8495402298850575, 0.8495402298850575, 0.8495402298850575, 0.8495402298850575, 0.8728735632183909]}], \"recall_score_micro\": [{\"categories\": [\"2\", \"3\", \"4\", \"5\", \"6\", \"7\", \"8\", \"9\", \"10\", \"11\", \"12\", \"13\", \"14\", \"15\", \"17\", \"18\", \"19\", \"21\", \"22\", \"25\", \"26\", \"28\", \"30\", \"31\", \"33\", \"36\"], \"mode\": \"markers\", \"name\": \"recall_score_micro\", \"stepped\": false, \"type\": \"scatter\", \"data\": [0.8393103448275863, 0.8327586206896551, 0.8459770114942529, 0.8495402298850575, 0.7291954022988507, 0.8425287356321839, 0.7894252873563218, 0.8093103448275862, 0.8326436781609197, 0.8393103448275863, 0.8390804597701148, 0.8260919540229885, 0.8362068965517242, 0.8460919540229886, 0.8328735632183909, 0.7995402298850574, 0.8391954022988506, 0.8358620689655174, 0.7627586206896552, 0.8425287356321839, 0.8358620689655172, 0.7857471264367817, 0.8258620689655173, 0.8393103448275863, 0.8222988505747126, 0.8728735632183909]}, {\"categories\": [\"2\", \"3\", \"4\", \"5\", \"6\", \"7\", \"8\", \"9\", \"10\", \"11\", \"12\", \"13\", \"14\", \"15\", \"17\", \"18\", \"19\", \"21\", \"22\", \"25\", \"26\", \"28\", \"30\", \"31\", \"33\", \"36\"], \"mode\": \"lines\", \"name\": \"recall_score_micro_max\", \"stepped\": true, \"type\": \"scatter\", \"data\": [0.8393103448275863, 0.8393103448275863, 0.8459770114942529, 0.8495402298850575, 0.8495402298850575, 0.8495402298850575, 0.8495402298850575, 0.8495402298850575, 0.8495402298850575, 0.8495402298850575, 0.8495402298850575, 0.8495402298850575, 0.8495402298850575, 0.8495402298850575, 0.8495402298850575, 0.8495402298850575, 0.8495402298850575, 0.8495402298850575, 0.8495402298850575, 0.8495402298850575, 0.8495402298850575, 0.8495402298850575, 0.8495402298850575, 0.8495402298850575, 0.8495402298850575, 0.8728735632183909]}], \"weighted_accuracy\": [{\"categories\": [\"2\", \"3\", \"4\", \"5\", \"6\", \"7\", \"8\", \"9\", \"10\", \"11\", \"12\", \"13\", \"14\", \"15\", \"17\", \"18\", \"19\", \"21\", \"22\", \"25\", \"26\", \"28\", \"30\", \"31\", \"33\", \"36\"], \"mode\": \"markers\", \"name\": \"weighted_accuracy\", \"stepped\": false, \"type\": \"scatter\", \"data\": [0.8562033193054746, 0.8574053728535894, 0.8578297105196757, 0.869589528935693, 0.7818628679495329, 0.8596077740079435, 0.8549273920976995, 0.8385082313085942, 0.8562791076651901, 0.8669339017794584, 0.8547957697729538, 0.8683139582924287, 0.8535480316158818, 0.876839322150273, 0.868157687543961, 0.8433685402688853, 0.8577117694375602, 0.8605855281282174, 0.8325271935719651, 0.8627033459458465, 0.8492565769569482, 0.7859260938348166, 0.8523806140807679, 0.8685521836685911, 0.8362426064986682, 0.8925351022387774]}, {\"categories\": [\"2\", \"3\", \"4\", \"5\", \"6\", \"7\", \"8\", \"9\", \"10\", \"11\", \"12\", \"13\", \"14\", \"15\", \"17\", \"18\", \"19\", \"21\", \"22\", \"25\", \"26\", \"28\", \"30\", \"31\", \"33\", \"36\"], \"mode\": \"lines\", \"name\": \"weighted_accuracy_max\", \"stepped\": true, \"type\": \"scatter\", \"data\": [0.8562033193054746, 0.8574053728535894, 0.8578297105196757, 0.869589528935693, 0.869589528935693, 0.869589528935693, 0.869589528935693, 0.869589528935693, 0.869589528935693, 0.869589528935693, 0.869589528935693, 0.869589528935693, 0.869589528935693, 0.876839322150273, 0.876839322150273, 0.876839322150273, 0.876839322150273, 0.876839322150273, 0.876839322150273, 0.876839322150273, 0.876839322150273, 0.876839322150273, 0.876839322150273, 0.876839322150273, 0.876839322150273, 0.8925351022387774]}], \"precision_score_weighted\": [{\"categories\": [\"2\", \"3\", \"4\", \"5\", \"6\", \"7\", \"8\", \"9\", \"10\", \"11\", \"12\", \"13\", \"14\", \"15\", \"17\", \"18\", \"19\", \"21\", \"22\", \"25\", \"26\", \"28\", \"30\", \"31\", \"33\", \"36\"], \"mode\": \"markers\", \"name\": \"precision_score_weighted\", \"stepped\": false, \"type\": \"scatter\", \"data\": [0.8483623371822102, 0.8454653271684138, 0.860921581930074, 0.8627946984932638, 0.7464192040426674, 0.8591734180889354, 0.841611342009093, 0.8214794960088856, 0.8461455666638222, 0.8553606304186647, 0.8542289380201675, 0.8458189288953408, 0.8464264202888815, 0.858960150735488, 0.8494880026917757, 0.8126402083229669, 0.8483288941748462, 0.8532453478116515, 0.7921155489290171, 0.8575584589739762, 0.852041990446766, 0.8139425113855694, 0.837502164938644, 0.8512215457548056, 0.8408871083629418, 0.8870201000898152]}, {\"categories\": [\"2\", \"3\", \"4\", \"5\", \"6\", \"7\", \"8\", \"9\", \"10\", \"11\", \"12\", \"13\", \"14\", \"15\", \"17\", \"18\", \"19\", \"21\", \"22\", \"25\", \"26\", \"28\", \"30\", \"31\", \"33\", \"36\"], \"mode\": \"lines\", \"name\": \"precision_score_weighted_max\", \"stepped\": true, \"type\": \"scatter\", \"data\": [0.8483623371822102, 0.8483623371822102, 0.860921581930074, 0.8627946984932638, 0.8627946984932638, 0.8627946984932638, 0.8627946984932638, 0.8627946984932638, 0.8627946984932638, 0.8627946984932638, 0.8627946984932638, 0.8627946984932638, 0.8627946984932638, 0.8627946984932638, 0.8627946984932638, 0.8627946984932638, 0.8627946984932638, 0.8627946984932638, 0.8627946984932638, 0.8627946984932638, 0.8627946984932638, 0.8627946984932638, 0.8627946984932638, 0.8627946984932638, 0.8627946984932638, 0.8870201000898152]}]}, \"metricName\": null, \"primaryMetricName\": \"accuracy\", \"showLegend\": false}, \"run_metrics\": [{\"name\": \"experiment_status\", \"run_id\": \"AutoML_3d3db5e9-fc29-45d8-a90d-b898fb8179ae\", \"categories\": [0, 1, 2, 3, 4, 5, 6, 7, 8, 9, 10, 11, 12, 13], \"series\": [{\"data\": [\"DatasetEvaluation\", \"FeaturesGeneration\", \"DatasetFeaturization\", \"DatasetFeaturizationCompleted\", \"DatasetCrossValidationSplit\", \"ModelSelection\", \"BestRunExplainModel\", \"ModelExplanationDataSetSetup\", \"PickSurrogateModel\", \"EngineeredFeatureExplanations\", \"EngineeredFeatureExplanations\", \"RawFeaturesExplanations\", \"RawFeaturesExplanations\", \"BestRunExplainModel\"]}]}, {\"name\": \"experiment_status_description\", \"run_id\": \"AutoML_3d3db5e9-fc29-45d8-a90d-b898fb8179ae\", \"categories\": [0, 1, 2, 3, 4, 5, 6, 7, 8, 9, 10, 11, 12, 13], \"series\": [{\"data\": [\"Gathering dataset statistics.\", \"Generating features for the dataset.\", \"Beginning to fit featurizers and featurize the dataset.\", \"Completed fit featurizers and featurizing the dataset.\", \"Generating individually featurized CV splits.\", \"Beginning model selection.\", \"Best run model explanations started\", \"Model explanations data setup completed\", \"Choosing LightGBM as the surrogate model for explanations\", \"Computation of engineered features started\", \"Computation of engineered features completed\", \"Computation of raw features started\", \"Computation of raw features completed\", \"Best run model explanations completed\"]}]}, {\"name\": \"norm_macro_recall\", \"run_id\": \"AutoML_3d3db5e9-fc29-45d8-a90d-b898fb8179ae\", \"categories\": [0], \"series\": [{\"data\": [0.6835000833770858]}]}, {\"name\": \"AUC_weighted\", \"run_id\": \"AutoML_3d3db5e9-fc29-45d8-a90d-b898fb8179ae\", \"categories\": [0], \"series\": [{\"data\": [0.9140860789985504]}]}, {\"name\": \"AUC_macro\", \"run_id\": \"AutoML_3d3db5e9-fc29-45d8-a90d-b898fb8179ae\", \"categories\": [0], \"series\": [{\"data\": [0.9140860789985503]}]}, {\"name\": \"f1_score_macro\", \"run_id\": \"AutoML_3d3db5e9-fc29-45d8-a90d-b898fb8179ae\", \"categories\": [0], \"series\": [{\"data\": [0.84618819916759]}]}, {\"name\": \"AUC_micro\", \"run_id\": \"AutoML_3d3db5e9-fc29-45d8-a90d-b898fb8179ae\", \"categories\": [0], \"series\": [{\"data\": [0.9216493592284317]}]}, {\"name\": \"f1_score_micro\", \"run_id\": \"AutoML_3d3db5e9-fc29-45d8-a90d-b898fb8179ae\", \"categories\": [0], \"series\": [{\"data\": [0.8728735632183909]}]}, {\"name\": \"recall_score_weighted\", \"run_id\": \"AutoML_3d3db5e9-fc29-45d8-a90d-b898fb8179ae\", \"categories\": [0], \"series\": [{\"data\": [0.8728735632183909]}]}, {\"name\": \"balanced_accuracy\", \"run_id\": \"AutoML_3d3db5e9-fc29-45d8-a90d-b898fb8179ae\", \"categories\": [0], \"series\": [{\"data\": [0.8417500416885428]}]}, {\"name\": \"precision_score_micro\", \"run_id\": \"AutoML_3d3db5e9-fc29-45d8-a90d-b898fb8179ae\", \"categories\": [0], \"series\": [{\"data\": [0.8728735632183909]}]}, {\"name\": \"log_loss\", \"run_id\": \"AutoML_3d3db5e9-fc29-45d8-a90d-b898fb8179ae\", \"categories\": [0], \"series\": [{\"data\": [0.37627236413003307]}]}, {\"name\": \"recall_score_micro\", \"run_id\": \"AutoML_3d3db5e9-fc29-45d8-a90d-b898fb8179ae\", \"categories\": [0], \"series\": [{\"data\": [0.8728735632183909]}]}, {\"name\": \"average_precision_score_weighted\", \"run_id\": \"AutoML_3d3db5e9-fc29-45d8-a90d-b898fb8179ae\", \"categories\": [0], \"series\": [{\"data\": [0.9251892934172083]}]}, {\"name\": \"average_precision_score_micro\", \"run_id\": \"AutoML_3d3db5e9-fc29-45d8-a90d-b898fb8179ae\", \"categories\": [0], \"series\": [{\"data\": [0.9239315729818529]}]}, {\"name\": \"precision_score_weighted\", \"run_id\": \"AutoML_3d3db5e9-fc29-45d8-a90d-b898fb8179ae\", \"categories\": [0], \"series\": [{\"data\": [0.8870201000898152]}]}, {\"name\": \"matthews_correlation\", \"run_id\": \"AutoML_3d3db5e9-fc29-45d8-a90d-b898fb8179ae\", \"categories\": [0], \"series\": [{\"data\": [0.7183251679637097]}]}, {\"name\": \"f1_score_weighted\", \"run_id\": \"AutoML_3d3db5e9-fc29-45d8-a90d-b898fb8179ae\", \"categories\": [0], \"series\": [{\"data\": [0.8673430085761922]}]}, {\"name\": \"weighted_accuracy\", \"run_id\": \"AutoML_3d3db5e9-fc29-45d8-a90d-b898fb8179ae\", \"categories\": [0], \"series\": [{\"data\": [0.8925351022387774]}]}, {\"name\": \"recall_score_macro\", \"run_id\": \"AutoML_3d3db5e9-fc29-45d8-a90d-b898fb8179ae\", \"categories\": [0], \"series\": [{\"data\": [0.8417500416885428]}]}, {\"name\": \"precision_score_macro\", \"run_id\": \"AutoML_3d3db5e9-fc29-45d8-a90d-b898fb8179ae\", \"categories\": [0], \"series\": [{\"data\": [0.8797016329081547]}]}, {\"name\": \"accuracy\", \"run_id\": \"AutoML_3d3db5e9-fc29-45d8-a90d-b898fb8179ae\", \"categories\": [0], \"series\": [{\"data\": [0.8728735632183909]}]}, {\"name\": \"average_precision_score_macro\", \"run_id\": \"AutoML_3d3db5e9-fc29-45d8-a90d-b898fb8179ae\", \"categories\": [0], \"series\": [{\"data\": [0.9015439261859731]}]}], \"run_logs\": \"\\nRun is completed.\", \"graph\": {}, \"widget_settings\": {\"childWidgetDisplay\": \"popup\", \"send_telemetry\": false, \"log_level\": \"INFO\", \"sdk_version\": \"1.28.0\"}, \"loading\": false}"
     },
     "metadata": {},
     "output_type": "display_data"
    }
   ],
   "source": [
    "RunDetails(remote_run).show()"
   ]
  },
  {
   "cell_type": "code",
   "execution_count": 9,
   "metadata": {},
   "outputs": [
    {
     "data": {
      "text/html": [
       "<table style=\"width:100%\"><tr><th>Experiment</th><th>Id</th><th>Type</th><th>Status</th><th>Details Page</th><th>Docs Page</th></tr><tr><td>automl-heart-failure-prediction</td><td>AutoML_3d3db5e9-fc29-45d8-a90d-b898fb8179ae</td><td>automl</td><td>NotStarted</td><td><a href=\"https://ml.azure.com/runs/AutoML_3d3db5e9-fc29-45d8-a90d-b898fb8179ae?wsid=/subscriptions/1b944a9b-fdae-4f97-aeb1-b7eea0beac53/resourcegroups/aml-quickstarts-146485/workspaces/quick-starts-ws-146485&amp;tid=660b3398-b80e-49d2-bc5b-ac1dc93b5254\" target=\"_blank\" rel=\"noopener\">Link to Azure Machine Learning studio</a></td><td><a href=\"https://docs.microsoft.com/en-us/python/api/overview/azure/ml/intro?view=azure-ml-py\" target=\"_blank\" rel=\"noopener\">Link to Documentation</a></td></tr></table>"
      ],
      "text/plain": [
       "<IPython.core.display.HTML object>"
      ]
     },
     "metadata": {},
     "output_type": "display_data"
    },
    {
     "name": "stdout",
     "output_type": "stream",
     "text": [
      "\n",
      "Current status: FeaturesGeneration. Generating features for the dataset.\n",
      "Current status: ModelSelection. Beginning model selection.\n",
      "\n",
      "****************************************************************************************************\n",
      "DATA GUARDRAILS: \n",
      "\n",
      "TYPE:         Cross validation\n",
      "STATUS:       DONE\n",
      "DESCRIPTION:  Each iteration of the trained model was validated through cross-validation.\n",
      "              \n",
      "DETAILS:      \n",
      "+---------------------------------+\n",
      "|Number of folds                  |\n",
      "+=================================+\n",
      "|10                               |\n",
      "+---------------------------------+\n",
      "\n",
      "****************************************************************************************************\n",
      "\n",
      "TYPE:         Class balancing detection\n",
      "STATUS:       PASSED\n",
      "DESCRIPTION:  Your inputs were analyzed, and all classes are balanced in your training data.\n",
      "              Learn more about imbalanced data: https://aka.ms/AutomatedMLImbalancedData\n",
      "\n",
      "****************************************************************************************************\n",
      "\n",
      "TYPE:         Missing feature values imputation\n",
      "STATUS:       PASSED\n",
      "DESCRIPTION:  No feature missing values were detected in the training data.\n",
      "              Learn more about missing value imputation: https://aka.ms/AutomatedMLFeaturization\n",
      "\n",
      "****************************************************************************************************\n",
      "\n",
      "TYPE:         High cardinality feature detection\n",
      "STATUS:       PASSED\n",
      "DESCRIPTION:  Your inputs were analyzed, and no high cardinality features were detected.\n",
      "              Learn more about high cardinality feature handling: https://aka.ms/AutomatedMLFeaturization\n",
      "\n",
      "****************************************************************************************************\n",
      "\n",
      "****************************************************************************************************\n",
      "ITERATION: The iteration being evaluated.\n",
      "PIPELINE: A summary description of the pipeline being evaluated.\n",
      "DURATION: Time taken for the current iteration.\n",
      "METRIC: The result of computing score on the fitted pipeline.\n",
      "BEST: The best observed score thus far.\n",
      "****************************************************************************************************\n",
      "\n",
      " ITERATION   PIPELINE                                       DURATION      METRIC      BEST\n",
      "         2   MinMaxScaler RandomForest                      0:00:55       0.8393    0.8393\n",
      "         0   MaxAbsScaler LightGBM                          0:00:48       0.8360    0.8393\n",
      "         5   SparseNormalizer XGBoostClassifier             0:00:47       0.8495    0.8495\n",
      "         6   MinMaxScaler SVM                               0:00:48       0.7292    0.8495\n",
      "         7   MaxAbsScaler GradientBoosting                  0:00:46       0.8425    0.8495\n",
      "         8   MaxAbsScaler RandomForest                      0:00:48       0.7894    0.8495\n",
      "         9   SparseNormalizer XGBoostClassifier             0:00:51       0.8093    0.8495\n",
      "         1   MaxAbsScaler XGBoostClassifier                 0:05:28       0.8359    0.8495\n",
      "         3   MinMaxScaler RandomForest                      0:05:20       0.8328    0.8495\n",
      "         4   MinMaxScaler RandomForest                      0:05:13       0.8460    0.8495\n",
      "        10   RobustScaler LightGBM                          0:00:49       0.8326    0.8495\n",
      "        12   RobustScaler RandomForest                      0:00:48       0.8391    0.8495\n",
      "        11   MaxAbsScaler LightGBM                          0:00:49       0.8393    0.8495\n",
      "        13   MinMaxScaler LightGBM                          0:00:50       0.8261    0.8495\n",
      "        14   SparseNormalizer XGBoostClassifier             0:00:52       0.8362    0.8495\n",
      "        15   RobustScaler ExtremeRandomTrees                0:00:46       0.8461    0.8495\n",
      "        16   RobustScaler LightGBM                          0:00:51       0.7794    0.8495\n",
      "        17   SparseNormalizer XGBoostClassifier             0:00:46       0.8329    0.8495\n",
      "        18   SparseNormalizer GradientBoosting              0:00:48       0.7995    0.8495\n",
      "        19   StandardScalerWrapper RandomForest             0:00:46       0.8392    0.8495\n",
      "        20   MaxAbsScaler LightGBM                          0:00:48       0.7292    0.8495\n",
      "        21   StandardScalerWrapper LightGBM                 0:00:45       0.8359    0.8495\n",
      "        22   SparseNormalizer LightGBM                      0:00:48       0.7628    0.8495\n",
      "        23   StandardScalerWrapper LightGBM                 0:00:48       0.7359    0.8495\n",
      "        24   SparseNormalizer XGBoostClassifier             0:00:45       0.8193    0.8495\n",
      "        25   StandardScalerWrapper LightGBM                 0:00:48       0.8425    0.8495\n",
      "        26   MaxAbsScaler LightGBM                          0:00:45       0.8359    0.8495\n",
      "        27   StandardScalerWrapper ExtremeRandomTrees       0:00:45       0.8459    0.8495\n",
      "        28   SparseNormalizer ExtremeRandomTrees            0:00:50       0.7857    0.8495\n",
      "        29   SparseNormalizer XGBoostClassifier             0:00:49       0.8095    0.8495\n",
      "        30   StandardScalerWrapper XGBoostClassifier        0:00:48       0.8259    0.8495\n",
      "        31   StandardScalerWrapper LightGBM                 0:00:45       0.8393    0.8495\n",
      "        32   SparseNormalizer RandomForest                  0:00:59       0.8194    0.8495\n",
      "        33   StandardScalerWrapper XGBoostClassifier        0:00:48       0.8223    0.8495\n",
      "        34                                                  0:00:14          nan    0.8495\n",
      "        35                                                  0:00:14          nan    0.8495\n",
      "        36    VotingEnsemble                                0:01:18       0.8729    0.8729\n",
      "        37    StackEnsemble                                 0:01:14       0.8561    0.8729\n"
     ]
    },
    {
     "data": {
      "text/plain": [
       "{'runId': 'AutoML_3d3db5e9-fc29-45d8-a90d-b898fb8179ae',\n",
       " 'target': 'compute-cluster',\n",
       " 'status': 'Completed',\n",
       " 'startTimeUtc': '2021-06-03T22:34:27.770402Z',\n",
       " 'endTimeUtc': '2021-06-03T23:00:11.947376Z',\n",
       " 'properties': {'num_iterations': '1000',\n",
       "  'training_type': 'TrainFull',\n",
       "  'acquisition_function': 'EI',\n",
       "  'primary_metric': 'accuracy',\n",
       "  'train_split': '0',\n",
       "  'acquisition_parameter': '0',\n",
       "  'num_cross_validation': None,\n",
       "  'target': 'compute-cluster',\n",
       "  'AMLSettingsJsonString': '{\"path\":null,\"name\":\"automl-heart-failure-prediction\",\"subscription_id\":\"1b944a9b-fdae-4f97-aeb1-b7eea0beac53\",\"resource_group\":\"aml-quickstarts-146485\",\"workspace_name\":\"quick-starts-ws-146485\",\"region\":\"southcentralus\",\"compute_target\":\"compute-cluster\",\"spark_service\":null,\"azure_service\":\"remote\",\"many_models\":false,\"pipeline_fetch_max_batch_size\":1,\"enable_batch_run\":false,\"enable_run_restructure\":false,\"start_auxiliary_runs_before_parent_complete\":false,\"enable_code_generation\":false,\"iterations\":1000,\"primary_metric\":\"accuracy\",\"task_type\":\"classification\",\"data_script\":null,\"test_size\":0.0,\"validation_size\":0.0,\"n_cross_validations\":null,\"y_min\":null,\"y_max\":null,\"num_classes\":null,\"featurization\":\"auto\",\"_ignore_package_version_incompatibilities\":false,\"is_timeseries\":false,\"max_cores_per_iteration\":1,\"max_concurrent_iterations\":4,\"iteration_timeout_minutes\":null,\"mem_in_mb\":null,\"enforce_time_on_windows\":false,\"experiment_timeout_minutes\":25,\"experiment_exit_score\":null,\"whitelist_models\":null,\"blacklist_algos\":[\"TensorFlowLinearClassifier\",\"TensorFlowDNN\"],\"supported_models\":[\"ExtremeRandomTrees\",\"LogisticRegression\",\"KNN\",\"DecisionTree\",\"AveragedPerceptronClassifier\",\"TensorFlowDNN\",\"TensorFlowLinearClassifier\",\"SGD\",\"SVM\",\"MultinomialNaiveBayes\",\"RandomForest\",\"GradientBoosting\",\"LinearSVM\",\"XGBoostClassifier\",\"BernoulliNaiveBayes\",\"LightGBM\"],\"private_models\":[],\"auto_blacklist\":true,\"blacklist_samples_reached\":false,\"exclude_nan_labels\":true,\"verbosity\":20,\"_debug_log\":\"azureml_automl.log\",\"show_warnings\":false,\"model_explainability\":true,\"service_url\":null,\"sdk_url\":null,\"sdk_packages\":null,\"enable_onnx_compatible_models\":false,\"enable_split_onnx_featurizer_estimator_models\":false,\"vm_type\":\"STANDARD_D2_V2\",\"telemetry_verbosity\":20,\"send_telemetry\":true,\"enable_dnn\":false,\"scenario\":\"SDK-1.13.0\",\"environment_label\":null,\"save_mlflow\":false,\"force_text_dnn\":false,\"enable_feature_sweeping\":true,\"enable_early_stopping\":true,\"early_stopping_n_iters\":10,\"metrics\":null,\"enable_metric_confidence\":false,\"enable_ensembling\":true,\"enable_stack_ensembling\":true,\"ensemble_iterations\":15,\"enable_tf\":false,\"enable_subsampling\":null,\"subsample_seed\":null,\"enable_nimbusml\":false,\"enable_streaming\":false,\"force_streaming\":false,\"track_child_runs\":true,\"allowed_private_models\":[],\"label_column_name\":\"DEATH_EVENT\",\"weight_column_name\":null,\"cv_split_column_names\":null,\"enable_local_managed\":false,\"_local_managed_run_id\":null,\"cost_mode\":1,\"lag_length\":0,\"metric_operation\":\"maximize\",\"preprocess\":true}',\n",
       "  'DataPrepJsonString': '{\\\\\"training_data\\\\\": {\\\\\"datasetId\\\\\": \\\\\"87166bc5-e383-4c29-ad5b-39024f2539b6\\\\\"}, \\\\\"datasets\\\\\": 0}',\n",
       "  'EnableSubsampling': None,\n",
       "  'runTemplate': 'AutoML',\n",
       "  'azureml.runsource': 'automl',\n",
       "  'display_task_type': 'classification',\n",
       "  'dependencies_versions': '{\"azureml-widgets\": \"1.28.0\", \"azureml-train\": \"1.28.0\", \"azureml-train-restclients-hyperdrive\": \"1.28.0\", \"azureml-train-core\": \"1.28.0\", \"azureml-train-automl\": \"1.28.0\", \"azureml-train-automl-runtime\": \"1.28.0\", \"azureml-train-automl-client\": \"1.28.0\", \"azureml-tensorboard\": \"1.28.0\", \"azureml-telemetry\": \"1.28.0\", \"azureml-sdk\": \"1.28.0\", \"azureml-samples\": \"0+unknown\", \"azureml-pipeline\": \"1.28.0\", \"azureml-pipeline-steps\": \"1.28.0\", \"azureml-pipeline-core\": \"1.28.0\", \"azureml-opendatasets\": \"1.28.0\", \"azureml-model-management-sdk\": \"1.0.1b6.post1\", \"azureml-mlflow\": \"1.28.0\", \"azureml-interpret\": \"1.28.0\", \"azureml-explain-model\": \"1.28.0\", \"azureml-defaults\": \"1.28.0\", \"azureml-dataset-runtime\": \"1.28.0\", \"azureml-dataprep\": \"2.15.0\", \"azureml-dataprep-rslex\": \"1.13.0\", \"azureml-dataprep-native\": \"33.0.0\", \"azureml-datadrift\": \"1.28.0\", \"azureml-core\": \"1.28.0\", \"azureml-contrib-services\": \"1.28.0\", \"azureml-contrib-server\": \"1.28.0\", \"azureml-contrib-reinforcementlearning\": \"1.28.0\", \"azureml-contrib-pipeline-steps\": \"1.28.0\", \"azureml-contrib-notebook\": \"1.28.0\", \"azureml-contrib-gbdt\": \"1.28.0\", \"azureml-contrib-fairness\": \"1.28.0\", \"azureml-contrib-dataset\": \"1.28.0\", \"azureml-cli-common\": \"1.28.0\", \"azureml-automl-runtime\": \"1.28.0.post2\", \"azureml-automl-dnn-nlp\": \"1.28.0\", \"azureml-automl-core\": \"1.28.0\", \"azureml-accel-models\": \"1.28.0\"}',\n",
       "  '_aml_system_scenario_identification': 'Remote.Parent',\n",
       "  'ClientType': 'SDK',\n",
       "  'environment_cpu_name': 'AzureML-AutoML',\n",
       "  'environment_cpu_label': 'prod',\n",
       "  'environment_gpu_name': 'AzureML-AutoML-GPU',\n",
       "  'environment_gpu_label': 'prod',\n",
       "  'root_attribution': 'automl',\n",
       "  'attribution': 'AutoML',\n",
       "  'Orchestrator': 'AutoML',\n",
       "  'CancelUri': 'https://southcentralus.api.azureml.ms/jasmine/v1.0/subscriptions/1b944a9b-fdae-4f97-aeb1-b7eea0beac53/resourceGroups/aml-quickstarts-146485/providers/Microsoft.MachineLearningServices/workspaces/quick-starts-ws-146485/experimentids/83c2ed2f-05d5-47a8-8257-86c076d29e18/cancel/AutoML_3d3db5e9-fc29-45d8-a90d-b898fb8179ae',\n",
       "  'ClientSdkVersion': '1.29.0',\n",
       "  'snapshotId': '00000000-0000-0000-0000-000000000000',\n",
       "  'SetupRunId': 'AutoML_3d3db5e9-fc29-45d8-a90d-b898fb8179ae_setup',\n",
       "  'SetupRunContainerId': 'dcid.AutoML_3d3db5e9-fc29-45d8-a90d-b898fb8179ae_setup',\n",
       "  'FeaturizationRunJsonPath': 'featurizer_container.json',\n",
       "  'FeaturizationRunId': 'AutoML_3d3db5e9-fc29-45d8-a90d-b898fb8179ae_featurize',\n",
       "  'ProblemInfoJsonString': '{\"dataset_num_categorical\": 0, \"is_sparse\": false, \"subsampling\": false, \"has_extra_col\": true, \"dataset_classes\": 2, \"dataset_features\": 12, \"dataset_samples\": 299, \"single_frequency_class_detected\": false}',\n",
       "  'ModelExplainRunId': 'AutoML_3d3db5e9-fc29-45d8-a90d-b898fb8179ae_ModelExplain'},\n",
       " 'inputDatasets': [{'dataset': {'id': '87166bc5-e383-4c29-ad5b-39024f2539b6'}, 'consumptionDetails': {'type': 'RunInput', 'inputName': 'training_data', 'mechanism': 'Direct'}}],\n",
       " 'outputDatasets': [],\n",
       " 'logFiles': {},\n",
       " 'submittedBy': 'ODL_User 146485'}"
      ]
     },
     "execution_count": 9,
     "metadata": {},
     "output_type": "execute_result"
    }
   ],
   "source": [
    "remote_run.wait_for_completion(show_output=True)"
   ]
  },
  {
   "cell_type": "markdown",
   "metadata": {},
   "source": [
    "## Best Model\n",
    "\n",
    "\n",
    "\n"
   ]
  },
  {
   "cell_type": "code",
   "execution_count": 10,
   "metadata": {
    "gather": {
     "logged": 1598431425670
    },
    "jupyter": {
     "outputs_hidden": false,
     "source_hidden": false
    },
    "nteract": {
     "transient": {
      "deleting": false
     }
    }
   },
   "outputs": [
    {
     "name": "stderr",
     "output_type": "stream",
     "text": [
      "WARNING:root:The version of the SDK does not match the version the model was trained on.\n",
      "WARNING:root:The consistency in the result may not be guaranteed.\n",
      "WARNING:root:Package:azureml-automl-core, training version:1.29.0, current version:1.28.0\n",
      "Package:azureml-automl-runtime, training version:1.29.0, current version:1.28.0.post2\n",
      "Package:azureml-core, training version:1.29.0, current version:1.28.0\n",
      "Package:azureml-dataset-runtime, training version:1.29.0, current version:1.28.0\n",
      "Package:azureml-defaults, training version:1.29.0, current version:1.28.0\n",
      "Package:azureml-interpret, training version:1.29.0, current version:1.28.0\n",
      "Package:azureml-mlflow, training version:1.29.0, current version:1.28.0\n",
      "Package:azureml-pipeline-core, training version:1.29.0, current version:1.28.0\n",
      "Package:azureml-telemetry, training version:1.29.0, current version:1.28.0\n",
      "Package:azureml-train-automl-client, training version:1.29.0, current version:1.28.0\n",
      "Package:azureml-train-automl-runtime, training version:1.29.0, current version:1.28.0\n",
      "WARNING:root:Please ensure the version of your local conda dependencies match the version on which your model was trained in order to properly retrieve your model.\n"
     ]
    },
    {
     "name": "stdout",
     "output_type": "stream",
     "text": [
      "Best run id : AutoML_3d3db5e9-fc29-45d8-a90d-b898fb8179ae_36\n",
      "Accuracy : 0.8728735632183909\n",
      "Best metrics : {'log_loss': 0.37627236413003307, 'average_precision_score_weighted': 0.9251892934172083, 'average_precision_score_macro': 0.9015439261859731, 'matthews_correlation': 0.7183251679637097, 'balanced_accuracy': 0.8417500416885428, 'weighted_accuracy': 0.8925351022387774, 'precision_score_macro': 0.8797016329081547, 'accuracy': 0.8728735632183909, 'f1_score_weighted': 0.8673430085761922, 'recall_score_macro': 0.8417500416885428, 'AUC_micro': 0.9216493592284317, 'precision_score_micro': 0.8728735632183909, 'average_precision_score_micro': 0.9239315729818529, 'AUC_weighted': 0.9140860789985504, 'recall_score_micro': 0.8728735632183909, 'f1_score_macro': 0.84618819916759, 'f1_score_micro': 0.8728735632183909, 'precision_score_weighted': 0.8870201000898152, 'norm_macro_recall': 0.6835000833770858, 'AUC_macro': 0.9140860789985503, 'recall_score_weighted': 0.8728735632183909, 'accuracy_table': 'aml://artifactId/ExperimentRun/dcid.AutoML_3d3db5e9-fc29-45d8-a90d-b898fb8179ae_36/accuracy_table', 'confusion_matrix': 'aml://artifactId/ExperimentRun/dcid.AutoML_3d3db5e9-fc29-45d8-a90d-b898fb8179ae_36/confusion_matrix'}\n",
      "Best model : Pipeline(memory=None,\n",
      "         steps=[('datatransformer',\n",
      "                 DataTransformer(enable_dnn=False, enable_feature_sweeping=True, feature_sweeping_config={}, feature_sweeping_timeout=86400, featurization_config=None, force_text_dnn=False, is_cross_validation=True, is_onnx_compatible=False, observer=None, task='classification', working_dir='/mnt/batch/tasks/shared/LS_root/mount...\n",
      "), random_state=None, reg_alpha=0.21052631578947367, reg_lambda=0, subsample=1))], verbose=False)), ('32', Pipeline(memory=None, steps=[('sparsenormalizer', Normalizer(copy=True, norm='l2')), ('randomforestclassifier', RandomForestClassifier(bootstrap=True, ccp_alpha=0.0, class_weight=None, criterion='gini', max_depth=None, max_features=0.8, max_leaf_nodes=None, max_samples=None, min_impurity_decrease=0.0, min_impurity_split=None, min_samples_leaf=0.01, min_samples_split=0.056842105263157895, min_weight_fraction_leaf=0.0, n_estimators=400, n_jobs=1, oob_score=True, random_state=None, verbose=0, warm_start=False))], verbose=False))], flatten_transform=None, weights=[0.1111111111111111, 0.1111111111111111, 0.1111111111111111, 0.1111111111111111, 0.1111111111111111, 0.1111111111111111, 0.1111111111111111, 0.1111111111111111, 0.1111111111111111]))],\n",
      "         verbose=False)\n"
     ]
    }
   ],
   "source": [
    "best_run, fitted_model = remote_run.get_output()\n",
    "best_metrics = best_run.get_metrics()\n",
    "print(\"Best run id : {}\".format(best_run.id),\n",
    "      \"Accuracy : {}\".format(best_metrics['accuracy']),\n",
    "      \"Best metrics : {}\".format(best_metrics),\n",
    "      \"Best model : {}\".format(fitted_model), sep = '\\n'\n",
    "     )"
   ]
  },
  {
   "cell_type": "code",
   "execution_count": 13,
   "metadata": {
    "gather": {
     "logged": 1598431426111
    },
    "jupyter": {
     "outputs_hidden": false,
     "source_hidden": false
    },
    "nteract": {
     "transient": {
      "deleting": false
     }
    }
   },
   "outputs": [
    {
     "name": "stdout",
     "output_type": "stream",
     "text": [
      "PreFittedSoftVotingClassifier(\n",
      "    estimators=[('5', Pipeline(memory=None,\n",
      "             steps=[('sparsenormalizer', Normalizer(copy=True, norm='l1')),\n",
      "                    ('xgboostclassifier',\n",
      "                     XGBoostClassifier(booster='gbtree', colsample_bytree=0.8, eta=0.01, gamma=0, grow_policy='lossguide', max_bin=255, max_depth=6, max_leaves=15, n_estimators=100, n_jobs=1, objective='reg:logistic', problem_info=ProblemInfo(\n",
      "        dataset_samples=299,\n",
      "        dataset_features=...\n",
      "        iteration_timeout_param=None,\n",
      "        feature_column_names=None,\n",
      "        label_column_name=None,\n",
      "        weight_column_name=None,\n",
      "        cv_split_column_names=None,\n",
      "        enable_streaming=None,\n",
      "        timeseries_param_dict=None,\n",
      "        gpu_training_param_dict={'processing_unit_type': 'cpu'}\n",
      "    ), random_state=0, reg_alpha=1.4583333333333335, reg_lambda=0.8333333333333334, subsample=0.8, tree_method='hist'))],\n",
      "             verbose=False)), ('15', Pipeline(memory=None,\n",
      "             steps=[('robustscaler',\n",
      "                     RobustScaler(copy=True, quantile_range=[25, 75],\n",
      "                                  with_centering=True, with_scaling=False)),\n",
      "                    ('extratreesclassifier',\n",
      "                     ExtraTreesClassifier(bootstrap=False, ccp_alpha=0.0,\n",
      "                                          class_weight=None, criterion='entropy',\n",
      "                                          max_depth=None, max_features=0.8,\n",
      "                                          max_leaf_nodes=None, max_samples=None,\n",
      "                                          min_impurity_decrease=0.0,\n",
      "                                          min_impurity_split=None,\n",
      "                                          min_samples_leaf=0.01,\n",
      "                                          min_samples_split=0.2442105263157895,\n",
      "                                          min_weight_fraction_leaf=0.0,\n",
      "                                          n_estimators=100, n_jobs=1,\n",
      "                                          oob_score=False, random_state=None,\n",
      "                                          verbose=0, warm_start=False))],\n",
      "             verbose=False)), ('4', Pipeline(memory=None,\n",
      "             steps=[('minmaxscaler', MinMaxScaler(copy=True, feature_range=(0, 1))),\n",
      "                    ('randomforestclassifier',\n",
      "                     RandomForestClassifier(bootstrap=True, ccp_alpha=0.0,\n",
      "                                            class_weight='balanced',\n",
      "                                            criterion='gini', max_depth=None,\n",
      "                                            max_features='log2',\n",
      "                                            max_leaf_nodes=None, max_samples=None,\n",
      "                                            min_impurity_decrease=0.0,\n",
      "                                            min_impurity_split=None,\n",
      "                                            min_samples_leaf=0.01,\n",
      "                                            min_samples_split=0.01,\n",
      "                                            min_weight_fraction_leaf=0.0,\n",
      "                                            n_estimators=25, n_jobs=1,\n",
      "                                            oob_score=True, random_state=None,\n",
      "                                            verbose=0, warm_start=False))],\n",
      "             verbose=False)), ('27', Pipeline(memory=None,\n",
      "             steps=[('standardscalerwrapper',\n",
      "                     StandardScalerWrapper(\n",
      "        copy=True,\n",
      "        with_mean=False,\n",
      "        with_std=False\n",
      "    )),\n",
      "                    ('extratreesclassifier',\n",
      "                     ExtraTreesClassifier(bootstrap=True, ccp_alpha=0.0,\n",
      "                                          class_weight='balanced',\n",
      "                                          criterion='entropy', max_depth=None,\n",
      "                                          max_features=0.8, max_leaf_nodes=None,\n",
      "                                          max_samples=None,\n",
      "                                          min_impurity_decrease=0.0,\n",
      "                                          min_impurity_split=None,\n",
      "                                          min_samples_leaf=0.01,\n",
      "                                          min_samples_split=0.19736842105263158,\n",
      "                                          min_weight_fraction_leaf=0.0,\n",
      "                                          n_estimators=50, n_jobs=1, oob_score=True,\n",
      "                                          random_state=None, verbose=0,\n",
      "                                          warm_start=False))],\n",
      "             verbose=False)), ('25', Pipeline(memory=None,\n",
      "             steps=[('standardscalerwrapper',\n",
      "                     StandardScalerWrapper(\n",
      "        copy=True,\n",
      "        with_mean=False,\n",
      "        with_std=True\n",
      "    )),\n",
      "                    ('lightgbmclassifier',\n",
      "                     LightGBMClassifier(boosting_type='gbdt', colsample_bytree=0.6933333333333332, learning_rate=0.07894947368421053, max_bin=60, max_depth=6, min_child_weight=7, min_data_in_leaf=0.017249655172413794, min_split_gain=0.8947...\n",
      "        iteration_timeout_mode=0,\n",
      "        iteration_timeout_param=None,\n",
      "        feature_column_names=None,\n",
      "        label_column_name=None,\n",
      "        weight_column_name=None,\n",
      "        cv_split_column_names=None,\n",
      "        enable_streaming=None,\n",
      "        timeseries_param_dict=None,\n",
      "        gpu_training_param_dict={'processing_unit_type': 'cpu'}\n",
      "    ), random_state=None, reg_alpha=0, reg_lambda=0.2631578947368421, subsample=0.8910526315789474))],\n",
      "             verbose=False)), ('31', Pipeline(memory=None,\n",
      "             steps=[('standardscalerwrapper',\n",
      "                     StandardScalerWrapper(\n",
      "        copy=True,\n",
      "        with_mean=False,\n",
      "        with_std=True\n",
      "    )),\n",
      "                    ('lightgbmclassifier',\n",
      "                     LightGBMClassifier(boosting_type='goss', colsample_bytree=0.4955555555555555, learning_rate=0.07368684210526316, max_bin=170, max_depth=3, min_child_weight=2, min_data_in_leaf=0.07586448275862069, min_split_gain=0.4736...\n",
      "        iteration_timeout_mode=0,\n",
      "        iteration_timeout_param=None,\n",
      "        feature_column_names=None,\n",
      "        label_column_name=None,\n",
      "        weight_column_name=None,\n",
      "        cv_split_column_names=None,\n",
      "        enable_streaming=None,\n",
      "        timeseries_param_dict=None,\n",
      "        gpu_training_param_dict={'processing_unit_type': 'cpu'}\n",
      "    ), random_state=None, reg_alpha=0.894736842105263, reg_lambda=0.21052631578947367, subsample=1))],\n",
      "             verbose=False)), ('11', Pipeline(memory=None,\n",
      "             steps=[('maxabsscaler', MaxAbsScaler(copy=True)),\n",
      "                    ('lightgbmclassifier',\n",
      "                     LightGBMClassifier(boosting_type='goss', colsample_bytree=0.4955555555555555, learning_rate=0.06316157894736842, max_bin=110, max_depth=8, min_child_weight=4, min_data_in_leaf=0.03104137931034483, min_split_gain=0, n_estimators=25, n_jobs=1, num_leaves=5, problem_info=P...\n",
      "        cost_mode_param=None,\n",
      "        iteration_timeout_mode=0,\n",
      "        iteration_timeout_param=None,\n",
      "        feature_column_names=None,\n",
      "        label_column_name=None,\n",
      "        weight_column_name=None,\n",
      "        cv_split_column_names=None,\n",
      "        enable_streaming=None,\n",
      "        timeseries_param_dict=None,\n",
      "        gpu_training_param_dict={'processing_unit_type': 'cpu'}\n",
      "    ), random_state=None, reg_alpha=0.47368421052631576, reg_lambda=0, subsample=1))],\n",
      "             verbose=False)), ('26', Pipeline(memory=None,\n",
      "             steps=[('maxabsscaler', MaxAbsScaler(copy=True)),\n",
      "                    ('lightgbmclassifier',\n",
      "                     LightGBMClassifier(boosting_type='goss', colsample_bytree=0.99, learning_rate=0.07368684210526316, max_bin=90, max_depth=7, min_child_weight=3, min_data_in_leaf=0.062072758620689665, min_split_gain=0.2631578947368421, n_estimators=50, n_jobs=1, num_leaves=227, problem_i...\n",
      "        cost_mode_param=None,\n",
      "        iteration_timeout_mode=0,\n",
      "        iteration_timeout_param=None,\n",
      "        feature_column_names=None,\n",
      "        label_column_name=None,\n",
      "        weight_column_name=None,\n",
      "        cv_split_column_names=None,\n",
      "        enable_streaming=None,\n",
      "        timeseries_param_dict=None,\n",
      "        gpu_training_param_dict={'processing_unit_type': 'cpu'}\n",
      "    ), random_state=None, reg_alpha=0.21052631578947367, reg_lambda=0, subsample=1))],\n",
      "             verbose=False)), ('32', Pipeline(memory=None,\n",
      "             steps=[('sparsenormalizer', Normalizer(copy=True, norm='l2')),\n",
      "                    ('randomforestclassifier',\n",
      "                     RandomForestClassifier(bootstrap=True, ccp_alpha=0.0,\n",
      "                                            class_weight=None, criterion='gini',\n",
      "                                            max_depth=None, max_features=0.8,\n",
      "                                            max_leaf_nodes=None, max_samples=None,\n",
      "                                            min_impurity_decrease=0.0,\n",
      "                                            min_impurity_split=None,\n",
      "                                            min_samples_leaf=0.01,\n",
      "                                            min_samples_split=0.056842105263157895,\n",
      "                                            min_weight_fraction_leaf=0.0,\n",
      "                                            n_estimators=400, n_jobs=1,\n",
      "                                            oob_score=True, random_state=None,\n",
      "                                            verbose=0, warm_start=False))],\n",
      "             verbose=False))],\n",
      "    weights=[0.1111111111111111, 0.1111111111111111, 0.1111111111111111, 0.1111111111111111, 0.1111111111111111, 0.1111111111111111, 0.1111111111111111, 0.1111111111111111, 0.1111111111111111],\n",
      "    flatten_transform=None,\n",
      "    classification_labels=array([1, 0])\n",
      ")\n"
     ]
    }
   ],
   "source": [
    "print(fitted_model._final_estimator)"
   ]
  },
  {
   "cell_type": "code",
   "execution_count": 14,
   "metadata": {},
   "outputs": [
    {
     "name": "stdout",
     "output_type": "stream",
     "text": [
      "Model(workspace=Workspace.create(name='quick-starts-ws-146485', subscription_id='1b944a9b-fdae-4f97-aeb1-b7eea0beac53', resource_group='aml-quickstarts-146485'), name=automl-heart-failure-best-model, id=automl-heart-failure-best-model:1, version=1, tags={}, properties={})\n"
     ]
    }
   ],
   "source": [
    "#TODO: Save the best model\n",
    "model = best_run.register_model(model_name = \"automl-heart-failure-best-model\", model_path = './outputs/model.pkl')\n",
    "print(model)"
   ]
  },
  {
   "cell_type": "code",
   "execution_count": 14,
   "metadata": {},
   "outputs": [
    {
     "name": "stdout",
     "output_type": "stream",
     "text": [
      "automl-heart-failure-best-model Version:  1\n",
      "hyperd-heart-failure-best-model Version:  2\n",
      "hyperd-heart-failure-best-model Version:  1\n"
     ]
    }
   ],
   "source": [
    "for model in Model.list(ws):\n",
    "    print(model.name, 'Version: ', model.version)"
   ]
  },
  {
   "cell_type": "markdown",
   "metadata": {},
   "source": [
    "## Model Deployment\n",
    "\n",
    "Remember you have to deploy only one of the two models you trained.. Perform the steps in the rest of this notebook only if you wish to deploy this model.\n",
    "\n",
    "TODO: In the cell below, register the model, create an inference config and deploy the model as a web service."
   ]
  },
  {
   "cell_type": "code",
   "execution_count": 15,
   "metadata": {
    "gather": {
     "logged": 1598431435189
    },
    "jupyter": {
     "outputs_hidden": false,
     "source_hidden": false
    },
    "nteract": {
     "transient": {
      "deleting": false
     }
    }
   },
   "outputs": [
    {
     "name": "stdout",
     "output_type": "stream",
     "text": [
      "Downloading from outputs/conda_env_v_1_0_0.yml to ./model/conda_env_v_1_0_0.yml ...\n",
      "Downloading from outputs/env_dependencies.json to ./model/env_dependencies.json ...\n",
      "Downloading from outputs/internal_cross_validated_models.pkl to ./model/internal_cross_validated_models.pkl ...\n",
      "Downloading from outputs/model.pkl to ./model/model.pkl ...\n",
      "Downloading from outputs/pipeline_graph.json to ./model/pipeline_graph.json ...\n",
      "Downloading from outputs/scoring_file_v_1_0_0.py to ./model/scoring_file_v_1_0_0.py ...\n",
      "Downloading from outputs/scoring_file_v_2_0_0.py to ./model/scoring_file_v_2_0_0.py ...\n"
     ]
    }
   ],
   "source": [
    "best_run.download_file('/outputs/model.pkl', os.path.join('./model','automl-heart-failure-best-model'))\n",
    "for f in best_run.get_file_names():\n",
    "    if f.startswith('outputs'):\n",
    "        output_file_path = os.path.join('./model', f.split('/')[-1])\n",
    "        print(f'Downloading from {f} to {output_file_path} ...')\n",
    "        best_run.download_file(name=f, output_file_path=output_file_path)"
   ]
  },
  {
   "cell_type": "code",
   "execution_count": 16,
   "metadata": {},
   "outputs": [],
   "source": [
    "model = best_run.register_model(model_name = 'automl-heart-failure-best-model', model_path = './outputs/model.pkl')"
   ]
  },
  {
   "cell_type": "code",
   "execution_count": 17,
   "metadata": {},
   "outputs": [],
   "source": [
    "best_run.download_file('outputs/conda_env_v_1_0_0.yml', 'conda_env.yml')\n",
    "environment = Environment.from_conda_specification(name = 'heart-failure-environment', file_path = 'conda_env.yml')"
   ]
  },
  {
   "cell_type": "code",
   "execution_count": 18,
   "metadata": {},
   "outputs": [],
   "source": [
    "best_run.download_file('outputs/scoring_file_v_1_0_0.py', 'score.py')"
   ]
  },
  {
   "cell_type": "code",
   "execution_count": 19,
   "metadata": {},
   "outputs": [],
   "source": [
    "inference_config = InferenceConfig(entry_script = 'score.py', environment = environment)"
   ]
  },
  {
   "cell_type": "code",
   "execution_count": 20,
   "metadata": {},
   "outputs": [],
   "source": [
    "aci_config = AciWebservice.deploy_configuration(cpu_cores = 1, memory_gb = 1, auth_enabled = True, enable_app_insights = True)"
   ]
  },
  {
   "cell_type": "code",
   "execution_count": 29,
   "metadata": {},
   "outputs": [],
   "source": [
    "webservice = Model.deploy(workspace = ws, name = 'heart-failure-service-vs', models=[model], inference_config = inference_config, deployment_config = aci_config, overwrite = True)"
   ]
  },
  {
   "cell_type": "code",
   "execution_count": 30,
   "metadata": {},
   "outputs": [
    {
     "name": "stdout",
     "output_type": "stream",
     "text": [
      "Tips: You can try get_logs(): https://aka.ms/debugimage#dockerlog or local deployment: https://aka.ms/debugimage#debug-locally to debug if deployment takes longer than 10 minutes.\n",
      "Running\n",
      "2021-06-03 23:43:57+00:00 Creating Container Registry if not exists.\n",
      "2021-06-03 23:43:58+00:00 Registering the environment.\n",
      "2021-06-03 23:44:00+00:00 Building image..\n",
      "2021-06-03 23:45:45+00:00 Generating deployment configuration.\n",
      "2021-06-03 23:45:45+00:00 Submitting deployment to compute..\n",
      "2021-06-03 23:45:48+00:00 Checking the status of deployment heart-failure-service-vs..\n",
      "2021-06-03 23:48:38+00:00 Checking the status of deployment heart-failure-service-vs..\n",
      "2021-06-03 23:50:01+00:00 Checking the status of inference endpoint heart-failure-service-vs.\n",
      "Succeeded\n",
      "ACI service creation operation finished, operation \"Succeeded\"\n"
     ]
    }
   ],
   "source": [
    "webservice.wait_for_deployment(show_output = True)"
   ]
  },
  {
   "cell_type": "code",
   "execution_count": 31,
   "metadata": {},
   "outputs": [
    {
     "data": {
      "text/plain": [
       "AciWebservice(workspace=Workspace.create(name='quick-starts-ws-146485', subscription_id='1b944a9b-fdae-4f97-aeb1-b7eea0beac53', resource_group='aml-quickstarts-146485'), name=heart-failure-service-vs, image_id=None, compute_type=None, state=ACI, scoring_uri=Healthy, tags=http://0b477168-9fe6-4a94-9b73-0e0d3c6d572f.southcentralus.azurecontainer.io/score, properties={}, created_by={'hasInferenceSchema': 'True', 'hasHttps': 'False'})"
      ]
     },
     "execution_count": 31,
     "metadata": {},
     "output_type": "execute_result"
    }
   ],
   "source": [
    "webservice"
   ]
  },
  {
   "cell_type": "markdown",
   "metadata": {
    "collapsed": true,
    "gather": {
     "logged": 1598431657736
    },
    "jupyter": {
     "outputs_hidden": false,
     "source_hidden": false
    },
    "nteract": {
     "transient": {
      "deleting": false
     }
    }
   },
   "source": [
    "TODO: In the cell below, send a request to the web service you deployed to test it."
   ]
  },
  {
   "cell_type": "code",
   "execution_count": 39,
   "metadata": {},
   "outputs": [],
   "source": [
    "data = {\"data\": [{\"age\": 72.0, \n",
    "                   \"anaemia\": 1, \n",
    "                   \"creatinine_phosphokinase\": 110, \n",
    "                   \"diabetes\": 0, \"ejection_fraction\": 25, \n",
    "                   \"high_blood_pressure\": 0, \n",
    "                   \"platelets\": 274000.0, \n",
    "                   \"serum_creatinine\": 1.0, \n",
    "                   \"serum_sodium\": 140, \n",
    "                   \"sex\": 1, \n",
    "                   \"smoking\": 1, \n",
    "                   \"time\": 65}, \n",
    "                  {\"age\": 56.0, \n",
    "                   \"anaemia\": 1, \n",
    "                   \"creatinine_phosphokinase\": 135, \n",
    "                   \"diabetes\": 1, \n",
    "                   \"ejection_fraction\": 38, \n",
    "                   \"high_blood_pressure\": 0, \n",
    "                   \"platelets\": 133000.0, \n",
    "                   \"serum_creatinine\": 1.7, \n",
    "                   \"serum_sodium\": 140, \n",
    "                   \"sex\": 1, \n",
    "                   \"smoking\": 0, \n",
    "                   \"time\": 244}, \n",
    "                 ]}\n",
    "req_data = json.dumps(data)"
   ]
  },
  {
   "cell_type": "code",
   "execution_count": 40,
   "metadata": {},
   "outputs": [
    {
     "data": {
      "text/plain": [
       "'http://0b477168-9fe6-4a94-9b73-0e0d3c6d572f.southcentralus.azurecontainer.io/score'"
      ]
     },
     "execution_count": 40,
     "metadata": {},
     "output_type": "execute_result"
    }
   ],
   "source": [
    "scoring_uri = webservice.scoring_uri\n",
    "scoring_uri"
   ]
  },
  {
   "cell_type": "code",
   "execution_count": 45,
   "metadata": {},
   "outputs": [
    {
     "name": "stdout",
     "output_type": "stream",
     "text": [
      "Unauthorized, no token matched\n"
     ]
    }
   ],
   "source": [
    "headers = {'Content-Type' : 'application/json'}\n",
    "headers['Authentication'] = f'Bearer '\n",
    "response = requests.post(scoring_uri, req_data, headers = headers)\n",
    "print(response.text)['Authentication'] = f'Bearer '"
   ]
  },
  {
   "cell_type": "code",
   "execution_count": null,
   "metadata": {},
   "outputs": [],
   "source": [
    "import urllib.request\n",
    "import json\n",
    "import os\n",
    "import ssl\n",
    "\n",
    "def allowSelfSignedHttps(allowed):\n",
    "    # bypass the server certificate verification on client side\n",
    "    if allowed and not os.environ.get('PYTHONHTTPSVERIFY', '') and getattr(ssl, '_create_unverified_context', None):\n",
    "        ssl._create_default_https_context = ssl._create_unverified_context\n",
    "\n",
    "allowSelfSignedHttps(True) # this line is needed if you use self-signed certificate in your scoring service.\n",
    "\n",
    "// Request data goes here\n",
    "data = {\n",
    "    \"data\":\n",
    "    [\n",
    "        {\n",
    "            'age': \"0\",\n",
    "            'anaemia': \"0\",\n",
    "            'creatinine_phosphokinase': \"0\",\n",
    "            'diabetes': \"0\",\n",
    "            'ejection_fraction': \"0\",\n",
    "            'high_blood_pressure': \"0\",\n",
    "            'platelets': \"0\",\n",
    "            'serum_creatinine': \"0\",\n",
    "            'serum_sodium': \"0\",\n",
    "            'sex': \"0\",\n",
    "            'smoking': \"0\",\n",
    "            'time': \"0\",\n",
    "        },\n",
    "    ],\n",
    "}\n",
    "\n",
    "body = str.encode(json.dumps(data))\n",
    "\n",
    "url = 'http://0b477168-9fe6-4a94-9b73-0e0d3c6d572f.southcentralus.azurecontainer.io/score'\n",
    "api_key = 'bejplwsRsgnrOfSUgDQhJveLASrO9qW7' # Replace this with the API key for the web service\n",
    "headers = {'Content-Type':'application/json', 'Authorization':('Bearer '+ api_key)}\n",
    "\n",
    "req = urllib.request.Request(url, body, headers)\n",
    "\n",
    "try:\n",
    "    response = urllib.request.urlopen(req)\n",
    "\n",
    "    result = response.read()\n",
    "    print(result)\n",
    "except urllib.error.HTTPError as error:\n",
    "    print(\"The request failed with status code: \" + str(error.code))\n",
    "\n",
    "    # Print the headers - they include the requert ID and the timestamp, which are useful for debugging the failure\n",
    "    print(error.info())\n",
    "    print(json.loads(error.read().decode(\"utf8\", 'ignore')))"
   ]
  },
  {
   "cell_type": "markdown",
   "metadata": {
    "collapsed": true,
    "gather": {
     "logged": 1598432765711
    },
    "jupyter": {
     "outputs_hidden": false,
     "source_hidden": false
    },
    "nteract": {
     "transient": {
      "deleting": false
     }
    }
   },
   "source": [
    "TODO: In the cell below, print the logs of the web service and delete the service"
   ]
  },
  {
   "cell_type": "code",
   "execution_count": 43,
   "metadata": {
    "jupyter": {
     "outputs_hidden": false,
     "source_hidden": false
    },
    "nteract": {
     "transient": {
      "deleting": false
     }
    }
   },
   "outputs": [
    {
     "data": {
      "text/plain": [
       "'2021-06-03T23:49:42,917745000+00:00 - rsyslog/run \\n2021-06-03T23:49:42,918211600+00:00 - iot-server/run \\n2021-06-03T23:49:42,920154300+00:00 - gunicorn/run \\nrsyslogd: /azureml-envs/azureml_9f0c3287c829596c71d31603ecf0cccf/lib/libuuid.so.1: no version information available (required by rsyslogd)\\n2021-06-03T23:49:43,000362100+00:00 - nginx/run \\nEdgeHubConnectionString and IOTEDGE_IOTHUBHOSTNAME are not set. Exiting...\\n2021-06-03T23:49:43,273624300+00:00 - iot-server/finish 1 0\\n2021-06-03T23:49:43,275903400+00:00 - Exit code 1 is normal. Not restarting iot-server.\\nStarting gunicorn 20.1.0\\nListening at: http://127.0.0.1:31311 (66)\\nUsing worker: sync\\nworker timeout is set to 300\\nBooting worker with pid: 95\\nSPARK_HOME not set. Skipping PySpark Initialization.\\nGenerating new fontManager, this may take some time...\\nInitializing logger\\n2021-06-03 23:49:46,016 | root | INFO | Starting up app insights client\\n2021-06-03 23:49:46,017 | root | INFO | Starting up request id generator\\n2021-06-03 23:49:46,017 | root | INFO | Starting up app insight hooks\\n2021-06-03 23:49:46,018 | root | INFO | Invoking user\\'s init function\\n2021-06-03 23:49:50,939 | azureml.core | WARNING | Failure while loading azureml_run_type_providers. Failed to load entrypoint automl = azureml.train.automl.run:AutoMLRun._from_run_dto with exception cannot import name \\'RunType\\'.\\nFailure while loading azureml_run_type_providers. Failed to load entrypoint automl = azureml.train.automl.run:AutoMLRun._from_run_dto with exception cannot import name \\'RunType\\'.\\n2021-06-03 23:49:51,384 | root | INFO | Users\\'s init has completed successfully\\n2021-06-03 23:49:51,391 | root | INFO | Skipping middleware: dbg_model_info as it\\'s not enabled.\\n2021-06-03 23:49:51,392 | root | INFO | Skipping middleware: dbg_resource_usage as it\\'s not enabled.\\n2021-06-03 23:49:51,393 | root | INFO | Scoring timeout is found from os.environ: 60000 ms\\n2021-06-03 23:50:00,972 | root | INFO | 200\\n127.0.0.1 - - [03/Jun/2021:23:50:00 +0000] \"GET /swagger.json HTTP/1.0\" 200 3051 \"-\" \"Go-http-client/1.1\"\\n2021-06-03 23:50:01,010 | root | INFO | 200\\n127.0.0.1 - - [03/Jun/2021:23:50:01 +0000] \"GET /swagger.json HTTP/1.0\" 200 3051 \"-\" \"Go-http-client/1.1\"\\n2021-06-03 23:50:03,031 | root | INFO | 200\\n127.0.0.1 - - [03/Jun/2021:23:50:03 +0000] \"GET /swagger.json HTTP/1.0\" 200 3051 \"-\" \"Go-http-client/1.1\"\\n2021-06-03 23:50:20,500 | root | INFO | 200\\n127.0.0.1 - - [03/Jun/2021:23:50:20 +0000] \"GET /swagger.json HTTP/1.0\" 200 3051 \"-\" \"Go-http-client/1.1\"\\n2021-06-03 23:55:14,470 | root | INFO | 200\\n127.0.0.1 - - [03/Jun/2021:23:55:14 +0000] \"GET /swagger.json HTTP/1.0\" 200 3051 \"-\" \"Go-http-client/1.1\"\\n2021-06-03 23:56:00,231 | root | INFO | 200\\n127.0.0.1 - - [03/Jun/2021:23:56:00 +0000] \"GET /swagger.json HTTP/1.0\" 200 3051 \"-\" \"Go-http-client/1.1\"\\n'"
      ]
     },
     "execution_count": 43,
     "metadata": {},
     "output_type": "execute_result"
    }
   ],
   "source": [
    "webservice.get_logs()"
   ]
  },
  {
   "cell_type": "code",
   "execution_count": 37,
   "metadata": {},
   "outputs": [],
   "source": [
    "webservice.delete()"
   ]
  }
 ],
 "metadata": {
  "kernel_info": {
   "name": "python3"
  },
  "kernelspec": {
   "display_name": "Python 3",
   "language": "python",
   "name": "python3"
  },
  "language_info": {
   "codemirror_mode": {
    "name": "ipython",
    "version": 3
   },
   "file_extension": ".py",
   "mimetype": "text/x-python",
   "name": "python",
   "nbconvert_exporter": "python",
   "pygments_lexer": "ipython3",
   "version": "3.6.9"
  },
  "microsoft": {
   "host": {
    "AzureML": {
     "notebookHasBeenCompleted": true
    }
   }
  },
  "nteract": {
   "version": "nteract-front-end@1.0.0"
  }
 },
 "nbformat": 4,
 "nbformat_minor": 2
}
